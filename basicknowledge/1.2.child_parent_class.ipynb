{
 "cells": [
  {
   "cell_type": "code",
   "execution_count": 1,
   "metadata": {},
   "outputs": [
    {
     "name": "stdout",
     "output_type": "stream",
     "text": [
      "I am a child\n",
      "I am a parent\n",
      "Back in my day...\n"
     ]
    }
   ],
   "source": [
    "# This code defines two classes, Parent and Child.\n",
    "\n",
    "# Parent has an __init__ method that initializes an instance \n",
    "# variable parent_attribute and a method parent_method.\n",
    "\n",
    "# Child inherits from Parent and has its own __init__ method \n",
    "# that calls the __init__ method of Parent and initializes its \n",
    "# own instance variable child_attribute.\n",
    "# \n",
    "# An instance of Child is then created and stored in the variable child.\n",
    "# \n",
    "# The code then prints out the values of child_attribute and \n",
    "# parent_attribute using the print function.\n",
    "# \n",
    "# Finally, the parent_method method of the Child instance is called using the dot notation.\n",
    "# \n",
    "# The output of the code will be:\n",
    "# I am a child\n",
    "# I am a parent\n",
    "# Back in my day...\n",
    "\n",
    "class Parent:\n",
    "    def __init__(self):\n",
    "        self.parent_attribute = 'I am a parent'\n",
    "\n",
    "    def parent_method(self):\n",
    "        print('Back in my day...')\n",
    "\n",
    "\n",
    "# Create a child class that inherits from Parent\n",
    "class Child(Parent):\n",
    "    def __init__(self):\n",
    "        Parent.__init__(self)\n",
    "        self.child_attribute = 'I am a child'\n",
    "\n",
    "\n",
    "# Create instance of child\n",
    "child = Child()\n",
    "\n",
    "# Show attributes and methods of child class\n",
    "print(child.child_attribute)\n",
    "print(child.parent_attribute)\n",
    "child.parent_method()\n",
    "\n",
    "# We see that the Child class 'inherited' attributes and methods from the Parent class.\n",
    "# Without any work on our part, the Parent.parent_method is a part of the Child class.\n",
    "\n",
    "# To get the benefits of the Parent.__init__() method we needed to explicitly call the\n",
    "# method and pass self. This is because when we added an __init__ method to Child,\n",
    "# we overwrote the inherited __init__.\n",
    "\n",
    "# Nếu ko có dòng Parent.__init__(self), thì lúc print(child.parent_attribute) sẽ báo lỗi\n",
    "# và nếu bỏ dòng print(child.parent_attribute) luôn thì child.parent_method() vẫn chạy thành công"
   ]
  }
 ],
 "metadata": {
  "kernelspec": {
   "display_name": ".venv",
   "language": "python",
   "name": "python3"
  },
  "language_info": {
   "codemirror_mode": {
    "name": "ipython",
    "version": 3
   },
   "file_extension": ".py",
   "mimetype": "text/x-python",
   "name": "python",
   "nbconvert_exporter": "python",
   "pygments_lexer": "ipython3",
   "version": "3.11.3"
  },
  "orig_nbformat": 4
 },
 "nbformat": 4,
 "nbformat_minor": 2
}
