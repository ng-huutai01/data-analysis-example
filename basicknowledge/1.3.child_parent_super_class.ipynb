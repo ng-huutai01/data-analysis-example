{
 "cells": [
  {
   "cell_type": "code",
   "execution_count": 5,
   "metadata": {},
   "outputs": [
    {
     "name": "stdout",
     "output_type": "stream",
     "text": [
      "I am a parent\n",
      "I am a parent\n",
      "Back in my day...\n"
     ]
    }
   ],
   "source": [
    "# In the simplest case, the super function can be used to replace the explicit call to Parent.__init__(self). \n",
    "# Our intro example from the first section can be rewritten with super as seen below. \n",
    "# Note, that the below code block is written in Python 3, earlier versions use a slightly different syntax. \n",
    "# Additionally, the output has been omitted since it's identical to the first code block.\n",
    "\n",
    "class Parent():\n",
    "    def __init__(self):\n",
    "        self.parent_attribute = 'I am a parent'\n",
    "\n",
    "    def parent_method(self):\n",
    "        print('Back in my day...')\n",
    "\n",
    "\n",
    "# Create a child class that inherits from Parent\n",
    "class Child(Parent):\n",
    "    def __init__(self):\n",
    "        super().__init__()\n",
    "        self.child_attribute = 'I am a parent'\n",
    "\n",
    "\n",
    "# Create instance of child\n",
    "child = Child()\n",
    "\n",
    "# Show attributes and methods of child class\n",
    "print(child.child_attribute)\n",
    "print(child.parent_attribute)\n",
    "child.parent_method()\n",
    "\n",
    "# To be honest, super in this case gives us little, if any, advantage. \n",
    "# Depending on the name of our parent class we might save some keystrokes, \n",
    "# and we don't have to pass self to the call to __init__. Below are some \n",
    "# pros and cons of the use of super in single inheritance cases.\n",
    "\n",
    "# Cons:\n",
    "# It can be argued that using super here makes the code less explicit. \n",
    "# Making code less explicit violates The Zen of Python, which states, \n",
    "# \"Explicit is better than implicit.\"\n",
    "\n",
    "# Pros\n",
    "# There is a maintainability argument that can be made for super even in single inheritance. \n",
    "# If for whatever reason your child class changes its inheritance pattern \n",
    "# (i.e., parent class changes or there's a shift to multiple inheritance) \n",
    "# then there's no need find and replace all the lingering references to ParentClass.method_name(); \n",
    "# the use of super will allow all the changes to flow through with the change in the class statement.\n"
   ]
  }
 ],
 "metadata": {
  "kernelspec": {
   "display_name": ".venv",
   "language": "python",
   "name": "python3"
  },
  "language_info": {
   "codemirror_mode": {
    "name": "ipython",
    "version": 3
   },
   "file_extension": ".py",
   "mimetype": "text/x-python",
   "name": "python",
   "nbconvert_exporter": "python",
   "pygments_lexer": "ipython3",
   "version": "3.11.3"
  },
  "orig_nbformat": 4
 },
 "nbformat": 4,
 "nbformat_minor": 2
}
