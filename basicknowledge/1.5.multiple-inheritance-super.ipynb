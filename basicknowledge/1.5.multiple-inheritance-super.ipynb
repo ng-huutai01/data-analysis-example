{
 "cells": [
  {
   "cell_type": "code",
   "execution_count": 1,
   "metadata": {},
   "outputs": [
    {
     "name": "stdout",
     "output_type": "stream",
     "text": [
      "Start init TextDescriber.__init__()\n",
      "Start WordCounter.__init__()\n",
      "Start init Vocabulary.__init__()\n",
      "Start Tokenizer.__init__()\n",
      "End Tokenizer.__init__()\n",
      "End init Vocabulary.__init__()\n",
      "End WordCounter.__init__()\n",
      "End init TextDescriber.__init__()\n",
      "--------\n",
      "['row', 'row', 'row', 'your', 'boat']\n",
      "{'your', 'row', 'boat'}\n",
      "5\n"
     ]
    }
   ],
   "source": [
    "class Tokenizer:\n",
    "    \"\"\"Tokenize text\"\"\"\n",
    "    def __init__(self, text):\n",
    "        print('Start Tokenizer.__init__()')\n",
    "        self.tokens = text.split()\n",
    "        print('End Tokenizer.__init__()')\n",
    "\n",
    "\n",
    "class WordCounter(Tokenizer):\n",
    "    \"\"\"Count words in text\"\"\"\n",
    "    def __init__(self, text):\n",
    "        print('Start WordCounter.__init__()')\n",
    "        super().__init__(text)\n",
    "        self.word_count = len(self.tokens)\n",
    "        print('End WordCounter.__init__()')\n",
    "\n",
    "\n",
    "class Vocabulary(Tokenizer):\n",
    "    \"\"\"Find unique words in text\"\"\"\n",
    "    def __init__(self, text):\n",
    "        print('Start init Vocabulary.__init__()')\n",
    "        super().__init__(text)\n",
    "        self.vocab = set(self.tokens)\n",
    "        print('End init Vocabulary.__init__()')\n",
    "\n",
    "\n",
    "class TextDescriber(WordCounter, Vocabulary):\n",
    "    \"\"\"Describe text with multiple metrics\"\"\"\n",
    "    def __init__(self, text):\n",
    "        print('Start init TextDescriber.__init__()')\n",
    "        super().__init__(text)\n",
    "        print('End init TextDescriber.__init__()')\n",
    "\n",
    "\n",
    "td = TextDescriber('row row row your boat')\n",
    "print('--------')\n",
    "print(td.tokens)\n",
    "print(td.vocab)\n",
    "print(td.word_count)\n",
    "\n",
    "# First off, we see the TextDescriber class has inherited all the attributes \n",
    "# of the class family tree. Thanks to multiple inheritance we can 'combine' \n",
    "# the functionality of more than one class.\n",
    "\n",
    "# Let's now discuss the printouts that came from the class's init methods:\n",
    "\n",
    "# Each __init__ method was called once and only once.\n",
    "# The TextDescriber class inherited from 2 classes that inherit from Tokenizer. \n",
    "# Why was Tokenizer.__init__ not called twice?\n",
    "\n",
    "# If we replaced all of our calls to super with the old fashioned way, \n",
    "# we would end up with 2 calls to Tokenizer.__init__. \n",
    "# The calls to super 'think' through our pattern a little \n",
    "# bit more and skips the extra trip to A.\n",
    "\n",
    "# Each __init__ method was started before any of the others were finished.\n",
    "# The order of the starts and finishes of each __init__ is worth noting in \n",
    "# case you're attempting to set an attribute that has a naming conflict with \n",
    "# another parent class. \n",
    "# The attribute will be overwritten, and it can become very confusing.\n",
    "\n",
    "# In our case, we avoided naming conflicts with inherited attributes, \n",
    "# so everything is working as expected.\n",
    "\n",
    "# To reiterate, the diamond problem can get complicated fast and lead to unexpected results. \n",
    "# With most cases in programming, it's best to avoid complicated designs."
   ]
  }
 ],
 "metadata": {
  "kernelspec": {
   "display_name": ".venv",
   "language": "python",
   "name": "python3"
  },
  "language_info": {
   "codemirror_mode": {
    "name": "ipython",
    "version": 3
   },
   "file_extension": ".py",
   "mimetype": "text/x-python",
   "name": "python",
   "nbconvert_exporter": "python",
   "pygments_lexer": "ipython3",
   "version": "3.11.3"
  },
  "orig_nbformat": 4
 },
 "nbformat": 4,
 "nbformat_minor": 2
}
