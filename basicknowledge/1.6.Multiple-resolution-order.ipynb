{
 "cells": [
  {
   "cell_type": "code",
   "execution_count": 1,
   "metadata": {},
   "outputs": [
    {
     "name": "stdout",
     "output_type": "stream",
     "text": [
      "x: B\n",
      "[<class '__main__.D'>, <class '__main__.B'>, <class '__main__.C'>, <class 'object'>]\n"
     ]
    }
   ],
   "source": [
    "class B:\n",
    "    def x(self):\n",
    "        print('x: B')\n",
    "\n",
    "\n",
    "class C:\n",
    "    def x(self):\n",
    "        print('x: C')\n",
    "\n",
    "\n",
    "class D(B, C):\n",
    "    pass\n",
    "\n",
    "\n",
    "d = D()\n",
    "d.x()\n",
    "print(D.mro())\n",
    "\n",
    "# When we call the inherited x method, we only see the output inherited from B. \n",
    "# We can see the MRO of our D class by calling the mro class method. \n",
    "# From the D.mro() output we learn the following: our program will try to call \n",
    "# D methods by default, then resort to B, then C, and finally object. \n",
    "# If it's not found in any of those places, then we'll get the error \n",
    "# that D doesn't have the method we asked for.\n",
    "# \n",
    "# It's worth noting that by default, every class inherits from object, \n",
    "# and it's on the tail-end of every MRO."
   ]
  }
 ],
 "metadata": {
  "kernelspec": {
   "display_name": ".venv",
   "language": "python",
   "name": "python3"
  },
  "language_info": {
   "codemirror_mode": {
    "name": "ipython",
    "version": 3
   },
   "file_extension": ".py",
   "mimetype": "text/x-python",
   "name": "python",
   "nbconvert_exporter": "python",
   "pygments_lexer": "ipython3",
   "version": "3.11.3"
  },
  "orig_nbformat": 4
 },
 "nbformat": 4,
 "nbformat_minor": 2
}
