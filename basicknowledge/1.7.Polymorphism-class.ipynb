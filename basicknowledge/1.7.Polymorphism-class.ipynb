{
 "cells": [
  {
   "cell_type": "code",
   "execution_count": 2,
   "metadata": {},
   "outputs": [
    {
     "name": "stdout",
     "output_type": "stream",
     "text": [
      "The shark is swimming.\n",
      "The shark cannot swim backwards, but can sink backwards.\n",
      "The shark's skeleton is made of cartilage.\n",
      "The clownfish is swimming.\n",
      "The clownfish can swim backwards.\n",
      "The clownfish's skeleton is made of bone.\n",
      "\n",
      "\n",
      "The shark is swimming.\n",
      "The clownfish is swimming.\n"
     ]
    }
   ],
   "source": [
    "class Shark():\n",
    "    def swim(self):\n",
    "        print(\"The shark is swimming.\")\n",
    "\n",
    "    def swim_backwards(self):\n",
    "        print(\"The shark cannot swim backwards, but can sink backwards.\")\n",
    "\n",
    "    def skeleton(self):\n",
    "        print(\"The shark's skeleton is made of cartilage.\")\n",
    "\n",
    "\n",
    "class Clownfish():\n",
    "    def swim(self):\n",
    "        print(\"The clownfish is swimming.\")\n",
    "\n",
    "    def swim_backwards(self):\n",
    "        print(\"The clownfish can swim backwards.\")\n",
    "\n",
    "    def skeleton(self):\n",
    "        print(\"The clownfish's skeleton is made of bone.\")\n",
    "\n",
    "# sammy = Shark()\n",
    "# sammy.skeleton()\n",
    "# casey = Clownfish()\n",
    "# casey.skeleton()\n",
    "\n",
    "sammy = Shark()\n",
    "casey = Clownfish()\n",
    "\n",
    "# We have two objects, sammy of the Shark class, and casey of the Clownfish class. \n",
    "# Our for loop iterates through these objects, calling the swim(), swim_backwards(), \n",
    "# and skeleton() methods on each.\n",
    "# This shows that Python is using these methods in a way without knowing or caring exactly \n",
    "# what class type each of these objects is. That is, using these methods in a polymorphic way.\n",
    "for fish in (sammy, casey):\n",
    "    fish.swim()\n",
    "    fish.swim_backwards()\n",
    "    fish.skeleton()\n",
    "\n",
    "print(\"\\n\")\n",
    "\n",
    "# Polymorphism with a Function\n",
    "# We can also create a function that can take any object, allowing for polymorphism.\n",
    "# Let’s create a function called in_the_pacific() which takes in an object we can call fish. \n",
    "# Though we are using the name fish, any instantiated object will be able to be called into this function:\n",
    "def in_the_pacific(fish):\n",
    "    # Next, we’ll give the function something to do that uses the fish object we passed to it. \n",
    "    # In this case we’ll call the swim() methods, each of which is defined in the two classes \n",
    "    # Shark and Clownfish\n",
    "    fish.swim()\n",
    "\n",
    "# Next, we’ll create instantiations of both the Shark and Clownfish classes if we don’t have them already. \n",
    "# With those, we can call their action using the same in_the_pacific() function:\n",
    "peter = Shark()\n",
    "marry = Clownfish()\n",
    "in_the_pacific(peter)\n",
    "in_the_pacific(marry)\n",
    "# Even though we passed a random object (fish) into the in_the_pacific() function when defining it, \n",
    "# we were still able to use it effectively for instantiations of the Shark and Clownfish classes. \n",
    "# The casey object called the swim() method defined in the Clownfish class, and the sammy object \n",
    "# called the swim() method defined in the Shark class."
   ]
  }
 ],
 "metadata": {
  "kernelspec": {
   "display_name": ".venv",
   "language": "python",
   "name": "python3"
  },
  "language_info": {
   "codemirror_mode": {
    "name": "ipython",
    "version": 3
   },
   "file_extension": ".py",
   "mimetype": "text/x-python",
   "name": "python",
   "nbconvert_exporter": "python",
   "pygments_lexer": "ipython3",
   "version": "3.11.3"
  },
  "orig_nbformat": 4
 },
 "nbformat": 4,
 "nbformat_minor": 2
}
