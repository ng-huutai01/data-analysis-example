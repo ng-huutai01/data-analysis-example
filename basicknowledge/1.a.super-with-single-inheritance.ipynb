{
 "cells": [
  {
   "cell_type": "code",
   "execution_count": 3,
   "metadata": {},
   "outputs": [
    {
     "name": "stdout",
     "output_type": "stream",
     "text": [
      "In the happystate class\n",
      "In the state class\n",
      "Main State\n",
      "Happy State\n"
     ]
    }
   ],
   "source": [
    "#base class\n",
    "class State():\n",
    "   def __init__(self):\n",
    "      print(\"In the state class\")\n",
    "      self.state1= \"Main State\"\n",
    "\n",
    "#derived class\n",
    "class HappyState(State):\n",
    "   def __init__(self):\n",
    "      print(\"In the happystate class\")\n",
    "      self.state2= \"Happy State\"\n",
    "      super().__init__()\n",
    "\n",
    "a=HappyState()\n",
    "print(a.state1)\n",
    "print(a.state2)"
   ]
  }
 ],
 "metadata": {
  "kernelspec": {
   "display_name": ".venv",
   "language": "python",
   "name": "python3"
  },
  "language_info": {
   "codemirror_mode": {
    "name": "ipython",
    "version": 3
   },
   "file_extension": ".py",
   "mimetype": "text/x-python",
   "name": "python",
   "nbconvert_exporter": "python",
   "pygments_lexer": "ipython3",
   "version": "3.11.3"
  },
  "orig_nbformat": 4
 },
 "nbformat": 4,
 "nbformat_minor": 2
}
