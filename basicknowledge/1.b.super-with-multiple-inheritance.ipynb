{
 "cells": [
  {
   "cell_type": "code",
   "execution_count": 1,
   "metadata": {},
   "outputs": [
    {
     "name": "stdout",
     "output_type": "stream",
     "text": [
      "In the happystate class\n",
      "In the State class\n"
     ]
    }
   ],
   "source": [
    "#base class1\n",
    "class State():\n",
    "   def __init__(self):\n",
    "      print(\"In the State class\")\n",
    "      self.state1= \"Main State\"\n",
    "\n",
    "#base class2\n",
    "class Event():\n",
    "   def __init__(self):\n",
    "      print(\"In the Event class\")\n",
    "      self.event= \"Main Event\"\n",
    "\n",
    "#derived class\n",
    "class HappyState(State,Event):\n",
    "   def __init__(self):\n",
    "      print(\"In the happystate class\")\n",
    "      super().__init__()       #Only calls Base Class 1\n",
    "a=HappyState()\n",
    "\n",
    "# In the above program, we can see that only the first base class __init__() \n",
    "# is getting called when we are using super().__init__().\n",
    "# \n",
    "# To also call the second base class, we’ll have to add a \n",
    "# new combination of super() and __init__() method. "
   ]
  }
 ],
 "metadata": {
  "kernelspec": {
   "display_name": ".venv",
   "language": "python",
   "name": "python3"
  },
  "language_info": {
   "codemirror_mode": {
    "name": "ipython",
    "version": 3
   },
   "file_extension": ".py",
   "mimetype": "text/x-python",
   "name": "python",
   "nbconvert_exporter": "python",
   "pygments_lexer": "ipython3",
   "version": "3.11.3"
  },
  "orig_nbformat": 4
 },
 "nbformat": 4,
 "nbformat_minor": 2
}
