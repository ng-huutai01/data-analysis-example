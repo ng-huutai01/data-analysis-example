{
 "cells": [
  {
   "cell_type": "code",
   "execution_count": 1,
   "metadata": {},
   "outputs": [
    {
     "name": "stdout",
     "output_type": "stream",
     "text": [
      "In the Happy State class\n",
      "In the State class\n",
      "In the Event class\n"
     ]
    }
   ],
   "source": [
    "#base class1\n",
    "class State():\n",
    "   def __init__(self):\n",
    "      print(\"In the State class\")\n",
    "      self.state1= \"Main State\"\n",
    "\n",
    "#base class2\n",
    "class Event():\n",
    "   def __init__(self):\n",
    "      print(\"In the Event class\")\n",
    "      self.event= \"Main Event\"\n",
    "\n",
    "class HappyState(State,Event):\n",
    "   def __init__(self):\n",
    "      print(\"In the Happy State class\")\n",
    "      super().__init__()                # calls base class 1\n",
    "      super(State,self).__init__()      # calls base class 2\n",
    "a=HappyState()\n",
    "\n",
    "# super().__init__() calls the first base class init method.\n",
    "# super(State,self).__init__()  calls the second base class init method."
   ]
  }
 ],
 "metadata": {
  "kernelspec": {
   "display_name": ".venv",
   "language": "python",
   "name": "python3"
  },
  "language_info": {
   "codemirror_mode": {
    "name": "ipython",
    "version": 3
   },
   "file_extension": ".py",
   "mimetype": "text/x-python",
   "name": "python",
   "nbconvert_exporter": "python",
   "pygments_lexer": "ipython3",
   "version": "3.11.3"
  },
  "orig_nbformat": 4
 },
 "nbformat": 4,
 "nbformat_minor": 2
}
