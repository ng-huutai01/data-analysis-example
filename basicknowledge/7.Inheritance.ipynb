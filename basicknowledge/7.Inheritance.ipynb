{
 "cells": [
  {
   "cell_type": "code",
   "execution_count": 3,
   "metadata": {},
   "outputs": [
    {
     "name": "stdout",
     "output_type": "stream",
     "text": [
      "Zoom! My name is Tessa\n",
      "Woof! My name is Jack\n",
      "Woof! My name is Boris\n",
      "Tessa is running faster than Jack\n",
      "Tessa is running faster than Boris\n",
      "Jack is brown\n"
     ]
    }
   ],
   "source": [
    "class Dog:\n",
    "    def __init__(self,name):\n",
    "        self.name = name\n",
    "    \n",
    "    def speak(self):\n",
    "        print(\"Woof! My name is\", self.name)\n",
    "\n",
    "class Greyhound(Dog):\n",
    "    def __init__(self, name):\n",
    "        super().__init__(name)\n",
    "        # When initializing our Greyhound instance, we can reuse \n",
    "        # the initializing code from our Dog class by accessing it \n",
    "        # via super(). Once again, the self argument is passed automatically,\n",
    "        # so we only need to pass the name over to the __init__ function of Dog.\n",
    "        # The name attribute of our Greyhound will be set using the code from Dog,\n",
    "        # so we do not need to do anything more in our init of Greyhound.\n",
    "\n",
    "    \n",
    "    def speak(self):\n",
    "        print(\"Zoom! My name is\", self.name)\n",
    " \n",
    "    def race(self, opponent):\n",
    "        print(self.name, \"is running faster than\", opponent.name)\n",
    "        # The race method demonstrates another important concept which occurs with \n",
    "        # using classes: polymorphism.\n",
    "        # The argument passed to this method can be anything, since Python is dynamically typed.\n",
    "        # This means that we can use any class instance which has an attribute called \n",
    "        # as the opponent in our race method. Since our Dog class defines a name attribute,\n",
    "        # we can use any kind of Dog to race against our Greyhound.\n",
    "\n",
    "class JackRussell(Dog):\n",
    "    def __init__(self, name, color):\n",
    "        super().__init__(name)\n",
    "        self.color = color\n",
    "    \n",
    "    def get_color(self):\n",
    "        print(self.name, \"is\", self.color)\n",
    "\n",
    "\n",
    "# An instance is one particular implementation of a class. \n",
    "# Each separate instance of the same class can be completely \n",
    "# independent from the others, or they can share attributes \n",
    "# if the need arises.\n",
    "# let's Create some instances:\n",
    "greyhound = Greyhound(\"Tessa\")\n",
    "jack_russell = JackRussell(\"Jack\", \"brown\")\n",
    "dog = Dog(\"Boris\")\n",
    "\n",
    "\n",
    "\n",
    "greyhound.speak()\n",
    "jack_russell.speak()\n",
    "dog.speak()\n",
    "\n",
    "greyhound.race(jack_russell)\n",
    "greyhound.race(dog)\n",
    "\n",
    "jack_russell.get_color()\n"
   ]
  }
 ],
 "metadata": {
  "kernelspec": {
   "display_name": ".venv",
   "language": "python",
   "name": "python3"
  },
  "language_info": {
   "codemirror_mode": {
    "name": "ipython",
    "version": 3
   },
   "file_extension": ".py",
   "mimetype": "text/x-python",
   "name": "python",
   "nbconvert_exporter": "python",
   "pygments_lexer": "ipython3",
   "version": "3.11.3"
  },
  "orig_nbformat": 4
 },
 "nbformat": 4,
 "nbformat_minor": 2
}
