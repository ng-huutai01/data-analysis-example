{
 "cells": [
  {
   "cell_type": "code",
   "execution_count": 1,
   "metadata": {},
   "outputs": [
    {
     "name": "stdout",
     "output_type": "stream",
     "text": [
      "School Name is : ABC School\n"
     ]
    }
   ],
   "source": [
    "class School:\n",
    "    # class variable\n",
    "    name = 'ABC School'\n",
    "\n",
    "    def school_name(cls):\n",
    "        print('School Name is :', cls.name)\n",
    "\n",
    "# create class method\n",
    "School.school_name = classmethod(School.school_name)\n",
    "\n",
    "# call class method\n",
    "School.school_name()\n",
    "\n",
    "# Apart from a decorator, the built-in function classmethod() is used to convert \n",
    "# a normal method into a class method. The classmethod() is an inbuilt function in Python, \n",
    "# which returns a class method for a given function.\n",
    "\n",
    "# Note: The method you want to convert as a class method must accept class (cls) \n",
    "# as the first argument, just like an instance method receives the instance (self).\n",
    "\n",
    "# A classmethod() function is the older way to create the class method in Python. \n",
    "# In a newer version of Python, we should use the @classmethod decorator to create a class method.\n"
   ]
  }
 ],
 "metadata": {
  "kernelspec": {
   "display_name": ".venv",
   "language": "python",
   "name": "python3"
  },
  "language_info": {
   "codemirror_mode": {
    "name": "ipython",
    "version": 3
   },
   "file_extension": ".py",
   "mimetype": "text/x-python",
   "name": "python",
   "nbconvert_exporter": "python",
   "pygments_lexer": "ipython3",
   "version": "3.11.3"
  },
  "orig_nbformat": 4
 },
 "nbformat": 4,
 "nbformat_minor": 2
}
