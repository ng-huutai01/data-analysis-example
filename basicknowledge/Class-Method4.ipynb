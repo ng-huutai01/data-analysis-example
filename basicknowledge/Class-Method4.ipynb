{
 "cells": [
  {
   "cell_type": "code",
   "execution_count": 1,
   "metadata": {},
   "outputs": [
    {
     "name": "stdout",
     "output_type": "stream",
     "text": [
      "BMW X5 65000\n",
      "BMW X5 4875000\n",
      "<class '__main__.Car'>\n"
     ]
    }
   ],
   "source": [
    "class Vehicle:\n",
    "    brand_name = 'BMW'\n",
    "\n",
    "    def __init__(self, name, price):\n",
    "        self.name = name\n",
    "        self.price = price\n",
    "\n",
    "    @classmethod\n",
    "    def from_price(cls, name, price):\n",
    "        # ind_price = dollar * 76\n",
    "        # create new Vehicle object\n",
    "        return cls(name, (price * 75))\n",
    "\n",
    "    def show(self):\n",
    "        print(self.name, self.price)\n",
    "\n",
    "class Car(Vehicle):\n",
    "    def average(self, distance, fuel_used):\n",
    "        mileage = distance / fuel_used\n",
    "        print(self.name, 'Mileage', mileage)\n",
    "\n",
    "bmw_us = Car('BMW X5', 65000)\n",
    "bmw_us.show()\n",
    "\n",
    "# class method of parent class is available to child class\n",
    "# this will return the object of calling class\n",
    "bmw_ind = Car.from_price('BMW X5', 65000)\n",
    "bmw_ind.show()\n",
    "\n",
    "# check type\n",
    "print(type(bmw_ind))\n",
    "\n",
    "# In inheritance, the class method of a parent class is available to a child class.\n",
    "# Let’s create a Vehicle class that contains a factory class method from_price() \n",
    "# that will return a Vehicle instance from a price. When we call the same method \n",
    "# using the child’s class name, it will return the child’s class object.\n",
    "\n",
    "# Whenever we derive a class from a parent class that has a class method then \n",
    "# it creates the correct instance of the derived class. \n",
    "# The following example shows how the class method works in inheritance.\n"
   ]
  }
 ],
 "metadata": {
  "kernelspec": {
   "display_name": ".venv",
   "language": "python",
   "name": "python3"
  },
  "language_info": {
   "codemirror_mode": {
    "name": "ipython",
    "version": 3
   },
   "file_extension": ".py",
   "mimetype": "text/x-python",
   "name": "python",
   "nbconvert_exporter": "python",
   "pygments_lexer": "ipython3",
   "version": "3.11.3"
  },
  "orig_nbformat": 4
 },
 "nbformat": 4,
 "nbformat_minor": 2
}
