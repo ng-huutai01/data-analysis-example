{
 "cells": [
  {
   "cell_type": "code",
   "execution_count": 1,
   "metadata": {},
   "outputs": [
    {
     "name": "stdout",
     "output_type": "stream",
     "text": [
      "Jessa 14\n",
      "Below exercises for ABC School\n"
     ]
    }
   ],
   "source": [
    "class Student:\n",
    "    school_name = 'ABC School'\n",
    "\n",
    "    def __init__(self, name, age):\n",
    "        self.name = name\n",
    "        self.age = age\n",
    "\n",
    "    def show(self):\n",
    "        print(self.name, self.age)\n",
    "\n",
    "# class ended\n",
    "\n",
    "# method outside class\n",
    "def exercises(cls):\n",
    "    # access class variables\n",
    "    print(\"Below exercises for\", cls.school_name)\n",
    "\n",
    "# Adding class method at runtime to class\n",
    "Student.exercises = classmethod(exercises)\n",
    "\n",
    "jessa = Student(\"Jessa\", 14)\n",
    "jessa.show()\n",
    "# call the new method\n",
    "Student.exercises()\n",
    "\n",
    "# Typically, we add class methods to a class body when defining a class. \n",
    "# However, Python is a dynamic language that allows us to add or delete methods at runtime. \n",
    "# Therefore, it is helpful when you wanted to extend the class functionality without \n",
    "# changing its basic structure because many systems use the same structure.\n",
    "\n",
    "# We need to use the classmethod() function to add a new class method to a class."
   ]
  }
 ],
 "metadata": {
  "kernelspec": {
   "display_name": ".venv",
   "language": "python",
   "name": "python3"
  },
  "language_info": {
   "codemirror_mode": {
    "name": "ipython",
    "version": 3
   },
   "file_extension": ".py",
   "mimetype": "text/x-python",
   "name": "python",
   "nbconvert_exporter": "python",
   "pygments_lexer": "ipython3",
   "version": "3.11.3"
  },
  "orig_nbformat": 4
 },
 "nbformat": 4,
 "nbformat_minor": 2
}
