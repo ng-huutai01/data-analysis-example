{
 "cells": [
  {
   "cell_type": "code",
   "execution_count": 1,
   "metadata": {},
   "outputs": [
    {
     "name": "stdout",
     "output_type": "stream",
     "text": [
      "None\n",
      "XYZ School\n"
     ]
    },
    {
     "ename": "AttributeError",
     "evalue": "type object 'Student' has no attribute 'change_school'",
     "output_type": "error",
     "traceback": [
      "\u001b[1;31m---------------------------------------------------------------------------\u001b[0m",
      "\u001b[1;31mAttributeError\u001b[0m                            Traceback (most recent call last)",
      "Cell \u001b[1;32mIn[1], line 21\u001b[0m\n\u001b[0;32m     17\u001b[0m \u001b[39mdel\u001b[39;00m Student\u001b[39m.\u001b[39mchange_school\n\u001b[0;32m     19\u001b[0m \u001b[39m# call class method\u001b[39;00m\n\u001b[0;32m     20\u001b[0m \u001b[39m# it will give error\u001b[39;00m\n\u001b[1;32m---> 21\u001b[0m \u001b[39mprint\u001b[39m(Student\u001b[39m.\u001b[39;49mchange_school(\u001b[39m'\u001b[39m\u001b[39mPQR School\u001b[39m\u001b[39m'\u001b[39m))\n",
      "\u001b[1;31mAttributeError\u001b[0m: type object 'Student' has no attribute 'change_school'"
     ]
    }
   ],
   "source": [
    "class Student:\n",
    "    school_name = 'ABC School'\n",
    "\n",
    "    def __init__(self, name, age):\n",
    "        self.name = name\n",
    "        self.age = age\n",
    "\n",
    "    @classmethod\n",
    "    def change_school(cls, school_name):\n",
    "        cls.school_name = school_name\n",
    "\n",
    "jessa = Student('Jessa', 20)\n",
    "print(Student.change_school('XYZ School'))\n",
    "print(Student.school_name)\n",
    "\n",
    "# delete class method\n",
    "del Student.change_school\n",
    "\n",
    "# call class method\n",
    "# it will give error\n",
    "print(Student.change_school('PQR School'))\n",
    "\n",
    "# We can dynamically delete the class methods from the class. In Python, there are two ways to do it:\n",
    "# 1/ By using the del operator\n",
    "# 2/ By using delattr() method\n",
    "\n"
   ]
  }
 ],
 "metadata": {
  "kernelspec": {
   "display_name": ".venv",
   "language": "python",
   "name": "python3"
  },
  "language_info": {
   "codemirror_mode": {
    "name": "ipython",
    "version": 3
   },
   "file_extension": ".py",
   "mimetype": "text/x-python",
   "name": "python",
   "nbconvert_exporter": "python",
   "pygments_lexer": "ipython3",
   "version": "3.11.3"
  },
  "orig_nbformat": 4
 },
 "nbformat": 4,
 "nbformat_minor": 2
}
