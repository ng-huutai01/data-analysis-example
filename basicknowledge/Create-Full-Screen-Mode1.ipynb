{
 "cells": [
  {
   "cell_type": "code",
   "execution_count": 1,
   "metadata": {},
   "outputs": [],
   "source": [
    "import tkinter as tk\n",
    "\n",
    "class Fullscreen_Example:\n",
    "    def __init__(self):\n",
    "        self.window = tk.Tk()\n",
    "        self.window.attributes('-fullscreen', True)  \n",
    "        self.fullScreenState = False\n",
    "        self.window.bind(\"<F11>\", self.toggleFullScreen)\n",
    "        self.window.bind(\"<Escape>\", self.quitFullScreen)\n",
    "\n",
    "        self.window.mainloop()\n",
    "\n",
    "    def toggleFullScreen(self, event):\n",
    "        self.fullScreenState = not self.fullScreenState\n",
    "        self.window.attributes(\"-fullscreen\", self.fullScreenState)\n",
    "\n",
    "    def quitFullScreen(self, event):\n",
    "        self.fullScreenState = False\n",
    "        self.window.attributes(\"-fullscreen\", self.fullScreenState)\n",
    "\n",
    "if __name__ == '__main__':\n",
    "    app = Fullscreen_Example()  \n",
    "\n",
    "\n",
    "# tk.Tk.attributes sets platform specific attributes. The \n",
    "# attributes in Windows are\n",
    "# -alpha\n",
    "# -transparentcolor\n",
    "# -disabled\n",
    "# -fullscreen\n",
    "# -toolwindow\n",
    "# -topmost\n",
    "\n",
    "# -fullscreen specifies whether the window is full-screen mode or not."
   ]
  }
 ],
 "metadata": {
  "kernelspec": {
   "display_name": ".venv",
   "language": "python",
   "name": "python3"
  },
  "language_info": {
   "codemirror_mode": {
    "name": "ipython",
    "version": 3
   },
   "file_extension": ".py",
   "mimetype": "text/x-python",
   "name": "python",
   "nbconvert_exporter": "python",
   "pygments_lexer": "ipython3",
   "version": "3.11.3"
  },
  "orig_nbformat": 4
 },
 "nbformat": 4,
 "nbformat_minor": 2
}
