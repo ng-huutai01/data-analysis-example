{
 "cells": [
  {
   "cell_type": "code",
   "execution_count": 1,
   "metadata": {},
   "outputs": [],
   "source": [
    "import tkinter as tk\n",
    "\n",
    "\n",
    "class Fullscreen_Example:\n",
    "    def __init__(self):\n",
    "        self.window = tk.Tk()\n",
    "        self.window.attributes('-fullscreen', True)  \n",
    "        self.window.bind(\"<F11>\",\n",
    "                         lambda event: self.window.attributes(\"-fullscreen\",\n",
    "                                    not self.window.attributes(\"-fullscreen\")))\n",
    "        self.window.bind(\"<Escape>\",\n",
    "                         lambda event: self.window.attributes(\"-fullscreen\",\n",
    "                                    False))\n",
    "\n",
    "        self.window.mainloop()\n",
    "\n",
    "if __name__ == '__main__':\n",
    "    app = Fullscreen_Example()    "
   ]
  }
 ],
 "metadata": {
  "kernelspec": {
   "display_name": ".venv",
   "language": "python",
   "name": "python3"
  },
  "language_info": {
   "codemirror_mode": {
    "name": "ipython",
    "version": 3
   },
   "file_extension": ".py",
   "mimetype": "text/x-python",
   "name": "python",
   "nbconvert_exporter": "python",
   "pygments_lexer": "ipython3",
   "version": "3.11.3"
  },
  "orig_nbformat": 4
 },
 "nbformat": 4,
 "nbformat_minor": 2
}
