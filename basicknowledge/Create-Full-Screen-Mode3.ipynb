{
 "cells": [
  {
   "cell_type": "code",
   "execution_count": 3,
   "metadata": {},
   "outputs": [],
   "source": [
    "import tkinter as tk\n",
    "\n",
    "class Fullscreen_Example:\n",
    "    def __init__(self):\n",
    "        self.window = tk.Tk()\n",
    "        self.fullScreenState = False\n",
    "        self.window.attributes(\"-fullscreen\", self.fullScreenState)\n",
    "\n",
    "        self.w, self.h = self.window.winfo_screenwidth(), self.window.winfo_screenheight()\n",
    "        self.window.geometry(\"%dx%d\" % (self.w, self.h))\n",
    "        \n",
    "        self.window.bind(\"<F11>\", self.toggleFullScreen)\n",
    "        self.window.bind(\"<Escape>\", self.quitFullScreen)\n",
    "\n",
    "        self.window.mainloop()\n",
    "\n",
    "    def toggleFullScreen(self, event):\n",
    "        self.fullScreenState = not self.fullScreenState\n",
    "        self.window.attributes(\"-fullscreen\", self.fullScreenState)\n",
    "\n",
    "    def quitFullScreen(self, event):\n",
    "        self.fullScreenState = False\n",
    "        self.window.attributes(\"-fullscreen\", self.fullScreenState)\n",
    "\n",
    "if __name__ == '__main__':\n",
    "    app = Fullscreen_Example()  \n",
    "\n",
    "\n",
    "# winfo_screenwidth() and winfo_screenheight() get the \n",
    "# width and height of the monitor.\n",
    "\n",
    "# self.window.geometry(\"%dx%d\" % (self.w, self.h))\n",
    "# It sets the GUI window size the same as the monitor \n",
    "# width and height, by using geometry method."
   ]
  }
 ],
 "metadata": {
  "language_info": {
   "name": "python"
  },
  "orig_nbformat": 4
 },
 "nbformat": 4,
 "nbformat_minor": 2
}
