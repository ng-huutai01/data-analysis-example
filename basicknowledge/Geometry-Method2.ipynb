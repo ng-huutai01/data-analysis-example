{
 "cells": [
  {
   "cell_type": "code",
   "execution_count": 1,
   "metadata": {},
   "outputs": [],
   "source": [
    "# importing only those functions which\n",
    "# are needed\n",
    "from tkinter import Tk, mainloop, TOP\n",
    "from tkinter.ttk import Button\n",
    "  \n",
    "# creating tkinter window\n",
    "root = Tk()\n",
    "  \n",
    "# creating fixed geometry of the\n",
    "# tkinter window with dimensions 150x200\n",
    "root.geometry('200x150')\n",
    "  \n",
    "# Create Button and add some text\n",
    "button = Button(root, text = 'Geeks')\n",
    "button.pack(side = TOP, pady = 5)\n",
    "  \n",
    "# Execute Tkinter\n",
    "root.mainloop()\n",
    "\n",
    "# After running the application, you’ll see that the \n",
    "# size of the Tkinter window has changed, but the \n",
    "# position on the screen is the same. \n",
    "# https://media.geeksforgeeks.org/wp-content/uploads/20190405235719/changed_size_but_same_position.jpg\n"
   ]
  }
 ],
 "metadata": {
  "kernelspec": {
   "display_name": ".venv",
   "language": "python",
   "name": "python3"
  },
  "language_info": {
   "codemirror_mode": {
    "name": "ipython",
    "version": 3
   },
   "file_extension": ".py",
   "mimetype": "text/x-python",
   "name": "python",
   "nbconvert_exporter": "python",
   "pygments_lexer": "ipython3",
   "version": "3.11.3"
  },
  "orig_nbformat": 4
 },
 "nbformat": 4,
 "nbformat_minor": 2
}
