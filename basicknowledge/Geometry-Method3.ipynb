{
 "cells": [
  {
   "cell_type": "code",
   "execution_count": 1,
   "metadata": {},
   "outputs": [],
   "source": [
    "# importing only those functions which\n",
    "# are needed\n",
    "from tkinter import Tk, mainloop, TOP\n",
    "from tkinter.ttk import Button\n",
    "  \n",
    "# creating tkinter window\n",
    "root = Tk()\n",
    "  \n",
    "# creating fixed geometry of the\n",
    "# tkinter window with dimensions 150x200\n",
    "root.geometry('200x150+400+300')\n",
    "  \n",
    "# Create Button and add some text\n",
    "button = Button(root, text = 'Geeks')\n",
    "button.pack(side = TOP, pady = 5)\n",
    "  \n",
    "# Execute Tkinter\n",
    "root.mainloop()\n",
    "\n",
    "# When you run the application, you’ll observe that the \n",
    "# position and size both are changed. Now the Tkinter \n",
    "# window is appearing at a different position (400 \n",
    "# shifted on X-axis and 300 shifted on Y-axis).\n",
    "# https://media.geeksforgeeks.org/wp-content/uploads/20190406000238/changed_position_and_size.png\n",
    "\n",
    "# Note: We can also pass a variable argument in the \n",
    "# geometry method, but it should be in the form \n",
    "# (variable1) x (variable2); otherwise, it will raise \n",
    "# an error.\n",
    "\n",
    "\n",
    "\n"
   ]
  }
 ],
 "metadata": {
  "kernelspec": {
   "display_name": ".venv",
   "language": "python",
   "name": "python3"
  },
  "language_info": {
   "codemirror_mode": {
    "name": "ipython",
    "version": 3
   },
   "file_extension": ".py",
   "mimetype": "text/x-python",
   "name": "python",
   "nbconvert_exporter": "python",
   "pygments_lexer": "ipython3",
   "version": "3.11.3"
  },
  "orig_nbformat": 4
 },
 "nbformat": 4,
 "nbformat_minor": 2
}
