{
 "cells": [
  {
   "cell_type": "code",
   "execution_count": 1,
   "metadata": {},
   "outputs": [],
   "source": [
    "import tkinter as tk\n",
    " \n",
    "root = tk.Tk()\n",
    "w = 600 # Width \n",
    "h = 300 # Height\n",
    " \n",
    "screen_width = root.winfo_screenwidth()  # Width of the screen\n",
    "screen_height = root.winfo_screenheight() # Height of the screen\n",
    " \n",
    "# Calculate Starting X and Y coordinates for Window\n",
    "x = (screen_width/2) - (w/2)\n",
    "y = (screen_height/2) - (h/2)\n",
    " \n",
    "root.geometry('%dx%d+%d+%d' % (w, h, x, y))\n",
    "root.mainloop()\n",
    "\n",
    "# Another cool use of geometry() is adjusting the initial startup \n",
    "# position for the Window. All we need to do is add two more values into \n",
    "# the string passed into the geometry(). Instead of num1 x num2 it’s \n",
    "# going to be num1 + num2 because we are adding an X and Y offset.\n",
    "\n",
    "# We have used a couple of useful functions to determine the size of the \n",
    "# Screen (e.g: 1920×1080) and then doing some simple calculations to \n",
    "# determine where the top-left corner of the Tkinter Window should spawn \n",
    "# so that it’s perfectly centered."
   ]
  }
 ],
 "metadata": {
  "kernelspec": {
   "display_name": ".venv",
   "language": "python",
   "name": "python3"
  },
  "language_info": {
   "codemirror_mode": {
    "name": "ipython",
    "version": 3
   },
   "file_extension": ".py",
   "mimetype": "text/x-python",
   "name": "python",
   "nbconvert_exporter": "python",
   "pygments_lexer": "ipython3",
   "version": "3.11.3"
  },
  "orig_nbformat": 4
 },
 "nbformat": 4,
 "nbformat_minor": 2
}
