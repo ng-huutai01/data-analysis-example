{
 "cells": [
  {
   "cell_type": "code",
   "execution_count": 1,
   "metadata": {},
   "outputs": [],
   "source": [
    "import tkinter as tk\n",
    "root = tk.Tk()\n",
    "root.title('Tkinter Window Demo')\n",
    "root.geometry('300x200+50+50')\n",
    "root.resizable(0, 0)\n",
    "root.attributes('-topmost', 1)\n",
    "\n",
    "root.mainloop()\n",
    "\n",
    "# The window stack order refers to the order of windows \n",
    "# placed on the screen from bottom to top. The closer \n",
    "# window is on the top of the stack and it overlaps the one \n",
    "# lower.\n",
    "# To ensure that a window is always at the top of the \n",
    "# stacking order, you can use the -topmost attribute like \n",
    "# this:\n",
    "# window.attributes('-topmost', 1)\n",
    "\n",
    "# To move a window up or down of the stack, you can use the \n",
    "# lift() and lower() methods:\n",
    "# window.lift()\n",
    "# window.lift(another_window)\n",
    "# window.lower()\n",
    "# window.lower(another_window)\n"
   ]
  }
 ],
 "metadata": {
  "kernelspec": {
   "display_name": ".venv",
   "language": "python",
   "name": "python3"
  },
  "language_info": {
   "codemirror_mode": {
    "name": "ipython",
    "version": 3
   },
   "file_extension": ".py",
   "mimetype": "text/x-python",
   "name": "python",
   "nbconvert_exporter": "python",
   "pygments_lexer": "ipython3",
   "version": "3.11.3"
  },
  "orig_nbformat": 4
 },
 "nbformat": 4,
 "nbformat_minor": 2
}
