{
 "cells": [
  {
   "cell_type": "code",
   "execution_count": 3,
   "metadata": {},
   "outputs": [],
   "source": [
    "import tkinter as tk\n",
    "root = tk.Tk()\n",
    "root.title('Tkinter Window - Center')\n",
    "\n",
    "window_width = 300\n",
    "window_height = 200\n",
    "\n",
    "# get the screen dimension\n",
    "screen_width = root.winfo_screenwidth()\n",
    "screen_height = root.winfo_screenheight()\n",
    "\n",
    "# find the center point\n",
    "center_x = int(screen_width/2 - window_width / 2)\n",
    "center_y = int(screen_height/2 - window_height / 2)\n",
    "\n",
    "# set the position of the window to the center of the screen\n",
    "root.geometry(f'{window_width}x{window_height}+{center_x}+{center_y}')\n",
    "\n",
    "root.mainloop()"
   ]
  }
 ],
 "metadata": {
  "kernelspec": {
   "display_name": ".venv",
   "language": "python",
   "name": "python3"
  },
  "language_info": {
   "codemirror_mode": {
    "name": "ipython",
    "version": 3
   },
   "file_extension": ".py",
   "mimetype": "text/x-python",
   "name": "python",
   "nbconvert_exporter": "python",
   "pygments_lexer": "ipython3",
   "version": "3.11.3"
  },
  "orig_nbformat": 4
 },
 "nbformat": 4,
 "nbformat_minor": 2
}
