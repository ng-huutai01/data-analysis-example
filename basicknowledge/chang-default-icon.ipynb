{
 "cells": [
  {
   "cell_type": "code",
   "execution_count": 1,
   "metadata": {},
   "outputs": [
    {
     "ename": "TclError",
     "evalue": "bitmap \"./assets/pythontutorial.ico\" not defined",
     "output_type": "error",
     "traceback": [
      "\u001b[1;31m---------------------------------------------------------------------------\u001b[0m",
      "\u001b[1;31mTclError\u001b[0m                                  Traceback (most recent call last)",
      "Cell \u001b[1;32mIn[1], line 6\u001b[0m\n\u001b[0;32m      4\u001b[0m root\u001b[39m.\u001b[39mgeometry(\u001b[39m'\u001b[39m\u001b[39m300x200+50+50\u001b[39m\u001b[39m'\u001b[39m)\n\u001b[0;32m      5\u001b[0m root\u001b[39m.\u001b[39mresizable(\u001b[39mFalse\u001b[39;00m, \u001b[39mFalse\u001b[39;00m)\n\u001b[1;32m----> 6\u001b[0m root\u001b[39m.\u001b[39;49miconbitmap(\u001b[39m'\u001b[39;49m\u001b[39m./assets/pythontutorial.ico\u001b[39;49m\u001b[39m'\u001b[39;49m)\n\u001b[0;32m      7\u001b[0m root\u001b[39m.\u001b[39mmainloop()\n",
      "File \u001b[1;32mD:\\Program Files\\python311\\Lib\\tkinter\\__init__.py:2136\u001b[0m, in \u001b[0;36mWm.wm_iconbitmap\u001b[1;34m(self, bitmap, default)\u001b[0m\n\u001b[0;32m   2134\u001b[0m     \u001b[39mreturn\u001b[39;00m \u001b[39mself\u001b[39m\u001b[39m.\u001b[39mtk\u001b[39m.\u001b[39mcall(\u001b[39m'\u001b[39m\u001b[39mwm\u001b[39m\u001b[39m'\u001b[39m, \u001b[39m'\u001b[39m\u001b[39miconbitmap\u001b[39m\u001b[39m'\u001b[39m, \u001b[39mself\u001b[39m\u001b[39m.\u001b[39m_w, \u001b[39m'\u001b[39m\u001b[39m-default\u001b[39m\u001b[39m'\u001b[39m, default)\n\u001b[0;32m   2135\u001b[0m \u001b[39melse\u001b[39;00m:\n\u001b[1;32m-> 2136\u001b[0m     \u001b[39mreturn\u001b[39;00m \u001b[39mself\u001b[39;49m\u001b[39m.\u001b[39;49mtk\u001b[39m.\u001b[39;49mcall(\u001b[39m'\u001b[39;49m\u001b[39mwm\u001b[39;49m\u001b[39m'\u001b[39;49m, \u001b[39m'\u001b[39;49m\u001b[39miconbitmap\u001b[39;49m\u001b[39m'\u001b[39;49m, \u001b[39mself\u001b[39;49m\u001b[39m.\u001b[39;49m_w, bitmap)\n",
      "\u001b[1;31mTclError\u001b[0m: bitmap \"./assets/pythontutorial.ico\" not defined"
     ]
    }
   ],
   "source": [
    "import tkinter as tk\n",
    "root = tk.Tk()\n",
    "root.title('Tkinter Window Demo')\n",
    "root.geometry('300x200+50+50')\n",
    "root.resizable(False, False)\n",
    "root.iconbitmap('./assets/pythontutorial.ico')\n",
    "root.mainloop()\n",
    "\n",
    "\n",
    "# Tkinter window displays a default icon. To change this \n",
    "# default icon, you follow these steps:\n",
    "#   - Prepare an image in the .ico format. If you have the \n",
    "# image in other formats like png or jpg, you can convert \n",
    "# it to the .ico format. There are many online tools that \n",
    "# allow you to do it quite easily.\n",
    "#   - Place the icon in a folder that can be accessible from the program.\n",
    "#   - Call the iconbitmap() method of the window object.\n"
   ]
  }
 ],
 "metadata": {
  "kernelspec": {
   "display_name": ".venv",
   "language": "python",
   "name": "python3"
  },
  "language_info": {
   "codemirror_mode": {
    "name": "ipython",
    "version": 3
   },
   "file_extension": ".py",
   "mimetype": "text/x-python",
   "name": "python",
   "nbconvert_exporter": "python",
   "pygments_lexer": "ipython3",
   "version": "3.11.3"
  },
  "orig_nbformat": 4
 },
 "nbformat": 4,
 "nbformat_minor": 2
}
