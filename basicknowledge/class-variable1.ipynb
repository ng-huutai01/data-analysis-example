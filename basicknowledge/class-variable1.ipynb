{
 "cells": [
  {
   "cell_type": "markdown",
   "metadata": {},
   "source": [
    "In Object-oriented programming, when we design a class, we use instance variables and class variables.\n",
    "\n",
    "In Class, attributes can be defined into two parts:\n",
    "\n",
    "Instance variables: If the value of a variable varies from object to object, then such variables are called instance variables.\n",
    "Class Variables: A class variable is a variable that is declared inside of class, but outside of any instance method or __init__() method.\n",
    "\n",
    "If the value of a variable is not varied from object to object, such types of variables are called class variables or static variables.\n",
    "\n",
    "Class variables are shared by all instances of a class. Unlike instance variable, the value of a class variable is not varied from object to object,\n",
    "\n",
    "In Python, Class variables are declared when a class is being constructed. They are not defined inside any methods of a class because of this only one copy of the static variable will be created and shared between all objects of the class.\n",
    "\n",
    "For example, in Student class, we can have different instance variables such as name and roll number because each student’s name and roll number are different.\n",
    "\n",
    "But, if we want to include the school name in the student class, we must use the class variable instead of an instance variable as the school name is the same for all students. So instead of maintaining the separate copy in each object, we can create a class variable that will hold the school name so all students (objects) can share it.\n",
    "\n",
    "We can add any number of class variables in a class.\n",
    "\n",
    "A class variable is declared inside of class, but outside of any instance method or __init__() method.\n",
    "\n",
    "By convention, typically it is placed right below the class header and before the constructor method and other methods."
   ]
  },
  {
   "cell_type": "code",
   "execution_count": 1,
   "metadata": {},
   "outputs": [
    {
     "name": "stdout",
     "output_type": "stream",
     "text": [
      "Emma 10 ABC School \n",
      "Jessa 20 ABC School \n"
     ]
    }
   ],
   "source": [
    "class Student:\n",
    "    # Class variable\n",
    "    school_name = 'ABC School '\n",
    "    \n",
    "    def __init__(self, name, roll_no):\n",
    "        self.name = name\n",
    "        self.roll_no = roll_no\n",
    "\n",
    "# create first object\n",
    "s1 = Student('Emma', 10)\n",
    "print(s1.name, s1.roll_no, Student.school_name)\n",
    "# access class variable\n",
    "\n",
    "# create second object\n",
    "s2 = Student('Jessa', 20)\n",
    "# access class variable\n",
    "print(s2.name, s2.roll_no, Student.school_name)"
   ]
  },
  {
   "cell_type": "markdown",
   "metadata": {},
   "source": [
    "We can access static variables either by class name or by object reference, but it is recommended to use the class name.\n",
    "\n",
    "In Python, we can access the class variable in the following places\n",
    "\n",
    "- Access inside the constructor by using either self parameter or class name.\n",
    "- Access class variable inside instance method by using either self of class name\n",
    "- Access from outside of class by using either object reference or class name.\n"
   ]
  },
  {
   "cell_type": "code",
   "execution_count": 2,
   "metadata": {},
   "outputs": [
    {
     "name": "stdout",
     "output_type": "stream",
     "text": [
      "ABC School \n",
      "ABC School \n"
     ]
    }
   ],
   "source": [
    "# Example 1: Access Class Variable in the constructor\n",
    "\n",
    "class Student:\n",
    "    # Class variable\n",
    "    school_name = 'ABC School '\n",
    "\n",
    "    # constructor\n",
    "    def __init__(self, name):\n",
    "        self.name = name\n",
    "        # access class variable inside constructor using self\n",
    "        print(self.school_name)\n",
    "        # access using class name\n",
    "        print(Student.school_name)\n",
    "\n",
    "# create Object\n",
    "s1 = Student('Emma')"
   ]
  },
  {
   "cell_type": "code",
   "execution_count": 3,
   "metadata": {},
   "outputs": [
    {
     "name": "stdout",
     "output_type": "stream",
     "text": [
      "Inside instance method\n",
      "Emma 10 ABC School \n",
      "ABC School \n",
      "Outside class\n",
      "ABC School \n",
      "ABC School \n"
     ]
    }
   ],
   "source": [
    "# Example 2: Access Class Variable in Instance method and outside class\n",
    "class Student:\n",
    "    # Class variable\n",
    "    school_name = 'ABC School '\n",
    "\n",
    "    # constructor\n",
    "    def __init__(self, name, roll_no):\n",
    "        self.name = name\n",
    "        self.roll_no = roll_no\n",
    "\n",
    "    # Instance method\n",
    "    def show(self):\n",
    "        print('Inside instance method')\n",
    "        # access using self\n",
    "        print(self.name, self.roll_no, self.school_name)\n",
    "        # access using class name\n",
    "        print(Student.school_name)\n",
    "\n",
    "# create Object\n",
    "s1 = Student('Emma', 10)\n",
    "s1.show()\n",
    "\n",
    "print('Outside class')\n",
    "# access class variable outside class\n",
    "# access using object reference\n",
    "print(s1.school_name)\n",
    "\n",
    "# access using class name\n",
    "print(Student.school_name)"
   ]
  }
 ],
 "metadata": {
  "kernelspec": {
   "display_name": ".venv",
   "language": "python",
   "name": "python3"
  },
  "language_info": {
   "codemirror_mode": {
    "name": "ipython",
    "version": 3
   },
   "file_extension": ".py",
   "mimetype": "text/x-python",
   "name": "python",
   "nbconvert_exporter": "python",
   "pygments_lexer": "ipython3",
   "version": "3.11.3"
  },
  "orig_nbformat": 4
 },
 "nbformat": 4,
 "nbformat_minor": 2
}
