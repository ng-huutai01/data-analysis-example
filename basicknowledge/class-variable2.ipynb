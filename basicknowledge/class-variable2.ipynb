{
 "cells": [
  {
   "cell_type": "markdown",
   "metadata": {},
   "source": [
    "Generally, we assign value to a class variable inside the class declaration. However, we can change the value of the class variable either in the class or outside of class.\n",
    "\n",
    "Note: We should change the class variable’s value using the class name only.\n",
    "\n"
   ]
  },
  {
   "cell_type": "code",
   "execution_count": 1,
   "metadata": {},
   "outputs": [
    {
     "name": "stdout",
     "output_type": "stream",
     "text": [
      "Before\n",
      "Emma 10 ABC School \n",
      "After\n",
      "Emma 10 XYZ School\n"
     ]
    }
   ],
   "source": [
    "class Student:\n",
    "    # Class variable\n",
    "    school_name = 'ABC School '\n",
    "\n",
    "    # constructor\n",
    "    def __init__(self, name, roll_no):\n",
    "        self.name = name\n",
    "        self.roll_no = roll_no\n",
    "\n",
    "    # Instance method\n",
    "    def show(self):\n",
    "        print(self.name, self.roll_no, Student.school_name)\n",
    "\n",
    "# create Object\n",
    "s1 = Student('Emma', 10)\n",
    "print('Before')\n",
    "s1.show()\n",
    "\n",
    "# Modify class variable\n",
    "Student.school_name = 'XYZ School'\n",
    "print('After')\n",
    "s1.show()"
   ]
  },
  {
   "cell_type": "markdown",
   "metadata": {},
   "source": [
    "Note:\n",
    "\n",
    "It is best practice to use a class name to change the value of a class variable. Because if we try to change the class variable’s value by using an object, a new instance variable is created for that particular object, which shadows the class variables."
   ]
  },
  {
   "cell_type": "code",
   "execution_count": 2,
   "metadata": {},
   "outputs": [
    {
     "name": "stdout",
     "output_type": "stream",
     "text": [
      "Before\n",
      "Emma 10 ABC School \n",
      "Jessa 20 ABC School \n",
      "After\n",
      "Emma 10 PQR School\n",
      "Jessa 20 ABC School \n"
     ]
    }
   ],
   "source": [
    "class Student:\n",
    "    # Class variable\n",
    "    school_name = 'ABC School '\n",
    "\n",
    "    # constructor\n",
    "    def __init__(self, name, roll_no):\n",
    "        self.name = name\n",
    "        self.roll_no = roll_no\n",
    "\n",
    "# create Objects\n",
    "s1 = Student('Emma', 10)\n",
    "s2 = Student('Jessa', 20)\n",
    "\n",
    "print('Before')\n",
    "print(s1.name, s1.roll_no, s1.school_name)\n",
    "print(s2.name, s2.roll_no, s2.school_name)\n",
    "\n",
    "# Modify class variable using object reference\n",
    "s1.school_name = 'PQR School'\n",
    "print('After')\n",
    "print(s1.name, s1.roll_no, s1.school_name)\n",
    "print(s2.name, s2.roll_no, s2.school_name)"
   ]
  },
  {
   "cell_type": "markdown",
   "metadata": {},
   "source": [
    "A new instance variable is created for the s1 object, and this variable shadows the class variables. So always use the class name to modify the class variable."
   ]
  }
 ],
 "metadata": {
  "kernelspec": {
   "display_name": ".venv",
   "language": "python",
   "name": "python3"
  },
  "language_info": {
   "codemirror_mode": {
    "name": "ipython",
    "version": 3
   },
   "file_extension": ".py",
   "mimetype": "text/x-python",
   "name": "python",
   "nbconvert_exporter": "python",
   "pygments_lexer": "ipython3",
   "version": "3.11.3"
  },
  "orig_nbformat": 4
 },
 "nbformat": 4,
 "nbformat_minor": 2
}
