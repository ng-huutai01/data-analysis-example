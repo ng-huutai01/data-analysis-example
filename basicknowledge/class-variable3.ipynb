{
 "cells": [
  {
   "cell_type": "markdown",
   "metadata": {},
   "source": [
    "As you know, only one copy of the class variable will be created and shared between all objects of that class.\n",
    "\n",
    "When we use inheritance, all variables and methods of the base class are available to the child class. In such cases, We can also change the value of the parent class’s class variable in the child class.\n",
    "\n",
    "We can use the parent class or child class name to change the value of a parent class’s class variable in the child class."
   ]
  },
  {
   "cell_type": "code",
   "execution_count": 1,
   "metadata": {},
   "outputs": [
    {
     "name": "stdout",
     "output_type": "stream",
     "text": [
      "Before\n",
      "Student name: Emma Course Name: Python\n",
      "Now\n",
      "Student name: Emma Course Name: Machine Learning\n"
     ]
    }
   ],
   "source": [
    "class Course:\n",
    "    # class variable\n",
    "    course = \"Python\"\n",
    "\n",
    "class Student(Course):\n",
    "\n",
    "    def __init__(self, name):\n",
    "        self.name = name\n",
    "\n",
    "    def show_student(self):\n",
    "        # Accessing class variable of parent class\n",
    "        print('Before')\n",
    "        print(\"Student name:\", self.name, \"Course Name:\", Student.course)\n",
    "        # changing class variable value of base class\n",
    "        print('Now')\n",
    "        Student.course = \"Machine Learning\"\n",
    "        print(\"Student name:\", self.name, \"Course Name:\", Student.course)\n",
    "\n",
    "# creating object of Student class\n",
    "stud = Student(\"Emma\")\n",
    "stud.show_student()"
   ]
  },
  {
   "cell_type": "markdown",
   "metadata": {},
   "source": [
    "What if both child class and parent class has the same class variable name. In this case, the child class will not inherit the class variable of a base class. So it is recommended to create a separate class variable for child class instead of inheriting the base class variable."
   ]
  },
  {
   "cell_type": "code",
   "execution_count": null,
   "metadata": {},
   "outputs": [],
   "source": [
    "class Course:\n",
    "    # class variable\n",
    "    course = \"Python\"\n",
    "\n",
    "class Student(Course):\n",
    "    # class variable\n",
    "    course = \"SQL\"\n",
    "\n",
    "    def __init__(self, name):\n",
    "        self.name = name\n",
    "\n",
    "    def show_student(self):\n",
    "        # Accessing class variable\n",
    "        print('Before')\n",
    "        print(\"Student name:\", self.name, \"Course Name:\", Student.course)\n",
    "        # changing class variable's value\n",
    "        print('Now')\n",
    "        Student.course = \"Machine Learning\"\n",
    "        print(\"Student name:\", self.name, \"Course Name:\", Student.course)\n",
    "\n",
    "# creating object of Student class\n",
    "stud = Student(\"Emma\")\n",
    "stud.show_student()\n",
    "\n",
    "# parent class course name\n",
    "print('Parent Class Course Name:', Course.course)"
   ]
  }
 ],
 "metadata": {
  "kernelspec": {
   "display_name": ".venv",
   "language": "python",
   "name": "python3"
  },
  "language_info": {
   "codemirror_mode": {
    "name": "ipython",
    "version": 3
   },
   "file_extension": ".py",
   "mimetype": "text/x-python",
   "name": "python",
   "nbconvert_exporter": "python",
   "pygments_lexer": "ipython3",
   "version": "3.11.3"
  },
  "orig_nbformat": 4
 },
 "nbformat": 4,
 "nbformat_minor": 2
}
