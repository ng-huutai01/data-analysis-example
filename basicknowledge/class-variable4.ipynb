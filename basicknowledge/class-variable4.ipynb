{
 "cells": [
  {
   "cell_type": "markdown",
   "metadata": {},
   "source": [
    "In Python, we should properly use the class variable because all objects share the same copy. Thus, if one of the objects modifies the value of a class variable, then all objects start referring to the fresh copy."
   ]
  },
  {
   "cell_type": "code",
   "execution_count": null,
   "metadata": {},
   "outputs": [],
   "source": [
    "class Player:\n",
    "    # class variables\n",
    "    club = 'Chelsea'\n",
    "    sport = 'Football'\n",
    "\n",
    "    def __init__(self, name):\n",
    "        # Instance variable\n",
    "        self.name = name\n",
    "\n",
    "    def show(self):\n",
    "        print(\"Player :\", 'Name:', self.name, 'Club:', self.club, 'Sports:', self.sport)\n",
    "\n",
    "p1 = Player('John')\n",
    "\n",
    "# wrong use of class variable\n",
    "p1.club = 'FC'\n",
    "p1.show()\n",
    "\n",
    "p2 = Player('Emma')\n",
    "p2.sport = 'Tennis'\n",
    "p2.show()\n",
    "\n",
    "# actual class variable value\n",
    "print('Club:', Player.club, 'Sport:', Player.sport)"
   ]
  },
  {
   "cell_type": "markdown",
   "metadata": {},
   "source": [
    "In the above example, the instance variable name is unique for each player. The class variable team and sport can be accessed and modified by any object.\n",
    "\n",
    "Because both objects modified the class variable, a new instance variable is created for that particular object with the same name as the class variable, which shadows the class variables.\n",
    "\n",
    "In our case, for object p1 new instance variable club gets created, and for object p2 new instance variable sport gets created.\n",
    "\n",
    "So when you try to access the class variable using the p1 or p2 object, it will not return the actual class variable value."
   ]
  },
  {
   "cell_type": "markdown",
   "metadata": {},
   "source": [
    "To avoid this, always modify the class variable value using the class name so that all objects gets the updated value. Like this\n",
    "\n",
    "Player.club = 'FC'\n",
    "Player.sport = 'Tennis'"
   ]
  }
 ],
 "metadata": {
  "kernelspec": {
   "display_name": ".venv",
   "language": "python",
   "name": "python3"
  },
  "language_info": {
   "name": "python",
   "version": "3.11.3"
  },
  "orig_nbformat": 4
 },
 "nbformat": 4,
 "nbformat_minor": 2
}
