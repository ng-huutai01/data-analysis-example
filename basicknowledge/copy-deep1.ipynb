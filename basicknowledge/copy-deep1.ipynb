{
 "cells": [
  {
   "cell_type": "markdown",
   "metadata": {},
   "source": [
    "# deep copy ko thay đổi first list khi có sự thay đổi trong deepcopy_list\n",
    "The original elements before deep copying\n",
    "\n",
    "1 2 [3, 5] 4 \n",
    "\n",
    "The new list of elements after deep copying \n",
    "\n",
    "1 2 [7, 5] 4 \n",
    "\n",
    "The original elements after deep \n",
    "\n",
    "1 2 [3, 5] 4 "
   ]
  },
  {
   "cell_type": "code",
   "execution_count": 3,
   "metadata": {},
   "outputs": [
    {
     "name": "stdout",
     "output_type": "stream",
     "text": [
      "The original elements before deep copying\n",
      "1 2 [3, 5] 4 \n",
      "The new list of elements after deep copying \n",
      "1 2 [7, 5] 4 \n",
      "The original elements after deep copying\n",
      "1 2 [3, 5] 4 "
     ]
    }
   ],
   "source": [
    "import copy\n",
    " \n",
    "first_li = [1, 2, [3,5], 4]\n",
    "\n",
    "# using deepcopy to deep copy\n",
    "deepcopy_li = copy.deepcopy(first_li)\n",
    "\n",
    "\n",
    "\n",
    "#--------------------------------------------------------\n",
    "# original elements of list\n",
    "print (\"The original elements before deep copying\")\n",
    "for i in range(0,len(first_li)):\n",
    "    # len(li1) = 4\n",
    "    print (first_li[i],end=\" \")\n",
    "#--------------------------------------------------------\n",
    "print(\"\\r\")\n",
    "\n",
    "\n",
    "\n",
    "\n",
    "#--------------------------------------------------------\n",
    "# adding and element to new list\n",
    "deepcopy_li[2][0] = 7\n",
    " \n",
    "# Change is reflected in l2\n",
    "print (\"The new list of elements after deep copying \")\n",
    "for i in range(0,len(first_li)):\n",
    "    print (deepcopy_li[i],end=\" \")\n",
    "#--------------------------------------------------------\n",
    "print(\"\\r\")\n",
    "\n",
    "\n",
    "#--------------------------------------------------------\n",
    "# Change is NOT reflected in original list\n",
    "# as it is a deep copy\n",
    "print (\"The original elements after deep copying\")\n",
    "for i in range(0,len(first_li)):\n",
    "    print (first_li[i],end=\" \")\n",
    "#--------------------------------------------------------\n"
   ]
  }
 ],
 "metadata": {
  "kernelspec": {
   "display_name": ".venv",
   "language": "python",
   "name": "python3"
  },
  "language_info": {
   "codemirror_mode": {
    "name": "ipython",
    "version": 3
   },
   "file_extension": ".py",
   "mimetype": "text/x-python",
   "name": "python",
   "nbconvert_exporter": "python",
   "pygments_lexer": "ipython3",
   "version": "3.11.3"
  },
  "orig_nbformat": 4
 },
 "nbformat": 4,
 "nbformat_minor": 2
}
