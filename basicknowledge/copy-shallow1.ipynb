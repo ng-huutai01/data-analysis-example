{
 "cells": [
  {
   "cell_type": "markdown",
   "metadata": {},
   "source": [
    "#\n",
    "list 1 after modification:\n",
    " [1, [2, 999], 4, 5]\n",
    "\n",
    "list 2 after modification:\n",
    " [1, [2, 999], 4, 5]\n",
    "\n",
    "list 3 after modification:\n",
    " [1, [2, 999], 4]\n",
    " \n",
    "list 4 after modification:\n",
    " [1, [2, 3], 4]"
   ]
  },
  {
   "cell_type": "code",
   "execution_count": 1,
   "metadata": {},
   "outputs": [
    {
     "name": "stdout",
     "output_type": "stream",
     "text": [
      "list 1 after modification:\n",
      " [1, [2, 999], 4, 5]\n",
      "list 2 after modification:\n",
      " [1, [2, 999], 4, 5]\n",
      "list 3 after modification:\n",
      " [1, [2, 999], 4]\n",
      "list 4 after modification:\n",
      " [1, [2, 3], 4]\n"
     ]
    }
   ],
   "source": [
    "import copy\n",
    "list1=[1, [2,3] ,4]\n",
    "\n",
    "# all changes are reflected`\n",
    "list2 = list1\n",
    "\n",
    "\n",
    "# shallow copy - changes to\n",
    "# nested list is reflected,\n",
    "# same as copy.copy(), slicing\n",
    "list3 = list1.copy()\n",
    "\n",
    "# deep copy - no change is reflected`\n",
    "list4 = copy.deepcopy(list1)\n",
    "\n",
    "\n",
    "list1.append(5)\n",
    "list1[1][1] = 999\n",
    "\n",
    "print(\"list 1 after modification:\\n\", list1)\n",
    "print(\"list 2 after modification:\\n\", list2)\n",
    "print(\"list 3 after modification:\\n\", list3)\n",
    "print(\"list 4 after modification:\\n\", list4)"
   ]
  }
 ],
 "metadata": {
  "kernelspec": {
   "display_name": ".venv",
   "language": "python",
   "name": "python3"
  },
  "language_info": {
   "codemirror_mode": {
    "name": "ipython",
    "version": 3
   },
   "file_extension": ".py",
   "mimetype": "text/x-python",
   "name": "python",
   "nbconvert_exporter": "python",
   "pygments_lexer": "ipython3",
   "version": "3.11.3"
  },
  "orig_nbformat": 4
 },
 "nbformat": 4,
 "nbformat_minor": 2
}
