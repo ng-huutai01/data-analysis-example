{
 "cells": [
  {
   "cell_type": "code",
   "execution_count": 1,
   "metadata": {},
   "outputs": [],
   "source": [
    "import tkinter as tk\n",
    "\n",
    "window = tk.Tk()\n",
    "\n",
    "frame_a = tk.Frame()\n",
    "frame_b = tk.Frame()\n",
    "\n",
    "label_a = tk.Label(master=frame_a, text=\"I'm in Frame A\")\n",
    "label_a.pack()\n",
    "\n",
    "label_b = tk.Label(master=frame_b, text=\"I'm in Frame B\")\n",
    "label_b.pack()\n",
    "\n",
    "frame_a.pack()\n",
    "frame_b.pack()\n",
    "\n",
    "window.mainloop()"
   ]
  }
 ],
 "metadata": {
  "kernelspec": {
   "display_name": ".venv",
   "language": "python",
   "name": "python3"
  },
  "language_info": {
   "codemirror_mode": {
    "name": "ipython",
    "version": 3
   },
   "file_extension": ".py",
   "mimetype": "text/x-python",
   "name": "python",
   "nbconvert_exporter": "python",
   "pygments_lexer": "ipython3",
   "version": "3.11.3"
  },
  "orig_nbformat": 4
 },
 "nbformat": 4,
 "nbformat_minor": 2
}
