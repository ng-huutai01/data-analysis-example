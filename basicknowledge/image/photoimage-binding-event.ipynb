{
 "cells": [
  {
   "cell_type": "code",
   "execution_count": 3,
   "metadata": {},
   "outputs": [],
   "source": [
    "import tkinter as tk\n",
    "from PIL import Image, ImageTk\n",
    "\n",
    "root = tk.Tk()\n",
    "root.geometry(\"800x600\")\n",
    "root.title(\"Canvas demo - binding event\")\n",
    "\n",
    "canvas = tk.Canvas(root, width=600, height=600)\n",
    "canvas.pack(anchor=tk.CENTER,expand=True)\n",
    "\n",
    "image = Image.open(\"python.png\")\n",
    "image = image.resize((30,30))\n",
    "image = ImageTk.PhotoImage(image)\n",
    "\n",
    "img_item = canvas.create_image(\n",
    "    (100,100),\n",
    "    image = image\n",
    ")\n",
    "\n",
    "canvas.tag_bind(img_item,'<Button-1>',lambda e: canvas.delete(img_item))\n",
    "root.mainloop()\n"
   ]
  }
 ],
 "metadata": {
  "kernelspec": {
   "display_name": ".venv",
   "language": "python",
   "name": "python3"
  },
  "language_info": {
   "codemirror_mode": {
    "name": "ipython",
    "version": 3
   },
   "file_extension": ".py",
   "mimetype": "text/x-python",
   "name": "python",
   "nbconvert_exporter": "python",
   "pygments_lexer": "ipython3",
   "version": "3.11.3"
  },
  "orig_nbformat": 4
 },
 "nbformat": 4,
 "nbformat_minor": 2
}
