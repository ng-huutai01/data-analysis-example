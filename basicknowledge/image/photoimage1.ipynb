{
 "cells": [
  {
   "cell_type": "code",
   "execution_count": 3,
   "metadata": {},
   "outputs": [],
   "source": [
    "from tkinter import * \n",
    " \n",
    "root = Tk() \n",
    "image = PhotoImage(file=\"python.png\") \n",
    " \n",
    "label = Label(root, image = image)\n",
    "label.pack()\n",
    "root.mainloop()"
   ]
  },
  {
   "cell_type": "markdown",
   "metadata": {},
   "source": [
    "# TclError: image \"pyimage36\" doesn't exist\n",
    "\n",
    "Figured it out. For some reason, while running in the debugger, if any previous executions had thrown errors I get the \"pyimage doesn't exist\" error. However, if I restart the debugger (or no previously executed scripts have thrown errors), then the program runs fine"
   ]
  },
  {
   "cell_type": "code",
   "execution_count": 6,
   "metadata": {},
   "outputs": [],
   "source": [
    "from tkinter import * \n",
    " \n",
    "root = Tk() \n",
    "image = PhotoImage(file=\"python.png\") \n",
    " \n",
    "canvas = Canvas(width = 300, height = 300, bg='black')\n",
    "canvas.create_image(200, 200, image = image)\n",
    "canvas.pack()\n",
    "root.mainloop()"
   ]
  },
  {
   "cell_type": "markdown",
   "metadata": {},
   "source": [
    "The first two parameters in the create_image() function represent the width and height of the image respectively. However, as you can see in the image below, that image appears to be cropped. This is because the dimensions we gave the image were too small.\n"
   ]
  },
  {
   "cell_type": "code",
   "execution_count": 19,
   "metadata": {},
   "outputs": [],
   "source": [
    "from tkinter import *\n",
    "from PIL import Image, ImageTk\n",
    "\n",
    "root = Tk()\n",
    "root.geometry('200x200')\n",
    "\n",
    "image = Image.open(\"python.png\")\n",
    "image = image.resize((20,20))\n",
    "image = ImageTk.PhotoImage(image)\n",
    "\n",
    "button = Button(width=100,height=20,image=image)\n",
    "button.pack(padx=20,pady=50)\n",
    "root.mainloop()"
   ]
  },
  {
   "cell_type": "code",
   "execution_count": 2,
   "metadata": {},
   "outputs": [],
   "source": [
    "import tkinter as tk\n",
    "from tkinter import ttk\n",
    "\n",
    "class App(tk.Tk):\n",
    "    def __init__(self):\n",
    "        super().__init__()\n",
    "        python_image = tk.PhotoImage(file='python.png')\n",
    "        ttk.Label(self, image=python_image).pack()\n",
    "\n",
    "if __name__ == \"__main__\":\n",
    "    app = App()\n",
    "    app.mainloop()\n",
    "\n",
    "# If you run the program, you’ll notice that the window doesn’t show the image.\n",
    "# Why?\n",
    "# That’s because the python_image is destroyed as soon as the __init__() is ended. \n",
    "# Since the program has no reference to the PhotoImage object, \n",
    "# the image vanishes even though you’ve packed it into the layout."
   ]
  },
  {
   "cell_type": "code",
   "execution_count": 3,
   "metadata": {},
   "outputs": [],
   "source": [
    "# To fix this issue, you need to make sure the python_image \n",
    "# doesn’t go out of scope after the __init__() method ends. \n",
    "# For example, you can keep it in the instance of the App class such as self.python_image\n",
    "\n",
    "import tkinter as tk\n",
    "from tkinter import ttk\n",
    "\n",
    "\n",
    "class App(tk.Tk):\n",
    "    def __init__(self):\n",
    "        super().__init__()\n",
    "        self.title('Tkinter PhotoImage Demo')\n",
    "        self.geometry('320x150')\n",
    "\n",
    "        self.python_image = tk.PhotoImage(file='python.png')\n",
    "        ttk.Label(self, image=self.python_image).pack()\n",
    "\n",
    "\n",
    "if __name__ == \"__main__\":\n",
    "    app = App()\n",
    "    app.mainloop()"
   ]
  },
  {
   "cell_type": "markdown",
   "metadata": {},
   "source": [
    "Currently, the PhotoImage widget supports the GIF, PGM, PPM, and PNG file formats as of Tkinter 8.6.\n",
    "\n",
    "To support other file formats such as JPG, JPEG, or BMP, you can use an image library such as Pillow to convert them into a format that the PhotoImage widget understands.\n",
    "\n",
    "In fact, the Pillow library has a Tkinter-compatible PhotoImage widget located in the PIL.ImageTk module."
   ]
  },
  {
   "cell_type": "code",
   "execution_count": null,
   "metadata": {},
   "outputs": [],
   "source": [
    "import tkinter as tk\n",
    "from tkinter import ttk\n",
    "from PIL import Image, ImageTk\n",
    "\n",
    "class App(tk.Tk):\n",
    "    def __init__(self):\n",
    "        super().__init__()\n",
    "        self.title('Tkinter PhotoImage Demo')\n",
    "\n",
    "        self.image = Image.open('python.jpg')\n",
    "        self.python_image = ImageTk.PhotoImage(self.image)\n",
    "\n",
    "        ttk.Label(self, image=self.python_image).pack()\n",
    "\n",
    "\n",
    "if __name__ == '__main__':\n",
    "    app = App()\n",
    "    app.mainloop()"
   ]
  }
 ],
 "metadata": {
  "kernelspec": {
   "display_name": ".venv",
   "language": "python",
   "name": "python3"
  },
  "language_info": {
   "codemirror_mode": {
    "name": "ipython",
    "version": 3
   },
   "file_extension": ".py",
   "mimetype": "text/x-python",
   "name": "python",
   "nbconvert_exporter": "python",
   "pygments_lexer": "ipython3",
   "version": "3.11.3"
  },
  "orig_nbformat": 4
 },
 "nbformat": 4,
 "nbformat_minor": 2
}
