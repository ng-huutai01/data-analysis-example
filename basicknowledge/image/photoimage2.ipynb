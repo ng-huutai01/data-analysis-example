{
 "cells": [
  {
   "cell_type": "markdown",
   "metadata": {},
   "source": [
    "# In this output, image is displayed using label widget and since we have not provided any geometry so the application size is to the size of image."
   ]
  },
  {
   "cell_type": "code",
   "execution_count": null,
   "metadata": {},
   "outputs": [],
   "source": [
    "from tkinter import *\n",
    "\n",
    "ws = Tk()\n",
    "ws.title('PythonGuides')\n",
    "\n",
    "\n",
    "img = PhotoImage(file='sasuke.png')\n",
    "Label(ws,image=img).pack()\n",
    "\n",
    "ws.mainloop()"
   ]
  },
  {
   "cell_type": "markdown",
   "metadata": {},
   "source": [
    "# The image is displayed on the canvas and it is showing incomplete because we have provided height and width of canvas less than the size of image."
   ]
  },
  {
   "cell_type": "code",
   "execution_count": null,
   "metadata": {},
   "outputs": [],
   "source": [
    "from tkinter import *      \n",
    "\n",
    "ws = Tk()\n",
    "ws.title('PythonGuides')\n",
    "ws.geometry('500x500')\n",
    "\n",
    "canvas = Canvas(ws,width = 500,height = 500)      \n",
    "canvas.pack()\n",
    "\n",
    "img = PhotoImage(file='sasuke.png')      \n",
    "canvas.create_image(10,10, anchor=NW,image=img)\n",
    "\n",
    "ws.mainloop()"
   ]
  },
  {
   "cell_type": "markdown",
   "metadata": {},
   "source": [
    "# Output Of image displayed using Pillow Library\n",
    "\n",
    "The output is similar to the PhotoImage section, and photo is incomplete because the size of the window provided is less than the original size of image."
   ]
  },
  {
   "cell_type": "code",
   "execution_count": 1,
   "metadata": {},
   "outputs": [],
   "source": [
    "from tkinter import *  \n",
    "from PIL import ImageTk,Image  \n",
    "\n",
    "ws = Tk()  \n",
    "ws.title('PythonGuides')\n",
    "ws.geometry('500x500')\n",
    "\n",
    "canvas = Canvas(ws,width = 500,height = 500)  \n",
    "canvas.pack()  \n",
    "\n",
    "img = ImageTk.PhotoImage(Image.open('sasuke.png'))  \n",
    "canvas.create_image(10,10,anchor=NW,image=img) \n",
    "ws.mainloop() "
   ]
  },
  {
   "cell_type": "markdown",
   "metadata": {},
   "source": [
    "# In this output, Download image is added on the button. Users can click on this image to download the file."
   ]
  },
  {
   "cell_type": "code",
   "execution_count": 1,
   "metadata": {},
   "outputs": [],
   "source": [
    "from tkinter import *\n",
    "\n",
    "ws = Tk()\n",
    "ws.title('PythonGuides')\n",
    "\n",
    "\n",
    "img = PhotoImage(file='Download-Button.png')\n",
    "Button(ws,image=img,command=None).pack()\n",
    "\n",
    "ws.mainloop()"
   ]
  },
  {
   "cell_type": "markdown",
   "metadata": {},
   "source": [
    "# how to set background image in Python Tkinter.\n",
    "There are mainly two ways of placing background in Python Tkinter\n",
    "\n",
    "1/ Using Place layout manager we can put the background image on the label and the stretch it all the way to the screen.\n",
    "\n",
    "2/ Using canvas create_image method we can put the image on the screen and later using create_text method of canvas we can place text widget.\n",
    "\n",
    "Out of these two methods, second method which says using canvas is more efficient and accurate and we will recommend to do using canvas."
   ]
  },
  {
   "cell_type": "code",
   "execution_count": 3,
   "metadata": {},
   "outputs": [],
   "source": [
    "from tkinter import *\n",
    "import webbrowser\n",
    "\n",
    "ws = Tk()\n",
    "ws.title('PythonGuides')\n",
    "ws.geometry('500x400')\n",
    "\n",
    "\n",
    "new = 1\n",
    "url = \"https://www.pythonguides.com\"\n",
    "\n",
    "def openbrowser():\n",
    "    webbrowser.open(url,new=new)\n",
    "\n",
    "bg = PhotoImage(file = 'sasuke.png')\n",
    "\n",
    "canvas = Canvas(ws, width = 500,height = 400)\n",
    "canvas.pack(fill='both', expand = True)\n",
    "\n",
    "canvas.create_image(0, 0, image=bg,anchor = \"nw\")\n",
    "canvas.create_text(250, 150, text = 'PythonGuides',font=('Arial', 50),)\n",
    "\n",
    "btn = Button(ws, text = 'EXPLORE MORE',command=openbrowser,width=20,height=2,relief=SOLID,font=('arial', 18))\n",
    "btn_canvas = canvas.create_window(100,200,anchor = \"nw\",window = btn,)\n",
    "\n",
    "ws.mainloop()"
   ]
  },
  {
   "cell_type": "markdown",
   "metadata": {},
   "source": [
    "# how to resize the image in Python Tkinter.\n",
    "\n",
    "1/ Using Pillow library in Python Tkinter we can resize the images. to import Pillow use this code from PIL import Image, ImageTk\n",
    "\n",
    "2/ image.resize((w, h)) this command allows us to change the height(h) and width(w) of the image.\n",
    "\n",
    "In this output, you can see that image is resizing as per the height and width provided by the user. The is a full fledged application created in Python Tkinter that can be used for daily activities."
   ]
  },
  {
   "cell_type": "code",
   "execution_count": 4,
   "metadata": {},
   "outputs": [],
   "source": [
    "from tkinter import *\n",
    "from PIL import Image, ImageTk\n",
    "\n",
    "ws = Tk()\n",
    "ws.title('PythonGuides')\n",
    "ws.geometry('500x400')\n",
    "ws.config(bg='#4a7a8c')\n",
    "\n",
    "\n",
    "def resize_func():\n",
    "    image = Image.open(\"sasuke.png\")\n",
    "    w = int(width.get())\n",
    "    h = int(height.get())\n",
    "    resize_img = image.resize((w, h))\n",
    "    img = ImageTk.PhotoImage(resize_img)\n",
    "    disp_img.config(image=img)\n",
    "    disp_img.image = img\n",
    "\n",
    "\n",
    "frame = Frame(ws)\n",
    "frame.pack()\n",
    "\n",
    "Label(frame,text='Width').pack(side=LEFT)\n",
    "width = Entry(frame, width=10)\n",
    "width.insert(END, 300)\n",
    "width.pack(side=LEFT)\n",
    "\n",
    "Label(frame,text='Height').pack(side=LEFT)\n",
    "\n",
    "height = Entry(frame, width=10)\n",
    "height.insert(END, 350)\n",
    "height.pack(side=LEFT)\n",
    "\n",
    "resize_btn = Button(frame,text='Resize',command=resize_func)\n",
    "resize_btn.pack(side=LEFT)\n",
    "\n",
    "disp_img = Label()\n",
    "disp_img.pack(pady=20)\n",
    "\n",
    "ws.mainloop()"
   ]
  },
  {
   "cell_type": "markdown",
   "metadata": {},
   "source": [
    "# how to get the image size in Python Tkinter.\n",
    "\n",
    "- first thing in the process is to import Image, ImageTk from PIL.\n",
    "\n",
    "- then ImageTk provides width and height method using which we can get the size of an image.\n",
    "\n",
    "In this code, text=f'width: {img.width()} height: {img.height()}' this command displays the height and width of the image. Here, img is the variable that stores the file file."
   ]
  },
  {
   "cell_type": "code",
   "execution_count": 1,
   "metadata": {},
   "outputs": [],
   "source": [
    "from tkinter import *  \n",
    "from PIL import ImageTk,Image  \n",
    "\n",
    "ws = Tk()  \n",
    "ws.title('PythonGuides')\n",
    "ws.geometry('500x500')\n",
    "\n",
    "canvas = Canvas(ws, width = 500,height = 400)  \n",
    "canvas.pack()  \n",
    "img = ImageTk.PhotoImage(Image.open('Workstation.jpg'))  \n",
    "\n",
    "canvas.create_image(10, 10, anchor=NW,image=img) \n",
    "Label(ws,text=f'width: {img.width()} height: {img.height()}').pack()\n",
    "\n",
    "ws.mainloop() "
   ]
  }
 ],
 "metadata": {
  "kernelspec": {
   "display_name": ".venv",
   "language": "python",
   "name": "python3"
  },
  "language_info": {
   "codemirror_mode": {
    "name": "ipython",
    "version": 3
   },
   "file_extension": ".py",
   "mimetype": "text/x-python",
   "name": "python",
   "nbconvert_exporter": "python",
   "pygments_lexer": "ipython3",
   "version": "3.11.3"
  },
  "orig_nbformat": 4
 },
 "nbformat": 4,
 "nbformat_minor": 2
}
