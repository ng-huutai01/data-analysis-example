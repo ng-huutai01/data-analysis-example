{
 "cells": [
  {
   "cell_type": "code",
   "execution_count": 5,
   "metadata": {},
   "outputs": [],
   "source": [
    "from tkinter import *  \n",
    "import tkinter as tk\n",
    "from tkinter import ttk\n",
    "from PIL import Image, ImageTk\n",
    "\n",
    "first = Tk()  \n",
    "first.geometry(\"600x400\")\n",
    "\n",
    "frm = Frame(first)  \n",
    "frm.pack()  \n",
    "\n",
    "frm1 = Frame(first)  \n",
    "frm1.pack(side = RIGHT)  \n",
    "\n",
    "frm2 = Frame(first)  \n",
    "frm2.pack(side = LEFT)   \n",
    "\n",
    "imge = Image.open(\"Workstation.jpg\") \n",
    "imge = imge.resize((150,150))\n",
    "imge = ImageTk.PhotoImage(imge)\n",
    "\n",
    "Button(first, text = 'Have a Nice Day !', image = imge).pack(side = LEFT) \n",
    "\n",
    "labels=Label(first, image=imge, width=320, height=350)\n",
    "labels.pack(side=BOTTOM)\n",
    "\n",
    "btn1=Button(first, text=\" +\" )\n",
    "btn1.pack(side=TOP)\n",
    "\n",
    "btn2=Button(first, text=\" - \")\n",
    "btn2.pack(side=RIGHT)                                  \n",
    "\n",
    "first.mainloop()  "
   ]
  },
  {
   "cell_type": "markdown",
   "metadata": {},
   "source": [
    "# TclError: couldn't recognize data in image file \"Workstation.jpg\"\n",
    "\n",
    ".jpg is not supported by default by tkinter. You can use .jpg files using PIL:\n",
    "\n"
   ]
  }
 ],
 "metadata": {
  "kernelspec": {
   "display_name": ".venv",
   "language": "python",
   "name": "python3"
  },
  "language_info": {
   "codemirror_mode": {
    "name": "ipython",
    "version": 3
   },
   "file_extension": ".py",
   "mimetype": "text/x-python",
   "name": "python",
   "nbconvert_exporter": "python",
   "pygments_lexer": "ipython3",
   "version": "3.11.3"
  },
  "orig_nbformat": 4
 },
 "nbformat": 4,
 "nbformat_minor": 2
}
