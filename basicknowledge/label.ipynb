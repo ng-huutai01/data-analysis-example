{
 "cells": [
  {
   "cell_type": "code",
   "execution_count": 5,
   "metadata": {},
   "outputs": [],
   "source": [
    "import tkinter as tk\n",
    "\n",
    "# A window is an instance of Tkinter’s Tk class. Go ahead \n",
    "# and create a new window and assign it to the variable \n",
    "# window:\n",
    "window = tk.Tk()\n",
    "\n",
    "label = tk.Label(\n",
    "    text=\"Hello, Tkinter\",\n",
    "    foreground=\"white\",  # Set the text color to white\n",
    "    background=\"black\",  # Set the background color to black\n",
    "    width=10,\n",
    "    height=10\n",
    ")\n",
    "label.pack()\n",
    "# If you don’t feel like typing out foreground and \n",
    "# background all the time, then you can use the shorthand \n",
    "# fg and bg parameters to set the foreground and background \n",
    "# colors:\n",
    "# label = tk.Label(text=\"Hello, Tkinter\", fg=\"white\", bg=\"black\")\n",
    "\n",
    "# You can also specify a color using hexadecimal RGB values\n",
    "# label = tk.Label(text=\"Hello, Tkinter\", background=\"#34A2FE\")\n",
    "\n",
    "# It may seem strange that the label in the window isn’t \n",
    "# square even though the width and height are both set to \n",
    "# 10. This is because the width and height are measured in \n",
    "# text units. One horizontal text unit is determined by the \n",
    "# width of the character 0, or the number zero, in the \n",
    "# default system font. Similarly, one vertical text unit is \n",
    "# determined by the height of the character 0.\n",
    "\n",
    "window.mainloop()\n",
    "\n",
    "\n"
   ]
  }
 ],
 "metadata": {
  "kernelspec": {
   "display_name": ".venv",
   "language": "python",
   "name": "python3"
  },
  "language_info": {
   "codemirror_mode": {
    "name": "ipython",
    "version": 3
   },
   "file_extension": ".py",
   "mimetype": "text/x-python",
   "name": "python",
   "nbconvert_exporter": "python",
   "pygments_lexer": "ipython3",
   "version": "3.11.3"
  },
  "orig_nbformat": 4
 },
 "nbformat": 4,
 "nbformat_minor": 2
}
