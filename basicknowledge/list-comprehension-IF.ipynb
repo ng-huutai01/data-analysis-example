{
 "cells": [
  {
   "cell_type": "code",
   "execution_count": 1,
   "metadata": {},
   "outputs": [
    {
     "name": "stdout",
     "output_type": "stream",
     "text": [
      "['yes', 'no', 'yes', 'unknown', 'yes']\n",
      "['yes', 'no', 'yes', 'unknown', 'yes']\n"
     ]
    }
   ],
   "source": [
    "values = [True, False, True, None, True]\n",
    "print(['yes' if v is True else 'no' if v is False else 'unknown' for v in values])\n",
    "# ['yes', 'no', 'yes', 'unknown', 'yes']\n",
    "\n",
    "# Above is equivalent to:\n",
    "result = []\n",
    "for v in values:\n",
    "    if v is True:\n",
    "        result.append('yes')\n",
    "    else:\n",
    "        if v is False:\n",
    "            result.append('no')\n",
    "        else:\n",
    "            result.append('unknown')\n",
    "\n",
    "print(result)\n",
    "# ['yes', 'no', 'yes', 'unknown', 'yes']"
   ]
  },
  {
   "cell_type": "code",
   "execution_count": 2,
   "metadata": {},
   "outputs": [
    {
     "name": "stdout",
     "output_type": "stream",
     "text": [
      "[11, 13, 15, 17, 19]\n",
      "[11, 13, 15, 17, 19]\n"
     ]
    }
   ],
   "source": [
    "print([i for i in range(100) if i > 10 if i < 20 if i % 2])\n",
    "# [11, 13, 15, 17, 19]\n",
    "\n",
    "# Above is equivalent to:\n",
    "result = []\n",
    "for i in range(100):\n",
    "    if i > 10:\n",
    "        if i < 20:\n",
    "            if i % 2:\n",
    "                result.append(i)\n",
    "\n",
    "print(result)\n",
    "# [11, 13, 15, 17, 19]"
   ]
  },
  {
   "cell_type": "code",
   "execution_count": 3,
   "metadata": {},
   "outputs": [
    {
     "name": "stdout",
     "output_type": "stream",
     "text": [
      "[11, 13, 15, 17, 19]\n"
     ]
    }
   ],
   "source": [
    "print([i for i in range(100)\n",
    "      if i > 10\n",
    "      if i < 20\n",
    "      if i % 2])"
   ]
  }
 ],
 "metadata": {
  "kernelspec": {
   "display_name": ".venv",
   "language": "python",
   "name": "python3"
  },
  "language_info": {
   "codemirror_mode": {
    "name": "ipython",
    "version": 3
   },
   "file_extension": ".py",
   "mimetype": "text/x-python",
   "name": "python",
   "nbconvert_exporter": "python",
   "pygments_lexer": "ipython3",
   "version": "3.11.3"
  },
  "orig_nbformat": 4
 },
 "nbformat": 4,
 "nbformat_minor": 2
}
