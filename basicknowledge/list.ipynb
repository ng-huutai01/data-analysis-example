{
 "cells": [
  {
   "cell_type": "markdown",
   "metadata": {},
   "source": [
    "### mapping of groups"
   ]
  },
  {
   "cell_type": "code",
   "execution_count": 1,
   "metadata": {},
   "outputs": [
    {
     "name": "stdout",
     "output_type": "stream",
     "text": [
      "Player :  Sachin     Score : 100\n",
      "Player :  Sehwag     Score : 15\n",
      "Player :  Gambhir     Score : 17\n",
      "Player :  Dravid     Score : 28\n",
      "Player :  Raina     Score : 43\n"
     ]
    }
   ],
   "source": [
    "# Python code to demonstrate the application of\n",
    "# zip()\n",
    " \n",
    "# initializing list of players.\n",
    "players = [\"Sachin\", \"Sehwag\", \"Gambhir\", \"Dravid\", \"Raina\"]\n",
    " \n",
    "# initializing their scores\n",
    "scores = [100, 15, 17, 28, 43]\n",
    " \n",
    "# printing players and scores.\n",
    "for pl, sc in zip(players, scores):\n",
    "    print(\"Player :  %s     Score : %d\" % (pl, sc))"
   ]
  }
 ],
 "metadata": {
  "kernelspec": {
   "display_name": ".venv",
   "language": "python",
   "name": "python3"
  },
  "language_info": {
   "codemirror_mode": {
    "name": "ipython",
    "version": 3
   },
   "file_extension": ".py",
   "mimetype": "text/x-python",
   "name": "python",
   "nbconvert_exporter": "python",
   "pygments_lexer": "ipython3",
   "version": "3.11.3"
  },
  "orig_nbformat": 4
 },
 "nbformat": 4,
 "nbformat_minor": 2
}
