{
 "cells": [
  {
   "cell_type": "code",
   "execution_count": 2,
   "metadata": {},
   "outputs": [
    {
     "name": "stdout",
     "output_type": "stream",
     "text": [
      "False\n"
     ]
    },
    {
     "ename": "TypeError",
     "evalue": "'<' not supported between instances of 'GFG' and 'GFG'",
     "output_type": "error",
     "traceback": [
      "\u001b[1;31m---------------------------------------------------------------------------\u001b[0m",
      "\u001b[1;31mTypeError\u001b[0m                                 Traceback (most recent call last)",
      "Cell \u001b[1;32mIn[2], line 8\u001b[0m\n\u001b[0;32m      6\u001b[0m a \u001b[39m=\u001b[39m student1_marks\u001b[39m.\u001b[39mMarks \u001b[39m<\u001b[39m student2_marks\u001b[39m.\u001b[39mMarks\n\u001b[0;32m      7\u001b[0m \u001b[39mprint\u001b[39m(a)\n\u001b[1;32m----> 8\u001b[0m \u001b[39mprint\u001b[39m(student1_marks \u001b[39m<\u001b[39;49m student2_marks)\n",
      "\u001b[1;31mTypeError\u001b[0m: '<' not supported between instances of 'GFG' and 'GFG'"
     ]
    }
   ],
   "source": [
    "class GFG:\n",
    "    def __init__(self, Marks):\n",
    "        self.Marks = Marks\n",
    "student1_marks = GFG(90)\n",
    "student2_marks = GFG(88)\n",
    "\n",
    "print(student1_marks < student2_marks)\n",
    "\n",
    "# a = student1_marks.Marks < student2_marks.Marks\n",
    "# print(a)"
   ]
  },
  {
   "cell_type": "markdown",
   "metadata": {},
   "source": [
    "We can see that type error is generated as soon as we try to run this code because for this code we haven’t defined any __lt__ method so we can’t use the ‘<‘ operator for the same."
   ]
  },
  {
   "cell_type": "code",
   "execution_count": 3,
   "metadata": {},
   "outputs": [
    {
     "name": "stdout",
     "output_type": "stream",
     "text": [
      "False\n",
      "True\n"
     ]
    }
   ],
   "source": [
    "class GFG:\n",
    "    def __init__(self, Marks):\n",
    "        self.Marks = Marks\n",
    "    def __lt__(self, marks):\n",
    "          return self.Marks < marks.Marks\n",
    "  \n",
    "student1_marks = GFG(90)\n",
    "student2_marks = GFG(88)\n",
    "  \n",
    "print(student1_marks < student2_marks)\n",
    "print(student2_marks < student1_marks)"
   ]
  },
  {
   "cell_type": "markdown",
   "metadata": {},
   "source": [
    "### Using Python __lt__ to compare the weight of two persons"
   ]
  },
  {
   "cell_type": "code",
   "execution_count": 4,
   "metadata": {},
   "outputs": [
    {
     "name": "stdout",
     "output_type": "stream",
     "text": [
      "True\n"
     ]
    }
   ],
   "source": [
    "class weight:\n",
    "  def __init__(self, weight):\n",
    "    self. weight= weight\n",
    "  def __lt__(self,other):\n",
    "    return self.weight<other.weight\n",
    "a=weight(50)\n",
    "b=weight(60)\n",
    "print(a<b)"
   ]
  },
  {
   "cell_type": "markdown",
   "metadata": {},
   "source": [
    "Creating a class named “weight”. Defining a __init__ function. Inside a function declaring the weight. Creating another function named __lt__. This function is to compare the weights. Variables a and b holds the weight of two different persons. It compares the weight if the condition is true. It will display the result as True. Otherwise False."
   ]
  },
  {
   "cell_type": "markdown",
   "metadata": {},
   "source": [
    "### Using Python __lt__ to compare the weight of multiple persons"
   ]
  },
  {
   "cell_type": "code",
   "execution_count": 5,
   "metadata": {},
   "outputs": [
    {
     "name": "stdout",
     "output_type": "stream",
     "text": [
      "False\n"
     ]
    }
   ],
   "source": [
    "class weight:\n",
    "  def __init__(self, weight):\n",
    "    self. weight= weight\n",
    "  def __lt__(self,other):\n",
    "    return self.weight<other.weight\n",
    "  def __gt__(self,other):\n",
    "    return self.weight>other.weight\n",
    "a=weight(50)\n",
    "b=weight(60)\n",
    "c=weight(70)\n",
    "print(a<b and b>c)"
   ]
  },
  {
   "cell_type": "markdown",
   "metadata": {},
   "source": [
    "Creating a class named “weight”. Defining a __init__ function. Inside a function declaring the weight. Creating another function named __lt__ and followed by __gt__. These functions are to compare the weights. Variables a, b, and c holds the weight of three different persons. It compares the weight if the condition is true; it will display the result as True. Otherwise False."
   ]
  },
  {
   "cell_type": "markdown",
   "metadata": {},
   "source": [
    "### Using __lt__ for operator overloading"
   ]
  },
  {
   "cell_type": "code",
   "execution_count": 6,
   "metadata": {},
   "outputs": [
    {
     "name": "stdout",
     "output_type": "stream",
     "text": [
      "less than operator overloaded\n",
      "x<y = False\n"
     ]
    }
   ],
   "source": [
    "class overload:\n",
    "  a=0\n",
    "  def __init__(self,operator):\n",
    "    self.a=operator\n",
    "  def __lt__(self,other):\n",
    "    print(\"less than operator overloaded\")\n",
    "    if self.a<other.a:\n",
    "      return True\n",
    "    else:\n",
    "      return False\n",
    "x=overload(15)\n",
    "y=overload(9)\n",
    "print(f'x<y = {x < y}')"
   ]
  },
  {
   "cell_type": "markdown",
   "metadata": {},
   "source": [
    "Creating a class overload. Defining a function init. Creating another function named lt. Using an if-else statement inside a function. If the number on the left-hand side is lesser than the right-hand side, it will display True. Otherwise False."
   ]
  },
  {
   "cell_type": "markdown",
   "metadata": {},
   "source": [
    "### Using Python __lt__ to sort"
   ]
  },
  {
   "cell_type": "code",
   "execution_count": 7,
   "metadata": {},
   "outputs": [
    {
     "name": "stdout",
     "output_type": "stream",
     "text": [
      "[Point(a=2, b=0), Point(a=10, b=5), Point(a=17, b=7), Point(a=30, b=10)]\n"
     ]
    }
   ],
   "source": [
    "import math\n",
    "from functools import total_ordering\n",
    "class point:\n",
    "    def __init__(self,a,b):\n",
    "        self.a = a\n",
    "        self.b = b\n",
    "    def __repr__(self):\n",
    "        return f'Point(a={self.a}, b={self.b})'\n",
    "    @property\n",
    "    def compare(self):\n",
    "        return math.sqrt(self.a * self.a + self.b * self.b)\n",
    "    def __lt__(self, other):\n",
    "        return self.compare< other.compare\n",
    "print(sorted([\n",
    "    point(10, 5), point(30, 10), point(17, 7), point(2, 0)\n",
    "]))"
   ]
  },
  {
   "cell_type": "markdown",
   "metadata": {},
   "source": [
    "Importing math module. Creating a class named point. It will sort all the points. Here we are importing functools that is to support the less-than operator. Using a formatted function to display the output."
   ]
  }
 ],
 "metadata": {
  "kernelspec": {
   "display_name": ".venv",
   "language": "python",
   "name": "python3"
  },
  "language_info": {
   "codemirror_mode": {
    "name": "ipython",
    "version": 3
   },
   "file_extension": ".py",
   "mimetype": "text/x-python",
   "name": "python",
   "nbconvert_exporter": "python",
   "pygments_lexer": "ipython3",
   "version": "3.11.3"
  },
  "orig_nbformat": 4
 },
 "nbformat": 4,
 "nbformat_minor": 2
}
