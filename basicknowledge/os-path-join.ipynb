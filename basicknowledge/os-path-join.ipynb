{
 "cells": [
  {
   "cell_type": "markdown",
   "metadata": {},
   "source": [
    "# Python program to explain os.path.join() method"
   ]
  },
  {
   "cell_type": "code",
   "execution_count": 1,
   "metadata": {},
   "outputs": [
    {
     "name": "stdout",
     "output_type": "stream",
     "text": [
      "/home\\User/Desktop\\file.txt\n"
     ]
    }
   ],
   "source": [
    "import os\n",
    "path = \"/home\" \n",
    "print(os.path.join(path, \"User/Desktop\", \"file.txt\"))"
   ]
  },
  {
   "cell_type": "code",
   "execution_count": 2,
   "metadata": {},
   "outputs": [
    {
     "name": "stdout",
     "output_type": "stream",
     "text": [
      "/home\\file.txt\n"
     ]
    }
   ],
   "source": [
    "path = \"User/Documents\"\n",
    "print(os.path.join(path, \"/home\", \"file.txt\"))\n",
    "\n",
    "# In above example '/home'\n",
    "# represents an absolute path\n",
    "# so all previous components i.e User / Documents\n",
    "# are thrown away and joining continues\n",
    "# from the absolute path component i.e / home."
   ]
  },
  {
   "cell_type": "code",
   "execution_count": 4,
   "metadata": {},
   "outputs": [
    {
     "name": "stdout",
     "output_type": "stream",
     "text": [
      "/home\n"
     ]
    }
   ],
   "source": [
    "path = \"/User\"\n",
    "print(os.path.join(path, \"Downloads\", \"file.txt\", \"/home\"))\n",
    " \n",
    "# In above example '/User' and '/home'\n",
    "# both represents an absolute path\n",
    "# but '/home' is the last value\n",
    "# so all previous components before '/home'\n",
    "# will be discarded and joining will\n",
    "# continue from '/home'"
   ]
  },
  {
   "cell_type": "code",
   "execution_count": 3,
   "metadata": {},
   "outputs": [
    {
     "name": "stdout",
     "output_type": "stream",
     "text": [
      "/home\\User/Public/Documents\\\n"
     ]
    }
   ],
   "source": [
    "path = \"/home\"\n",
    "print(os.path.join(path, \"User/Public/\", \"Documents\", \"\"))\n",
    " \n",
    "# In above example the last\n",
    "# path component is empty\n",
    "# so a directory separator ('/')\n",
    "# will be put at the end\n",
    "# along with the concatenated value"
   ]
  }
 ],
 "metadata": {
  "kernelspec": {
   "display_name": ".venv",
   "language": "python",
   "name": "python3"
  },
  "language_info": {
   "codemirror_mode": {
    "name": "ipython",
    "version": 3
   },
   "file_extension": ".py",
   "mimetype": "text/x-python",
   "name": "python",
   "nbconvert_exporter": "python",
   "pygments_lexer": "ipython3",
   "version": "3.11.3"
  },
  "orig_nbformat": 4
 },
 "nbformat": 4,
 "nbformat_minor": 2
}
