{
 "cells": [
  {
   "cell_type": "markdown",
   "metadata": {},
   "source": [
    "## OPEN AND READ FILE"
   ]
  },
  {
   "cell_type": "code",
   "execution_count": 12,
   "metadata": {},
   "outputs": [
    {
     "name": "stdout",
     "output_type": "stream",
     "text": [
      "<_io.TextIOWrapper name='daffodils.txt' mode='r' encoding='cp1252'>\n"
     ]
    }
   ],
   "source": [
    "fhand = open('daffodils.txt')\n",
    "print(fhand)"
   ]
  },
  {
   "cell_type": "markdown",
   "metadata": {},
   "source": [
    "__encoding='cp1252'__\n",
    "\n",
    "There are lots of different languages in the world that use different characters.\n",
    "\n",
    "One system of mapping characters, called Unicode, has well over 100,000 characters, symbols, and even emoticons (emoji).\n",
    "\n",
    "So that we don't use vast amounts of memory, we use a mapping system, called an encoding, to convert a character between bits and bytes, and a human-readable character on a screen.\n",
    "\n",
    "There are now lots of encoding systems. To read a file, we must know which encoding system is used.\n",
    "\n",
    "Normally on Windows, the default is Windows-1252 (aka CP-1252, or Cp1252)."
   ]
  },
  {
   "cell_type": "code",
   "execution_count": null,
   "metadata": {},
   "outputs": [],
   "source": [
    "for line in fhand:\n",
    "    print(line)"
   ]
  },
  {
   "cell_type": "markdown",
   "metadata": {},
   "source": [
    "We are able to access and print the file successfully. But, did you notice that we are getting extra blank lines between each line? "
   ]
  },
  {
   "cell_type": "markdown",
   "metadata": {},
   "source": [
    "There is a new line character at the end of each line which prints output to the next line. We can visualize it using the repr method.\n",
    "\n",
    "According to the Python documentation, the repr() method returns a string containing a printable representation of an object. This means that we can see any special character like a \\t or a \\n that appears in a string.  "
   ]
  },
  {
   "cell_type": "code",
   "execution_count": 7,
   "metadata": {},
   "outputs": [],
   "source": [
    "for line in fhand:\n",
    "    print(repr(line))"
   ]
  },
  {
   "cell_type": "markdown",
   "metadata": {},
   "source": [
    "trong visual studio code ko thay kq, nhung chay trong ipython se thay ket qua ngay\n",
    "\n",
    "Moreover, the print method adds a new line by default. This means that using print, we are getting another new line in the output. We can handle this extra line using two approaches.\n",
    "\n",
    "1/ the print function: We can see that by default the value of end is \\n. This means that every print statement will end with a \\n.\n",
    "We can change the default value end='\\n' to a blank so that we do not get a new line at the end of each line. Let's see the example below to understand better.\n",
    "\n",
    "2/ se the rstrip() method"
   ]
  },
  {
   "cell_type": "code",
   "execution_count": 13,
   "metadata": {},
   "outputs": [
    {
     "name": "stdout",
     "output_type": "stream",
     "text": [
      "I wandered lonely as a cloud\n",
      "That floats on high o'er vales and hills,\n",
      "When all at once I saw a crowd,\n",
      "A host, of golden daffodils;\n",
      "Beside the lake, beneath the trees,\n",
      "Fluttering and dancing in the breeze.\n",
      "foldils\n",
      "\n",
      "BY William Wordsworth\n"
     ]
    }
   ],
   "source": [
    "for line in fhand:\n",
    "  line = line.rstrip()\n",
    "  print(line)"
   ]
  },
  {
   "cell_type": "markdown",
   "metadata": {},
   "source": [
    "## Let the User Choose a File"
   ]
  },
  {
   "cell_type": "code",
   "execution_count": 14,
   "metadata": {},
   "outputs": [
    {
     "name": "stdout",
     "output_type": "stream",
     "text": [
      "There are 9 lines in daffodils.txt\n"
     ]
    }
   ],
   "source": [
    "fname = input('Enter the file name: ')\n",
    "fhand = open(fname)\n",
    "count = 0\n",
    "for line in fhand:\n",
    "     count = count + 1\n",
    "print('There are', count, 'lines in', fname)"
   ]
  },
  {
   "cell_type": "markdown",
   "metadata": {},
   "source": [
    "## write file"
   ]
  },
  {
   "cell_type": "markdown",
   "metadata": {},
   "source": [
    "By default, the file handler opens a file in the read mode. We can write to a file if we open the file with any of the following modes:\n",
    "\n",
    "w- (Write) writes to an existing file but erases existing content.\n",
    "\n",
    "a- (Append) appends to an existing file.\n",
    "\n",
    "x - (Create) creates a file and returns an error if the file exists."
   ]
  },
  {
   "cell_type": "code",
   "execution_count": null,
   "metadata": {},
   "outputs": [],
   "source": [
    "# Open file with mode 'w'\n",
    "#  if we try to open an already existing file with w flag, the contents are overwritten.\n",
    "\n",
    "\n",
    "fout = open('flower.txt', 'w')\n",
    "fout.write(\"This content would be added and existing would be discarded\")\n",
    "fout.close()"
   ]
  },
  {
   "cell_type": "code",
   "execution_count": null,
   "metadata": {},
   "outputs": [],
   "source": [
    "# Open file with mode 'a'\n",
    "# The a flag appends to existing content and preserves the existing content.\n",
    "\n",
    "\n",
    "fout = open('flower.txt', 'a')\n",
    "fout.write(\"Now the file has more content at the end!\")\n",
    "fout.close()\n"
   ]
  },
  {
   "cell_type": "code",
   "execution_count": null,
   "metadata": {},
   "outputs": [],
   "source": [
    "# Open file with mode 'x'\n",
    "# How to create a file and write to it\n",
    "\n",
    "fout = open('new-file.txt', 'x')\n",
    "fout.write(\"Now the new file has some content!\")\n",
    "fout.close()"
   ]
  }
 ],
 "metadata": {
  "kernelspec": {
   "display_name": ".venv",
   "language": "python",
   "name": "python3"
  },
  "language_info": {
   "codemirror_mode": {
    "name": "ipython",
    "version": 3
   },
   "file_extension": ".py",
   "mimetype": "text/x-python",
   "name": "python",
   "nbconvert_exporter": "python",
   "pygments_lexer": "ipython3",
   "version": "3.11.3"
  },
  "orig_nbformat": 4
 },
 "nbformat": 4,
 "nbformat_minor": 2
}
