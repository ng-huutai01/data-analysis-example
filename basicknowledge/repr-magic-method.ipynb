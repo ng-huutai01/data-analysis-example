{
 "cells": [
  {
   "cell_type": "markdown",
   "metadata": {},
   "source": [
    "### Python __repr__() magic method"
   ]
  },
  {
   "cell_type": "markdown",
   "metadata": {},
   "source": [
    "Python __repr__() is one of the magic methods that returns a printable representation of an object in Python that can be customized or predefined, i.e. we can also create the string representation of the object according to our needs."
   ]
  },
  {
   "cell_type": "code",
   "execution_count": 1,
   "metadata": {},
   "outputs": [
    {
     "name": "stdout",
     "output_type": "stream",
     "text": [
      "GFG(\"Geeks\",\"For\",\"Geeks\")\n"
     ]
    }
   ],
   "source": [
    "class GFG:\n",
    "   \n",
    "    def __init__(self, f_name, m_name, l_name):\n",
    "        self.f_name = f_name\n",
    "        self.m_name = m_name\n",
    "        self.l_name = l_name\n",
    " \n",
    "    def __repr__(self):\n",
    "        return f'GFG(\"{self.f_name}\",\"{self.m_name}\",\"{self.l_name}\")'\n",
    " \n",
    "gfg = GFG(\"Geeks\", \"For\", \"Geeks\")\n",
    "print(repr(gfg))"
   ]
  },
  {
   "cell_type": "code",
   "execution_count": 2,
   "metadata": {},
   "outputs": [
    {
     "name": "stdout",
     "output_type": "stream",
     "text": [
      "Name is GeeksForGeeks\n",
      "GFG(name=GeeksForGeeks)\n"
     ]
    }
   ],
   "source": [
    "class GFG:\n",
    " \n",
    "    def __init__(self, name):\n",
    "        self.name = name\n",
    " \n",
    "    def __str__(self):\n",
    "        return f'Name is {self.name}'\n",
    " \n",
    "    def __repr__(self):\n",
    "        return f'GFG(name={self.name})'\n",
    " \n",
    " \n",
    "obj = GFG('GeeksForGeeks')\n",
    " \n",
    "print(obj.__str__())\n",
    "print(obj.__repr__())"
   ]
  },
  {
   "cell_type": "markdown",
   "metadata": {},
   "source": [
    "In this example, we define a GFG class with one instance variable name representing the name of a person. The __str__() method is defined to return a human-readable string representation of the instance, while the __repr__() method is defined to return a string representation of the instance that can be used to recreate the object.\n",
    "\n",
    "When we create an instance of the GFG class and call __str__() or __repr__() directly on the object, the respective method is called and returns a string that represents the object."
   ]
  },
  {
   "cell_type": "markdown",
   "metadata": {},
   "source": [
    "### __str__() and __repr__() Examples Using a Built-In Class"
   ]
  },
  {
   "cell_type": "code",
   "execution_count": 3,
   "metadata": {},
   "outputs": [
    {
     "name": "stdout",
     "output_type": "stream",
     "text": [
      "MyTuple((1, 2, 3))\n",
      "MyTuple(MyTuple((1, 2, 3)))\n"
     ]
    }
   ],
   "source": [
    "class MyTuple(tuple):\n",
    "    def __str__(self):\n",
    "        return f\"MyTuple({super().__str__()})\"\n",
    " \n",
    "    def __repr__(self):\n",
    "        return f\"MyTuple({super().__repr__()})\"\n",
    "mt = MyTuple((1,2,3))\n",
    "print(mt.__repr__())\n",
    "print(mt.__str__())"
   ]
  },
  {
   "cell_type": "markdown",
   "metadata": {},
   "source": [
    "### __str__() and __repr__() Examples Using a New Class"
   ]
  },
  {
   "cell_type": "code",
   "execution_count": 4,
   "metadata": {},
   "outputs": [
    {
     "name": "stdout",
     "output_type": "stream",
     "text": [
      "Using str():  The Hitchhiker's Guide to the Galaxy by Douglas Adams, 224 pages\n",
      "Using repr():  Book('The Hitchhiker's Guide to the Galaxy', 'Douglas Adams', 224)\n"
     ]
    }
   ],
   "source": [
    "class Book:\n",
    "    def __init__(self, title, author, pages):\n",
    "        self.title = title\n",
    "        self.author = author\n",
    "        self.pages = pages\n",
    " \n",
    "    def __str__(self):\n",
    "        return f\"{self.title} by {self.author}, {self.pages} pages\"\n",
    " \n",
    "    def __repr__(self):\n",
    "        return f\"Book('{self.title}', '{self.author}', {self.pages})\"\n",
    " \n",
    "book1 = Book(\"The Hitchhiker's Guide to the Galaxy\", \"Douglas Adams\", 224)\n",
    " \n",
    "print(\"Using str(): \", str(book1))\n",
    "print(\"Using repr(): \", repr(book1))"
   ]
  },
  {
   "cell_type": "code",
   "execution_count": 5,
   "metadata": {},
   "outputs": [
    {
     "name": "stdout",
     "output_type": "stream",
     "text": [
      "c1.title: Golden Yellow\n",
      "c2.title: Golden Yellow\n"
     ]
    }
   ],
   "source": [
    "class Color:\n",
    "    def __init__(self, suffix):\n",
    "        self.suffix = suffix\n",
    "        self.title = f\"Golden {suffix}\"\n",
    " \n",
    "    def __repr__(self):\n",
    "        return f\"Color('{self.suffix}')\"\n",
    " \n",
    " \n",
    "c1 = Color(\"Yellow\")\n",
    "# create another object with same params as c1\n",
    "# using eval() on repr()\n",
    "c2 = eval(repr(c1))\n",
    " \n",
    "print(\"c1.title:\", c1.title)\n",
    "print(\"c2.title:\", c2.title)"
   ]
  }
 ],
 "metadata": {
  "kernelspec": {
   "display_name": ".venv",
   "language": "python",
   "name": "python3"
  },
  "language_info": {
   "codemirror_mode": {
    "name": "ipython",
    "version": 3
   },
   "file_extension": ".py",
   "mimetype": "text/x-python",
   "name": "python",
   "nbconvert_exporter": "python",
   "pygments_lexer": "ipython3",
   "version": "3.11.3"
  },
  "orig_nbformat": 4
 },
 "nbformat": 4,
 "nbformat_minor": 2
}
