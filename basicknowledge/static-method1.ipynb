{
 "cells": [
  {
   "cell_type": "code",
   "execution_count": 1,
   "metadata": {},
   "outputs": [
    {
     "name": "stdout",
     "output_type": "stream",
     "text": [
      "Inside static method 10\n",
      "Inside static method 10\n"
     ]
    }
   ],
   "source": [
    "class Employee:\n",
    "    @staticmethod\n",
    "    def sample(x):\n",
    "        print('Inside static method', x)\n",
    "\n",
    "# call static method\n",
    "Employee.sample(10)\n",
    "\n",
    "# can be called using object\n",
    "emp = Employee()\n",
    "emp.sample(10)"
   ]
  },
  {
   "cell_type": "markdown",
   "metadata": {},
   "source": [
    "In Object-oriented programming, at the class level, we use class methods and static methods.\n",
    "- Class methods: Used to access or modify the state of the class. if we use only class variables, we should declare such methods as a class method.\n",
    "- Static methods: A static method is a general utility method that performs a task in isolation. Inside this method, we don’t use instance or class variable because this static method doesn’t take any parameters like self and cls."
   ]
  },
  {
   "cell_type": "markdown",
   "metadata": {},
   "source": [
    "A static method is a general utility method that performs a task in isolation. Static methods in Python are similar to those found in Java or C++.\n",
    "\n",
    "A static method is bound to the class and not the object of the class. Therefore, we can call it using the class name.\n",
    "\n",
    "A static method doesn’t have access to the class and instance variables because it does not receive an implicit first argument like self and cls. Therefore it cannot modify the state of the object or class.\n",
    "\n",
    "The class method can be called using ClassName.method_name() as well as by using an object of the class."
   ]
  }
 ],
 "metadata": {
  "kernelspec": {
   "display_name": ".venv",
   "language": "python",
   "name": "python3"
  },
  "language_info": {
   "codemirror_mode": {
    "name": "ipython",
    "version": 3
   },
   "file_extension": ".py",
   "mimetype": "text/x-python",
   "name": "python",
   "nbconvert_exporter": "python",
   "pygments_lexer": "ipython3",
   "version": "3.11.3"
  },
  "orig_nbformat": 4
 },
 "nbformat": 4,
 "nbformat_minor": 2
}
