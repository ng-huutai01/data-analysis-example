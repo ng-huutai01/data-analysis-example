{
 "cells": [
  {
   "cell_type": "code",
   "execution_count": 1,
   "metadata": {},
   "outputs": [
    {
     "name": "stdout",
     "output_type": "stream",
     "text": [
      "static method 1\n"
     ]
    }
   ],
   "source": [
    "# Call Static Method from Another Method\n",
    "class Test :\n",
    "    @staticmethod\n",
    "    def static_method_1():\n",
    "        print('static method 1')\n",
    "\n",
    "    @staticmethod\n",
    "    def static_method_2() :\n",
    "        Test.static_method_1()\n",
    "\n",
    "    @classmethod\n",
    "    def class_method_1(cls) :\n",
    "        cls.static_method_2()\n",
    "\n",
    "# call class method\n",
    "Test.class_method_1()"
   ]
  }
 ],
 "metadata": {
  "kernelspec": {
   "display_name": ".venv",
   "language": "python",
   "name": "python3"
  },
  "language_info": {
   "codemirror_mode": {
    "name": "ipython",
    "version": 3
   },
   "file_extension": ".py",
   "mimetype": "text/x-python",
   "name": "python",
   "nbconvert_exporter": "python",
   "pygments_lexer": "ipython3",
   "version": "3.11.3"
  },
  "orig_nbformat": 4
 },
 "nbformat": 4,
 "nbformat_minor": 2
}
