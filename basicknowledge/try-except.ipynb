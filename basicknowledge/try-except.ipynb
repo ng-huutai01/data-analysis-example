{
 "cells": [
  {
   "cell_type": "code",
   "execution_count": 2,
   "metadata": {},
   "outputs": [
    {
     "name": "stdout",
     "output_type": "stream",
     "text": [
      "Sorry ! You are dividing by zero \n"
     ]
    }
   ],
   "source": [
    "# Python code to illustrate\n",
    "# working of try()\n",
    "def divide(x, y):\n",
    "    try:\n",
    "        # Floor Division : Gives only Fractional Part as Answer\n",
    "        result = x // y\n",
    "        print(\"Yeah ! Your answer is :\", result)\n",
    "    except ZeroDivisionError:\n",
    "        print(\"Sorry ! You are dividing by zero \")\n",
    " \n",
    "# Look at parameters and note the working of Program\n",
    "divide(3, 0)\n",
    "\n",
    "\n",
    "# How try() works? \n",
    "# - First, the try clause is executed i.e. the code between \n",
    "# try.\n",
    "# - If there is no exception, then only the try clause will \n",
    "# run, except clause is finished.\n",
    "# - If any exception occurs, the try clause will be skipped \n",
    "# and except clause will run.\n",
    "# - If any exception occurs, but the except clause within \n",
    "# the code doesn’t handle it, it is passed on to the outer \n",
    "# try statements. If the exception is left unhandled, then \n",
    "# the execution stops.\n",
    "# - A try statement can have more than one except clause"
   ]
  },
  {
   "cell_type": "code",
   "execution_count": 3,
   "metadata": {},
   "outputs": [
    {
     "name": "stdout",
     "output_type": "stream",
     "text": [
      "The error is:  unsupported operand type(s) for //: 'int' and 'str'\n",
      "The error is:  integer division or modulo by zero\n"
     ]
    }
   ],
   "source": [
    "# code\n",
    "def divide(x, y):\n",
    "    try:\n",
    "        # Floor Division : Gives only Fractional Part as Answer\n",
    "        result = x // y\n",
    "        print(\"Yeah ! Your answer is :\", result)\n",
    "    except Exception as e:\n",
    "       # By this way we can know about the type of error occurring\n",
    "        print(\"The error is: \",e)\n",
    " \n",
    "         \n",
    "divide(3, \"GFG\")\n",
    "divide(3,0)\n",
    "\n",
    "# The other way of writing except statement, is shown below \n",
    "# and in this way, it only accepts exceptions that you’re \n",
    "# meant to catch or you can check which error is occurring."
   ]
  }
 ],
 "metadata": {
  "kernelspec": {
   "display_name": ".venv",
   "language": "python",
   "name": "python3"
  },
  "language_info": {
   "codemirror_mode": {
    "name": "ipython",
    "version": 3
   },
   "file_extension": ".py",
   "mimetype": "text/x-python",
   "name": "python",
   "nbconvert_exporter": "python",
   "pygments_lexer": "ipython3",
   "version": "3.11.3"
  },
  "orig_nbformat": 4
 },
 "nbformat": 4,
 "nbformat_minor": 2
}
