{
 "cells": [
  {
   "cell_type": "markdown",
   "metadata": {},
   "source": [
    "Counter class is a special type of object data-set provided with the collections module in Python3. Collections module provides the user with specialized container datatypes, thus, providing an alternative to Python’s general-purpose built-ins like dictionaries, lists, and tuples. \n",
    "\n",
    "Counter is a sub-class that is used to count hashable objects. It implicitly creates a hash table of an iterable when invoked.\n",
    "\n",
    "elements() is one of the functions of Counter class, when invoked on the Counter object will return an itertool of all the known elements in the Counter object."
   ]
  },
  {
   "cell_type": "code",
   "execution_count": 1,
   "metadata": {},
   "outputs": [],
   "source": [
    "from collections import Counter"
   ]
  },
  {
   "cell_type": "code",
   "execution_count": 2,
   "metadata": {},
   "outputs": [
    {
     "name": "stdout",
     "output_type": "stream",
     "text": [
      "g g e e e e k k s s f o r "
     ]
    }
   ],
   "source": [
    "# printing the elements of counter object\n",
    "x = Counter(\"geeksforgeeks\") \n",
    "for i in x.elements():\n",
    "    print ( i, end = \" \")"
   ]
  },
  {
   "cell_type": "code",
   "execution_count": 3,
   "metadata": {},
   "outputs": [
    {
     "name": "stdout",
     "output_type": "stream",
     "text": [
      "Counter({12: 2, 3: 2, 4: 1, 5: 1, 11: 1, 6: 1, 7: 1})\n",
      "12 : 2\n",
      "3 : 2\n",
      "4 : 1\n",
      "5 : 1\n",
      "11 : 1\n",
      "6 : 1\n",
      "7 : 1\n",
      "[12, 3, 4, 5, 11, 6, 7]\n",
      "[2, 2, 1, 1, 1, 1, 1]\n"
     ]
    }
   ],
   "source": [
    "a = [12, 3, 4, 3, 5, 11, 12, 6, 7]\n",
    "x = Counter(a)\n",
    "\n",
    "print(x)\n",
    "\n",
    "#We can also use .keys() and .values() methods to access Counter class object\n",
    "for i in x.keys():\n",
    "\tprint(i, \":\", x[i])\n",
    "\t\n",
    "#We can also make a list of keys and values of x\n",
    "x_keys = list(x.keys())\n",
    "x_values = list(x.values())\n",
    "\n",
    "print(x_keys)\n",
    "print(x_values)\n"
   ]
  },
  {
   "cell_type": "code",
   "execution_count": 4,
   "metadata": {},
   "outputs": [
    {
     "name": "stdout",
     "output_type": "stream",
     "text": [
      "geeks geeks geeks geeks for gfg gfg python python python \n",
      "a a b b b c c c c c c d e e e e e "
     ]
    }
   ],
   "source": [
    "b = Counter({'geeks' : 4, 'for' : 1,\n",
    "\t\t\t'gfg' : 2, 'python' : 3})\n",
    "\n",
    "for i in b.elements():\n",
    "\tprint ( i, end = \" \")\n",
    "print()\n",
    "\n",
    "# ----------------------\n",
    "d = Counter( a = 2, b = 3, c = 6, d = 1, e = 5)\n",
    "\n",
    "for i in d.elements():\n",
    "\tprint ( i, end = \" \")"
   ]
  },
  {
   "cell_type": "code",
   "execution_count": 5,
   "metadata": {},
   "outputs": [
    {
     "name": "stdout",
     "output_type": "stream",
     "text": [
      "Counter({'blue': 3, 'red': 2, 'yellow': 1})\n",
      "blue 3\n",
      "red 2\n",
      "yellow 1\n",
      "green 0\n"
     ]
    }
   ],
   "source": [
    "z = ['blue', 'red', 'blue', 'yellow', 'blue', 'red']\n",
    "col_count = Counter(z)\n",
    "print(col_count)\n",
    "  \n",
    "col = ['blue','red','yellow','green']\n",
    "  \n",
    "# Here green is not in col_count \n",
    "# so count of green will be zero\n",
    "for color in col:\n",
    "    print (color, col_count[color])"
   ]
  },
  {
   "cell_type": "code",
   "execution_count": 6,
   "metadata": {},
   "outputs": [
    {
     "name": "stdout",
     "output_type": "stream",
     "text": [
      "Counter({'c': 3, 'b': 2, 'a': 1})\n",
      "['a', 'b', 'b', 'c', 'c', 'c']\n"
     ]
    }
   ],
   "source": [
    "coun = Counter(a=1, b=2, c=3)\n",
    "print(coun)\n",
    "  \n",
    "print(list(coun.elements()))"
   ]
  },
  {
   "cell_type": "code",
   "execution_count": 7,
   "metadata": {},
   "outputs": [
    {
     "name": "stdout",
     "output_type": "stream",
     "text": [
      "f: 219\n",
      "d: 120\n",
      "c: 3\n"
     ]
    }
   ],
   "source": [
    "coun = Counter(a=1, b=2, c=3, d=120, e=1, f=219)\n",
    "  \n",
    "# This prints 3 most frequent characters\n",
    "for letter, count in coun.most_common(3):\n",
    "    print('%s: %d' % (letter, count))"
   ]
  },
  {
   "cell_type": "code",
   "execution_count": null,
   "metadata": {},
   "outputs": [],
   "source": []
  }
 ],
 "metadata": {
  "kernelspec": {
   "display_name": ".venv",
   "language": "python",
   "name": "python3"
  },
  "language_info": {
   "codemirror_mode": {
    "name": "ipython",
    "version": 3
   },
   "file_extension": ".py",
   "mimetype": "text/x-python",
   "name": "python",
   "nbconvert_exporter": "python",
   "pygments_lexer": "ipython3",
   "version": "3.8.10"
  },
  "orig_nbformat": 4
 },
 "nbformat": 4,
 "nbformat_minor": 2
}
