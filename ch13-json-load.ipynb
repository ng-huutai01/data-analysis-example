{
 "cells": [
  {
   "cell_type": "code",
   "execution_count": 18,
   "metadata": {},
   "outputs": [
    {
     "data": {
      "text/plain": [
       "{'name': 'John',\n",
       " 'age': 50,\n",
       " 'is_married': False,\n",
       " 'profession': None,\n",
       " 'hobbies': ['travelling', 'photography']}"
      ]
     },
     "execution_count": 18,
     "metadata": {},
     "output_type": "execute_result"
    }
   ],
   "source": [
    "import json\n",
    "with open(\"ch13-user.json\") as f:\n",
    "    parsed_json = json.load(f)\n",
    "\n",
    "parsed_json"
   ]
  },
  {
   "cell_type": "code",
   "execution_count": 24,
   "metadata": {},
   "outputs": [
    {
     "data": {
      "text/plain": [
       "['employee']"
      ]
     },
     "execution_count": 24,
     "metadata": {},
     "output_type": "execute_result"
    }
   ],
   "source": [
    "import json\n",
    "\n",
    "with open(\"ch13-user.json\") as f:\n",
    "    f_json = [line for line in json.load(f)]\n",
    "\n",
    "f_json"
   ]
  },
  {
   "cell_type": "code",
   "execution_count": 16,
   "metadata": {},
   "outputs": [
    {
     "data": {
      "text/plain": [
       "[{'name': 'John',\n",
       "  'age': 50,\n",
       "  'is_married': False,\n",
       "  'profession': None,\n",
       "  'hobbies': ['travelling', 'photography']},\n",
       " {'name': 'Peter',\n",
       "  'age': 20,\n",
       "  'is_married': True,\n",
       "  'profession': 'IT',\n",
       "  'hobbies': ['travelling', 'photography', 'Martial Art']},\n",
       " {'name': 'Ann',\n",
       "  'age': 42,\n",
       "  'is_married': True,\n",
       "  'profession': 'Accountant',\n",
       "  'hobbies': ['Reading', 'Writing', 'history']}]"
      ]
     },
     "execution_count": 16,
     "metadata": {},
     "output_type": "execute_result"
    }
   ],
   "source": [
    "import json\n",
    "\n",
    "with open(\"ch13-user.json\") as f:\n",
    "    f_json = [line for line in json.load(f)[\"employee\"]]\n",
    "\n",
    "f_json"
   ]
  },
  {
   "cell_type": "code",
   "execution_count": 22,
   "metadata": {},
   "outputs": [],
   "source": [
    "import pandas as pd\n",
    "df1 = pd.DataFrame(f_json,columns=[\"name\",\"age\",\"is_married\",\"profession\"])"
   ]
  },
  {
   "cell_type": "code",
   "execution_count": null,
   "metadata": {},
   "outputs": [],
   "source": []
  }
 ],
 "metadata": {
  "kernelspec": {
   "display_name": ".venv",
   "language": "python",
   "name": "python3"
  },
  "language_info": {
   "codemirror_mode": {
    "name": "ipython",
    "version": 3
   },
   "file_extension": ".py",
   "mimetype": "text/x-python",
   "name": "python",
   "nbconvert_exporter": "python",
   "pygments_lexer": "ipython3",
   "version": "3.8.10"
  },
  "orig_nbformat": 4
 },
 "nbformat": 4,
 "nbformat_minor": 2
}
