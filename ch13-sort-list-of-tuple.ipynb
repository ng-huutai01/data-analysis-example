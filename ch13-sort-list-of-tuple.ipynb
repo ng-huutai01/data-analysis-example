{
 "cells": [
  {
   "cell_type": "code",
   "execution_count": 4,
   "metadata": {},
   "outputs": [
    {
     "data": {
      "text/plain": [
       "[('a', 1),\n",
       " ('betty', 1),\n",
       " ('bit', 1),\n",
       " ('bitter', 1),\n",
       " ('bought', 1),\n",
       " ('but', 1),\n",
       " ('butter', 2),\n",
       " ('of', 1),\n",
       " ('the', 1),\n",
       " ('was', 1)]"
      ]
     },
     "execution_count": 4,
     "metadata": {},
     "output_type": "execute_result"
    }
   ],
   "source": [
    " # sort theo phần tử đầu tiên của tuple\n",
    "data = [\n",
    "('betty', 1),('bought', 1),\n",
    "('a', 1),('bit', 1),\n",
    "('of', 1),('butter', 2),\n",
    "('but', 1),('the', 1),\n",
    "('was', 1),('bitter', 1)]\n",
    "\n",
    "data.sort()\n",
    "data"
   ]
  },
  {
   "cell_type": "code",
   "execution_count": 5,
   "metadata": {},
   "outputs": [
    {
     "data": {
      "text/plain": [
       "[('butter', 2),\n",
       " ('a', 1),\n",
       " ('betty', 1),\n",
       " ('bit', 1),\n",
       " ('bitter', 1),\n",
       " ('bought', 1),\n",
       " ('but', 1),\n",
       " ('of', 1),\n",
       " ('the', 1),\n",
       " ('was', 1)]"
      ]
     },
     "execution_count": 5,
     "metadata": {},
     "output_type": "execute_result"
    }
   ],
   "source": [
    "# In order to sort a list of tuples (<word>, <count>), \n",
    "# for count in descending order and word in alphabetical order:\n",
    "sorted(data, key=lambda tup:(-tup[1], tup[0]))\n"
   ]
  },
  {
   "cell_type": "code",
   "execution_count": 6,
   "metadata": {},
   "outputs": [
    {
     "data": {
      "text/plain": [
       "[('a', 1),\n",
       " ('betty', 1),\n",
       " ('bit', 1),\n",
       " ('bitter', 1),\n",
       " ('bought', 1),\n",
       " ('but', 1),\n",
       " ('of', 1),\n",
       " ('the', 1),\n",
       " ('was', 1),\n",
       " ('butter', 2)]"
      ]
     },
     "execution_count": 6,
     "metadata": {},
     "output_type": "execute_result"
    }
   ],
   "source": [
    "\n",
    "def sec_elem(s):\n",
    "    return s[1]\n",
    "\n",
    "sorted(data, key=sec_elem)"
   ]
  },
  {
   "cell_type": "code",
   "execution_count": 7,
   "metadata": {},
   "outputs": [
    {
     "data": {
      "text/plain": [
       "[(1, 1, 4), (1, 2, 1), (1, 2, 3)]"
      ]
     },
     "execution_count": 7,
     "metadata": {},
     "output_type": "execute_result"
    }
   ],
   "source": [
    "# For sorting by multiple criteria, namely for instance by the second and third elements in a tuple\n",
    "# define a lambda that returns a tuple that describes priority, for instance\n",
    "data = [(1,2,3),(1,2,1),(1,1,4)]\n",
    "sorted(data, key=lambda tup: (tup[1],tup[2]) )"
   ]
  },
  {
   "cell_type": "code",
   "execution_count": 8,
   "metadata": {},
   "outputs": [
    {
     "name": "stdout",
     "output_type": "stream",
     "text": [
      "\u001b[0;31mSignature:\u001b[0m \u001b[0msorted\u001b[0m\u001b[0;34m(\u001b[0m\u001b[0miterable\u001b[0m\u001b[0;34m,\u001b[0m \u001b[0;34m/\u001b[0m\u001b[0;34m,\u001b[0m \u001b[0;34m*\u001b[0m\u001b[0;34m,\u001b[0m \u001b[0mkey\u001b[0m\u001b[0;34m=\u001b[0m\u001b[0;32mNone\u001b[0m\u001b[0;34m,\u001b[0m \u001b[0mreverse\u001b[0m\u001b[0;34m=\u001b[0m\u001b[0;32mFalse\u001b[0m\u001b[0;34m)\u001b[0m\u001b[0;34m\u001b[0m\u001b[0;34m\u001b[0m\u001b[0m\n",
      "\u001b[0;31mDocstring:\u001b[0m\n",
      "Return a new list containing all items from the iterable in ascending order.\n",
      "\n",
      "A custom key function can be supplied to customize the sort order, and the\n",
      "reverse flag can be set to request the result in descending order.\n",
      "\u001b[0;31mType:\u001b[0m      builtin_function_or_method"
     ]
    }
   ],
   "source": [
    "sorted?"
   ]
  }
 ],
 "metadata": {
  "kernelspec": {
   "display_name": ".venv",
   "language": "python",
   "name": "python3"
  },
  "language_info": {
   "codemirror_mode": {
    "name": "ipython",
    "version": 3
   },
   "file_extension": ".py",
   "mimetype": "text/x-python",
   "name": "python",
   "nbconvert_exporter": "python",
   "pygments_lexer": "ipython3",
   "version": "3.8.10"
  },
  "orig_nbformat": 4
 },
 "nbformat": 4,
 "nbformat_minor": 2
}
