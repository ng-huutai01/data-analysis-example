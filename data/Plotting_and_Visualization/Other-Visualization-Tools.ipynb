{
 "cells": [
  {
   "cell_type": "markdown",
   "metadata": {},
   "source": [
    "As is common with open source, there are a plethora of options for creating graphics\n",
    "in Python (too many to list). Since 2010, much development effort has been focused\n",
    "on creating interactive graphics for publication on the web. With tools like Bokeh and\n",
    "Plotly, it’s now possible to specify dynamic, interactive graphics in Python that are\n",
    "destined for a web browser.\n",
    "\n",
    "For creating static graphics for print or web, I recommend defaulting to matplotlib\n",
    "and add-on libraries like pandas and seaborn for your needs. For other data visualiza‐\n",
    "tion requirements, it may be useful to learn one of the other available tools out there.\n",
    "I encourage you to explore the ecosystem as it continues to involve and innovate into\n",
    "the future."
   ]
  },
  {
   "cell_type": "code",
   "execution_count": null,
   "metadata": {},
   "outputs": [],
   "source": []
  }
 ],
 "metadata": {
  "language_info": {
   "name": "python"
  },
  "orig_nbformat": 4
 },
 "nbformat": 4,
 "nbformat_minor": 2
}
