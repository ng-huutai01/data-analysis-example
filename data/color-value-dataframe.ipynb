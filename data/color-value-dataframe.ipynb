{
 "cells": [
  {
   "cell_type": "markdown",
   "metadata": {},
   "source": [
    "## No module named 'jinja2'\n",
    "\n",
    "pip install jinja2"
   ]
  },
  {
   "cell_type": "code",
   "execution_count": 4,
   "metadata": {},
   "outputs": [
    {
     "data": {
      "text/html": [
       "<style type=\"text/css\">\n",
       "#T_86a19_row0_col0, #T_86a19_row1_col1, #T_86a19_row2_col0, #T_86a19_row2_col1 {\n",
       "  color: green;\n",
       "}\n",
       "#T_86a19_row0_col1, #T_86a19_row1_col0 {\n",
       "  color: red;\n",
       "}\n",
       "</style>\n",
       "<table id=\"T_86a19\">\n",
       "  <thead>\n",
       "    <tr>\n",
       "      <th class=\"blank level0\" >&nbsp;</th>\n",
       "      <th id=\"T_86a19_level0_col0\" class=\"col_heading level0 col0\" >col_1</th>\n",
       "      <th id=\"T_86a19_level0_col1\" class=\"col_heading level0 col1\" >col_2</th>\n",
       "    </tr>\n",
       "  </thead>\n",
       "  <tbody>\n",
       "    <tr>\n",
       "      <th id=\"T_86a19_level0_row0\" class=\"row_heading level0 row0\" >0</th>\n",
       "      <td id=\"T_86a19_row0_col0\" class=\"data row0 col0\" >1.530000</td>\n",
       "      <td id=\"T_86a19_row0_col1\" class=\"data row0 col1\" >-4.100000</td>\n",
       "    </tr>\n",
       "    <tr>\n",
       "      <th id=\"T_86a19_level0_row1\" class=\"row_heading level0 row1\" >1</th>\n",
       "      <td id=\"T_86a19_row1_col0\" class=\"data row1 col0\" >-2.500000</td>\n",
       "      <td id=\"T_86a19_row1_col1\" class=\"data row1 col1\" >5.900000</td>\n",
       "    </tr>\n",
       "    <tr>\n",
       "      <th id=\"T_86a19_level0_row2\" class=\"row_heading level0 row2\" >2</th>\n",
       "      <td id=\"T_86a19_row2_col0\" class=\"data row2 col0\" >3.530000</td>\n",
       "      <td id=\"T_86a19_row2_col1\" class=\"data row2 col1\" >0.000000</td>\n",
       "    </tr>\n",
       "  </tbody>\n",
       "</table>\n"
      ],
      "text/plain": [
       "<pandas.io.formats.style.Styler at 0x1aab91b0e50>"
      ]
     },
     "execution_count": 4,
     "metadata": {},
     "output_type": "execute_result"
    }
   ],
   "source": [
    "import pandas as pd\n",
    "def color_df(val):\n",
    "    color = 'red' if val < 0 else 'green'\n",
    "    return 'color: %s' % color\n",
    "\n",
    "df = pd.DataFrame(dict(col_1=[1.53,-2.5,3.53],col_2 =[-4.1,5.9,0]))\n",
    "df.style.applymap(color_df)"
   ]
  }
 ],
 "metadata": {
  "kernelspec": {
   "display_name": ".venv",
   "language": "python",
   "name": "python3"
  },
  "language_info": {
   "codemirror_mode": {
    "name": "ipython",
    "version": 3
   },
   "file_extension": ".py",
   "mimetype": "text/x-python",
   "name": "python",
   "nbconvert_exporter": "python",
   "pygments_lexer": "ipython3",
   "version": "3.11.3"
  },
  "orig_nbformat": 4
 },
 "nbformat": 4,
 "nbformat_minor": 2
}
