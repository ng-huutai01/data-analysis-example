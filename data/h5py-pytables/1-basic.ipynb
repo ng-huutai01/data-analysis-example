{
 "cells": [
  {
   "cell_type": "markdown",
   "metadata": {},
   "source": [
    "https://docs.h5py.org/en/stable/quick.html#\n",
    "\n",
    "https://www.pytables.org/cookbook/hints_for_sql_users.html\n",
    "\n",
    "https://www.pytables.org/cookbook/index.html\n"
   ]
  }
 ],
 "metadata": {
  "language_info": {
   "name": "python"
  },
  "orig_nbformat": 4
 },
 "nbformat": 4,
 "nbformat_minor": 2
}
