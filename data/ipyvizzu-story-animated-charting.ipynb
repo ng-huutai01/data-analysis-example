{
 "cells": [
  {
   "cell_type": "markdown",
   "metadata": {},
   "source": [
    "pip install ipyvizzu-story\n"
   ]
  },
  {
   "cell_type": "code",
   "execution_count": 4,
   "metadata": {},
   "outputs": [
    {
     "data": {
      "application/javascript": "if (window.IpyVizzu) { window.IpyVizzu.clearInhibitScroll(element); }"
     },
     "metadata": {},
     "output_type": "display_data"
    },
    {
     "data": {
      "text/html": [
       "\n",
       "<div>\n",
       "    <vizzu-player id=\"2b7edfb\"   controller></vizzu-player>\n",
       "    <script type=\"module\">\n",
       "        import VizzuPlayer from \"https://cdn.jsdelivr.net/npm/vizzu-story@0.4/dist/vizzu-story.min.js\";\n",
       "\n",
       "        const vp = document.getElementById(\"2b7edfb\");\n",
       "        import(vp.vizzuUrl).then(vizzuLoaded => {\n",
       "            const lib = vizzuLoaded.default;\n",
       "            const vizzuPlayerData = {\"data\": {\"series\": [{\"name\": \"Foo\", \"values\": [\"Alice\", \"Bob\", \"Ted\"]}, {\"name\": \"Bar\", \"values\": [15, 32, 12]}, {\"name\": \"Baz\", \"values\": [5, 3, 2]}]}, \"slides\": [[{\"config\": {\"x\": \"Foo\", \"y\": \"Bar\"}}], [{\"config\": {\"color\": \"Foo\", \"x\": \"Baz\", \"geometry\": \"circle\"}}]]};\n",
       "            // story.set_size()\n",
       "            \n",
       "            vp.slides = vizzuPlayerData;\n",
       "            vp.initializing.then(chart => {\n",
       "                // story.set_feature()\n",
       "                \n",
       "                // story.add_event()\n",
       "                \n",
       "            });\n",
       "        });\n",
       "    </script>\n",
       "</div>\n"
      ],
      "text/plain": [
       "<IPython.core.display.HTML object>"
      ]
     },
     "metadata": {},
     "output_type": "display_data"
    }
   ],
   "source": [
    "from ipyvizzu import Data, Config\n",
    "from ipyvizzustory import Story, Slide, Step\n",
    "\n",
    "data = Data()\n",
    "data.add_series(\"Foo\", [\"Alice\", \"Bob\", \"Ted\"])\n",
    "data.add_series(\"Bar\", [15, 32, 12])\n",
    "data.add_series(\"Baz\", [5, 3, 2])\n",
    "\n",
    "story = Story(data=data)\n",
    "\n",
    "slide1 = Slide(\n",
    "    Step(\n",
    "        Config({\"x\": \"Foo\", \"y\": \"Bar\"}),\n",
    "    )\n",
    ")\n",
    "story.add_slide(slide1)\n",
    "\n",
    "slide2 = Slide(\n",
    "    Step(\n",
    "        Config({\"color\": \"Foo\", \"x\": \"Baz\", \"geometry\": \"circle\"}),\n",
    "    )\n",
    ")\n",
    "story.add_slide(slide2)\n",
    "\n",
    "story.play()"
   ]
  }
 ],
 "metadata": {
  "kernelspec": {
   "display_name": ".venv",
   "language": "python",
   "name": "python3"
  },
  "language_info": {
   "codemirror_mode": {
    "name": "ipython",
    "version": 3
   },
   "file_extension": ".py",
   "mimetype": "text/x-python",
   "name": "python",
   "nbconvert_exporter": "python",
   "pygments_lexer": "ipython3",
   "version": "3.11.3"
  },
  "orig_nbformat": 4
 },
 "nbformat": 4,
 "nbformat_minor": 2
}
