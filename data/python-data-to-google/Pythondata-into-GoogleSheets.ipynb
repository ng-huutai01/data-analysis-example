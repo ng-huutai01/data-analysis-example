{
 "cells": [
  {
   "cell_type": "markdown",
   "metadata": {},
   "source": [
    "https://blog.coupler.io/python-to-google-sheets/"
   ]
  },
  {
   "cell_type": "markdown",
   "metadata": {},
   "source": [
    "vẫn còn lỗi, chưa giải quyết\n"
   ]
  },
  {
   "cell_type": "markdown",
   "metadata": {},
   "source": [
    "## __Python Google API client__"
   ]
  },
  {
   "cell_type": "markdown",
   "metadata": {},
   "source": [
    "pip install \n",
    "\n",
    "google-api-python-client==1.7.9\n",
    "\n",
    "google-auth-httplib2==0.0.3\n",
    "\n",
    "google-auth-oauthlib==0.4.0\n",
    "\n",
    "pip install auth"
   ]
  },
  {
   "cell_type": "code",
   "execution_count": 7,
   "metadata": {},
   "outputs": [],
   "source": [
    "from __future__ import print_function\n",
    "from googleapiclient.discovery import build \n",
    "from google.oauth2 import service_account\n",
    "SCOPES = [\n",
    "'https://www.googleapis.com/auth/spreadsheets',\n",
    "'https://www.googleapis.com/auth/drive'\n",
    "]\n",
    "credentials = service_account.Credentials.from_service_account_file('credentials.json', scopes=SCOPES)\n",
    "spreadsheet_service = build('sheets', 'v4', credentials=credentials)\n",
    "drive_service = build('drive', 'v3', credentials=credentials)"
   ]
  },
  {
   "cell_type": "markdown",
   "metadata": {},
   "source": [
    "The code above will handle all authentication to Google Sheets and Google Drive. While the sheets API will be useful for creating and manipulating spreadsheets, the Google Drive API is required for sharing the spreadsheet file with other Google accounts."
   ]
  },
  {
   "cell_type": "markdown",
   "metadata": {},
   "source": [
    "## Python to Google Sheets – create a spreadsheet "
   ]
  },
  {
   "cell_type": "markdown",
   "metadata": {},
   "source": [
    "It will create a blank spreadsheet with the specified title python-google-sheets-demo."
   ]
  },
  {
   "cell_type": "code",
   "execution_count": 9,
   "metadata": {},
   "outputs": [
    {
     "name": "stdout",
     "output_type": "stream",
     "text": [
      "Spreadsheet ID: 1zLfR4cRPKd3nBpSh1qWES-_6RfZyERuKJ4McXDV3t7Y\n"
     ]
    },
    {
     "ename": "HttpError",
     "evalue": "<HttpError 400 when requesting https://www.googleapis.com/drive/v3/files/1zLfR4cRPKd3nBpSh1qWES-_6RfZyERuKJ4McXDV3t7Y/permissions?alt=json returned \"The specified emailAddress is invalid or not applicable for the given permission type.\". Details: \"[{'message': 'The specified emailAddress is invalid or not applicable for the given permission type.', 'domain': 'global', 'reason': 'invalid', 'location': 'permission.emailAddress', 'locationType': 'other'}]\">",
     "output_type": "error",
     "traceback": [
      "\u001b[1;31m---------------------------------------------------------------------------\u001b[0m",
      "\u001b[1;31mHttpError\u001b[0m                                 Traceback (most recent call last)",
      "Cell \u001b[1;32mIn[9], line 19\u001b[0m\n\u001b[0;32m     17\u001b[0m     drive_service\u001b[39m.\u001b[39mpermissions()\u001b[39m.\u001b[39mcreate(fileId\u001b[39m=\u001b[39msheetId, body\u001b[39m=\u001b[39mpermission1)\u001b[39m.\u001b[39mexecute()\n\u001b[0;32m     18\u001b[0m     \u001b[39mreturn\u001b[39;00m sheetId\n\u001b[1;32m---> 19\u001b[0m create()\n",
      "Cell \u001b[1;32mIn[9], line 17\u001b[0m, in \u001b[0;36mcreate\u001b[1;34m()\u001b[0m\n\u001b[0;32m     11\u001b[0m \u001b[39mprint\u001b[39m(\u001b[39m'\u001b[39m\u001b[39mSpreadsheet ID: \u001b[39m\u001b[39m{0}\u001b[39;00m\u001b[39m'\u001b[39m\u001b[39m.\u001b[39mformat(sheetId))\n\u001b[0;32m     12\u001b[0m permission1 \u001b[39m=\u001b[39m {\n\u001b[0;32m     13\u001b[0m \u001b[39m'\u001b[39m\u001b[39mtype\u001b[39m\u001b[39m'\u001b[39m: \u001b[39m'\u001b[39m\u001b[39muser\u001b[39m\u001b[39m'\u001b[39m,\n\u001b[0;32m     14\u001b[0m \u001b[39m'\u001b[39m\u001b[39mrole\u001b[39m\u001b[39m'\u001b[39m: \u001b[39m'\u001b[39m\u001b[39mwriter\u001b[39m\u001b[39m'\u001b[39m,\n\u001b[0;32m     15\u001b[0m \u001b[39m'\u001b[39m\u001b[39memailAddress\u001b[39m\u001b[39m'\u001b[39m: \u001b[39m'\u001b[39m\u001b[39mYOUR EMAIL\u001b[39m\u001b[39m'\u001b[39m\n\u001b[0;32m     16\u001b[0m }\n\u001b[1;32m---> 17\u001b[0m drive_service\u001b[39m.\u001b[39;49mpermissions()\u001b[39m.\u001b[39;49mcreate(fileId\u001b[39m=\u001b[39;49msheetId, body\u001b[39m=\u001b[39;49mpermission1)\u001b[39m.\u001b[39;49mexecute()\n\u001b[0;32m     18\u001b[0m \u001b[39mreturn\u001b[39;00m sheetId\n",
      "File \u001b[1;32md:\\python build app\\.venv\\Lib\\site-packages\\googleapiclient\\_helpers.py:130\u001b[0m, in \u001b[0;36mpositional.<locals>.positional_decorator.<locals>.positional_wrapper\u001b[1;34m(*args, **kwargs)\u001b[0m\n\u001b[0;32m    128\u001b[0m     \u001b[39melif\u001b[39;00m positional_parameters_enforcement \u001b[39m==\u001b[39m POSITIONAL_WARNING:\n\u001b[0;32m    129\u001b[0m         logger\u001b[39m.\u001b[39mwarning(message)\n\u001b[1;32m--> 130\u001b[0m \u001b[39mreturn\u001b[39;00m wrapped(\u001b[39m*\u001b[39;49margs, \u001b[39m*\u001b[39;49m\u001b[39m*\u001b[39;49mkwargs)\n",
      "File \u001b[1;32md:\\python build app\\.venv\\Lib\\site-packages\\googleapiclient\\http.py:938\u001b[0m, in \u001b[0;36mHttpRequest.execute\u001b[1;34m(self, http, num_retries)\u001b[0m\n\u001b[0;32m    936\u001b[0m     callback(resp)\n\u001b[0;32m    937\u001b[0m \u001b[39mif\u001b[39;00m resp\u001b[39m.\u001b[39mstatus \u001b[39m>\u001b[39m\u001b[39m=\u001b[39m \u001b[39m300\u001b[39m:\n\u001b[1;32m--> 938\u001b[0m     \u001b[39mraise\u001b[39;00m HttpError(resp, content, uri\u001b[39m=\u001b[39m\u001b[39mself\u001b[39m\u001b[39m.\u001b[39muri)\n\u001b[0;32m    939\u001b[0m \u001b[39mreturn\u001b[39;00m \u001b[39mself\u001b[39m\u001b[39m.\u001b[39mpostproc(resp, content)\n",
      "\u001b[1;31mHttpError\u001b[0m: <HttpError 400 when requesting https://www.googleapis.com/drive/v3/files/1zLfR4cRPKd3nBpSh1qWES-_6RfZyERuKJ4McXDV3t7Y/permissions?alt=json returned \"The specified emailAddress is invalid or not applicable for the given permission type.\". Details: \"[{'message': 'The specified emailAddress is invalid or not applicable for the given permission type.', 'domain': 'global', 'reason': 'invalid', 'location': 'permission.emailAddress', 'locationType': 'other'}]\">"
     ]
    }
   ],
   "source": [
    "from __future__ import print_function\n",
    "def create():\n",
    "    spreadsheet_details = {\n",
    "    'properties': {\n",
    "        'title': 'Python-google-sheets-demo'\n",
    "        }\n",
    "    }\n",
    "    sheet = spreadsheet_service.spreadsheets().create(body=spreadsheet_details,\n",
    "                                    fields='spreadsheetId').execute()\n",
    "    sheetId = sheet.get('spreadsheetId')\n",
    "    print('Spreadsheet ID: {0}'.format(sheetId))\n",
    "    permission1 = {\n",
    "    'type': 'user',\n",
    "    'role': 'writer',\n",
    "    'emailAddress': 'YOUR EMAIL'\n",
    "    }\n",
    "    drive_service.permissions().create(fileId=sheetId, body=permission1).execute()\n",
    "    return sheetId\n",
    "create()"
   ]
  },
  {
   "cell_type": "markdown",
   "metadata": {},
   "source": [
    "You have just created your first Google Sheets file with Python using a service account and shared it with your Google account.\n",
    "\n",
    "The service account is different from your own Google account, so when a spreadsheet is created by the service account, the file is created in the Google Drive of the service account and cannot be seen in your own Google Drive. The Drive’s permission API has been used to grant access to your Google account or any other account that you want to view the sheet wit"
   ]
  },
  {
   "cell_type": "markdown",
   "metadata": {},
   "source": [
    "## How to write to Google Sheets using Python\n"
   ]
  },
  {
   "cell_type": "code",
   "execution_count": 10,
   "metadata": {},
   "outputs": [
    {
     "name": "stdout",
     "output_type": "stream",
     "text": [
      "Spreadsheet ID: 1mmgAlsEu4KqZveyZGAxUQ0CGsKeQ7OD0lAbOCIOpkiU\n",
      "1 rows retrieved.\n",
      "[['', 'Date', 'Description', 'Category', 'Amount', 'Account', 'Account #', 'Institution']] rows retrieved.\n",
      "8 cells updated.\n"
     ]
    }
   ],
   "source": [
    "from __future__ import print_function\n",
    "def create():\n",
    "    spreadsheet_details = {\n",
    "    'properties': {\n",
    "        'title': 'Python-google-sheets-demo'\n",
    "        }\n",
    "    }\n",
    "    sheet = spreadsheet_service.spreadsheets().create(body=spreadsheet_details,\n",
    "                                    fields='spreadsheetId').execute()\n",
    "    sheetId = sheet.get('spreadsheetId')\n",
    "    print('Spreadsheet ID: {0}'.format(sheetId))\n",
    "    permission1 = {\n",
    "    'type': 'user',\n",
    "    'role': 'writer',\n",
    "    'emailAddress': 'godwinekuma@gmail.com'\n",
    "    }\n",
    "    drive_service.permissions().create(fileId=sheetId, body=permission1).execute()\n",
    "    return sheetId\n",
    "def read_range():\n",
    "    range_name = 'Sheet1!A1:H1'\n",
    "    spreadsheet_id = '1JCEHwIa4ZzwAiKGmAnWGfbjeVCH_tWZF6MkIU0zICwM'\n",
    "    result = spreadsheet_service.spreadsheets().values().get(\n",
    "    spreadsheetId=spreadsheet_id, range=range_name).execute()\n",
    "    rows = result.get('values', [])\n",
    "    print('{0} rows retrieved.'.format(len(rows)))\n",
    "    print('{0} rows retrieved.'.format(rows))\n",
    "    return rows\n",
    "def write_range():\n",
    "    spreadsheet_id = create()\n",
    "    range_name = 'Sheet1!A1:H1'\n",
    "    values = read_range()\n",
    "    value_input_option = 'USER_ENTERED'\n",
    "    body = {\n",
    "        'values': values\n",
    "    }\n",
    "    result = spreadsheet_service.spreadsheets().values().update(\n",
    "        spreadsheetId=spreadsheet_id, range=range_name,\n",
    "        valueInputOption=value_input_option, body=body).execute()\n",
    "    print('{0} cells updated.'.format(result.get('updatedCells')))\n",
    "write_range()"
   ]
  },
  {
   "cell_type": "markdown",
   "metadata": {},
   "source": [
    "## Export multiple ranges to Google Sheets with Python\n"
   ]
  },
  {
   "cell_type": "code",
   "execution_count": 11,
   "metadata": {},
   "outputs": [
    {
     "name": "stdout",
     "output_type": "stream",
     "text": [
      "Spreadsheet ID: 129lrDbefOuOUQanRipjEW4ulftHQZxDbUIpFbbYgBAg\n",
      "1 rows retrieved.\n",
      "[['', 'Date', 'Description', 'Category', 'Amount', 'Account', 'Account #', 'Institution']] rows retrieved.\n",
      "8 cells updated.\n",
      "2 ranges retrieved.\n",
      "328 cells updated.\n"
     ]
    }
   ],
   "source": [
    "from __future__ import print_function\n",
    "spreadsheet_id = ''\n",
    "def create():\n",
    "    spreadsheet_details = {\n",
    "    'properties': {\n",
    "        'title': 'Python-google-sheets-demo'\n",
    "        }\n",
    "    }\n",
    "    sheet = spreadsheet_service.spreadsheets().create(body=spreadsheet_details,\n",
    "                                    fields='spreadsheetId').execute()\n",
    "    global spreadsheet_id\n",
    "    spreadsheet_id = sheet.get('spreadsheetId')\n",
    "    print('Spreadsheet ID: {0}'.format(spreadsheet_id))\n",
    "    permission1 = {\n",
    "    'type': 'user',\n",
    "    'role': 'writer',\n",
    "    'emailAddress': 'godwinekuma@gmail.com'\n",
    "    }\n",
    "    drive_service.permissions().create(fileId=spreadsheet_id, body=permission1).execute()\n",
    "    return spreadsheet_id\n",
    "def read_range():\n",
    "    range_name = 'Sheet1!A1:H1'\n",
    "    sheetId = '1JCEHwIa4ZzwAiKGmAnWGfbjeVCH_tWZF6MkIU0zICwM'\n",
    "    result = spreadsheet_service.spreadsheets().values().get(\n",
    "    spreadsheetId=sheetId, range=range_name).execute()\n",
    "    rows = result.get('values', [])\n",
    "    print('{0} rows retrieved.'.format(len(rows)))\n",
    "    print('{0} rows retrieved.'.format(rows))\n",
    "    return rows\n",
    "def write_range():\n",
    "    create()\n",
    "    range_name = 'Sheet1!A1:H1'\n",
    "    values = read_range()\n",
    "    value_input_option = 'USER_ENTERED'\n",
    "    body = {\n",
    "        'values': values\n",
    "    }\n",
    "    result = spreadsheet_service.spreadsheets().values().update(\n",
    "        spreadsheetId=spreadsheet_id, range=range_name,\n",
    "        valueInputOption=value_input_option, body=body).execute()\n",
    "    print('{0} cells updated.'.format(result.get('updatedCells')))\n",
    "def read_ranges():\n",
    "    write_range()\n",
    "    sheetId = '1JCEHwIa4ZzwAiKGmAnWGfbjeVCH_tWZF6MkIU0zICwM'\n",
    "    range_names = ['Sheet1!A2:H21', 'Sheet1!A42:H62']\n",
    "    result = spreadsheet_service.spreadsheets().values().batchGet(\n",
    "     spreadsheetId=sheetId, ranges=range_names).execute()\n",
    "    ranges = result.get('valueRanges', [])\n",
    "    print('{0} ranges retrieved.'.format(len(ranges)))\n",
    "    return ranges\n",
    "def write_ranges():\n",
    "    values = read_ranges()\n",
    "    data = [\n",
    "        {\n",
    "            'range': 'Sheet1!A2:H21',\n",
    "            'values': values[0]['values']\n",
    "        },\n",
    "       {\n",
    "            'range': 'Sheet1!A22:H42',\n",
    "            'values': values[1]['values']\n",
    "        }\n",
    "    ]\n",
    "    body = {\n",
    "        'valueInputOption': 'USER_ENTERED',\n",
    "        'data': data\n",
    "    }\n",
    "    result = spreadsheet_service.spreadsheets().values().batchUpdate(\n",
    "        spreadsheetId=spreadsheet_id, body=body).execute()\n",
    "    print('{0} cells updated.'.format(result.get('totalUpdatedCells')))\n",
    "write_ranges()\n"
   ]
  },
  {
   "cell_type": "markdown",
   "metadata": {},
   "source": [
    "## Append list to Google Sheets with Python\n"
   ]
  },
  {
   "cell_type": "code",
   "execution_count": 13,
   "metadata": {},
   "outputs": [
    {
     "name": "stdout",
     "output_type": "stream",
     "text": [
      "Spreadsheet ID: 1o32zOHphhTdpC5Cp4NMZuHMduYAMGKnVsHBq7IxAdY8\n",
      "1 rows retrieved.\n",
      "[['', 'Date', 'Description', 'Category', 'Amount', 'Account', 'Account #', 'Institution']] rows retrieved.\n",
      "8 cells updated.\n",
      "2 ranges retrieved.\n"
     ]
    },
    {
     "ename": "TypeError",
     "evalue": "Missing required parameter \"range\"",
     "output_type": "error",
     "traceback": [
      "\u001b[1;31m---------------------------------------------------------------------------\u001b[0m",
      "\u001b[1;31mTypeError\u001b[0m                                 Traceback (most recent call last)",
      "Cell \u001b[1;32mIn[13], line 12\u001b[0m\n\u001b[0;32m     10\u001b[0m     result \u001b[39m=\u001b[39m spreadsheet_service\u001b[39m.\u001b[39mspreadsheets()\u001b[39m.\u001b[39mvalues()\u001b[39m.\u001b[39mappend(spreadsheetId\u001b[39m=\u001b[39mspreadsheet_id, body\u001b[39m=\u001b[39mbody)\u001b[39m.\u001b[39mexecute()\n\u001b[0;32m     11\u001b[0m     \u001b[39mprint\u001b[39m(\u001b[39m'\u001b[39m\u001b[39m{0}\u001b[39;00m\u001b[39m cells updated.\u001b[39m\u001b[39m'\u001b[39m\u001b[39m.\u001b[39mformat(result\u001b[39m.\u001b[39mget(\u001b[39m'\u001b[39m\u001b[39mtotalUpdatedCells\u001b[39m\u001b[39m'\u001b[39m)))\n\u001b[1;32m---> 12\u001b[0m append()\n",
      "Cell \u001b[1;32mIn[13], line 10\u001b[0m, in \u001b[0;36mappend\u001b[1;34m()\u001b[0m\n\u001b[0;32m      3\u001b[0m data \u001b[39m=\u001b[39m [\n\u001b[0;32m      4\u001b[0m      values[\u001b[39m0\u001b[39m][\u001b[39m'\u001b[39m\u001b[39mvalues\u001b[39m\u001b[39m'\u001b[39m], values[\u001b[39m1\u001b[39m][\u001b[39m'\u001b[39m\u001b[39mvalues\u001b[39m\u001b[39m'\u001b[39m]\n\u001b[0;32m      5\u001b[0m ]\n\u001b[0;32m      6\u001b[0m body \u001b[39m=\u001b[39m {\n\u001b[0;32m      7\u001b[0m     \u001b[39m'\u001b[39m\u001b[39mvalueInputOption\u001b[39m\u001b[39m'\u001b[39m: \u001b[39m'\u001b[39m\u001b[39mUSER_ENTERED\u001b[39m\u001b[39m'\u001b[39m,\n\u001b[0;32m      8\u001b[0m     \u001b[39m'\u001b[39m\u001b[39mdata\u001b[39m\u001b[39m'\u001b[39m: data\n\u001b[0;32m      9\u001b[0m }\n\u001b[1;32m---> 10\u001b[0m result \u001b[39m=\u001b[39m spreadsheet_service\u001b[39m.\u001b[39;49mspreadsheets()\u001b[39m.\u001b[39;49mvalues()\u001b[39m.\u001b[39;49mappend(spreadsheetId\u001b[39m=\u001b[39;49mspreadsheet_id, body\u001b[39m=\u001b[39;49mbody)\u001b[39m.\u001b[39mexecute()\n\u001b[0;32m     11\u001b[0m \u001b[39mprint\u001b[39m(\u001b[39m'\u001b[39m\u001b[39m{0}\u001b[39;00m\u001b[39m cells updated.\u001b[39m\u001b[39m'\u001b[39m\u001b[39m.\u001b[39mformat(result\u001b[39m.\u001b[39mget(\u001b[39m'\u001b[39m\u001b[39mtotalUpdatedCells\u001b[39m\u001b[39m'\u001b[39m)))\n",
      "File \u001b[1;32md:\\python build app\\.venv\\Lib\\site-packages\\googleapiclient\\discovery.py:1063\u001b[0m, in \u001b[0;36mcreateMethod.<locals>.method\u001b[1;34m(self, **kwargs)\u001b[0m\n\u001b[0;32m   1057\u001b[0m     \u001b[39mif\u001b[39;00m name \u001b[39mnot\u001b[39;00m \u001b[39min\u001b[39;00m kwargs:\n\u001b[0;32m   1058\u001b[0m         \u001b[39m# temporary workaround for non-paging methods incorrectly requiring\u001b[39;00m\n\u001b[0;32m   1059\u001b[0m         \u001b[39m# page token parameter (cf. drive.changes.watch vs. drive.changes.list)\u001b[39;00m\n\u001b[0;32m   1060\u001b[0m         \u001b[39mif\u001b[39;00m name \u001b[39mnot\u001b[39;00m \u001b[39min\u001b[39;00m _PAGE_TOKEN_NAMES \u001b[39mor\u001b[39;00m _findPageTokenName(\n\u001b[0;32m   1061\u001b[0m             _methodProperties(methodDesc, schema, \u001b[39m\"\u001b[39m\u001b[39mresponse\u001b[39m\u001b[39m\"\u001b[39m)\n\u001b[0;32m   1062\u001b[0m         ):\n\u001b[1;32m-> 1063\u001b[0m             \u001b[39mraise\u001b[39;00m \u001b[39mTypeError\u001b[39;00m(\u001b[39m'\u001b[39m\u001b[39mMissing required parameter \u001b[39m\u001b[39m\"\u001b[39m\u001b[39m%s\u001b[39;00m\u001b[39m\"\u001b[39m\u001b[39m'\u001b[39m \u001b[39m%\u001b[39m name)\n\u001b[0;32m   1065\u001b[0m \u001b[39mfor\u001b[39;00m name, regex \u001b[39min\u001b[39;00m parameters\u001b[39m.\u001b[39mpattern_params\u001b[39m.\u001b[39mitems():\n\u001b[0;32m   1066\u001b[0m     \u001b[39mif\u001b[39;00m name \u001b[39min\u001b[39;00m kwargs:\n",
      "\u001b[1;31mTypeError\u001b[0m: Missing required parameter \"range\""
     ]
    }
   ],
   "source": [
    "def append():\n",
    "    values = read_ranges()\n",
    "    data = [\n",
    "         values[0]['values'], values[1]['values']\n",
    "    ]\n",
    "    body = {\n",
    "        'valueInputOption': 'USER_ENTERED',\n",
    "        'data': data\n",
    "    }\n",
    "    result = spreadsheet_service.spreadsheets().values().append(spreadsheetId=spreadsheet_id, body=body).execute()\n",
    "    print('{0} cells updated.'.format(result.get('totalUpdatedCells')))\n",
    "append()"
   ]
  },
  {
   "cell_type": "markdown",
   "metadata": {},
   "source": [
    "## Python script to export Excel to Google Sheets\n"
   ]
  },
  {
   "cell_type": "code",
   "execution_count": null,
   "metadata": {},
   "outputs": [],
   "source": [
    "def export_excel_to_sheets():\n",
    "    spreadsheet_id = '1JCEHwIa4ZzwAiKGmAnWGfbjeVCH_tWZF6MkIU0zICwM'\n",
    "    excel_data_df = pandas.read_excel('sample-excel.xlsx', sheet_name='Sheet1', skiprows = range(1, 62), engine='openpyxl')\n",
    "    excel_data_df['Date'] = excel_data_df['Date'].astype(str)\n",
    "    excel_data_df['Unnamed: 0'] = ''\n",
    "\n",
    "\n",
    "\n",
    "    body = {\n",
    "        'values': excel_data_df.values.tolist()\n",
    "    }\n",
    "    \n",
    "  \n",
    "    spreadsheet_service.spreadsheets().values().append(\n",
    "        spreadsheetId=spreadsheet_id, body=body, valueInputOption='USER_ENTERED', range='Sheet1').execute()\n",
    "    print('{0} cells appended.'.format(result \\\n",
    "                                       .get('updates') \\\n",
    "                                       .get('updatedCells')))\n",
    "\n",
    "\n",
    "export_excel_to_sheets()"
   ]
  },
  {
   "cell_type": "markdown",
   "metadata": {},
   "source": [
    "## Push Pandas dataframe to Google Sheets with Python\n"
   ]
  },
  {
   "cell_type": "code",
   "execution_count": null,
   "metadata": {},
   "outputs": [],
   "source": [
    "def export_pandas_df_to_sheets():\n",
    "    spreadsheet_id = '1iKZHRN4MnbyUeeSO5EWvTLmSeIOzXfwx1s0PSVw27lc'\n",
    "    \n",
    "    df = pd.DataFrame(\n",
    "        [[21, 72, 67],\n",
    "        [23, 78, 69],\n",
    "        [32, 74, 56],\n",
    "        [52, 54, 76]],\n",
    "        columns=['a', 'b', 'c'])\n",
    "\n",
    "\n",
    "\n",
    "    body = {\n",
    "        'values': df.values.tolist()\n",
    "    }\n",
    "    \n",
    "  \n",
    "    result = spreadsheet_service.spreadsheets().values().append(\n",
    "        spreadsheetId=spreadsheet_id, body=body, valueInputOption='USER_ENTERED', range='Sheet1').execute()\n",
    "    print('{0} cells appended.'.format(result \\\n",
    "                                       .get('updates') \\\n",
    "                                       .get('updatedCells')))"
   ]
  }
 ],
 "metadata": {
  "kernelspec": {
   "display_name": ".venv",
   "language": "python",
   "name": "python3"
  },
  "language_info": {
   "codemirror_mode": {
    "name": "ipython",
    "version": 3
   },
   "file_extension": ".py",
   "mimetype": "text/x-python",
   "name": "python",
   "nbconvert_exporter": "python",
   "pygments_lexer": "ipython3",
   "version": "3.11.3"
  },
  "orig_nbformat": 4
 },
 "nbformat": 4,
 "nbformat_minor": 2
}
