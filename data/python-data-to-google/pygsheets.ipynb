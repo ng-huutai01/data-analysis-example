{
 "cells": [
  {
   "cell_type": "markdown",
   "metadata": {},
   "source": [
    "pip install pygsheets\n",
    "\n",
    "__Authorizing pygsheets:__\n",
    "\n",
    "    1/ OAuth Credentials\n",
    "\n",
    "    2/ Service Account\n",
    "\n",
    "    3/ Environment Variables\n",
    "\n",
    "    4/ Custom Credentials Objects\n",
    "\n",
    "https://pygsheets.readthedocs.io/en/latest/reference.html#authorization\n"
   ]
  }
 ],
 "metadata": {
  "language_info": {
   "name": "python"
  },
  "orig_nbformat": 4
 },
 "nbformat": 4,
 "nbformat_minor": 2
}
