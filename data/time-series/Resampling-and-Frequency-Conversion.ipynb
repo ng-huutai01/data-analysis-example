{
 "cells": [
  {
   "cell_type": "markdown",
   "metadata": {},
   "source": [
    "Resampling refers to the process of converting a time series from one frequency to\n",
    "another. Aggregating higher frequency data to lower frequency is called downsam‐\n",
    "pling, while converting lower frequency to higher frequency is called upsampling. Not\n",
    "all resampling falls into either of these categories; for example, converting W-WED\n",
    "(weekly on Wednesday) to W-FRI is neither upsampling nor downsampling.\n",
    "\n",
    "pandas objects are equipped with a resample method, which is the workhorse func‐\n",
    "tion for all frequency conversion. resample has a similar API to groupby; you call\n",
    "resample to group the data, then call an aggregation function:"
   ]
  },
  {
   "cell_type": "code",
   "execution_count": 1,
   "metadata": {},
   "outputs": [],
   "source": [
    "import pandas as pd\n",
    "import numpy as np\n"
   ]
  },
  {
   "cell_type": "code",
   "execution_count": 2,
   "metadata": {},
   "outputs": [
    {
     "data": {
      "text/plain": [
       "2000-01-01   -0.221094\n",
       "2000-01-02    2.336370\n",
       "2000-01-03    0.747098\n",
       "2000-01-04    1.018634\n",
       "2000-01-05   -0.141017\n",
       "                ...   \n",
       "2000-04-05    0.417651\n",
       "2000-04-06    0.791793\n",
       "2000-04-07    0.942789\n",
       "2000-04-08    0.872599\n",
       "2000-04-09    0.506693\n",
       "Freq: D, Length: 100, dtype: float64"
      ]
     },
     "execution_count": 2,
     "metadata": {},
     "output_type": "execute_result"
    }
   ],
   "source": [
    "rng = pd.date_range('2000-01-01', periods=100, freq='D')\n",
    "ts = pd.Series(np.random.randn(len(rng)), index=rng)\n",
    "ts"
   ]
  },
  {
   "cell_type": "code",
   "execution_count": 3,
   "metadata": {},
   "outputs": [
    {
     "data": {
      "text/plain": [
       "2000-01-31    0.123695\n",
       "2000-02-29   -0.150505\n",
       "2000-03-31   -0.042518\n",
       "2000-04-30    0.683523\n",
       "Freq: M, dtype: float64"
      ]
     },
     "execution_count": 3,
     "metadata": {},
     "output_type": "execute_result"
    }
   ],
   "source": [
    "ts.resample('M').mean()"
   ]
  },
  {
   "cell_type": "code",
   "execution_count": 4,
   "metadata": {},
   "outputs": [
    {
     "data": {
      "text/plain": [
       "2000-01    0.123695\n",
       "2000-02   -0.150505\n",
       "2000-03   -0.042518\n",
       "2000-04    0.683523\n",
       "Freq: M, dtype: float64"
      ]
     },
     "execution_count": 4,
     "metadata": {},
     "output_type": "execute_result"
    }
   ],
   "source": [
    "ts.resample('M', kind='period').mean()"
   ]
  },
  {
   "cell_type": "markdown",
   "metadata": {},
   "source": [
    "resample is a flexible and high-performance method that can be used to process very\n",
    "large time series. The examples in the following sections illustrate its semantics and\n",
    "use. Table 11-5 summarizes some of its options."
   ]
  },
  {
   "cell_type": "markdown",
   "metadata": {},
   "source": [
    "Table 11-5. Resample method arguments\n",
    "\n",
    "Argument            Description\n",
    "\n",
    "freq                String or DateOffset indicating desired resampled \n",
    "                    frequency (e.g., ‘M', ’5min', or Second(15))\n",
    "\n",
    "axis                Axis to resample on; default axis=0\n",
    "\n",
    "fill_method         How to interpolate when upsampling, as in 'ffill' or 'bfill'; \n",
    "                    by default does no interpolation closed In downsampling, which \n",
    "                    end of each interval is closed (inclusive), 'right' or 'left'\n",
    "                    label In downsampling, how to label the aggregated result, \n",
    "                    with the 'right' or 'left' bin edge (e.g., the                    \n",
    "                    9:30 to 9:35 five-minute interval could be labeled 9:30 or 9:35)\n",
    "\n",
    "loffset             Time adjustment to the bin labels, such as '-1s' / Second(-1) \n",
    "                    to shift the aggregate labels one second earlier\n",
    "\n",
    "limit               When forward or backward filling, the maximum number of periods to fill\n",
    "\n",
    "kind                Aggregate to periods ('period') or timestamps ('timestamp'); \n",
    "                    defaults to the type of index the time series has\n",
    "\n",
    "convention          When resampling periods, the convention ('start' or 'end') \n",
    "                    for converting the low-frequency period to high frequency; defaults to 'end'"
   ]
  },
  {
   "cell_type": "markdown",
   "metadata": {},
   "source": [
    "### Downsampling"
   ]
  },
  {
   "cell_type": "markdown",
   "metadata": {},
   "source": [
    "Aggregating data to a regular, lower frequency is a pretty normal time series task. The\n",
    "data you’re aggregating doesn’t need to be fixed frequently; the desired frequency\n",
    "defines bin edges that are used to slice the time series into pieces to aggregate. For\n",
    "example, to convert to monthly, 'M' or 'BM', you need to chop up the data into one-\n",
    "month intervals. Each interval is said to be half-open; a data point can only belong to\n",
    "one interval, and the union of the intervals must make up the whole time frame.\n",
    "There are a couple things to think about when using resample to downsample data:\n",
    "\n",
    "• Which side of each interval is closed\n",
    "\n",
    "• How to label each aggregated bin, either with the start of the interval or the end"
   ]
  },
  {
   "cell_type": "code",
   "execution_count": 5,
   "metadata": {},
   "outputs": [
    {
     "data": {
      "text/plain": [
       "2000-01-01 00:00:00     0\n",
       "2000-01-01 00:01:00     1\n",
       "2000-01-01 00:02:00     2\n",
       "2000-01-01 00:03:00     3\n",
       "2000-01-01 00:04:00     4\n",
       "2000-01-01 00:05:00     5\n",
       "2000-01-01 00:06:00     6\n",
       "2000-01-01 00:07:00     7\n",
       "2000-01-01 00:08:00     8\n",
       "2000-01-01 00:09:00     9\n",
       "2000-01-01 00:10:00    10\n",
       "2000-01-01 00:11:00    11\n",
       "Freq: T, dtype: int32"
      ]
     },
     "execution_count": 5,
     "metadata": {},
     "output_type": "execute_result"
    }
   ],
   "source": [
    "rng = pd.date_range('2000-01-01', periods=12, freq='T')\n",
    "ts = pd.Series(np.arange(12), index=rng)\n",
    "ts"
   ]
  },
  {
   "cell_type": "code",
   "execution_count": 6,
   "metadata": {},
   "outputs": [
    {
     "data": {
      "text/plain": [
       "1999-12-31 23:55:00     0\n",
       "2000-01-01 00:00:00    15\n",
       "2000-01-01 00:05:00    40\n",
       "2000-01-01 00:10:00    11\n",
       "Freq: 5T, dtype: int32"
      ]
     },
     "execution_count": 6,
     "metadata": {},
     "output_type": "execute_result"
    }
   ],
   "source": [
    "# Suppose you wanted to aggregate this data into five-minute chunks or bars by taking\n",
    "# the sum of each group:\n",
    "ts.resample('5min', closed='right').sum()"
   ]
  },
  {
   "cell_type": "markdown",
   "metadata": {},
   "source": [
    "The frequency you pass defines bin edges in five-minute increments. By default,\n",
    "the left bin edge is inclusive, so the 00:00 value is included in the 00:00 to 00:05\n",
    "interval.Passing closed='right' changes the interval to be closed on the right:\n",
    "\n",
    "The choice of the default values for closed and label might seem a bit odd to some users. In practice the\n",
    "choice is somewhat arbitrary; for some target frequencies, closed='left' is preferable, while for others\n",
    "closed='right' makes more sense. The important thing is that you keep in mind exactly how you are seg‐\n",
    "menting the data."
   ]
  },
  {
   "cell_type": "code",
   "execution_count": 7,
   "metadata": {},
   "outputs": [
    {
     "data": {
      "text/plain": [
       "1999-12-31 23:55:00     0\n",
       "2000-01-01 00:00:00    15\n",
       "2000-01-01 00:05:00    40\n",
       "2000-01-01 00:10:00    11\n",
       "Freq: 5T, dtype: int32"
      ]
     },
     "execution_count": 7,
     "metadata": {},
     "output_type": "execute_result"
    }
   ],
   "source": [
    "ts.resample('5min', closed='right').sum()"
   ]
  },
  {
   "cell_type": "markdown",
   "metadata": {},
   "source": [
    "The resulting time series is labeled by the timestamps from the left side of each bin.\n",
    "By passing label='right' you can label them with the right bin edge:"
   ]
  },
  {
   "cell_type": "code",
   "execution_count": 8,
   "metadata": {},
   "outputs": [
    {
     "data": {
      "text/plain": [
       "2000-01-01 00:00:00     0\n",
       "2000-01-01 00:05:00    15\n",
       "2000-01-01 00:10:00    40\n",
       "2000-01-01 00:15:00    11\n",
       "Freq: 5T, dtype: int32"
      ]
     },
     "execution_count": 8,
     "metadata": {},
     "output_type": "execute_result"
    }
   ],
   "source": [
    "ts.resample('5min', closed='right', label='right').sum()"
   ]
  },
  {
   "cell_type": "markdown",
   "metadata": {},
   "source": [
    "Lastly, you might want to shift the result index by some amount, say subtracting one\n",
    "second from the right edge to make it more clear which interval the timestamp refers\n",
    "to. To do this, pass a string or date offset to loffset:"
   ]
  },
  {
   "cell_type": "code",
   "execution_count": 9,
   "metadata": {},
   "outputs": [
    {
     "ename": "TypeError",
     "evalue": "Series.resample() got an unexpected keyword argument 'loffset'",
     "output_type": "error",
     "traceback": [
      "\u001b[1;31m---------------------------------------------------------------------------\u001b[0m",
      "\u001b[1;31mTypeError\u001b[0m                                 Traceback (most recent call last)",
      "Cell \u001b[1;32mIn[9], line 1\u001b[0m\n\u001b[1;32m----> 1\u001b[0m ts\u001b[39m.\u001b[39;49mresample(\u001b[39m'\u001b[39;49m\u001b[39m5min\u001b[39;49m\u001b[39m'\u001b[39;49m, closed\u001b[39m=\u001b[39;49m\u001b[39m'\u001b[39;49m\u001b[39mright\u001b[39;49m\u001b[39m'\u001b[39;49m,label\u001b[39m=\u001b[39;49m\u001b[39m'\u001b[39;49m\u001b[39mright\u001b[39;49m\u001b[39m'\u001b[39;49m, loffset\u001b[39m=\u001b[39;49m\u001b[39m'\u001b[39;49m\u001b[39m-1s\u001b[39;49m\u001b[39m'\u001b[39;49m)\u001b[39m.\u001b[39msum()\n",
      "\u001b[1;31mTypeError\u001b[0m: Series.resample() got an unexpected keyword argument 'loffset'"
     ]
    }
   ],
   "source": [
    "ts.resample('5min', closed='right',label='right', loffset='-1s').sum()\n",
    "\n",
    "# You also could have accomplished the effect of loffset by calling the shift method\n",
    "# on the result without the loffset."
   ]
  },
  {
   "cell_type": "markdown",
   "metadata": {},
   "source": [
    "__Open-High-Low-Close (OHLC) resampling__"
   ]
  },
  {
   "cell_type": "markdown",
   "metadata": {},
   "source": [
    "In finance, a popular way to aggregate a time series is to compute four values for each\n",
    "bucket: the first (open), last (close), maximum (high), and minimal (low) values. By\n",
    "using the ohlc aggregate function you will obtain a DataFrame having columns con‐\n",
    "taining these four aggregates, which are efficiently computed in a single sweep of the\n",
    "data:"
   ]
  },
  {
   "cell_type": "code",
   "execution_count": 10,
   "metadata": {},
   "outputs": [
    {
     "data": {
      "text/html": [
       "<div>\n",
       "<style scoped>\n",
       "    .dataframe tbody tr th:only-of-type {\n",
       "        vertical-align: middle;\n",
       "    }\n",
       "\n",
       "    .dataframe tbody tr th {\n",
       "        vertical-align: top;\n",
       "    }\n",
       "\n",
       "    .dataframe thead th {\n",
       "        text-align: right;\n",
       "    }\n",
       "</style>\n",
       "<table border=\"1\" class=\"dataframe\">\n",
       "  <thead>\n",
       "    <tr style=\"text-align: right;\">\n",
       "      <th></th>\n",
       "      <th>open</th>\n",
       "      <th>high</th>\n",
       "      <th>low</th>\n",
       "      <th>close</th>\n",
       "    </tr>\n",
       "  </thead>\n",
       "  <tbody>\n",
       "    <tr>\n",
       "      <th>2000-01-01 00:00:00</th>\n",
       "      <td>0</td>\n",
       "      <td>4</td>\n",
       "      <td>0</td>\n",
       "      <td>4</td>\n",
       "    </tr>\n",
       "    <tr>\n",
       "      <th>2000-01-01 00:05:00</th>\n",
       "      <td>5</td>\n",
       "      <td>9</td>\n",
       "      <td>5</td>\n",
       "      <td>9</td>\n",
       "    </tr>\n",
       "    <tr>\n",
       "      <th>2000-01-01 00:10:00</th>\n",
       "      <td>10</td>\n",
       "      <td>11</td>\n",
       "      <td>10</td>\n",
       "      <td>11</td>\n",
       "    </tr>\n",
       "  </tbody>\n",
       "</table>\n",
       "</div>"
      ],
      "text/plain": [
       "                     open  high  low  close\n",
       "2000-01-01 00:00:00     0     4    0      4\n",
       "2000-01-01 00:05:00     5     9    5      9\n",
       "2000-01-01 00:10:00    10    11   10     11"
      ]
     },
     "execution_count": 10,
     "metadata": {},
     "output_type": "execute_result"
    }
   ],
   "source": [
    "ts.resample('5min').ohlc()"
   ]
  },
  {
   "cell_type": "markdown",
   "metadata": {},
   "source": [
    "### Upsampling and Interpolation"
   ]
  },
  {
   "cell_type": "markdown",
   "metadata": {},
   "source": [
    "When converting from a low frequency to a higher frequency, no aggregation is\n",
    "needed. Let’s consider a DataFrame with some weekly data:"
   ]
  },
  {
   "cell_type": "code",
   "execution_count": 11,
   "metadata": {},
   "outputs": [
    {
     "data": {
      "text/html": [
       "<div>\n",
       "<style scoped>\n",
       "    .dataframe tbody tr th:only-of-type {\n",
       "        vertical-align: middle;\n",
       "    }\n",
       "\n",
       "    .dataframe tbody tr th {\n",
       "        vertical-align: top;\n",
       "    }\n",
       "\n",
       "    .dataframe thead th {\n",
       "        text-align: right;\n",
       "    }\n",
       "</style>\n",
       "<table border=\"1\" class=\"dataframe\">\n",
       "  <thead>\n",
       "    <tr style=\"text-align: right;\">\n",
       "      <th></th>\n",
       "      <th>Colorado</th>\n",
       "      <th>Texas</th>\n",
       "      <th>New York</th>\n",
       "      <th>Ohio</th>\n",
       "    </tr>\n",
       "  </thead>\n",
       "  <tbody>\n",
       "    <tr>\n",
       "      <th>2000-01-05</th>\n",
       "      <td>-2.351594</td>\n",
       "      <td>-0.315756</td>\n",
       "      <td>0.600572</td>\n",
       "      <td>-0.880947</td>\n",
       "    </tr>\n",
       "    <tr>\n",
       "      <th>2000-01-12</th>\n",
       "      <td>-0.203121</td>\n",
       "      <td>0.916661</td>\n",
       "      <td>-0.704407</td>\n",
       "      <td>0.109152</td>\n",
       "    </tr>\n",
       "  </tbody>\n",
       "</table>\n",
       "</div>"
      ],
      "text/plain": [
       "            Colorado     Texas  New York      Ohio\n",
       "2000-01-05 -2.351594 -0.315756  0.600572 -0.880947\n",
       "2000-01-12 -0.203121  0.916661 -0.704407  0.109152"
      ]
     },
     "execution_count": 11,
     "metadata": {},
     "output_type": "execute_result"
    }
   ],
   "source": [
    "frame = pd.DataFrame(np.random.randn(2, 4),\n",
    "                     index=pd.date_range('1/1/2000', periods=2,\n",
    "                                         freq='W-WED'),\n",
    "                                         columns=['Colorado', 'Texas', 'New York', 'Ohio'])\n",
    "frame"
   ]
  },
  {
   "cell_type": "markdown",
   "metadata": {},
   "source": [
    "When you are using an aggregation function with this data, there is only one value\n",
    "per group, and missing values result in the gaps. We use the asfreq method to con‐\n",
    "vert to the higher frequency without any aggregation:"
   ]
  },
  {
   "cell_type": "code",
   "execution_count": 12,
   "metadata": {},
   "outputs": [
    {
     "data": {
      "text/html": [
       "<div>\n",
       "<style scoped>\n",
       "    .dataframe tbody tr th:only-of-type {\n",
       "        vertical-align: middle;\n",
       "    }\n",
       "\n",
       "    .dataframe tbody tr th {\n",
       "        vertical-align: top;\n",
       "    }\n",
       "\n",
       "    .dataframe thead th {\n",
       "        text-align: right;\n",
       "    }\n",
       "</style>\n",
       "<table border=\"1\" class=\"dataframe\">\n",
       "  <thead>\n",
       "    <tr style=\"text-align: right;\">\n",
       "      <th></th>\n",
       "      <th>Colorado</th>\n",
       "      <th>Texas</th>\n",
       "      <th>New York</th>\n",
       "      <th>Ohio</th>\n",
       "    </tr>\n",
       "  </thead>\n",
       "  <tbody>\n",
       "    <tr>\n",
       "      <th>2000-01-05</th>\n",
       "      <td>-2.351594</td>\n",
       "      <td>-0.315756</td>\n",
       "      <td>0.600572</td>\n",
       "      <td>-0.880947</td>\n",
       "    </tr>\n",
       "    <tr>\n",
       "      <th>2000-01-06</th>\n",
       "      <td>NaN</td>\n",
       "      <td>NaN</td>\n",
       "      <td>NaN</td>\n",
       "      <td>NaN</td>\n",
       "    </tr>\n",
       "    <tr>\n",
       "      <th>2000-01-07</th>\n",
       "      <td>NaN</td>\n",
       "      <td>NaN</td>\n",
       "      <td>NaN</td>\n",
       "      <td>NaN</td>\n",
       "    </tr>\n",
       "    <tr>\n",
       "      <th>2000-01-08</th>\n",
       "      <td>NaN</td>\n",
       "      <td>NaN</td>\n",
       "      <td>NaN</td>\n",
       "      <td>NaN</td>\n",
       "    </tr>\n",
       "    <tr>\n",
       "      <th>2000-01-09</th>\n",
       "      <td>NaN</td>\n",
       "      <td>NaN</td>\n",
       "      <td>NaN</td>\n",
       "      <td>NaN</td>\n",
       "    </tr>\n",
       "    <tr>\n",
       "      <th>2000-01-10</th>\n",
       "      <td>NaN</td>\n",
       "      <td>NaN</td>\n",
       "      <td>NaN</td>\n",
       "      <td>NaN</td>\n",
       "    </tr>\n",
       "    <tr>\n",
       "      <th>2000-01-11</th>\n",
       "      <td>NaN</td>\n",
       "      <td>NaN</td>\n",
       "      <td>NaN</td>\n",
       "      <td>NaN</td>\n",
       "    </tr>\n",
       "    <tr>\n",
       "      <th>2000-01-12</th>\n",
       "      <td>-0.203121</td>\n",
       "      <td>0.916661</td>\n",
       "      <td>-0.704407</td>\n",
       "      <td>0.109152</td>\n",
       "    </tr>\n",
       "  </tbody>\n",
       "</table>\n",
       "</div>"
      ],
      "text/plain": [
       "            Colorado     Texas  New York      Ohio\n",
       "2000-01-05 -2.351594 -0.315756  0.600572 -0.880947\n",
       "2000-01-06       NaN       NaN       NaN       NaN\n",
       "2000-01-07       NaN       NaN       NaN       NaN\n",
       "2000-01-08       NaN       NaN       NaN       NaN\n",
       "2000-01-09       NaN       NaN       NaN       NaN\n",
       "2000-01-10       NaN       NaN       NaN       NaN\n",
       "2000-01-11       NaN       NaN       NaN       NaN\n",
       "2000-01-12 -0.203121  0.916661 -0.704407  0.109152"
      ]
     },
     "execution_count": 12,
     "metadata": {},
     "output_type": "execute_result"
    }
   ],
   "source": [
    "df_daily = frame.resample('D').asfreq()\n",
    "df_daily"
   ]
  },
  {
   "cell_type": "markdown",
   "metadata": {},
   "source": [
    "Suppose you wanted to fill forward each weekly value on the non-Wednesdays. The\n",
    "same filling or interpolation methods available in the fillna and reindex methods\n",
    "are available for resampling:"
   ]
  },
  {
   "cell_type": "code",
   "execution_count": 13,
   "metadata": {},
   "outputs": [
    {
     "data": {
      "text/html": [
       "<div>\n",
       "<style scoped>\n",
       "    .dataframe tbody tr th:only-of-type {\n",
       "        vertical-align: middle;\n",
       "    }\n",
       "\n",
       "    .dataframe tbody tr th {\n",
       "        vertical-align: top;\n",
       "    }\n",
       "\n",
       "    .dataframe thead th {\n",
       "        text-align: right;\n",
       "    }\n",
       "</style>\n",
       "<table border=\"1\" class=\"dataframe\">\n",
       "  <thead>\n",
       "    <tr style=\"text-align: right;\">\n",
       "      <th></th>\n",
       "      <th>Colorado</th>\n",
       "      <th>Texas</th>\n",
       "      <th>New York</th>\n",
       "      <th>Ohio</th>\n",
       "    </tr>\n",
       "  </thead>\n",
       "  <tbody>\n",
       "    <tr>\n",
       "      <th>2000-01-05</th>\n",
       "      <td>-2.351594</td>\n",
       "      <td>-0.315756</td>\n",
       "      <td>0.600572</td>\n",
       "      <td>-0.880947</td>\n",
       "    </tr>\n",
       "    <tr>\n",
       "      <th>2000-01-06</th>\n",
       "      <td>-2.351594</td>\n",
       "      <td>-0.315756</td>\n",
       "      <td>0.600572</td>\n",
       "      <td>-0.880947</td>\n",
       "    </tr>\n",
       "    <tr>\n",
       "      <th>2000-01-07</th>\n",
       "      <td>-2.351594</td>\n",
       "      <td>-0.315756</td>\n",
       "      <td>0.600572</td>\n",
       "      <td>-0.880947</td>\n",
       "    </tr>\n",
       "    <tr>\n",
       "      <th>2000-01-08</th>\n",
       "      <td>-2.351594</td>\n",
       "      <td>-0.315756</td>\n",
       "      <td>0.600572</td>\n",
       "      <td>-0.880947</td>\n",
       "    </tr>\n",
       "    <tr>\n",
       "      <th>2000-01-09</th>\n",
       "      <td>-2.351594</td>\n",
       "      <td>-0.315756</td>\n",
       "      <td>0.600572</td>\n",
       "      <td>-0.880947</td>\n",
       "    </tr>\n",
       "    <tr>\n",
       "      <th>2000-01-10</th>\n",
       "      <td>-2.351594</td>\n",
       "      <td>-0.315756</td>\n",
       "      <td>0.600572</td>\n",
       "      <td>-0.880947</td>\n",
       "    </tr>\n",
       "    <tr>\n",
       "      <th>2000-01-11</th>\n",
       "      <td>-2.351594</td>\n",
       "      <td>-0.315756</td>\n",
       "      <td>0.600572</td>\n",
       "      <td>-0.880947</td>\n",
       "    </tr>\n",
       "    <tr>\n",
       "      <th>2000-01-12</th>\n",
       "      <td>-0.203121</td>\n",
       "      <td>0.916661</td>\n",
       "      <td>-0.704407</td>\n",
       "      <td>0.109152</td>\n",
       "    </tr>\n",
       "  </tbody>\n",
       "</table>\n",
       "</div>"
      ],
      "text/plain": [
       "            Colorado     Texas  New York      Ohio\n",
       "2000-01-05 -2.351594 -0.315756  0.600572 -0.880947\n",
       "2000-01-06 -2.351594 -0.315756  0.600572 -0.880947\n",
       "2000-01-07 -2.351594 -0.315756  0.600572 -0.880947\n",
       "2000-01-08 -2.351594 -0.315756  0.600572 -0.880947\n",
       "2000-01-09 -2.351594 -0.315756  0.600572 -0.880947\n",
       "2000-01-10 -2.351594 -0.315756  0.600572 -0.880947\n",
       "2000-01-11 -2.351594 -0.315756  0.600572 -0.880947\n",
       "2000-01-12 -0.203121  0.916661 -0.704407  0.109152"
      ]
     },
     "execution_count": 13,
     "metadata": {},
     "output_type": "execute_result"
    }
   ],
   "source": [
    "frame.resample('D').ffill()"
   ]
  },
  {
   "cell_type": "markdown",
   "metadata": {},
   "source": [
    "You can similarly choose to only fill a certain number of periods forward to limit how\n",
    "far to continue using an observed value:"
   ]
  },
  {
   "cell_type": "code",
   "execution_count": 14,
   "metadata": {},
   "outputs": [
    {
     "data": {
      "text/html": [
       "<div>\n",
       "<style scoped>\n",
       "    .dataframe tbody tr th:only-of-type {\n",
       "        vertical-align: middle;\n",
       "    }\n",
       "\n",
       "    .dataframe tbody tr th {\n",
       "        vertical-align: top;\n",
       "    }\n",
       "\n",
       "    .dataframe thead th {\n",
       "        text-align: right;\n",
       "    }\n",
       "</style>\n",
       "<table border=\"1\" class=\"dataframe\">\n",
       "  <thead>\n",
       "    <tr style=\"text-align: right;\">\n",
       "      <th></th>\n",
       "      <th>Colorado</th>\n",
       "      <th>Texas</th>\n",
       "      <th>New York</th>\n",
       "      <th>Ohio</th>\n",
       "    </tr>\n",
       "  </thead>\n",
       "  <tbody>\n",
       "    <tr>\n",
       "      <th>2000-01-05</th>\n",
       "      <td>-2.351594</td>\n",
       "      <td>-0.315756</td>\n",
       "      <td>0.600572</td>\n",
       "      <td>-0.880947</td>\n",
       "    </tr>\n",
       "    <tr>\n",
       "      <th>2000-01-06</th>\n",
       "      <td>-2.351594</td>\n",
       "      <td>-0.315756</td>\n",
       "      <td>0.600572</td>\n",
       "      <td>-0.880947</td>\n",
       "    </tr>\n",
       "    <tr>\n",
       "      <th>2000-01-07</th>\n",
       "      <td>-2.351594</td>\n",
       "      <td>-0.315756</td>\n",
       "      <td>0.600572</td>\n",
       "      <td>-0.880947</td>\n",
       "    </tr>\n",
       "    <tr>\n",
       "      <th>2000-01-08</th>\n",
       "      <td>NaN</td>\n",
       "      <td>NaN</td>\n",
       "      <td>NaN</td>\n",
       "      <td>NaN</td>\n",
       "    </tr>\n",
       "    <tr>\n",
       "      <th>2000-01-09</th>\n",
       "      <td>NaN</td>\n",
       "      <td>NaN</td>\n",
       "      <td>NaN</td>\n",
       "      <td>NaN</td>\n",
       "    </tr>\n",
       "    <tr>\n",
       "      <th>2000-01-10</th>\n",
       "      <td>NaN</td>\n",
       "      <td>NaN</td>\n",
       "      <td>NaN</td>\n",
       "      <td>NaN</td>\n",
       "    </tr>\n",
       "    <tr>\n",
       "      <th>2000-01-11</th>\n",
       "      <td>NaN</td>\n",
       "      <td>NaN</td>\n",
       "      <td>NaN</td>\n",
       "      <td>NaN</td>\n",
       "    </tr>\n",
       "    <tr>\n",
       "      <th>2000-01-12</th>\n",
       "      <td>-0.203121</td>\n",
       "      <td>0.916661</td>\n",
       "      <td>-0.704407</td>\n",
       "      <td>0.109152</td>\n",
       "    </tr>\n",
       "  </tbody>\n",
       "</table>\n",
       "</div>"
      ],
      "text/plain": [
       "            Colorado     Texas  New York      Ohio\n",
       "2000-01-05 -2.351594 -0.315756  0.600572 -0.880947\n",
       "2000-01-06 -2.351594 -0.315756  0.600572 -0.880947\n",
       "2000-01-07 -2.351594 -0.315756  0.600572 -0.880947\n",
       "2000-01-08       NaN       NaN       NaN       NaN\n",
       "2000-01-09       NaN       NaN       NaN       NaN\n",
       "2000-01-10       NaN       NaN       NaN       NaN\n",
       "2000-01-11       NaN       NaN       NaN       NaN\n",
       "2000-01-12 -0.203121  0.916661 -0.704407  0.109152"
      ]
     },
     "execution_count": 14,
     "metadata": {},
     "output_type": "execute_result"
    }
   ],
   "source": [
    "frame.resample('D').ffill(limit=2)"
   ]
  },
  {
   "cell_type": "code",
   "execution_count": 15,
   "metadata": {},
   "outputs": [
    {
     "data": {
      "text/html": [
       "<div>\n",
       "<style scoped>\n",
       "    .dataframe tbody tr th:only-of-type {\n",
       "        vertical-align: middle;\n",
       "    }\n",
       "\n",
       "    .dataframe tbody tr th {\n",
       "        vertical-align: top;\n",
       "    }\n",
       "\n",
       "    .dataframe thead th {\n",
       "        text-align: right;\n",
       "    }\n",
       "</style>\n",
       "<table border=\"1\" class=\"dataframe\">\n",
       "  <thead>\n",
       "    <tr style=\"text-align: right;\">\n",
       "      <th></th>\n",
       "      <th>Colorado</th>\n",
       "      <th>Texas</th>\n",
       "      <th>New York</th>\n",
       "      <th>Ohio</th>\n",
       "    </tr>\n",
       "  </thead>\n",
       "  <tbody>\n",
       "    <tr>\n",
       "      <th>2000-01-06</th>\n",
       "      <td>-2.351594</td>\n",
       "      <td>-0.315756</td>\n",
       "      <td>0.600572</td>\n",
       "      <td>-0.880947</td>\n",
       "    </tr>\n",
       "    <tr>\n",
       "      <th>2000-01-13</th>\n",
       "      <td>-0.203121</td>\n",
       "      <td>0.916661</td>\n",
       "      <td>-0.704407</td>\n",
       "      <td>0.109152</td>\n",
       "    </tr>\n",
       "  </tbody>\n",
       "</table>\n",
       "</div>"
      ],
      "text/plain": [
       "            Colorado     Texas  New York      Ohio\n",
       "2000-01-06 -2.351594 -0.315756  0.600572 -0.880947\n",
       "2000-01-13 -0.203121  0.916661 -0.704407  0.109152"
      ]
     },
     "execution_count": 15,
     "metadata": {},
     "output_type": "execute_result"
    }
   ],
   "source": [
    "# Notably, the new date index need not overlap with the old one at all:\n",
    "frame.resample('W-THU').ffill()"
   ]
  },
  {
   "cell_type": "markdown",
   "metadata": {},
   "source": [
    "### Resampling with Periods"
   ]
  },
  {
   "cell_type": "markdown",
   "metadata": {},
   "source": [
    "Resampling data indexed by periods is similar to timestamps:"
   ]
  },
  {
   "cell_type": "code",
   "execution_count": 17,
   "metadata": {},
   "outputs": [
    {
     "data": {
      "text/html": [
       "<div>\n",
       "<style scoped>\n",
       "    .dataframe tbody tr th:only-of-type {\n",
       "        vertical-align: middle;\n",
       "    }\n",
       "\n",
       "    .dataframe tbody tr th {\n",
       "        vertical-align: top;\n",
       "    }\n",
       "\n",
       "    .dataframe thead th {\n",
       "        text-align: right;\n",
       "    }\n",
       "</style>\n",
       "<table border=\"1\" class=\"dataframe\">\n",
       "  <thead>\n",
       "    <tr style=\"text-align: right;\">\n",
       "      <th></th>\n",
       "      <th>Colorado</th>\n",
       "      <th>Texas</th>\n",
       "      <th>New York</th>\n",
       "      <th>Ohio</th>\n",
       "    </tr>\n",
       "  </thead>\n",
       "  <tbody>\n",
       "    <tr>\n",
       "      <th>2000-01</th>\n",
       "      <td>-0.165510</td>\n",
       "      <td>-0.537824</td>\n",
       "      <td>-0.866164</td>\n",
       "      <td>0.561937</td>\n",
       "    </tr>\n",
       "    <tr>\n",
       "      <th>2000-02</th>\n",
       "      <td>-0.360703</td>\n",
       "      <td>-1.290298</td>\n",
       "      <td>0.815228</td>\n",
       "      <td>0.507127</td>\n",
       "    </tr>\n",
       "    <tr>\n",
       "      <th>2000-03</th>\n",
       "      <td>0.660895</td>\n",
       "      <td>-0.273805</td>\n",
       "      <td>-1.559603</td>\n",
       "      <td>-0.820251</td>\n",
       "    </tr>\n",
       "    <tr>\n",
       "      <th>2000-04</th>\n",
       "      <td>0.078544</td>\n",
       "      <td>-2.313172</td>\n",
       "      <td>0.667439</td>\n",
       "      <td>-0.116105</td>\n",
       "    </tr>\n",
       "    <tr>\n",
       "      <th>2000-05</th>\n",
       "      <td>0.385366</td>\n",
       "      <td>0.267598</td>\n",
       "      <td>0.567636</td>\n",
       "      <td>-0.471763</td>\n",
       "    </tr>\n",
       "  </tbody>\n",
       "</table>\n",
       "</div>"
      ],
      "text/plain": [
       "         Colorado     Texas  New York      Ohio\n",
       "2000-01 -0.165510 -0.537824 -0.866164  0.561937\n",
       "2000-02 -0.360703 -1.290298  0.815228  0.507127\n",
       "2000-03  0.660895 -0.273805 -1.559603 -0.820251\n",
       "2000-04  0.078544 -2.313172  0.667439 -0.116105\n",
       "2000-05  0.385366  0.267598  0.567636 -0.471763"
      ]
     },
     "execution_count": 17,
     "metadata": {},
     "output_type": "execute_result"
    }
   ],
   "source": [
    "frame = pd.DataFrame(np.random.randn(24, 4),\n",
    "                     index=pd.period_range('1-2000', '12-2001',freq='M'),\n",
    "                     columns=['Colorado', 'Texas', 'New York', 'Ohio'])\n",
    "frame[:5]"
   ]
  },
  {
   "cell_type": "code",
   "execution_count": 18,
   "metadata": {},
   "outputs": [
    {
     "data": {
      "text/html": [
       "<div>\n",
       "<style scoped>\n",
       "    .dataframe tbody tr th:only-of-type {\n",
       "        vertical-align: middle;\n",
       "    }\n",
       "\n",
       "    .dataframe tbody tr th {\n",
       "        vertical-align: top;\n",
       "    }\n",
       "\n",
       "    .dataframe thead th {\n",
       "        text-align: right;\n",
       "    }\n",
       "</style>\n",
       "<table border=\"1\" class=\"dataframe\">\n",
       "  <thead>\n",
       "    <tr style=\"text-align: right;\">\n",
       "      <th></th>\n",
       "      <th>Colorado</th>\n",
       "      <th>Texas</th>\n",
       "      <th>New York</th>\n",
       "      <th>Ohio</th>\n",
       "    </tr>\n",
       "  </thead>\n",
       "  <tbody>\n",
       "    <tr>\n",
       "      <th>2000</th>\n",
       "      <td>-0.109284</td>\n",
       "      <td>-0.362830</td>\n",
       "      <td>0.335046</td>\n",
       "      <td>0.098427</td>\n",
       "    </tr>\n",
       "    <tr>\n",
       "      <th>2001</th>\n",
       "      <td>-0.484530</td>\n",
       "      <td>0.185885</td>\n",
       "      <td>-0.317265</td>\n",
       "      <td>0.158048</td>\n",
       "    </tr>\n",
       "  </tbody>\n",
       "</table>\n",
       "</div>"
      ],
      "text/plain": [
       "      Colorado     Texas  New York      Ohio\n",
       "2000 -0.109284 -0.362830  0.335046  0.098427\n",
       "2001 -0.484530  0.185885 -0.317265  0.158048"
      ]
     },
     "execution_count": 18,
     "metadata": {},
     "output_type": "execute_result"
    }
   ],
   "source": [
    "annual_frame = frame.resample('A-DEC').mean()\n",
    "annual_frame"
   ]
  },
  {
   "cell_type": "markdown",
   "metadata": {},
   "source": [
    "Upsampling is more nuanced, as you must make a decision about which end of the\n",
    "timespan in the new frequency to place the values before resampling, just like the\n",
    "asfreq method. The convention argument defaults to 'start' but can also be 'end':"
   ]
  },
  {
   "cell_type": "code",
   "execution_count": 19,
   "metadata": {},
   "outputs": [
    {
     "data": {
      "text/html": [
       "<div>\n",
       "<style scoped>\n",
       "    .dataframe tbody tr th:only-of-type {\n",
       "        vertical-align: middle;\n",
       "    }\n",
       "\n",
       "    .dataframe tbody tr th {\n",
       "        vertical-align: top;\n",
       "    }\n",
       "\n",
       "    .dataframe thead th {\n",
       "        text-align: right;\n",
       "    }\n",
       "</style>\n",
       "<table border=\"1\" class=\"dataframe\">\n",
       "  <thead>\n",
       "    <tr style=\"text-align: right;\">\n",
       "      <th></th>\n",
       "      <th>Colorado</th>\n",
       "      <th>Texas</th>\n",
       "      <th>New York</th>\n",
       "      <th>Ohio</th>\n",
       "    </tr>\n",
       "  </thead>\n",
       "  <tbody>\n",
       "    <tr>\n",
       "      <th>2000Q1</th>\n",
       "      <td>-0.109284</td>\n",
       "      <td>-0.362830</td>\n",
       "      <td>0.335046</td>\n",
       "      <td>0.098427</td>\n",
       "    </tr>\n",
       "    <tr>\n",
       "      <th>2000Q2</th>\n",
       "      <td>-0.109284</td>\n",
       "      <td>-0.362830</td>\n",
       "      <td>0.335046</td>\n",
       "      <td>0.098427</td>\n",
       "    </tr>\n",
       "    <tr>\n",
       "      <th>2000Q3</th>\n",
       "      <td>-0.109284</td>\n",
       "      <td>-0.362830</td>\n",
       "      <td>0.335046</td>\n",
       "      <td>0.098427</td>\n",
       "    </tr>\n",
       "    <tr>\n",
       "      <th>2000Q4</th>\n",
       "      <td>-0.109284</td>\n",
       "      <td>-0.362830</td>\n",
       "      <td>0.335046</td>\n",
       "      <td>0.098427</td>\n",
       "    </tr>\n",
       "    <tr>\n",
       "      <th>2001Q1</th>\n",
       "      <td>-0.484530</td>\n",
       "      <td>0.185885</td>\n",
       "      <td>-0.317265</td>\n",
       "      <td>0.158048</td>\n",
       "    </tr>\n",
       "    <tr>\n",
       "      <th>2001Q2</th>\n",
       "      <td>-0.484530</td>\n",
       "      <td>0.185885</td>\n",
       "      <td>-0.317265</td>\n",
       "      <td>0.158048</td>\n",
       "    </tr>\n",
       "    <tr>\n",
       "      <th>2001Q3</th>\n",
       "      <td>-0.484530</td>\n",
       "      <td>0.185885</td>\n",
       "      <td>-0.317265</td>\n",
       "      <td>0.158048</td>\n",
       "    </tr>\n",
       "    <tr>\n",
       "      <th>2001Q4</th>\n",
       "      <td>-0.484530</td>\n",
       "      <td>0.185885</td>\n",
       "      <td>-0.317265</td>\n",
       "      <td>0.158048</td>\n",
       "    </tr>\n",
       "  </tbody>\n",
       "</table>\n",
       "</div>"
      ],
      "text/plain": [
       "        Colorado     Texas  New York      Ohio\n",
       "2000Q1 -0.109284 -0.362830  0.335046  0.098427\n",
       "2000Q2 -0.109284 -0.362830  0.335046  0.098427\n",
       "2000Q3 -0.109284 -0.362830  0.335046  0.098427\n",
       "2000Q4 -0.109284 -0.362830  0.335046  0.098427\n",
       "2001Q1 -0.484530  0.185885 -0.317265  0.158048\n",
       "2001Q2 -0.484530  0.185885 -0.317265  0.158048\n",
       "2001Q3 -0.484530  0.185885 -0.317265  0.158048\n",
       "2001Q4 -0.484530  0.185885 -0.317265  0.158048"
      ]
     },
     "execution_count": 19,
     "metadata": {},
     "output_type": "execute_result"
    }
   ],
   "source": [
    "# Q-DEC: Quarterly, year ending in December\n",
    "annual_frame.resample('Q-DEC').ffill()"
   ]
  },
  {
   "cell_type": "code",
   "execution_count": 20,
   "metadata": {},
   "outputs": [
    {
     "data": {
      "text/html": [
       "<div>\n",
       "<style scoped>\n",
       "    .dataframe tbody tr th:only-of-type {\n",
       "        vertical-align: middle;\n",
       "    }\n",
       "\n",
       "    .dataframe tbody tr th {\n",
       "        vertical-align: top;\n",
       "    }\n",
       "\n",
       "    .dataframe thead th {\n",
       "        text-align: right;\n",
       "    }\n",
       "</style>\n",
       "<table border=\"1\" class=\"dataframe\">\n",
       "  <thead>\n",
       "    <tr style=\"text-align: right;\">\n",
       "      <th></th>\n",
       "      <th>Colorado</th>\n",
       "      <th>Texas</th>\n",
       "      <th>New York</th>\n",
       "      <th>Ohio</th>\n",
       "    </tr>\n",
       "  </thead>\n",
       "  <tbody>\n",
       "    <tr>\n",
       "      <th>2000Q4</th>\n",
       "      <td>-0.109284</td>\n",
       "      <td>-0.362830</td>\n",
       "      <td>0.335046</td>\n",
       "      <td>0.098427</td>\n",
       "    </tr>\n",
       "    <tr>\n",
       "      <th>2001Q1</th>\n",
       "      <td>-0.109284</td>\n",
       "      <td>-0.362830</td>\n",
       "      <td>0.335046</td>\n",
       "      <td>0.098427</td>\n",
       "    </tr>\n",
       "    <tr>\n",
       "      <th>2001Q2</th>\n",
       "      <td>-0.109284</td>\n",
       "      <td>-0.362830</td>\n",
       "      <td>0.335046</td>\n",
       "      <td>0.098427</td>\n",
       "    </tr>\n",
       "    <tr>\n",
       "      <th>2001Q3</th>\n",
       "      <td>-0.109284</td>\n",
       "      <td>-0.362830</td>\n",
       "      <td>0.335046</td>\n",
       "      <td>0.098427</td>\n",
       "    </tr>\n",
       "    <tr>\n",
       "      <th>2001Q4</th>\n",
       "      <td>-0.484530</td>\n",
       "      <td>0.185885</td>\n",
       "      <td>-0.317265</td>\n",
       "      <td>0.158048</td>\n",
       "    </tr>\n",
       "  </tbody>\n",
       "</table>\n",
       "</div>"
      ],
      "text/plain": [
       "        Colorado     Texas  New York      Ohio\n",
       "2000Q4 -0.109284 -0.362830  0.335046  0.098427\n",
       "2001Q1 -0.109284 -0.362830  0.335046  0.098427\n",
       "2001Q2 -0.109284 -0.362830  0.335046  0.098427\n",
       "2001Q3 -0.109284 -0.362830  0.335046  0.098427\n",
       "2001Q4 -0.484530  0.185885 -0.317265  0.158048"
      ]
     },
     "execution_count": 20,
     "metadata": {},
     "output_type": "execute_result"
    }
   ],
   "source": [
    "annual_frame.resample('Q-DEC', convention='end').ffill()"
   ]
  },
  {
   "cell_type": "markdown",
   "metadata": {},
   "source": [
    "Since periods refer to timespans, the rules about upsampling and downsampling are\n",
    "more rigid:\n",
    "\n",
    "• In downsampling, the target frequency must be a subperiod of the source\n",
    "frequency.\n",
    "\n",
    "• In upsampling, the target frequency must be a superperiod of the source\n",
    "frequency.\n",
    "\n",
    "If these rules are not satisfied, an exception will be raised. This mainly affects the\n",
    "quarterly, annual, and weekly frequencies; for example, the timespans defined by Q-\n",
    "MAR only line up with A-MAR, A-JUN, A-SEP, and A-DEC:"
   ]
  },
  {
   "cell_type": "code",
   "execution_count": 21,
   "metadata": {},
   "outputs": [
    {
     "data": {
      "text/html": [
       "<div>\n",
       "<style scoped>\n",
       "    .dataframe tbody tr th:only-of-type {\n",
       "        vertical-align: middle;\n",
       "    }\n",
       "\n",
       "    .dataframe tbody tr th {\n",
       "        vertical-align: top;\n",
       "    }\n",
       "\n",
       "    .dataframe thead th {\n",
       "        text-align: right;\n",
       "    }\n",
       "</style>\n",
       "<table border=\"1\" class=\"dataframe\">\n",
       "  <thead>\n",
       "    <tr style=\"text-align: right;\">\n",
       "      <th></th>\n",
       "      <th>Colorado</th>\n",
       "      <th>Texas</th>\n",
       "      <th>New York</th>\n",
       "      <th>Ohio</th>\n",
       "    </tr>\n",
       "  </thead>\n",
       "  <tbody>\n",
       "    <tr>\n",
       "      <th>2000Q4</th>\n",
       "      <td>-0.109284</td>\n",
       "      <td>-0.362830</td>\n",
       "      <td>0.335046</td>\n",
       "      <td>0.098427</td>\n",
       "    </tr>\n",
       "    <tr>\n",
       "      <th>2001Q1</th>\n",
       "      <td>-0.109284</td>\n",
       "      <td>-0.362830</td>\n",
       "      <td>0.335046</td>\n",
       "      <td>0.098427</td>\n",
       "    </tr>\n",
       "    <tr>\n",
       "      <th>2001Q2</th>\n",
       "      <td>-0.109284</td>\n",
       "      <td>-0.362830</td>\n",
       "      <td>0.335046</td>\n",
       "      <td>0.098427</td>\n",
       "    </tr>\n",
       "    <tr>\n",
       "      <th>2001Q3</th>\n",
       "      <td>-0.109284</td>\n",
       "      <td>-0.362830</td>\n",
       "      <td>0.335046</td>\n",
       "      <td>0.098427</td>\n",
       "    </tr>\n",
       "    <tr>\n",
       "      <th>2001Q4</th>\n",
       "      <td>-0.484530</td>\n",
       "      <td>0.185885</td>\n",
       "      <td>-0.317265</td>\n",
       "      <td>0.158048</td>\n",
       "    </tr>\n",
       "    <tr>\n",
       "      <th>2002Q1</th>\n",
       "      <td>-0.484530</td>\n",
       "      <td>0.185885</td>\n",
       "      <td>-0.317265</td>\n",
       "      <td>0.158048</td>\n",
       "    </tr>\n",
       "    <tr>\n",
       "      <th>2002Q2</th>\n",
       "      <td>-0.484530</td>\n",
       "      <td>0.185885</td>\n",
       "      <td>-0.317265</td>\n",
       "      <td>0.158048</td>\n",
       "    </tr>\n",
       "    <tr>\n",
       "      <th>2002Q3</th>\n",
       "      <td>-0.484530</td>\n",
       "      <td>0.185885</td>\n",
       "      <td>-0.317265</td>\n",
       "      <td>0.158048</td>\n",
       "    </tr>\n",
       "  </tbody>\n",
       "</table>\n",
       "</div>"
      ],
      "text/plain": [
       "        Colorado     Texas  New York      Ohio\n",
       "2000Q4 -0.109284 -0.362830  0.335046  0.098427\n",
       "2001Q1 -0.109284 -0.362830  0.335046  0.098427\n",
       "2001Q2 -0.109284 -0.362830  0.335046  0.098427\n",
       "2001Q3 -0.109284 -0.362830  0.335046  0.098427\n",
       "2001Q4 -0.484530  0.185885 -0.317265  0.158048\n",
       "2002Q1 -0.484530  0.185885 -0.317265  0.158048\n",
       "2002Q2 -0.484530  0.185885 -0.317265  0.158048\n",
       "2002Q3 -0.484530  0.185885 -0.317265  0.158048"
      ]
     },
     "execution_count": 21,
     "metadata": {},
     "output_type": "execute_result"
    }
   ],
   "source": [
    "annual_frame.resample('Q-MAR').ffill()"
   ]
  }
 ],
 "metadata": {
  "kernelspec": {
   "display_name": ".venv",
   "language": "python",
   "name": "python3"
  },
  "language_info": {
   "codemirror_mode": {
    "name": "ipython",
    "version": 3
   },
   "file_extension": ".py",
   "mimetype": "text/x-python",
   "name": "python",
   "nbconvert_exporter": "python",
   "pygments_lexer": "ipython3",
   "version": "3.11.3"
  },
  "orig_nbformat": 4
 },
 "nbformat": 4,
 "nbformat_minor": 2
}
