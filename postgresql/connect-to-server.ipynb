{
 "cells": [
  {
   "cell_type": "markdown",
   "metadata": {},
   "source": [
    "\n",
    "To be able to use your PostgreSQL database with Visual Studio Code, I recommend the PostgreSQL Management extension from Chris Kolkman.\n",
    "\n",
    "After you have installed the extension and set up the database connection (see documentation), you can proceed as follows:\n",
    "\n",
    "__Step 1: In Visual Studio Code, use the keyboard shortcut:__\n",
    "\n",
    "Mac: Command+Shift+P\n",
    "Windows: Ctrl+Shift+P\n",
    "and select PostgreSQL: New Query (this will open a blank file).\n",
    "\n",
    "__Step 2__: Next, you need to select a Postgres Server (click on the icon Select Postgres Server) in the side bar (at the bottom) of the Visual Studio Code user interface. Select the server of your choice and choose the default database postgres.\n",
    "\n",
    "__Step 3__: Now you could write SQL statements inside the blank file and run them (using the right mouse click).\n",
    "\n",
    "__Step 4__: In Visual Studio Code click on the PostgreSQL Explorer (icon with an elephant) in the activity bar at the far left-hand side. Use your right mouse and click on refresh your database (in my case postgres) to see all tables.\n",
    "\n",
    "__Note__: if you choose a Postgres server (Step 2) before you open a script (Step 1), you may get an error meassage: unable to select a connection - a document is not active. If this is the case, simply start with Step 1 and you should be fine."
   ]
  },
  {
   "cell_type": "markdown",
   "metadata": {},
   "source": [
    "## How to allow remote connections to PostgreSQL on Windows"
   ]
  },
  {
   "cell_type": "markdown",
   "metadata": {},
   "source": [
    "1. Edit the PostgreSQL configuration file\n",
    "\n",
    "1.1 Open the PostgreSQL installation directory and locate the postgresql.conf file. By default, the configuration file for PostgreSQL (version 14) is located at C:\\Program Files\\PostgreSQL\\14\\data\\postgresql.conf.\n",
    "\n",
    "1.2 Make a backup of the file before making any changes.\n",
    "\n",
    "1.3 Open the postgresql.conf file in a text editor.\n",
    "\n",
    "1.4 Find the line that reads #listen_addresses = 'localhost' and uncomment it if it is commented (remove the ‘#’ character at the beginning of the line). Next, to ensure that PostgreSQL is configured to accept connections from any address, check the value of “listen_addresses” – it should be set to “*”.\n",
    "\n",
    "Note: You can also use a specific IP address for the PostgreSQL server to listen on."
   ]
  },
  {
   "cell_type": "markdown",
   "metadata": {},
   "source": [
    "2. Edit the pg_hba.conf file to allow remote connections\n",
    "\n",
    "2.1 Open the PostgreSQL installation directory and locate the pg_hba.conf file. By default, it is located at C:\\Program Files\\PostgreSQL\\14\\data\\pg_hba.conf (for PostgreSQL 14).\n",
    "\n",
    "2.2 Make a backup of the file before making any changes.\n",
    "\n",
    "2.3 Open the pg_hba.conf file in a text editor.\n",
    "\n",
    "2.4 Add a new line at the end of the file to allow remote connections. The line should have the following format:\n",
    "\n",
    "host all all 0.0.0.0/0 md5\n",
    "\n",
    "This line allows connections from any IP address (0.0.0.0/0) and requires a password for authentication (md5).\n",
    "\n",
    "2.5 Restart PostgreSQL (for example, from the Computer Management console)."
   ]
  },
  {
   "cell_type": "markdown",
   "metadata": {},
   "source": [
    "3. Configure the Windows Firewall to allow incoming connections to PostgreSQL\n",
    "\n",
    "3.1 Launch Windows Control Pane.\n",
    "\n",
    "3.2 Open Windows Defender Firewall.\n",
    "\n",
    "3.3 Click Advanced settings on the left-hand side of the window.\n",
    "\n",
    "3.4 Click Inbound Rules on the left-hand side of the window.\n",
    "\n",
    "3.5 Click New Rule on the right-hand side of the window.\n",
    "\n",
    "3.6 Select Port as the type of rule and click Next.\n",
    "\n",
    "3.7 Select TCP as the protocol and enter 5432 as the port number. Click Next.\n",
    "\n",
    "3.8 Select Allow the connection and click Next.\n",
    "\n",
    "3.9 Select the network types for which the rule should apply (Domain, Private, or Public). Click Next.\n",
    "\n",
    "3.10 Enter a name and description for the rule and click Finish.\n",
    "\n",
    "After completing these steps, remote connections to PostgreSQL should be allowed on the Windows machine."
   ]
  }
 ],
 "metadata": {
  "kernelspec": {
   "display_name": ".venv",
   "language": "python",
   "name": "python3"
  },
  "language_info": {
   "name": "python",
   "version": "3.11.3"
  },
  "orig_nbformat": 4
 },
 "nbformat": 4,
 "nbformat_minor": 2
}
