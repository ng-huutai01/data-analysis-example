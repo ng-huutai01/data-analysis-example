{
 "cells": [
  {
   "cell_type": "code",
   "execution_count": 1,
   "metadata": {},
   "outputs": [
    {
     "name": "stdout",
     "output_type": "stream",
     "text": [
      "   Age  Gender Marital Status Education Level Employment Status  \\\n",
      "0   60    Male        Married          Master          Employed   \n",
      "1   25    Male        Married     High School        Unemployed   \n",
      "2   30  Female         Single          Master          Employed   \n",
      "3   58  Female        Married             PhD        Unemployed   \n",
      "4   32    Male        Married        Bachelor     Self-Employed   \n",
      "\n",
      "   Credit Utilization Ratio  Payment History  Number of Credit Accounts  \\\n",
      "0                      0.22           2685.0                          2   \n",
      "1                      0.20           2371.0                          9   \n",
      "2                      0.22           2771.0                          6   \n",
      "3                      0.12           1371.0                          2   \n",
      "4                      0.99            828.0                          2   \n",
      "\n",
      "   Loan Amount  Interest Rate  Loan Term   Type of Loan  \n",
      "0      4675000           2.65         48  Personal Loan  \n",
      "1      3619000           5.19         60      Auto Loan  \n",
      "2       957000           2.76         12      Auto Loan  \n",
      "3      4731000           6.57         60      Auto Loan  \n",
      "4      3289000           6.28         36  Personal Loan  \n"
     ]
    }
   ],
   "source": [
    "import pandas as pd\n",
    "import plotly.graph_objects as go \n",
    "import plotly.express as px\n",
    "import plotly.io as pio\n",
    "pio.templates.default = \"plotly_white\"\n",
    "\n",
    "data = pd.read_csv(\"credit_scoring.csv\")\n",
    "print(data.head())"
   ]
  },
  {
   "cell_type": "markdown",
   "metadata": {},
   "source": [
    "Below is the description of all the features in the data:\n",
    "\n",
    "- Age: This feature represents the age of the individual.\n",
    "- Gender: This feature captures the gender of the individual.\n",
    "- Marital Status: This feature denotes the marital status of the individual.\n",
    "- Education Level: This feature represents the highest level of education attained by the individual.\n",
    "- Employment Status: This feature indicates the current employment status of the individual.\n",
    "- Credit Utilization Ratio: This feature reflects the ratio of credit used by the individual compared to their total available credit limit.\n",
    "- Payment History: It represents the monthly net payment behaviour of each customer, taking into account factors such as on-time payments, late payments, missed payments, and defaults.\n",
    "- Number of Credit Accounts: It represents the count of active credit accounts the person holds.\n",
    "- Loan Amount: It indicates the monetary value of the loan.\n",
    "- Interest Rate: This feature represents the interest rate associated with the loan.\n",
    "- Loan Term: This feature denotes the duration or term of the loan.\n",
    "- Type of Loan: It includes categories like “Personal Loan,” “Auto Loan,” or potentially other types of loans."
   ]
  },
  {
   "cell_type": "code",
   "execution_count": null,
   "metadata": {},
   "outputs": [],
   "source": [
    "print(data.info())"
   ]
  },
  {
   "cell_type": "code",
   "execution_count": null,
   "metadata": {},
   "outputs": [],
   "source": [
    "print(data.describe())"
   ]
  },
  {
   "cell_type": "code",
   "execution_count": null,
   "metadata": {},
   "outputs": [],
   "source": [
    "credit_utilization_fig = px.box(data,y='Credit Utilization Ratio',title=\"Credit Utilization Ratio Distribution\")\n",
    "credit_utilization_fig.show()"
   ]
  },
  {
   "cell_type": "markdown",
   "metadata": {},
   "source": [
    "https://thecleverprogrammer.com/2023/07/03/credit-scoring-and-segmentation-using-python/\n",
    "https://byjus.com/maths/box-plot/\n",
    "https://www.scribbr.com/statistics/quartiles-quantiles/"
   ]
  }
 ],
 "metadata": {
  "kernelspec": {
   "display_name": ".venv",
   "language": "python",
   "name": "python3"
  },
  "language_info": {
   "codemirror_mode": {
    "name": "ipython",
    "version": 3
   },
   "file_extension": ".py",
   "mimetype": "text/x-python",
   "name": "python",
   "nbconvert_exporter": "python",
   "pygments_lexer": "ipython3",
   "version": "3.11.3"
  },
  "orig_nbformat": 4
 },
 "nbformat": 4,
 "nbformat_minor": 2
}
