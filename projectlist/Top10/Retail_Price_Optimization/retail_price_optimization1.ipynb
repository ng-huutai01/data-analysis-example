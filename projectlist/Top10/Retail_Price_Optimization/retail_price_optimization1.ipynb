{
 "cells": [
  {
   "cell_type": "code",
   "execution_count": null,
   "metadata": {},
   "outputs": [],
   "source": [
    "import pandas as pd\n",
    "import plotly.express as px\n",
    "import plotly.graph_objects as go\n",
    "import plotly.io as pio\n",
    "pio.templates.default = \"plotly_white\"\n",
    "\n",
    "data = pd.read_csv(\"retail_price.csv\")\n",
    "print(data.head())"
   ]
  },
  {
   "cell_type": "code",
   "execution_count": 7,
   "metadata": {},
   "outputs": [
    {
     "name": "stdout",
     "output_type": "stream",
     "text": [
      "Index(['product_id', 'product_category_name', 'month_year', 'qty',\n",
      "       'total_price', 'freight_price', 'unit_price', 'product_name_lenght',\n",
      "       'product_description_lenght', 'product_photos_qty', 'product_weight_g',\n",
      "       'product_score', 'customers', 'weekday', 'weekend', 'holiday', 'month',\n",
      "       'year', 's', 'volume', 'comp_1', 'ps1', 'fp1', 'comp_2', 'ps2', 'fp2',\n",
      "       'comp_3', 'ps3', 'fp3', 'lag_price'],\n",
      "      dtype='object')\n"
     ]
    }
   ],
   "source": [
    "print(data.columns)"
   ]
  },
  {
   "cell_type": "code",
   "execution_count": null,
   "metadata": {},
   "outputs": [],
   "source": [
    "# Before moving forward, let’s have a look if the data has null values or not:\n",
    "print(data.isnull().sum())"
   ]
  },
  {
   "cell_type": "code",
   "execution_count": null,
   "metadata": {},
   "outputs": [],
   "source": [
    "# Now let’s have a look at the descriptive statistics of the data:\n",
    "print(data.describe())"
   ]
  },
  {
   "cell_type": "code",
   "execution_count": null,
   "metadata": {},
   "outputs": [],
   "source": [
    "# Now let’s have a look at the distribution of the prices of the products:\n",
    "fig = px.histogram(data,x='total_price',nbins=20,title=\"Distribution of total price\")\n",
    "fig.show()\n",
    "# để con trỏ vô hình sẽ thấy hiện thông tin từng cột\n",
    "\n",
    "# Mime type rendering requires nbformat>=4.2.0 but it is not installed error: \n",
    "# 1/ !pip install nbformat (Install this) \n",
    "# 2/ Restart your Kernel."
   ]
  },
  {
   "cell_type": "code",
   "execution_count": 13,
   "metadata": {},
   "outputs": [
    {
     "data": {
      "application/vnd.plotly.v1+json": {
       "config": {
        "plotlyServerURL": "https://plot.ly"
       },
       "data": [
        {
         "alignmentgroup": "True",
         "hovertemplate": "unit_price=%{y}<extra></extra>",
         "legendgroup": "",
         "marker": {
          "color": "#636efa"
         },
         "name": "",
         "notched": false,
         "offsetgroup": "",
         "orientation": "v",
         "showlegend": false,
         "type": "box",
         "x0": " ",
         "xaxis": "x",
         "y": [
          45.95,
          45.95,
          45.95,
          45.95,
          45.95,
          45.95,
          40.53181818,
          39.99,
          39.99,
          39.99,
          39.99,
          39.99,
          39.99,
          39.99,
          39.99,
          39.24,
          69.9,
          82.63333333,
          97.58823529,
          89,
          89,
          97.33333333,
          99,
          99,
          99,
          99,
          99.5,
          101,
          101,
          101,
          19.9,
          19.9,
          19.9,
          21.54285714,
          24.5,
          24.5,
          32.5,
          32.5,
          35.05714286,
          36.2,
          36.2,
          36.2,
          59.9,
          59.9,
          59.9,
          59.9,
          59.9,
          59.9,
          51.32222222,
          56.97777778,
          49.9,
          51.4,
          53.9,
          53.9,
          52.9,
          49.9,
          49.9,
          49.9,
          19.99,
          19.99,
          19.99,
          19.99,
          19.99,
          19.99,
          23.39740741,
          23.99,
          23.99,
          23.99,
          23.99,
          23.99,
          23.99,
          23.99,
          23.99,
          23.99,
          23.99,
          23.99,
          134.99,
          134.99,
          146.99,
          157.3603704,
          166.99,
          166.99,
          176.99,
          173.8081818,
          169.99,
          110.99,
          110.99,
          110.99,
          116.5284615,
          119.99,
          122.99,
          122.99,
          122.99,
          56.99,
          56.99,
          56.99,
          56.99,
          56.99,
          56.99,
          56.99,
          56.99,
          56.99,
          50.49,
          49.99,
          49.99,
          49.99,
          99.99,
          99.99,
          99.99,
          99.99,
          99.99,
          99.99,
          99.99,
          99.99,
          99.99,
          99.99,
          99.99,
          97.952,
          84.6925,
          89.99,
          89.99,
          89.99,
          89.99,
          89.99,
          89.99,
          89.99,
          89.99,
          89.99,
          89.99,
          89.99,
          83.74,
          79.99,
          79.99,
          79.99,
          79.99,
          82.82142857,
          59.9,
          59.9,
          59.9,
          59.9,
          53.78571429,
          55.75,
          49.9,
          50.35714286,
          53.9,
          53.9,
          53.05789474,
          49.9,
          49.9,
          49.9,
          167,
          119.9,
          93.09489362,
          77.155,
          88,
          88,
          89.9,
          78.9,
          59.9,
          59.9,
          59.9,
          59.9,
          59.9,
          59.9,
          53.64828125,
          55.425,
          49.9,
          50.9,
          53.9,
          53.9,
          53.70952381,
          49.9,
          49.9,
          49.9,
          150.3545455,
          149.9,
          149.9,
          149.9,
          149.9,
          149.9,
          149.9,
          149.9,
          61.99,
          61.99,
          64.99,
          64.99,
          66.99,
          66.99,
          66.99,
          59.9,
          59.9,
          59.9,
          59.9,
          59.9,
          59.9,
          52.40694444,
          55.1,
          49.9,
          50.54516129,
          53.9,
          53.9,
          53.41515152,
          49.9,
          49.91,
          49.91,
          47.35789474,
          48.45944444,
          53.70176471,
          52.06928571,
          49.98,
          51.512,
          50.71,
          157.99,
          171.792,
          169.9,
          160.4,
          149.475,
          140.56,
          149,
          148.5,
          145.9942857,
          123.9666667,
          119.19,
          118.1318182,
          139.9,
          138.98,
          138,
          84.99,
          84.99,
          84.99,
          84.99,
          84.99,
          84.99,
          84.99,
          84.99,
          84.99,
          179.99,
          179.99,
          179.99,
          179.99,
          179.99,
          183.99,
          187.8542857,
          179,
          175.1538462,
          179,
          179,
          159,
          139,
          139,
          59.9,
          59.9,
          59.9,
          59.9,
          59.9,
          59.9,
          59.9,
          53.37910448,
          55.77096774,
          49.9,
          51.025,
          53.9,
          53.9,
          52.56666667,
          49.9,
          49.9,
          49.9,
          163,
          161.5909091,
          160.6692308,
          148.7785714,
          134.9,
          133,
          149,
          128.2416667,
          117.4412903,
          105.648625,
          103.7925234,
          119,
          118.3636364,
          112,
          29.5,
          29.5,
          35,
          35,
          35,
          65,
          65,
          142.5,
          142.5,
          142.5,
          118.05,
          118,
          117.9,
          117.8888889,
          117.7,
          117.975,
          119.9,
          119.1785714,
          118.7,
          116.9066667,
          129.99,
          129.99,
          129.99,
          129.99,
          129.99,
          116.9275,
          119.99,
          129.99,
          129.99,
          129.99,
          129.99,
          129.99,
          129.99,
          94.9,
          100.9,
          109.9,
          109.9,
          98.9,
          98.9,
          98.9,
          98.9,
          90.534,
          84.75608696,
          87.5,
          94,
          73,
          66.34214286,
          79.9,
          19.9,
          19.9,
          19.9,
          20.66666667,
          24.5,
          24.5,
          27.03333333,
          32.5,
          32.74285714,
          34.2,
          349.9,
          349.9,
          349.9,
          349.9,
          349.9,
          349.9,
          349.9,
          349.9,
          349.9,
          349.9,
          322.1363636,
          349.9,
          349.9,
          349.9,
          349.9,
          349.9,
          352.25,
          364,
          364,
          364,
          239.9,
          239.9,
          229.9,
          204.6181818,
          167.5,
          150.3423077,
          145.1666667,
          152.6333333,
          157.1428571,
          157.9454545,
          99.9,
          99.9,
          99.9,
          99.9,
          99.9,
          99.9,
          99.9,
          99.9,
          78.53571429,
          83.83333333,
          229.9,
          219.06,
          216.15,
          203.2909091,
          224.5428571,
          220.77,
          205.6857143,
          216.1875,
          204.3846154,
          199,
          64.99,
          64.99,
          64.99,
          64.99,
          64.99,
          58.79952381,
          59.25666667,
          58.99,
          58.99,
          58.99,
          58.99,
          58.99,
          58.99,
          58.99,
          58.99,
          58.99,
          58.99,
          58.99,
          58.99,
          58.99,
          99,
          99,
          99,
          98.3,
          92,
          92,
          90.875,
          88.24,
          84.9,
          84.9,
          84.9,
          99.99,
          99.99,
          96.65666667,
          109.99,
          119.99,
          120,
          104.25,
          92.594,
          89.99,
          89.99,
          123.3316667,
          120,
          113.3333333,
          110,
          110,
          96.65666667,
          99.99,
          99.99,
          89.9,
          89.9,
          89.9,
          89.9,
          89.9,
          89.9,
          89.9,
          89.9,
          89.9,
          89.9,
          88.48823529,
          86.9,
          86.9,
          86.9,
          85.045,
          83.64961538,
          79.9,
          77.93333333,
          74,
          38.4,
          38.4,
          38.4,
          34.58117647,
          38.4,
          38.4,
          38.4,
          35.48571429,
          35,
          35,
          35,
          35,
          108,
          108,
          108,
          108,
          105.6428571,
          105,
          105,
          105,
          105,
          105,
          78,
          78,
          78,
          78,
          78,
          78,
          78,
          78,
          78,
          78,
          78,
          78,
          78,
          78,
          77.82142857,
          75,
          75,
          75,
          75,
          75,
          69.9953271,
          69.9,
          69.9,
          69.9,
          69.9,
          89.9,
          89.9,
          103.2333333,
          59.9,
          59.9,
          59.9,
          59.9,
          59.9,
          59.9,
          59.9,
          54.45,
          49.9,
          49.9,
          51.23333333,
          53.9,
          53.9,
          49.9,
          49.9,
          49.9,
          49.9,
          38.4,
          38.4,
          38.4,
          38.4,
          36.85428571,
          38.4,
          38.4,
          35.48571429,
          35,
          35,
          35,
          35,
          35,
          325,
          325,
          325,
          325,
          325,
          325,
          325,
          325.8928571,
          330,
          330,
          330,
          330,
          330,
          99.99,
          99.99,
          109.99,
          109.99,
          120,
          120,
          102.5,
          95.29,
          89.99,
          89.99,
          127.7272727,
          120,
          110,
          110,
          110,
          89.99,
          99.99,
          98.32333333,
          85.70428571,
          99.99,
          99.99,
          99.99,
          99.99,
          99.99,
          99.99,
          99.99,
          99.99,
          99.99,
          99.99,
          99.99,
          99.99,
          99.99,
          89.86333333,
          159.99,
          159.99,
          139.99,
          159.99,
          139.99,
          145.7042857,
          151.99,
          154.6958824,
          149.99,
          149.99,
          156.5113514,
          149,
          136.1428571,
          120.9230769,
          119,
          114.4911538,
          119.99,
          119.99,
          339,
          339,
          346.158,
          345.7066667,
          348.8,
          339.9,
          347,
          307.8333333,
          280.6666667,
          258.9695652,
          245.9,
          169.3493182,
          178.0571429,
          149.8525,
          146.6,
          144.96,
          138.59,
          137.9,
          137.9,
          134.9,
          133,
          132.97,
          29.9,
          29.9,
          29.9,
          29.9,
          29.9,
          29.9,
          29.9,
          29.9,
          29.9,
          29.9,
          29.9,
          241.006,
          255.61,
          185,
          197.383,
          179.9,
          164.57,
          232.49,
          174.4333333,
          185.96,
          199,
          182,
          151.8784375,
          150.1333333,
          132.53125,
          138.22,
          155,
          145.5509091,
          109.9,
          109.9,
          97.6425,
          78.7122807,
          81.02391304,
          80.66666667,
          79.8,
          78.9,
          77.9,
          77.9,
          45.9,
          44.15444444,
          45.9,
          45.9,
          45.9,
          47.9,
          47.9,
          47.9,
          47.9,
          47.9,
          215,
          209,
          205,
          199.5098039,
          163.3987097
         ],
         "y0": " ",
         "yaxis": "y"
        }
       ],
       "layout": {
        "boxmode": "group",
        "legend": {
         "tracegroupgap": 0
        },
        "template": {
         "data": {
          "bar": [
           {
            "error_x": {
             "color": "#2a3f5f"
            },
            "error_y": {
             "color": "#2a3f5f"
            },
            "marker": {
             "line": {
              "color": "white",
              "width": 0.5
             },
             "pattern": {
              "fillmode": "overlay",
              "size": 10,
              "solidity": 0.2
             }
            },
            "type": "bar"
           }
          ],
          "barpolar": [
           {
            "marker": {
             "line": {
              "color": "white",
              "width": 0.5
             },
             "pattern": {
              "fillmode": "overlay",
              "size": 10,
              "solidity": 0.2
             }
            },
            "type": "barpolar"
           }
          ],
          "carpet": [
           {
            "aaxis": {
             "endlinecolor": "#2a3f5f",
             "gridcolor": "#C8D4E3",
             "linecolor": "#C8D4E3",
             "minorgridcolor": "#C8D4E3",
             "startlinecolor": "#2a3f5f"
            },
            "baxis": {
             "endlinecolor": "#2a3f5f",
             "gridcolor": "#C8D4E3",
             "linecolor": "#C8D4E3",
             "minorgridcolor": "#C8D4E3",
             "startlinecolor": "#2a3f5f"
            },
            "type": "carpet"
           }
          ],
          "choropleth": [
           {
            "colorbar": {
             "outlinewidth": 0,
             "ticks": ""
            },
            "type": "choropleth"
           }
          ],
          "contour": [
           {
            "colorbar": {
             "outlinewidth": 0,
             "ticks": ""
            },
            "colorscale": [
             [
              0,
              "#0d0887"
             ],
             [
              0.1111111111111111,
              "#46039f"
             ],
             [
              0.2222222222222222,
              "#7201a8"
             ],
             [
              0.3333333333333333,
              "#9c179e"
             ],
             [
              0.4444444444444444,
              "#bd3786"
             ],
             [
              0.5555555555555556,
              "#d8576b"
             ],
             [
              0.6666666666666666,
              "#ed7953"
             ],
             [
              0.7777777777777778,
              "#fb9f3a"
             ],
             [
              0.8888888888888888,
              "#fdca26"
             ],
             [
              1,
              "#f0f921"
             ]
            ],
            "type": "contour"
           }
          ],
          "contourcarpet": [
           {
            "colorbar": {
             "outlinewidth": 0,
             "ticks": ""
            },
            "type": "contourcarpet"
           }
          ],
          "heatmap": [
           {
            "colorbar": {
             "outlinewidth": 0,
             "ticks": ""
            },
            "colorscale": [
             [
              0,
              "#0d0887"
             ],
             [
              0.1111111111111111,
              "#46039f"
             ],
             [
              0.2222222222222222,
              "#7201a8"
             ],
             [
              0.3333333333333333,
              "#9c179e"
             ],
             [
              0.4444444444444444,
              "#bd3786"
             ],
             [
              0.5555555555555556,
              "#d8576b"
             ],
             [
              0.6666666666666666,
              "#ed7953"
             ],
             [
              0.7777777777777778,
              "#fb9f3a"
             ],
             [
              0.8888888888888888,
              "#fdca26"
             ],
             [
              1,
              "#f0f921"
             ]
            ],
            "type": "heatmap"
           }
          ],
          "heatmapgl": [
           {
            "colorbar": {
             "outlinewidth": 0,
             "ticks": ""
            },
            "colorscale": [
             [
              0,
              "#0d0887"
             ],
             [
              0.1111111111111111,
              "#46039f"
             ],
             [
              0.2222222222222222,
              "#7201a8"
             ],
             [
              0.3333333333333333,
              "#9c179e"
             ],
             [
              0.4444444444444444,
              "#bd3786"
             ],
             [
              0.5555555555555556,
              "#d8576b"
             ],
             [
              0.6666666666666666,
              "#ed7953"
             ],
             [
              0.7777777777777778,
              "#fb9f3a"
             ],
             [
              0.8888888888888888,
              "#fdca26"
             ],
             [
              1,
              "#f0f921"
             ]
            ],
            "type": "heatmapgl"
           }
          ],
          "histogram": [
           {
            "marker": {
             "pattern": {
              "fillmode": "overlay",
              "size": 10,
              "solidity": 0.2
             }
            },
            "type": "histogram"
           }
          ],
          "histogram2d": [
           {
            "colorbar": {
             "outlinewidth": 0,
             "ticks": ""
            },
            "colorscale": [
             [
              0,
              "#0d0887"
             ],
             [
              0.1111111111111111,
              "#46039f"
             ],
             [
              0.2222222222222222,
              "#7201a8"
             ],
             [
              0.3333333333333333,
              "#9c179e"
             ],
             [
              0.4444444444444444,
              "#bd3786"
             ],
             [
              0.5555555555555556,
              "#d8576b"
             ],
             [
              0.6666666666666666,
              "#ed7953"
             ],
             [
              0.7777777777777778,
              "#fb9f3a"
             ],
             [
              0.8888888888888888,
              "#fdca26"
             ],
             [
              1,
              "#f0f921"
             ]
            ],
            "type": "histogram2d"
           }
          ],
          "histogram2dcontour": [
           {
            "colorbar": {
             "outlinewidth": 0,
             "ticks": ""
            },
            "colorscale": [
             [
              0,
              "#0d0887"
             ],
             [
              0.1111111111111111,
              "#46039f"
             ],
             [
              0.2222222222222222,
              "#7201a8"
             ],
             [
              0.3333333333333333,
              "#9c179e"
             ],
             [
              0.4444444444444444,
              "#bd3786"
             ],
             [
              0.5555555555555556,
              "#d8576b"
             ],
             [
              0.6666666666666666,
              "#ed7953"
             ],
             [
              0.7777777777777778,
              "#fb9f3a"
             ],
             [
              0.8888888888888888,
              "#fdca26"
             ],
             [
              1,
              "#f0f921"
             ]
            ],
            "type": "histogram2dcontour"
           }
          ],
          "mesh3d": [
           {
            "colorbar": {
             "outlinewidth": 0,
             "ticks": ""
            },
            "type": "mesh3d"
           }
          ],
          "parcoords": [
           {
            "line": {
             "colorbar": {
              "outlinewidth": 0,
              "ticks": ""
             }
            },
            "type": "parcoords"
           }
          ],
          "pie": [
           {
            "automargin": true,
            "type": "pie"
           }
          ],
          "scatter": [
           {
            "fillpattern": {
             "fillmode": "overlay",
             "size": 10,
             "solidity": 0.2
            },
            "type": "scatter"
           }
          ],
          "scatter3d": [
           {
            "line": {
             "colorbar": {
              "outlinewidth": 0,
              "ticks": ""
             }
            },
            "marker": {
             "colorbar": {
              "outlinewidth": 0,
              "ticks": ""
             }
            },
            "type": "scatter3d"
           }
          ],
          "scattercarpet": [
           {
            "marker": {
             "colorbar": {
              "outlinewidth": 0,
              "ticks": ""
             }
            },
            "type": "scattercarpet"
           }
          ],
          "scattergeo": [
           {
            "marker": {
             "colorbar": {
              "outlinewidth": 0,
              "ticks": ""
             }
            },
            "type": "scattergeo"
           }
          ],
          "scattergl": [
           {
            "marker": {
             "colorbar": {
              "outlinewidth": 0,
              "ticks": ""
             }
            },
            "type": "scattergl"
           }
          ],
          "scattermapbox": [
           {
            "marker": {
             "colorbar": {
              "outlinewidth": 0,
              "ticks": ""
             }
            },
            "type": "scattermapbox"
           }
          ],
          "scatterpolar": [
           {
            "marker": {
             "colorbar": {
              "outlinewidth": 0,
              "ticks": ""
             }
            },
            "type": "scatterpolar"
           }
          ],
          "scatterpolargl": [
           {
            "marker": {
             "colorbar": {
              "outlinewidth": 0,
              "ticks": ""
             }
            },
            "type": "scatterpolargl"
           }
          ],
          "scatterternary": [
           {
            "marker": {
             "colorbar": {
              "outlinewidth": 0,
              "ticks": ""
             }
            },
            "type": "scatterternary"
           }
          ],
          "surface": [
           {
            "colorbar": {
             "outlinewidth": 0,
             "ticks": ""
            },
            "colorscale": [
             [
              0,
              "#0d0887"
             ],
             [
              0.1111111111111111,
              "#46039f"
             ],
             [
              0.2222222222222222,
              "#7201a8"
             ],
             [
              0.3333333333333333,
              "#9c179e"
             ],
             [
              0.4444444444444444,
              "#bd3786"
             ],
             [
              0.5555555555555556,
              "#d8576b"
             ],
             [
              0.6666666666666666,
              "#ed7953"
             ],
             [
              0.7777777777777778,
              "#fb9f3a"
             ],
             [
              0.8888888888888888,
              "#fdca26"
             ],
             [
              1,
              "#f0f921"
             ]
            ],
            "type": "surface"
           }
          ],
          "table": [
           {
            "cells": {
             "fill": {
              "color": "#EBF0F8"
             },
             "line": {
              "color": "white"
             }
            },
            "header": {
             "fill": {
              "color": "#C8D4E3"
             },
             "line": {
              "color": "white"
             }
            },
            "type": "table"
           }
          ]
         },
         "layout": {
          "annotationdefaults": {
           "arrowcolor": "#2a3f5f",
           "arrowhead": 0,
           "arrowwidth": 1
          },
          "autotypenumbers": "strict",
          "coloraxis": {
           "colorbar": {
            "outlinewidth": 0,
            "ticks": ""
           }
          },
          "colorscale": {
           "diverging": [
            [
             0,
             "#8e0152"
            ],
            [
             0.1,
             "#c51b7d"
            ],
            [
             0.2,
             "#de77ae"
            ],
            [
             0.3,
             "#f1b6da"
            ],
            [
             0.4,
             "#fde0ef"
            ],
            [
             0.5,
             "#f7f7f7"
            ],
            [
             0.6,
             "#e6f5d0"
            ],
            [
             0.7,
             "#b8e186"
            ],
            [
             0.8,
             "#7fbc41"
            ],
            [
             0.9,
             "#4d9221"
            ],
            [
             1,
             "#276419"
            ]
           ],
           "sequential": [
            [
             0,
             "#0d0887"
            ],
            [
             0.1111111111111111,
             "#46039f"
            ],
            [
             0.2222222222222222,
             "#7201a8"
            ],
            [
             0.3333333333333333,
             "#9c179e"
            ],
            [
             0.4444444444444444,
             "#bd3786"
            ],
            [
             0.5555555555555556,
             "#d8576b"
            ],
            [
             0.6666666666666666,
             "#ed7953"
            ],
            [
             0.7777777777777778,
             "#fb9f3a"
            ],
            [
             0.8888888888888888,
             "#fdca26"
            ],
            [
             1,
             "#f0f921"
            ]
           ],
           "sequentialminus": [
            [
             0,
             "#0d0887"
            ],
            [
             0.1111111111111111,
             "#46039f"
            ],
            [
             0.2222222222222222,
             "#7201a8"
            ],
            [
             0.3333333333333333,
             "#9c179e"
            ],
            [
             0.4444444444444444,
             "#bd3786"
            ],
            [
             0.5555555555555556,
             "#d8576b"
            ],
            [
             0.6666666666666666,
             "#ed7953"
            ],
            [
             0.7777777777777778,
             "#fb9f3a"
            ],
            [
             0.8888888888888888,
             "#fdca26"
            ],
            [
             1,
             "#f0f921"
            ]
           ]
          },
          "colorway": [
           "#636efa",
           "#EF553B",
           "#00cc96",
           "#ab63fa",
           "#FFA15A",
           "#19d3f3",
           "#FF6692",
           "#B6E880",
           "#FF97FF",
           "#FECB52"
          ],
          "font": {
           "color": "#2a3f5f"
          },
          "geo": {
           "bgcolor": "white",
           "lakecolor": "white",
           "landcolor": "white",
           "showlakes": true,
           "showland": true,
           "subunitcolor": "#C8D4E3"
          },
          "hoverlabel": {
           "align": "left"
          },
          "hovermode": "closest",
          "mapbox": {
           "style": "light"
          },
          "paper_bgcolor": "white",
          "plot_bgcolor": "white",
          "polar": {
           "angularaxis": {
            "gridcolor": "#EBF0F8",
            "linecolor": "#EBF0F8",
            "ticks": ""
           },
           "bgcolor": "white",
           "radialaxis": {
            "gridcolor": "#EBF0F8",
            "linecolor": "#EBF0F8",
            "ticks": ""
           }
          },
          "scene": {
           "xaxis": {
            "backgroundcolor": "white",
            "gridcolor": "#DFE8F3",
            "gridwidth": 2,
            "linecolor": "#EBF0F8",
            "showbackground": true,
            "ticks": "",
            "zerolinecolor": "#EBF0F8"
           },
           "yaxis": {
            "backgroundcolor": "white",
            "gridcolor": "#DFE8F3",
            "gridwidth": 2,
            "linecolor": "#EBF0F8",
            "showbackground": true,
            "ticks": "",
            "zerolinecolor": "#EBF0F8"
           },
           "zaxis": {
            "backgroundcolor": "white",
            "gridcolor": "#DFE8F3",
            "gridwidth": 2,
            "linecolor": "#EBF0F8",
            "showbackground": true,
            "ticks": "",
            "zerolinecolor": "#EBF0F8"
           }
          },
          "shapedefaults": {
           "line": {
            "color": "#2a3f5f"
           }
          },
          "ternary": {
           "aaxis": {
            "gridcolor": "#DFE8F3",
            "linecolor": "#A2B1C6",
            "ticks": ""
           },
           "baxis": {
            "gridcolor": "#DFE8F3",
            "linecolor": "#A2B1C6",
            "ticks": ""
           },
           "bgcolor": "white",
           "caxis": {
            "gridcolor": "#DFE8F3",
            "linecolor": "#A2B1C6",
            "ticks": ""
           }
          },
          "title": {
           "x": 0.05
          },
          "xaxis": {
           "automargin": true,
           "gridcolor": "#EBF0F8",
           "linecolor": "#EBF0F8",
           "ticks": "",
           "title": {
            "standoff": 15
           },
           "zerolinecolor": "#EBF0F8",
           "zerolinewidth": 2
          },
          "yaxis": {
           "automargin": true,
           "gridcolor": "#EBF0F8",
           "linecolor": "#EBF0F8",
           "ticks": "",
           "title": {
            "standoff": 15
           },
           "zerolinecolor": "#EBF0F8",
           "zerolinewidth": 2
          }
         }
        },
        "title": {
         "text": "Box plot of the unit price"
        },
        "xaxis": {
         "anchor": "y",
         "domain": [
          0,
          1
         ]
        },
        "yaxis": {
         "anchor": "x",
         "domain": [
          0,
          1
         ],
         "title": {
          "text": "unit_price"
         }
        }
       }
      }
     },
     "metadata": {},
     "output_type": "display_data"
    }
   ],
   "source": [
    "# Now let’s have a look at the distribution of the unit prices using a box plot:\n",
    "fig = px.box(data,y=\"unit_price\",title=\"Box plot of the unit price\")\n",
    "fig.show()"
   ]
  },
  {
   "cell_type": "code",
   "execution_count": 15,
   "metadata": {},
   "outputs": [
    {
     "data": {
      "application/vnd.plotly.v1+json": {
       "config": {
        "plotlyServerURL": "https://plot.ly"
       },
       "data": [
        {
         "hovertemplate": "qty=%{x}<br>total_price=%{y}<extra></extra>",
         "legendgroup": "",
         "marker": {
          "color": "#636efa",
          "symbol": "circle"
         },
         "mode": "markers",
         "name": "",
         "orientation": "v",
         "showlegend": false,
         "type": "scatter",
         "x": [
          1,
          3,
          6,
          4,
          2,
          3,
          11,
          6,
          19,
          18,
          17,
          13,
          19,
          5,
          8,
          8,
          6,
          3,
          20,
          8,
          10,
          7,
          9,
          14,
          17,
          11,
          4,
          2,
          1,
          1,
          13,
          24,
          9,
          28,
          28,
          16,
          5,
          6,
          7,
          3,
          2,
          1,
          1,
          1,
          4,
          6,
          5,
          11,
          20,
          10,
          11,
          8,
          3,
          8,
          9,
          5,
          6,
          7,
          11,
          9,
          13,
          16,
          21,
          29,
          28,
          24,
          27,
          28,
          19,
          19,
          14,
          8,
          7,
          3,
          3,
          2,
          1,
          1,
          12,
          27,
          29,
          13,
          8,
          11,
          6,
          1,
          2,
          9,
          13,
          23,
          43,
          33,
          32,
          4,
          7,
          7,
          17,
          17,
          20,
          24,
          10,
          4,
          14,
          2,
          8,
          4,
          2,
          18,
          11,
          14,
          8,
          6,
          9,
          2,
          3,
          6,
          9,
          5,
          4,
          6,
          6,
          9,
          17,
          18,
          21,
          24,
          26,
          19,
          20,
          17,
          16,
          14,
          16,
          13,
          10,
          7,
          13,
          23,
          13,
          36,
          69,
          44,
          39,
          48,
          26,
          28,
          25,
          15,
          3,
          6,
          1,
          2,
          57,
          45,
          6,
          10,
          3,
          3,
          3,
          3,
          19,
          27,
          17,
          31,
          87,
          32,
          29,
          36,
          35,
          13,
          29,
          6,
          14,
          10,
          22,
          69,
          51,
          35,
          52,
          27,
          13,
          5,
          3,
          13,
          15,
          38,
          26,
          27,
          28,
          4,
          1,
          14,
          39,
          37,
          39,
          91,
          51,
          12,
          39,
          31,
          46,
          56,
          12,
          6,
          6,
          21,
          58,
          18,
          33,
          9,
          5,
          11,
          5,
          6,
          5,
          10,
          16,
          26,
          6,
          8,
          14,
          9,
          10,
          22,
          1,
          5,
          3,
          3,
          4,
          3,
          36,
          50,
          13,
          7,
          4,
          2,
          1,
          3,
          2,
          6,
          13,
          15,
          14,
          12,
          13,
          11,
          3,
          10,
          8,
          7,
          3,
          7,
          4,
          19,
          21,
          23,
          19,
          82,
          40,
          25,
          44,
          25,
          20,
          17,
          8,
          9,
          7,
          4,
          11,
          13,
          18,
          1,
          15,
          4,
          6,
          31,
          85,
          114,
          9,
          11,
          1,
          1,
          76,
          26,
          4,
          4,
          2,
          1,
          1,
          1,
          2,
          8,
          12,
          6,
          11,
          4,
          8,
          17,
          14,
          5,
          17,
          8,
          14,
          18,
          17,
          16,
          16,
          10,
          9,
          3,
          4,
          2,
          1,
          1,
          4,
          6,
          10,
          2,
          4,
          4,
          6,
          1,
          31,
          30,
          13,
          5,
          4,
          18,
          1,
          1,
          11,
          9,
          12,
          23,
          17,
          10,
          1,
          7,
          6,
          8,
          4,
          2,
          1,
          4,
          2,
          1,
          7,
          7,
          10,
          11,
          7,
          12,
          15,
          17,
          7,
          10,
          11,
          11,
          9,
          2,
          2,
          2,
          11,
          16,
          26,
          30,
          3,
          14,
          11,
          1,
          3,
          13,
          13,
          12,
          13,
          13,
          10,
          14,
          9,
          8,
          10,
          8,
          12,
          28,
          10,
          21,
          16,
          13,
          17,
          1,
          5,
          9,
          9,
          16,
          21,
          15,
          22,
          25,
          19,
          24,
          9,
          6,
          14,
          10,
          11,
          4,
          6,
          2,
          3,
          8,
          22,
          7,
          11,
          13,
          3,
          9,
          14,
          14,
          9,
          1,
          1,
          11,
          8,
          2,
          2,
          2,
          4,
          12,
          21,
          14,
          12,
          14,
          6,
          7,
          8,
          10,
          5,
          2,
          2,
          22,
          34,
          58,
          51,
          60,
          37,
          23,
          14,
          40,
          18,
          17,
          22,
          17,
          6,
          26,
          23,
          10,
          7,
          1,
          6,
          8,
          34,
          4,
          15,
          4,
          14,
          4,
          4,
          2,
          1,
          13,
          13,
          44,
          33,
          21,
          21,
          37,
          28,
          8,
          7,
          1,
          3,
          1,
          5,
          3,
          2,
          6,
          9,
          1,
          1,
          16,
          5,
          39,
          40,
          28,
          5,
          13,
          5,
          44,
          47,
          122,
          44,
          65,
          83,
          92,
          2,
          2,
          3,
          5,
          2,
          5,
          15,
          19,
          34,
          13,
          9,
          1,
          1,
          4,
          2,
          2,
          4,
          5,
          3,
          3,
          1,
          8,
          12,
          25,
          28,
          2,
          9,
          17,
          17,
          11,
          13,
          10,
          16,
          6,
          11,
          2,
          12,
          6,
          10,
          23,
          28,
          21,
          19,
          16,
          13,
          28,
          1,
          5,
          4,
          6,
          1,
          2,
          7,
          17,
          28,
          27,
          11,
          7,
          6,
          5,
          2,
          6,
          7,
          6,
          7,
          14,
          17,
          22,
          14,
          11,
          14,
          3,
          2,
          4,
          3,
          3,
          1,
          2,
          3,
          3,
          3,
          5,
          3,
          6,
          7,
          11,
          17,
          18,
          23,
          43,
          31,
          44,
          56,
          25,
          27,
          9,
          10,
          2,
          1,
          10,
          9,
          11,
          1,
          5,
          6,
          6,
          23,
          4,
          45,
          15,
          15,
          4,
          13,
          12,
          16,
          18,
          2,
          5,
          3,
          1,
          6,
          6,
          15,
          16,
          11,
          22,
          22,
          7,
          18,
          13,
          5,
          3,
          5,
          10,
          15,
          20,
          4,
          18,
          5,
          2,
          6,
          32,
          9,
          32,
          15,
          2,
          11,
          1,
          12,
          29,
          71,
          27,
          13,
          11,
          10,
          7,
          2,
          29,
          32,
          12,
          19,
          16,
          8,
          7,
          2,
          4,
          2,
          1,
          10,
          59,
          52,
          32
         ],
         "xaxis": "x",
         "y": [
          45.95,
          137.85,
          275.7,
          183.8,
          91.9,
          137.85,
          445.85,
          239.94,
          759.81,
          719.82,
          679.83,
          519.87,
          759.81,
          199.95,
          319.92,
          313.92,
          419.4,
          247.9,
          1956,
          712,
          890,
          683,
          891,
          1386,
          1683,
          1089,
          398,
          202,
          101,
          101,
          258.7,
          477.6,
          179.1,
          603.2,
          686,
          392,
          162.5,
          195,
          245.4,
          108.6,
          72.4,
          36.2,
          59.9,
          59.9,
          239.6,
          359.4,
          299.5,
          658.9,
          1043.6,
          571.8,
          548.9,
          411.2,
          161.7,
          431.2,
          477.1,
          249.5,
          299.4,
          349.3,
          219.89,
          179.91,
          259.87,
          319.84,
          419.79,
          579.71,
          651.72,
          575.76,
          647.73,
          671.72,
          455.81,
          455.81,
          335.86,
          191.92,
          167.93,
          71.97,
          71.97,
          47.98,
          134.99,
          134.99,
          1763.88,
          4248.73,
          4842.71,
          2170.87,
          1415.92,
          1911.89,
          1019.94,
          110.99,
          221.98,
          998.91,
          1514.87,
          2759.77,
          5288.57,
          4058.67,
          3935.68,
          227.96,
          398.93,
          398.93,
          968.83,
          968.83,
          1139.8,
          1367.76,
          569.9,
          227.96,
          706.86,
          99.98,
          399.92,
          199.96,
          199.98,
          1799.82,
          1099.89,
          1399.86,
          799.92,
          599.94,
          899.91,
          199.98,
          299.97,
          599.94,
          899.91,
          489.76,
          338.77,
          539.94,
          539.94,
          809.91,
          1529.83,
          1619.82,
          1889.79,
          2159.76,
          2339.74,
          1709.81,
          1799.8,
          1529.83,
          1339.84,
          1119.86,
          1279.84,
          1039.87,
          799.9,
          579.75,
          778.7,
          1377.7,
          778.7,
          2156.4,
          3711.7,
          2468.6,
          1946.1,
          2411.2,
          1401.4,
          1509.2,
          1319.5,
          748.5,
          149.7,
          299.4,
          167,
          239.8,
          5453.96,
          3465.8,
          528,
          880,
          269.7,
          236.7,
          179.7,
          179.7,
          1138.1,
          1617.3,
          1018.3,
          1856.9,
          4712.19,
          1769.7,
          1447.1,
          1828.4,
          1886.5,
          700.7,
          1559.1,
          299.4,
          698.6,
          499,
          3307.8,
          10343.1,
          7644.9,
          5246.5,
          7794.8,
          4047.3,
          1948.7,
          749.5,
          185.97,
          805.87,
          974.85,
          2469.62,
          1741.74,
          1808.73,
          1875.72,
          239.6,
          59.9,
          838.6,
          2336.1,
          2216.3,
          2336.1,
          4769.7,
          2881.6,
          598.8,
          1970.1,
          1670.9,
          2479.4,
          2982.4,
          598.8,
          299.46,
          299.46,
          994.04,
          2809.65,
          965.91,
          1723.08,
          449.82,
          257.56,
          557.85,
          789.95,
          1016.95,
          849.5,
          1604,
          2391.6,
          3660,
          894,
          1188,
          2043.92,
          1115.7,
          1191.9,
          2598.9,
          139.9,
          694.9,
          414,
          254.97,
          339.96,
          254.97,
          3059.64,
          4249.5,
          1104.87,
          594.93,
          339.96,
          169.98,
          179.99,
          539.97,
          359.98,
          1079.94,
          2339.87,
          2759.85,
          2629.96,
          2148,
          2277,
          1969,
          537,
          1590,
          1112,
          973,
          179.7,
          419.3,
          239.6,
          1138.1,
          1257.9,
          1377.7,
          1138.1,
          4397.7,
          2232.6,
          1247.5,
          2247.6,
          1347.5,
          1078,
          888.3,
          399.2,
          449.1,
          349.3,
          652,
          1777.5,
          2088.7,
          2762.5,
          134.9,
          1995,
          596,
          769.45,
          3640.68,
          8961.49,
          11820.2,
          1071,
          1302,
          112,
          29.5,
          2242,
          910,
          140,
          140,
          130,
          65,
          142.5,
          142.5,
          285,
          944.4,
          1416,
          707.4,
          1296.8,
          470.8,
          943.8,
          2038.3,
          1668.5,
          593.5,
          1987.4,
          1039.92,
          1819.86,
          2339.82,
          2209.83,
          2079.84,
          1870.84,
          1199.9,
          1169.91,
          389.97,
          519.96,
          259.98,
          129.99,
          129.99,
          379.6,
          611.4,
          1099,
          219.8,
          395.6,
          395.6,
          593.4,
          98.9,
          2795.14,
          2537.19,
          1139.8,
          470,
          292,
          1199.48,
          79.9,
          19.9,
          218.9,
          179.1,
          248,
          563.5,
          416.5,
          271.2,
          32.5,
          229.2,
          205.2,
          2799.2,
          1399.6,
          699.8,
          349.9,
          1399.6,
          699.8,
          349.9,
          2449.3,
          2449.3,
          3499,
          3543.5,
          2449.3,
          4198.8,
          5248.5,
          5948.3,
          2449.3,
          3513.1,
          4004,
          4004,
          3276,
          479.8,
          479.8,
          459.8,
          2250.8,
          2680,
          3908.9,
          4355,
          457.9,
          2200,
          1737.4,
          99.9,
          299.7,
          1298.7,
          1298.7,
          1198.8,
          1298.7,
          1298.7,
          999,
          1099.5,
          754.5,
          1839.2,
          2190.6,
          1729.2,
          2395.2,
          6287.2,
          2207.7,
          4319.4,
          3459,
          2657,
          3383,
          64.99,
          324.95,
          584.91,
          584.91,
          1039.84,
          1234.79,
          888.85,
          1297.78,
          1474.75,
          1120.81,
          1415.76,
          530.91,
          353.94,
          825.86,
          589.9,
          648.89,
          235.96,
          353.94,
          117.98,
          176.97,
          792,
          2178,
          693,
          1082,
          1196,
          276,
          815,
          1235.36,
          1188.6,
          764.1,
          84.9,
          99.99,
          1099.89,
          759.92,
          219.98,
          239.98,
          240,
          417,
          1105.92,
          1889.79,
          1259.86,
          1479.98,
          1680,
          680,
          770,
          880,
          969.9,
          499.95,
          199.98,
          179.8,
          1977.8,
          3056.6,
          5214.2,
          4584.9,
          5394,
          3326.3,
          2067.7,
          1258.6,
          3596,
          1594.2,
          1477.3,
          1911.8,
          1477.3,
          510.27,
          2174.89,
          1837.7,
          781.3,
          518,
          38.4,
          230.4,
          307.2,
          1170.35,
          153.6,
          576,
          153.6,
          493.4,
          140,
          140,
          70,
          35,
          1404,
          1404,
          4752,
          3564,
          2214,
          2205,
          3885,
          2940,
          840,
          735,
          78,
          234,
          78,
          390,
          234,
          156,
          468,
          702,
          78,
          78,
          1248,
          390,
          3042,
          3120,
          2179,
          375,
          975,
          375,
          3300,
          3525,
          8538,
          3075.6,
          4543.5,
          5801.7,
          6430.8,
          179.8,
          179.8,
          309.7,
          299.5,
          119.8,
          299.5,
          898.5,
          1138.1,
          2036.6,
          778.7,
          495.5,
          49.9,
          49.9,
          203.6,
          107.8,
          107.8,
          199.6,
          249.5,
          149.7,
          149.7,
          38.4,
          307.2,
          460.8,
          960,
          1026.51,
          76.8,
          345.6,
          601.8,
          595,
          385,
          455,
          350,
          560,
          1950,
          3575,
          650,
          3900,
          1950,
          3250,
          7475,
          9125,
          6930,
          6270,
          5280,
          4290,
          9240,
          99.99,
          499.95,
          439.96,
          659.94,
          120,
          240,
          735,
          1619.93,
          2519.72,
          2429.73,
          1405,
          840,
          660,
          550,
          220,
          539.94,
          699.93,
          589.94,
          599.93,
          1399.86,
          1699.83,
          2199.78,
          1399.86,
          1099.89,
          1399.86,
          299.97,
          199.98,
          399.96,
          299.97,
          299.97,
          99.99,
          199.98,
          269.59,
          479.97,
          479.97,
          699.95,
          479.97,
          839.94,
          1019.93,
          1679.89,
          2629.83,
          2699.82,
          3449.77,
          6746.9,
          4619,
          5986,
          6764,
          2975,
          3086.76,
          1079.91,
          1199.9,
          678,
          339,
          3461.58,
          3111.36,
          3836.8,
          339.9,
          1735,
          1847,
          1684,
          5956.3,
          983.6,
          7651.27,
          2715.7,
          2247.72,
          584.77,
          1884.45,
          1656.87,
          2206.4,
          2482.2,
          269.8,
          665,
          398.91,
          29.9,
          179.4,
          179.4,
          448.5,
          478.4,
          328.9,
          657.8,
          657.8,
          209.3,
          538.2,
          388.7,
          1205.03,
          766.83,
          925,
          1973.83,
          2698.5,
          3291.4,
          929.96,
          3139.8,
          929.8,
          398,
          1092,
          4860.11,
          1351.2,
          4241,
          2073.3,
          310,
          1601.06,
          109.9,
          1318.8,
          2831.55,
          5581.8,
          2187.3,
          1042.9,
          876.9,
          789,
          545.3,
          155.8,
          1331.1,
          1421.67,
          550.8,
          872.1,
          734.4,
          383.2,
          335.3,
          95.8,
          191.6,
          95.8,
          215,
          2090,
          12095,
          10375,
          5222.36
         ],
         "yaxis": "y"
        },
        {
         "hovertemplate": "<b>OLS trendline</b><br>total_price = 82.5219 * qty + 226.507<br>R<sup>2</sup>=0.561908<br><br>qty=%{x}<br>total_price=%{y} <b>(trend)</b><extra></extra>",
         "legendgroup": "",
         "marker": {
          "color": "#636efa",
          "symbol": "circle"
         },
         "mode": "lines",
         "name": "",
         "showlegend": false,
         "type": "scatter",
         "x": [
          1,
          1,
          1,
          1,
          1,
          1,
          1,
          1,
          1,
          1,
          1,
          1,
          1,
          1,
          1,
          1,
          1,
          1,
          1,
          1,
          1,
          1,
          1,
          1,
          1,
          1,
          1,
          1,
          1,
          1,
          1,
          1,
          1,
          1,
          1,
          1,
          1,
          1,
          1,
          1,
          1,
          1,
          1,
          1,
          1,
          1,
          1,
          1,
          2,
          2,
          2,
          2,
          2,
          2,
          2,
          2,
          2,
          2,
          2,
          2,
          2,
          2,
          2,
          2,
          2,
          2,
          2,
          2,
          2,
          2,
          2,
          2,
          2,
          2,
          2,
          2,
          2,
          2,
          2,
          2,
          2,
          2,
          2,
          2,
          2,
          2,
          2,
          2,
          2,
          2,
          2,
          2,
          2,
          2,
          3,
          3,
          3,
          3,
          3,
          3,
          3,
          3,
          3,
          3,
          3,
          3,
          3,
          3,
          3,
          3,
          3,
          3,
          3,
          3,
          3,
          3,
          3,
          3,
          3,
          3,
          3,
          3,
          3,
          3,
          3,
          3,
          3,
          3,
          3,
          3,
          3,
          3,
          3,
          4,
          4,
          4,
          4,
          4,
          4,
          4,
          4,
          4,
          4,
          4,
          4,
          4,
          4,
          4,
          4,
          4,
          4,
          4,
          4,
          4,
          4,
          4,
          4,
          4,
          4,
          4,
          4,
          4,
          4,
          4,
          4,
          4,
          4,
          4,
          4,
          4,
          5,
          5,
          5,
          5,
          5,
          5,
          5,
          5,
          5,
          5,
          5,
          5,
          5,
          5,
          5,
          5,
          5,
          5,
          5,
          5,
          5,
          5,
          5,
          5,
          5,
          5,
          5,
          5,
          5,
          6,
          6,
          6,
          6,
          6,
          6,
          6,
          6,
          6,
          6,
          6,
          6,
          6,
          6,
          6,
          6,
          6,
          6,
          6,
          6,
          6,
          6,
          6,
          6,
          6,
          6,
          6,
          6,
          6,
          6,
          6,
          6,
          6,
          6,
          6,
          6,
          6,
          6,
          6,
          6,
          6,
          6,
          7,
          7,
          7,
          7,
          7,
          7,
          7,
          7,
          7,
          7,
          7,
          7,
          7,
          7,
          7,
          7,
          7,
          7,
          7,
          7,
          7,
          7,
          7,
          7,
          7,
          7,
          7,
          7,
          8,
          8,
          8,
          8,
          8,
          8,
          8,
          8,
          8,
          8,
          8,
          8,
          8,
          8,
          8,
          8,
          8,
          8,
          8,
          8,
          8,
          8,
          8,
          8,
          8,
          9,
          9,
          9,
          9,
          9,
          9,
          9,
          9,
          9,
          9,
          9,
          9,
          9,
          9,
          9,
          9,
          9,
          9,
          9,
          9,
          9,
          9,
          9,
          9,
          9,
          9,
          9,
          10,
          10,
          10,
          10,
          10,
          10,
          10,
          10,
          10,
          10,
          10,
          10,
          10,
          10,
          10,
          10,
          10,
          10,
          10,
          10,
          10,
          10,
          10,
          10,
          10,
          10,
          10,
          11,
          11,
          11,
          11,
          11,
          11,
          11,
          11,
          11,
          11,
          11,
          11,
          11,
          11,
          11,
          11,
          11,
          11,
          11,
          11,
          11,
          11,
          11,
          11,
          11,
          11,
          11,
          11,
          11,
          11,
          12,
          12,
          12,
          12,
          12,
          12,
          12,
          12,
          12,
          12,
          12,
          12,
          12,
          12,
          12,
          12,
          13,
          13,
          13,
          13,
          13,
          13,
          13,
          13,
          13,
          13,
          13,
          13,
          13,
          13,
          13,
          13,
          13,
          13,
          13,
          13,
          13,
          13,
          13,
          13,
          13,
          13,
          13,
          13,
          13,
          13,
          13,
          14,
          14,
          14,
          14,
          14,
          14,
          14,
          14,
          14,
          14,
          14,
          14,
          14,
          14,
          14,
          14,
          14,
          14,
          14,
          14,
          14,
          14,
          14,
          15,
          15,
          15,
          15,
          15,
          15,
          15,
          15,
          15,
          15,
          15,
          15,
          15,
          16,
          16,
          16,
          16,
          16,
          16,
          16,
          16,
          16,
          16,
          16,
          16,
          16,
          16,
          16,
          16,
          17,
          17,
          17,
          17,
          17,
          17,
          17,
          17,
          17,
          17,
          17,
          17,
          17,
          17,
          17,
          17,
          17,
          17,
          17,
          17,
          17,
          18,
          18,
          18,
          18,
          18,
          18,
          18,
          18,
          18,
          18,
          18,
          18,
          19,
          19,
          19,
          19,
          19,
          19,
          19,
          19,
          19,
          19,
          19,
          19,
          20,
          20,
          20,
          20,
          20,
          20,
          21,
          21,
          21,
          21,
          21,
          21,
          21,
          21,
          21,
          21,
          22,
          22,
          22,
          22,
          22,
          22,
          22,
          22,
          22,
          23,
          23,
          23,
          23,
          23,
          23,
          23,
          23,
          23,
          24,
          24,
          24,
          24,
          24,
          25,
          25,
          25,
          25,
          25,
          25,
          26,
          26,
          26,
          26,
          26,
          26,
          26,
          27,
          27,
          27,
          27,
          27,
          27,
          27,
          27,
          28,
          28,
          28,
          28,
          28,
          28,
          28,
          28,
          28,
          28,
          28,
          28,
          28,
          29,
          29,
          29,
          29,
          29,
          29,
          30,
          30,
          31,
          31,
          31,
          31,
          31,
          32,
          32,
          32,
          32,
          32,
          32,
          33,
          33,
          33,
          34,
          34,
          34,
          35,
          35,
          36,
          36,
          36,
          37,
          37,
          37,
          38,
          39,
          39,
          39,
          39,
          39,
          40,
          40,
          40,
          43,
          43,
          44,
          44,
          44,
          44,
          44,
          44,
          45,
          45,
          46,
          47,
          48,
          50,
          51,
          51,
          51,
          52,
          52,
          56,
          56,
          57,
          58,
          58,
          59,
          60,
          65,
          69,
          69,
          71,
          76,
          82,
          83,
          85,
          87,
          91,
          92,
          114,
          122
         ],
         "xaxis": "x",
         "y": [
          309.0287166787696,
          309.0287166787696,
          309.0287166787696,
          309.0287166787696,
          309.0287166787696,
          309.0287166787696,
          309.0287166787696,
          309.0287166787696,
          309.0287166787696,
          309.0287166787696,
          309.0287166787696,
          309.0287166787696,
          309.0287166787696,
          309.0287166787696,
          309.0287166787696,
          309.0287166787696,
          309.0287166787696,
          309.0287166787696,
          309.0287166787696,
          309.0287166787696,
          309.0287166787696,
          309.0287166787696,
          309.0287166787696,
          309.0287166787696,
          309.0287166787696,
          309.0287166787696,
          309.0287166787696,
          309.0287166787696,
          309.0287166787696,
          309.0287166787696,
          309.0287166787696,
          309.0287166787696,
          309.0287166787696,
          309.0287166787696,
          309.0287166787696,
          309.0287166787696,
          309.0287166787696,
          309.0287166787696,
          309.0287166787696,
          309.0287166787696,
          309.0287166787696,
          309.0287166787696,
          309.0287166787696,
          309.0287166787696,
          309.0287166787696,
          309.0287166787696,
          309.0287166787696,
          309.0287166787696,
          391.5506598471519,
          391.5506598471519,
          391.5506598471519,
          391.5506598471519,
          391.5506598471519,
          391.5506598471519,
          391.5506598471519,
          391.5506598471519,
          391.5506598471519,
          391.5506598471519,
          391.5506598471519,
          391.5506598471519,
          391.5506598471519,
          391.5506598471519,
          391.5506598471519,
          391.5506598471519,
          391.5506598471519,
          391.5506598471519,
          391.5506598471519,
          391.5506598471519,
          391.5506598471519,
          391.5506598471519,
          391.5506598471519,
          391.5506598471519,
          391.5506598471519,
          391.5506598471519,
          391.5506598471519,
          391.5506598471519,
          391.5506598471519,
          391.5506598471519,
          391.5506598471519,
          391.5506598471519,
          391.5506598471519,
          391.5506598471519,
          391.5506598471519,
          391.5506598471519,
          391.5506598471519,
          391.5506598471519,
          391.5506598471519,
          391.5506598471519,
          391.5506598471519,
          391.5506598471519,
          391.5506598471519,
          391.5506598471519,
          391.5506598471519,
          391.5506598471519,
          474.0726030155341,
          474.0726030155341,
          474.0726030155341,
          474.0726030155341,
          474.0726030155341,
          474.0726030155341,
          474.0726030155341,
          474.0726030155341,
          474.0726030155341,
          474.0726030155341,
          474.0726030155341,
          474.0726030155341,
          474.0726030155341,
          474.0726030155341,
          474.0726030155341,
          474.0726030155341,
          474.0726030155341,
          474.0726030155341,
          474.0726030155341,
          474.0726030155341,
          474.0726030155341,
          474.0726030155341,
          474.0726030155341,
          474.0726030155341,
          474.0726030155341,
          474.0726030155341,
          474.0726030155341,
          474.0726030155341,
          474.0726030155341,
          474.0726030155341,
          474.0726030155341,
          474.0726030155341,
          474.0726030155341,
          474.0726030155341,
          474.0726030155341,
          474.0726030155341,
          474.0726030155341,
          474.0726030155341,
          474.0726030155341,
          556.5945461839165,
          556.5945461839165,
          556.5945461839165,
          556.5945461839165,
          556.5945461839165,
          556.5945461839165,
          556.5945461839165,
          556.5945461839165,
          556.5945461839165,
          556.5945461839165,
          556.5945461839165,
          556.5945461839165,
          556.5945461839165,
          556.5945461839165,
          556.5945461839165,
          556.5945461839165,
          556.5945461839165,
          556.5945461839165,
          556.5945461839165,
          556.5945461839165,
          556.5945461839165,
          556.5945461839165,
          556.5945461839165,
          556.5945461839165,
          556.5945461839165,
          556.5945461839165,
          556.5945461839165,
          556.5945461839165,
          556.5945461839165,
          556.5945461839165,
          556.5945461839165,
          556.5945461839165,
          556.5945461839165,
          556.5945461839165,
          556.5945461839165,
          556.5945461839165,
          556.5945461839165,
          639.1164893522987,
          639.1164893522987,
          639.1164893522987,
          639.1164893522987,
          639.1164893522987,
          639.1164893522987,
          639.1164893522987,
          639.1164893522987,
          639.1164893522987,
          639.1164893522987,
          639.1164893522987,
          639.1164893522987,
          639.1164893522987,
          639.1164893522987,
          639.1164893522987,
          639.1164893522987,
          639.1164893522987,
          639.1164893522987,
          639.1164893522987,
          639.1164893522987,
          639.1164893522987,
          639.1164893522987,
          639.1164893522987,
          639.1164893522987,
          639.1164893522987,
          639.1164893522987,
          639.1164893522987,
          639.1164893522987,
          639.1164893522987,
          721.6384325206809,
          721.6384325206809,
          721.6384325206809,
          721.6384325206809,
          721.6384325206809,
          721.6384325206809,
          721.6384325206809,
          721.6384325206809,
          721.6384325206809,
          721.6384325206809,
          721.6384325206809,
          721.6384325206809,
          721.6384325206809,
          721.6384325206809,
          721.6384325206809,
          721.6384325206809,
          721.6384325206809,
          721.6384325206809,
          721.6384325206809,
          721.6384325206809,
          721.6384325206809,
          721.6384325206809,
          721.6384325206809,
          721.6384325206809,
          721.6384325206809,
          721.6384325206809,
          721.6384325206809,
          721.6384325206809,
          721.6384325206809,
          721.6384325206809,
          721.6384325206809,
          721.6384325206809,
          721.6384325206809,
          721.6384325206809,
          721.6384325206809,
          721.6384325206809,
          721.6384325206809,
          721.6384325206809,
          721.6384325206809,
          721.6384325206809,
          721.6384325206809,
          721.6384325206809,
          804.1603756890632,
          804.1603756890632,
          804.1603756890632,
          804.1603756890632,
          804.1603756890632,
          804.1603756890632,
          804.1603756890632,
          804.1603756890632,
          804.1603756890632,
          804.1603756890632,
          804.1603756890632,
          804.1603756890632,
          804.1603756890632,
          804.1603756890632,
          804.1603756890632,
          804.1603756890632,
          804.1603756890632,
          804.1603756890632,
          804.1603756890632,
          804.1603756890632,
          804.1603756890632,
          804.1603756890632,
          804.1603756890632,
          804.1603756890632,
          804.1603756890632,
          804.1603756890632,
          804.1603756890632,
          804.1603756890632,
          886.6823188574455,
          886.6823188574455,
          886.6823188574455,
          886.6823188574455,
          886.6823188574455,
          886.6823188574455,
          886.6823188574455,
          886.6823188574455,
          886.6823188574455,
          886.6823188574455,
          886.6823188574455,
          886.6823188574455,
          886.6823188574455,
          886.6823188574455,
          886.6823188574455,
          886.6823188574455,
          886.6823188574455,
          886.6823188574455,
          886.6823188574455,
          886.6823188574455,
          886.6823188574455,
          886.6823188574455,
          886.6823188574455,
          886.6823188574455,
          886.6823188574455,
          969.2042620258277,
          969.2042620258277,
          969.2042620258277,
          969.2042620258277,
          969.2042620258277,
          969.2042620258277,
          969.2042620258277,
          969.2042620258277,
          969.2042620258277,
          969.2042620258277,
          969.2042620258277,
          969.2042620258277,
          969.2042620258277,
          969.2042620258277,
          969.2042620258277,
          969.2042620258277,
          969.2042620258277,
          969.2042620258277,
          969.2042620258277,
          969.2042620258277,
          969.2042620258277,
          969.2042620258277,
          969.2042620258277,
          969.2042620258277,
          969.2042620258277,
          969.2042620258277,
          969.2042620258277,
          1051.72620519421,
          1051.72620519421,
          1051.72620519421,
          1051.72620519421,
          1051.72620519421,
          1051.72620519421,
          1051.72620519421,
          1051.72620519421,
          1051.72620519421,
          1051.72620519421,
          1051.72620519421,
          1051.72620519421,
          1051.72620519421,
          1051.72620519421,
          1051.72620519421,
          1051.72620519421,
          1051.72620519421,
          1051.72620519421,
          1051.72620519421,
          1051.72620519421,
          1051.72620519421,
          1051.72620519421,
          1051.72620519421,
          1051.72620519421,
          1051.72620519421,
          1051.72620519421,
          1051.72620519421,
          1134.2481483625922,
          1134.2481483625922,
          1134.2481483625922,
          1134.2481483625922,
          1134.2481483625922,
          1134.2481483625922,
          1134.2481483625922,
          1134.2481483625922,
          1134.2481483625922,
          1134.2481483625922,
          1134.2481483625922,
          1134.2481483625922,
          1134.2481483625922,
          1134.2481483625922,
          1134.2481483625922,
          1134.2481483625922,
          1134.2481483625922,
          1134.2481483625922,
          1134.2481483625922,
          1134.2481483625922,
          1134.2481483625922,
          1134.2481483625922,
          1134.2481483625922,
          1134.2481483625922,
          1134.2481483625922,
          1134.2481483625922,
          1134.2481483625922,
          1134.2481483625922,
          1134.2481483625922,
          1134.2481483625922,
          1216.7700915309745,
          1216.7700915309745,
          1216.7700915309745,
          1216.7700915309745,
          1216.7700915309745,
          1216.7700915309745,
          1216.7700915309745,
          1216.7700915309745,
          1216.7700915309745,
          1216.7700915309745,
          1216.7700915309745,
          1216.7700915309745,
          1216.7700915309745,
          1216.7700915309745,
          1216.7700915309745,
          1216.7700915309745,
          1299.2920346993567,
          1299.2920346993567,
          1299.2920346993567,
          1299.2920346993567,
          1299.2920346993567,
          1299.2920346993567,
          1299.2920346993567,
          1299.2920346993567,
          1299.2920346993567,
          1299.2920346993567,
          1299.2920346993567,
          1299.2920346993567,
          1299.2920346993567,
          1299.2920346993567,
          1299.2920346993567,
          1299.2920346993567,
          1299.2920346993567,
          1299.2920346993567,
          1299.2920346993567,
          1299.2920346993567,
          1299.2920346993567,
          1299.2920346993567,
          1299.2920346993567,
          1299.2920346993567,
          1299.2920346993567,
          1299.2920346993567,
          1299.2920346993567,
          1299.2920346993567,
          1299.2920346993567,
          1299.2920346993567,
          1299.2920346993567,
          1381.8139778677391,
          1381.8139778677391,
          1381.8139778677391,
          1381.8139778677391,
          1381.8139778677391,
          1381.8139778677391,
          1381.8139778677391,
          1381.8139778677391,
          1381.8139778677391,
          1381.8139778677391,
          1381.8139778677391,
          1381.8139778677391,
          1381.8139778677391,
          1381.8139778677391,
          1381.8139778677391,
          1381.8139778677391,
          1381.8139778677391,
          1381.8139778677391,
          1381.8139778677391,
          1381.8139778677391,
          1381.8139778677391,
          1381.8139778677391,
          1381.8139778677391,
          1464.3359210361214,
          1464.3359210361214,
          1464.3359210361214,
          1464.3359210361214,
          1464.3359210361214,
          1464.3359210361214,
          1464.3359210361214,
          1464.3359210361214,
          1464.3359210361214,
          1464.3359210361214,
          1464.3359210361214,
          1464.3359210361214,
          1464.3359210361214,
          1546.8578642045036,
          1546.8578642045036,
          1546.8578642045036,
          1546.8578642045036,
          1546.8578642045036,
          1546.8578642045036,
          1546.8578642045036,
          1546.8578642045036,
          1546.8578642045036,
          1546.8578642045036,
          1546.8578642045036,
          1546.8578642045036,
          1546.8578642045036,
          1546.8578642045036,
          1546.8578642045036,
          1546.8578642045036,
          1629.3798073728858,
          1629.3798073728858,
          1629.3798073728858,
          1629.3798073728858,
          1629.3798073728858,
          1629.3798073728858,
          1629.3798073728858,
          1629.3798073728858,
          1629.3798073728858,
          1629.3798073728858,
          1629.3798073728858,
          1629.3798073728858,
          1629.3798073728858,
          1629.3798073728858,
          1629.3798073728858,
          1629.3798073728858,
          1629.3798073728858,
          1629.3798073728858,
          1629.3798073728858,
          1629.3798073728858,
          1629.3798073728858,
          1711.901750541268,
          1711.901750541268,
          1711.901750541268,
          1711.901750541268,
          1711.901750541268,
          1711.901750541268,
          1711.901750541268,
          1711.901750541268,
          1711.901750541268,
          1711.901750541268,
          1711.901750541268,
          1711.901750541268,
          1794.4236937096505,
          1794.4236937096505,
          1794.4236937096505,
          1794.4236937096505,
          1794.4236937096505,
          1794.4236937096505,
          1794.4236937096505,
          1794.4236937096505,
          1794.4236937096505,
          1794.4236937096505,
          1794.4236937096505,
          1794.4236937096505,
          1876.9456368780327,
          1876.9456368780327,
          1876.9456368780327,
          1876.9456368780327,
          1876.9456368780327,
          1876.9456368780327,
          1959.467580046415,
          1959.467580046415,
          1959.467580046415,
          1959.467580046415,
          1959.467580046415,
          1959.467580046415,
          1959.467580046415,
          1959.467580046415,
          1959.467580046415,
          1959.467580046415,
          2041.9895232147971,
          2041.9895232147971,
          2041.9895232147971,
          2041.9895232147971,
          2041.9895232147971,
          2041.9895232147971,
          2041.9895232147971,
          2041.9895232147971,
          2041.9895232147971,
          2124.511466383179,
          2124.511466383179,
          2124.511466383179,
          2124.511466383179,
          2124.511466383179,
          2124.511466383179,
          2124.511466383179,
          2124.511466383179,
          2124.511466383179,
          2207.033409551562,
          2207.033409551562,
          2207.033409551562,
          2207.033409551562,
          2207.033409551562,
          2289.5553527199436,
          2289.5553527199436,
          2289.5553527199436,
          2289.5553527199436,
          2289.5553527199436,
          2289.5553527199436,
          2372.0772958883263,
          2372.0772958883263,
          2372.0772958883263,
          2372.0772958883263,
          2372.0772958883263,
          2372.0772958883263,
          2372.0772958883263,
          2454.599239056709,
          2454.599239056709,
          2454.599239056709,
          2454.599239056709,
          2454.599239056709,
          2454.599239056709,
          2454.599239056709,
          2454.599239056709,
          2537.1211822250907,
          2537.1211822250907,
          2537.1211822250907,
          2537.1211822250907,
          2537.1211822250907,
          2537.1211822250907,
          2537.1211822250907,
          2537.1211822250907,
          2537.1211822250907,
          2537.1211822250907,
          2537.1211822250907,
          2537.1211822250907,
          2537.1211822250907,
          2619.6431253934734,
          2619.6431253934734,
          2619.6431253934734,
          2619.6431253934734,
          2619.6431253934734,
          2619.6431253934734,
          2702.165068561855,
          2702.165068561855,
          2784.687011730238,
          2784.687011730238,
          2784.687011730238,
          2784.687011730238,
          2784.687011730238,
          2867.2089548986196,
          2867.2089548986196,
          2867.2089548986196,
          2867.2089548986196,
          2867.2089548986196,
          2867.2089548986196,
          2949.7308980670023,
          2949.7308980670023,
          2949.7308980670023,
          3032.252841235384,
          3032.252841235384,
          3032.252841235384,
          3114.7747844037667,
          3114.7747844037667,
          3197.2967275721485,
          3197.2967275721485,
          3197.2967275721485,
          3279.818670740531,
          3279.818670740531,
          3279.818670740531,
          3362.340613908914,
          3444.8625570772956,
          3444.8625570772956,
          3444.8625570772956,
          3444.8625570772956,
          3444.8625570772956,
          3527.3845002456783,
          3527.3845002456783,
          3527.3845002456783,
          3774.9503297508245,
          3774.9503297508245,
          3857.472272919207,
          3857.472272919207,
          3857.472272919207,
          3857.472272919207,
          3857.472272919207,
          3857.472272919207,
          3939.994216087589,
          3939.994216087589,
          4022.5161592559716,
          4105.038102424353,
          4187.560045592736,
          4352.6039319295005,
          4435.125875097883,
          4435.125875097883,
          4435.125875097883,
          4517.647818266265,
          4517.647818266265,
          4847.735590939795,
          4847.735590939795,
          4930.2575341081765,
          5012.779477276559,
          5012.779477276559,
          5095.301420444941,
          5177.823363613324,
          5590.433079455235,
          5920.520852128764,
          5920.520852128764,
          6085.5647384655285,
          6498.17445430744,
          6993.306113317733,
          7075.828056486115,
          7240.87194282288,
          7405.915829159645,
          7736.003601833174,
          7818.525545001556,
          9634.008294705965,
          10294.183840053023
         ],
         "yaxis": "y"
        }
       ],
       "layout": {
        "legend": {
         "tracegroupgap": 0
        },
        "template": {
         "data": {
          "bar": [
           {
            "error_x": {
             "color": "#2a3f5f"
            },
            "error_y": {
             "color": "#2a3f5f"
            },
            "marker": {
             "line": {
              "color": "white",
              "width": 0.5
             },
             "pattern": {
              "fillmode": "overlay",
              "size": 10,
              "solidity": 0.2
             }
            },
            "type": "bar"
           }
          ],
          "barpolar": [
           {
            "marker": {
             "line": {
              "color": "white",
              "width": 0.5
             },
             "pattern": {
              "fillmode": "overlay",
              "size": 10,
              "solidity": 0.2
             }
            },
            "type": "barpolar"
           }
          ],
          "carpet": [
           {
            "aaxis": {
             "endlinecolor": "#2a3f5f",
             "gridcolor": "#C8D4E3",
             "linecolor": "#C8D4E3",
             "minorgridcolor": "#C8D4E3",
             "startlinecolor": "#2a3f5f"
            },
            "baxis": {
             "endlinecolor": "#2a3f5f",
             "gridcolor": "#C8D4E3",
             "linecolor": "#C8D4E3",
             "minorgridcolor": "#C8D4E3",
             "startlinecolor": "#2a3f5f"
            },
            "type": "carpet"
           }
          ],
          "choropleth": [
           {
            "colorbar": {
             "outlinewidth": 0,
             "ticks": ""
            },
            "type": "choropleth"
           }
          ],
          "contour": [
           {
            "colorbar": {
             "outlinewidth": 0,
             "ticks": ""
            },
            "colorscale": [
             [
              0,
              "#0d0887"
             ],
             [
              0.1111111111111111,
              "#46039f"
             ],
             [
              0.2222222222222222,
              "#7201a8"
             ],
             [
              0.3333333333333333,
              "#9c179e"
             ],
             [
              0.4444444444444444,
              "#bd3786"
             ],
             [
              0.5555555555555556,
              "#d8576b"
             ],
             [
              0.6666666666666666,
              "#ed7953"
             ],
             [
              0.7777777777777778,
              "#fb9f3a"
             ],
             [
              0.8888888888888888,
              "#fdca26"
             ],
             [
              1,
              "#f0f921"
             ]
            ],
            "type": "contour"
           }
          ],
          "contourcarpet": [
           {
            "colorbar": {
             "outlinewidth": 0,
             "ticks": ""
            },
            "type": "contourcarpet"
           }
          ],
          "heatmap": [
           {
            "colorbar": {
             "outlinewidth": 0,
             "ticks": ""
            },
            "colorscale": [
             [
              0,
              "#0d0887"
             ],
             [
              0.1111111111111111,
              "#46039f"
             ],
             [
              0.2222222222222222,
              "#7201a8"
             ],
             [
              0.3333333333333333,
              "#9c179e"
             ],
             [
              0.4444444444444444,
              "#bd3786"
             ],
             [
              0.5555555555555556,
              "#d8576b"
             ],
             [
              0.6666666666666666,
              "#ed7953"
             ],
             [
              0.7777777777777778,
              "#fb9f3a"
             ],
             [
              0.8888888888888888,
              "#fdca26"
             ],
             [
              1,
              "#f0f921"
             ]
            ],
            "type": "heatmap"
           }
          ],
          "heatmapgl": [
           {
            "colorbar": {
             "outlinewidth": 0,
             "ticks": ""
            },
            "colorscale": [
             [
              0,
              "#0d0887"
             ],
             [
              0.1111111111111111,
              "#46039f"
             ],
             [
              0.2222222222222222,
              "#7201a8"
             ],
             [
              0.3333333333333333,
              "#9c179e"
             ],
             [
              0.4444444444444444,
              "#bd3786"
             ],
             [
              0.5555555555555556,
              "#d8576b"
             ],
             [
              0.6666666666666666,
              "#ed7953"
             ],
             [
              0.7777777777777778,
              "#fb9f3a"
             ],
             [
              0.8888888888888888,
              "#fdca26"
             ],
             [
              1,
              "#f0f921"
             ]
            ],
            "type": "heatmapgl"
           }
          ],
          "histogram": [
           {
            "marker": {
             "pattern": {
              "fillmode": "overlay",
              "size": 10,
              "solidity": 0.2
             }
            },
            "type": "histogram"
           }
          ],
          "histogram2d": [
           {
            "colorbar": {
             "outlinewidth": 0,
             "ticks": ""
            },
            "colorscale": [
             [
              0,
              "#0d0887"
             ],
             [
              0.1111111111111111,
              "#46039f"
             ],
             [
              0.2222222222222222,
              "#7201a8"
             ],
             [
              0.3333333333333333,
              "#9c179e"
             ],
             [
              0.4444444444444444,
              "#bd3786"
             ],
             [
              0.5555555555555556,
              "#d8576b"
             ],
             [
              0.6666666666666666,
              "#ed7953"
             ],
             [
              0.7777777777777778,
              "#fb9f3a"
             ],
             [
              0.8888888888888888,
              "#fdca26"
             ],
             [
              1,
              "#f0f921"
             ]
            ],
            "type": "histogram2d"
           }
          ],
          "histogram2dcontour": [
           {
            "colorbar": {
             "outlinewidth": 0,
             "ticks": ""
            },
            "colorscale": [
             [
              0,
              "#0d0887"
             ],
             [
              0.1111111111111111,
              "#46039f"
             ],
             [
              0.2222222222222222,
              "#7201a8"
             ],
             [
              0.3333333333333333,
              "#9c179e"
             ],
             [
              0.4444444444444444,
              "#bd3786"
             ],
             [
              0.5555555555555556,
              "#d8576b"
             ],
             [
              0.6666666666666666,
              "#ed7953"
             ],
             [
              0.7777777777777778,
              "#fb9f3a"
             ],
             [
              0.8888888888888888,
              "#fdca26"
             ],
             [
              1,
              "#f0f921"
             ]
            ],
            "type": "histogram2dcontour"
           }
          ],
          "mesh3d": [
           {
            "colorbar": {
             "outlinewidth": 0,
             "ticks": ""
            },
            "type": "mesh3d"
           }
          ],
          "parcoords": [
           {
            "line": {
             "colorbar": {
              "outlinewidth": 0,
              "ticks": ""
             }
            },
            "type": "parcoords"
           }
          ],
          "pie": [
           {
            "automargin": true,
            "type": "pie"
           }
          ],
          "scatter": [
           {
            "fillpattern": {
             "fillmode": "overlay",
             "size": 10,
             "solidity": 0.2
            },
            "type": "scatter"
           }
          ],
          "scatter3d": [
           {
            "line": {
             "colorbar": {
              "outlinewidth": 0,
              "ticks": ""
             }
            },
            "marker": {
             "colorbar": {
              "outlinewidth": 0,
              "ticks": ""
             }
            },
            "type": "scatter3d"
           }
          ],
          "scattercarpet": [
           {
            "marker": {
             "colorbar": {
              "outlinewidth": 0,
              "ticks": ""
             }
            },
            "type": "scattercarpet"
           }
          ],
          "scattergeo": [
           {
            "marker": {
             "colorbar": {
              "outlinewidth": 0,
              "ticks": ""
             }
            },
            "type": "scattergeo"
           }
          ],
          "scattergl": [
           {
            "marker": {
             "colorbar": {
              "outlinewidth": 0,
              "ticks": ""
             }
            },
            "type": "scattergl"
           }
          ],
          "scattermapbox": [
           {
            "marker": {
             "colorbar": {
              "outlinewidth": 0,
              "ticks": ""
             }
            },
            "type": "scattermapbox"
           }
          ],
          "scatterpolar": [
           {
            "marker": {
             "colorbar": {
              "outlinewidth": 0,
              "ticks": ""
             }
            },
            "type": "scatterpolar"
           }
          ],
          "scatterpolargl": [
           {
            "marker": {
             "colorbar": {
              "outlinewidth": 0,
              "ticks": ""
             }
            },
            "type": "scatterpolargl"
           }
          ],
          "scatterternary": [
           {
            "marker": {
             "colorbar": {
              "outlinewidth": 0,
              "ticks": ""
             }
            },
            "type": "scatterternary"
           }
          ],
          "surface": [
           {
            "colorbar": {
             "outlinewidth": 0,
             "ticks": ""
            },
            "colorscale": [
             [
              0,
              "#0d0887"
             ],
             [
              0.1111111111111111,
              "#46039f"
             ],
             [
              0.2222222222222222,
              "#7201a8"
             ],
             [
              0.3333333333333333,
              "#9c179e"
             ],
             [
              0.4444444444444444,
              "#bd3786"
             ],
             [
              0.5555555555555556,
              "#d8576b"
             ],
             [
              0.6666666666666666,
              "#ed7953"
             ],
             [
              0.7777777777777778,
              "#fb9f3a"
             ],
             [
              0.8888888888888888,
              "#fdca26"
             ],
             [
              1,
              "#f0f921"
             ]
            ],
            "type": "surface"
           }
          ],
          "table": [
           {
            "cells": {
             "fill": {
              "color": "#EBF0F8"
             },
             "line": {
              "color": "white"
             }
            },
            "header": {
             "fill": {
              "color": "#C8D4E3"
             },
             "line": {
              "color": "white"
             }
            },
            "type": "table"
           }
          ]
         },
         "layout": {
          "annotationdefaults": {
           "arrowcolor": "#2a3f5f",
           "arrowhead": 0,
           "arrowwidth": 1
          },
          "autotypenumbers": "strict",
          "coloraxis": {
           "colorbar": {
            "outlinewidth": 0,
            "ticks": ""
           }
          },
          "colorscale": {
           "diverging": [
            [
             0,
             "#8e0152"
            ],
            [
             0.1,
             "#c51b7d"
            ],
            [
             0.2,
             "#de77ae"
            ],
            [
             0.3,
             "#f1b6da"
            ],
            [
             0.4,
             "#fde0ef"
            ],
            [
             0.5,
             "#f7f7f7"
            ],
            [
             0.6,
             "#e6f5d0"
            ],
            [
             0.7,
             "#b8e186"
            ],
            [
             0.8,
             "#7fbc41"
            ],
            [
             0.9,
             "#4d9221"
            ],
            [
             1,
             "#276419"
            ]
           ],
           "sequential": [
            [
             0,
             "#0d0887"
            ],
            [
             0.1111111111111111,
             "#46039f"
            ],
            [
             0.2222222222222222,
             "#7201a8"
            ],
            [
             0.3333333333333333,
             "#9c179e"
            ],
            [
             0.4444444444444444,
             "#bd3786"
            ],
            [
             0.5555555555555556,
             "#d8576b"
            ],
            [
             0.6666666666666666,
             "#ed7953"
            ],
            [
             0.7777777777777778,
             "#fb9f3a"
            ],
            [
             0.8888888888888888,
             "#fdca26"
            ],
            [
             1,
             "#f0f921"
            ]
           ],
           "sequentialminus": [
            [
             0,
             "#0d0887"
            ],
            [
             0.1111111111111111,
             "#46039f"
            ],
            [
             0.2222222222222222,
             "#7201a8"
            ],
            [
             0.3333333333333333,
             "#9c179e"
            ],
            [
             0.4444444444444444,
             "#bd3786"
            ],
            [
             0.5555555555555556,
             "#d8576b"
            ],
            [
             0.6666666666666666,
             "#ed7953"
            ],
            [
             0.7777777777777778,
             "#fb9f3a"
            ],
            [
             0.8888888888888888,
             "#fdca26"
            ],
            [
             1,
             "#f0f921"
            ]
           ]
          },
          "colorway": [
           "#636efa",
           "#EF553B",
           "#00cc96",
           "#ab63fa",
           "#FFA15A",
           "#19d3f3",
           "#FF6692",
           "#B6E880",
           "#FF97FF",
           "#FECB52"
          ],
          "font": {
           "color": "#2a3f5f"
          },
          "geo": {
           "bgcolor": "white",
           "lakecolor": "white",
           "landcolor": "white",
           "showlakes": true,
           "showland": true,
           "subunitcolor": "#C8D4E3"
          },
          "hoverlabel": {
           "align": "left"
          },
          "hovermode": "closest",
          "mapbox": {
           "style": "light"
          },
          "paper_bgcolor": "white",
          "plot_bgcolor": "white",
          "polar": {
           "angularaxis": {
            "gridcolor": "#EBF0F8",
            "linecolor": "#EBF0F8",
            "ticks": ""
           },
           "bgcolor": "white",
           "radialaxis": {
            "gridcolor": "#EBF0F8",
            "linecolor": "#EBF0F8",
            "ticks": ""
           }
          },
          "scene": {
           "xaxis": {
            "backgroundcolor": "white",
            "gridcolor": "#DFE8F3",
            "gridwidth": 2,
            "linecolor": "#EBF0F8",
            "showbackground": true,
            "ticks": "",
            "zerolinecolor": "#EBF0F8"
           },
           "yaxis": {
            "backgroundcolor": "white",
            "gridcolor": "#DFE8F3",
            "gridwidth": 2,
            "linecolor": "#EBF0F8",
            "showbackground": true,
            "ticks": "",
            "zerolinecolor": "#EBF0F8"
           },
           "zaxis": {
            "backgroundcolor": "white",
            "gridcolor": "#DFE8F3",
            "gridwidth": 2,
            "linecolor": "#EBF0F8",
            "showbackground": true,
            "ticks": "",
            "zerolinecolor": "#EBF0F8"
           }
          },
          "shapedefaults": {
           "line": {
            "color": "#2a3f5f"
           }
          },
          "ternary": {
           "aaxis": {
            "gridcolor": "#DFE8F3",
            "linecolor": "#A2B1C6",
            "ticks": ""
           },
           "baxis": {
            "gridcolor": "#DFE8F3",
            "linecolor": "#A2B1C6",
            "ticks": ""
           },
           "bgcolor": "white",
           "caxis": {
            "gridcolor": "#DFE8F3",
            "linecolor": "#A2B1C6",
            "ticks": ""
           }
          },
          "title": {
           "x": 0.05
          },
          "xaxis": {
           "automargin": true,
           "gridcolor": "#EBF0F8",
           "linecolor": "#EBF0F8",
           "ticks": "",
           "title": {
            "standoff": 15
           },
           "zerolinecolor": "#EBF0F8",
           "zerolinewidth": 2
          },
          "yaxis": {
           "automargin": true,
           "gridcolor": "#EBF0F8",
           "linecolor": "#EBF0F8",
           "ticks": "",
           "title": {
            "standoff": 15
           },
           "zerolinecolor": "#EBF0F8",
           "zerolinewidth": 2
          }
         }
        },
        "title": {
         "text": "Quantity vs Total Price"
        },
        "xaxis": {
         "anchor": "y",
         "domain": [
          0,
          1
         ],
         "title": {
          "text": "qty"
         }
        },
        "yaxis": {
         "anchor": "x",
         "domain": [
          0,
          1
         ],
         "title": {
          "text": "total_price"
         }
        }
       }
      }
     },
     "metadata": {},
     "output_type": "display_data"
    }
   ],
   "source": [
    "# Now let’s have a look at the relationship between quantity and total prices:\n",
    "fig = px.scatter(data,x='qty',y='total_price',title=\"Quantity vs Total Price\",trendline='ols')\n",
    "fig.show()\n",
    "\n",
    "# error: No module named 'statsmodels' \n",
    "# pip install statsmodels\n",
    "\n",
    "# KẾT LUẬN: Thus, the relationship between quantity and total prices is linear. \n",
    "# It indicates that the price structure is based on a fixed unit price, \n",
    "# where the total price is calculated by multiplying the quantity by the unit price."
   ]
  },
  {
   "cell_type": "code",
   "execution_count": 16,
   "metadata": {},
   "outputs": [
    {
     "data": {
      "application/vnd.plotly.v1+json": {
       "config": {
        "plotlyServerURL": "https://plot.ly"
       },
       "data": [
        {
         "alignmentgroup": "True",
         "hovertemplate": "product_category_name=%{x}<br>total_price=%{y}<extra></extra>",
         "legendgroup": "",
         "marker": {
          "color": "#636efa",
          "pattern": {
           "shape": ""
          }
         },
         "name": "",
         "offsetgroup": "",
         "orientation": "v",
         "showlegend": false,
         "textposition": "auto",
         "type": "bar",
         "x": [
          "bed_bath_table",
          "bed_bath_table",
          "bed_bath_table",
          "bed_bath_table",
          "bed_bath_table",
          "bed_bath_table",
          "bed_bath_table",
          "bed_bath_table",
          "bed_bath_table",
          "bed_bath_table",
          "bed_bath_table",
          "bed_bath_table",
          "bed_bath_table",
          "bed_bath_table",
          "bed_bath_table",
          "bed_bath_table",
          "garden_tools",
          "garden_tools",
          "garden_tools",
          "garden_tools",
          "garden_tools",
          "garden_tools",
          "garden_tools",
          "garden_tools",
          "garden_tools",
          "garden_tools",
          "garden_tools",
          "garden_tools",
          "garden_tools",
          "garden_tools",
          "consoles_games",
          "consoles_games",
          "consoles_games",
          "consoles_games",
          "consoles_games",
          "consoles_games",
          "consoles_games",
          "consoles_games",
          "consoles_games",
          "consoles_games",
          "consoles_games",
          "consoles_games",
          "garden_tools",
          "garden_tools",
          "garden_tools",
          "garden_tools",
          "garden_tools",
          "garden_tools",
          "garden_tools",
          "garden_tools",
          "garden_tools",
          "garden_tools",
          "garden_tools",
          "garden_tools",
          "garden_tools",
          "garden_tools",
          "garden_tools",
          "garden_tools",
          "health_beauty",
          "health_beauty",
          "health_beauty",
          "health_beauty",
          "health_beauty",
          "health_beauty",
          "health_beauty",
          "health_beauty",
          "health_beauty",
          "health_beauty",
          "health_beauty",
          "health_beauty",
          "health_beauty",
          "health_beauty",
          "health_beauty",
          "health_beauty",
          "health_beauty",
          "health_beauty",
          "cool_stuff",
          "cool_stuff",
          "cool_stuff",
          "cool_stuff",
          "cool_stuff",
          "cool_stuff",
          "cool_stuff",
          "cool_stuff",
          "cool_stuff",
          "health_beauty",
          "health_beauty",
          "health_beauty",
          "health_beauty",
          "health_beauty",
          "health_beauty",
          "health_beauty",
          "health_beauty",
          "perfumery",
          "perfumery",
          "perfumery",
          "perfumery",
          "perfumery",
          "perfumery",
          "perfumery",
          "perfumery",
          "perfumery",
          "perfumery",
          "perfumery",
          "perfumery",
          "perfumery",
          "cool_stuff",
          "cool_stuff",
          "cool_stuff",
          "cool_stuff",
          "cool_stuff",
          "cool_stuff",
          "cool_stuff",
          "cool_stuff",
          "cool_stuff",
          "cool_stuff",
          "cool_stuff",
          "cool_stuff",
          "cool_stuff",
          "health_beauty",
          "health_beauty",
          "health_beauty",
          "health_beauty",
          "health_beauty",
          "health_beauty",
          "health_beauty",
          "health_beauty",
          "health_beauty",
          "health_beauty",
          "health_beauty",
          "health_beauty",
          "health_beauty",
          "health_beauty",
          "health_beauty",
          "health_beauty",
          "health_beauty",
          "garden_tools",
          "garden_tools",
          "garden_tools",
          "garden_tools",
          "garden_tools",
          "garden_tools",
          "garden_tools",
          "garden_tools",
          "garden_tools",
          "garden_tools",
          "garden_tools",
          "garden_tools",
          "garden_tools",
          "garden_tools",
          "computers_accessories",
          "computers_accessories",
          "computers_accessories",
          "computers_accessories",
          "computers_accessories",
          "computers_accessories",
          "computers_accessories",
          "computers_accessories",
          "garden_tools",
          "garden_tools",
          "garden_tools",
          "garden_tools",
          "garden_tools",
          "garden_tools",
          "garden_tools",
          "garden_tools",
          "garden_tools",
          "garden_tools",
          "garden_tools",
          "garden_tools",
          "garden_tools",
          "garden_tools",
          "garden_tools",
          "garden_tools",
          "computers_accessories",
          "computers_accessories",
          "computers_accessories",
          "computers_accessories",
          "computers_accessories",
          "computers_accessories",
          "computers_accessories",
          "computers_accessories",
          "health_beauty",
          "health_beauty",
          "health_beauty",
          "health_beauty",
          "health_beauty",
          "health_beauty",
          "health_beauty",
          "garden_tools",
          "garden_tools",
          "garden_tools",
          "garden_tools",
          "garden_tools",
          "garden_tools",
          "garden_tools",
          "garden_tools",
          "garden_tools",
          "garden_tools",
          "garden_tools",
          "garden_tools",
          "garden_tools",
          "garden_tools",
          "garden_tools",
          "garden_tools",
          "health_beauty",
          "health_beauty",
          "health_beauty",
          "health_beauty",
          "health_beauty",
          "health_beauty",
          "health_beauty",
          "watches_gifts",
          "watches_gifts",
          "watches_gifts",
          "watches_gifts",
          "watches_gifts",
          "watches_gifts",
          "watches_gifts",
          "watches_gifts",
          "watches_gifts",
          "watches_gifts",
          "watches_gifts",
          "watches_gifts",
          "watches_gifts",
          "watches_gifts",
          "watches_gifts",
          "health_beauty",
          "health_beauty",
          "health_beauty",
          "health_beauty",
          "health_beauty",
          "health_beauty",
          "health_beauty",
          "health_beauty",
          "health_beauty",
          "garden_tools",
          "garden_tools",
          "garden_tools",
          "garden_tools",
          "garden_tools",
          "garden_tools",
          "garden_tools",
          "garden_tools",
          "garden_tools",
          "garden_tools",
          "garden_tools",
          "garden_tools",
          "garden_tools",
          "garden_tools",
          "garden_tools",
          "garden_tools",
          "garden_tools",
          "garden_tools",
          "garden_tools",
          "garden_tools",
          "garden_tools",
          "garden_tools",
          "garden_tools",
          "garden_tools",
          "garden_tools",
          "garden_tools",
          "garden_tools",
          "garden_tools",
          "garden_tools",
          "garden_tools",
          "garden_tools",
          "watches_gifts",
          "watches_gifts",
          "watches_gifts",
          "watches_gifts",
          "watches_gifts",
          "watches_gifts",
          "watches_gifts",
          "watches_gifts",
          "watches_gifts",
          "watches_gifts",
          "watches_gifts",
          "watches_gifts",
          "watches_gifts",
          "watches_gifts",
          "cool_stuff",
          "cool_stuff",
          "cool_stuff",
          "cool_stuff",
          "cool_stuff",
          "cool_stuff",
          "cool_stuff",
          "perfumery",
          "perfumery",
          "perfumery",
          "perfumery",
          "perfumery",
          "perfumery",
          "perfumery",
          "perfumery",
          "perfumery",
          "perfumery",
          "perfumery",
          "perfumery",
          "perfumery",
          "cool_stuff",
          "cool_stuff",
          "cool_stuff",
          "cool_stuff",
          "cool_stuff",
          "cool_stuff",
          "cool_stuff",
          "cool_stuff",
          "cool_stuff",
          "cool_stuff",
          "cool_stuff",
          "cool_stuff",
          "cool_stuff",
          "computers_accessories",
          "computers_accessories",
          "computers_accessories",
          "computers_accessories",
          "computers_accessories",
          "computers_accessories",
          "computers_accessories",
          "computers_accessories",
          "computers_accessories",
          "computers_accessories",
          "computers_accessories",
          "computers_accessories",
          "computers_accessories",
          "computers_accessories",
          "computers_accessories",
          "consoles_games",
          "consoles_games",
          "consoles_games",
          "consoles_games",
          "consoles_games",
          "consoles_games",
          "consoles_games",
          "consoles_games",
          "consoles_games",
          "consoles_games",
          "health_beauty",
          "health_beauty",
          "health_beauty",
          "health_beauty",
          "health_beauty",
          "health_beauty",
          "health_beauty",
          "health_beauty",
          "health_beauty",
          "health_beauty",
          "health_beauty",
          "health_beauty",
          "health_beauty",
          "health_beauty",
          "health_beauty",
          "health_beauty",
          "health_beauty",
          "health_beauty",
          "health_beauty",
          "health_beauty",
          "watches_gifts",
          "watches_gifts",
          "watches_gifts",
          "watches_gifts",
          "watches_gifts",
          "watches_gifts",
          "watches_gifts",
          "watches_gifts",
          "watches_gifts",
          "watches_gifts",
          "furniture_decor",
          "furniture_decor",
          "furniture_decor",
          "furniture_decor",
          "furniture_decor",
          "furniture_decor",
          "furniture_decor",
          "furniture_decor",
          "furniture_decor",
          "furniture_decor",
          "watches_gifts",
          "watches_gifts",
          "watches_gifts",
          "watches_gifts",
          "watches_gifts",
          "watches_gifts",
          "watches_gifts",
          "watches_gifts",
          "watches_gifts",
          "watches_gifts",
          "health_beauty",
          "health_beauty",
          "health_beauty",
          "health_beauty",
          "health_beauty",
          "health_beauty",
          "health_beauty",
          "health_beauty",
          "health_beauty",
          "health_beauty",
          "health_beauty",
          "health_beauty",
          "health_beauty",
          "health_beauty",
          "health_beauty",
          "health_beauty",
          "health_beauty",
          "health_beauty",
          "health_beauty",
          "health_beauty",
          "bed_bath_table",
          "bed_bath_table",
          "bed_bath_table",
          "bed_bath_table",
          "bed_bath_table",
          "bed_bath_table",
          "bed_bath_table",
          "bed_bath_table",
          "bed_bath_table",
          "bed_bath_table",
          "bed_bath_table",
          "garden_tools",
          "garden_tools",
          "garden_tools",
          "garden_tools",
          "garden_tools",
          "garden_tools",
          "garden_tools",
          "garden_tools",
          "garden_tools",
          "garden_tools",
          "garden_tools",
          "garden_tools",
          "garden_tools",
          "garden_tools",
          "garden_tools",
          "garden_tools",
          "garden_tools",
          "garden_tools",
          "bed_bath_table",
          "bed_bath_table",
          "bed_bath_table",
          "bed_bath_table",
          "bed_bath_table",
          "bed_bath_table",
          "bed_bath_table",
          "bed_bath_table",
          "bed_bath_table",
          "bed_bath_table",
          "bed_bath_table",
          "bed_bath_table",
          "bed_bath_table",
          "bed_bath_table",
          "bed_bath_table",
          "bed_bath_table",
          "bed_bath_table",
          "bed_bath_table",
          "bed_bath_table",
          "furniture_decor",
          "furniture_decor",
          "furniture_decor",
          "furniture_decor",
          "furniture_decor",
          "furniture_decor",
          "furniture_decor",
          "furniture_decor",
          "furniture_decor",
          "furniture_decor",
          "furniture_decor",
          "furniture_decor",
          "watches_gifts",
          "watches_gifts",
          "watches_gifts",
          "watches_gifts",
          "watches_gifts",
          "watches_gifts",
          "watches_gifts",
          "watches_gifts",
          "watches_gifts",
          "watches_gifts",
          "watches_gifts",
          "watches_gifts",
          "watches_gifts",
          "watches_gifts",
          "watches_gifts",
          "watches_gifts",
          "watches_gifts",
          "watches_gifts",
          "watches_gifts",
          "watches_gifts",
          "watches_gifts",
          "watches_gifts",
          "watches_gifts",
          "watches_gifts",
          "watches_gifts",
          "furniture_decor",
          "furniture_decor",
          "furniture_decor",
          "furniture_decor",
          "furniture_decor",
          "furniture_decor",
          "furniture_decor",
          "furniture_decor",
          "furniture_decor",
          "furniture_decor",
          "furniture_decor",
          "furniture_decor",
          "furniture_decor",
          "garden_tools",
          "garden_tools",
          "garden_tools",
          "garden_tools",
          "garden_tools",
          "garden_tools",
          "garden_tools",
          "garden_tools",
          "garden_tools",
          "garden_tools",
          "garden_tools",
          "garden_tools",
          "garden_tools",
          "garden_tools",
          "garden_tools",
          "garden_tools",
          "garden_tools",
          "furniture_decor",
          "furniture_decor",
          "furniture_decor",
          "furniture_decor",
          "furniture_decor",
          "furniture_decor",
          "furniture_decor",
          "furniture_decor",
          "furniture_decor",
          "furniture_decor",
          "furniture_decor",
          "furniture_decor",
          "furniture_decor",
          "health_beauty",
          "health_beauty",
          "health_beauty",
          "health_beauty",
          "health_beauty",
          "health_beauty",
          "health_beauty",
          "health_beauty",
          "health_beauty",
          "health_beauty",
          "health_beauty",
          "health_beauty",
          "health_beauty",
          "garden_tools",
          "garden_tools",
          "garden_tools",
          "garden_tools",
          "garden_tools",
          "garden_tools",
          "garden_tools",
          "garden_tools",
          "garden_tools",
          "garden_tools",
          "garden_tools",
          "garden_tools",
          "garden_tools",
          "garden_tools",
          "garden_tools",
          "garden_tools",
          "garden_tools",
          "garden_tools",
          "cool_stuff",
          "cool_stuff",
          "cool_stuff",
          "cool_stuff",
          "cool_stuff",
          "cool_stuff",
          "cool_stuff",
          "cool_stuff",
          "cool_stuff",
          "cool_stuff",
          "cool_stuff",
          "cool_stuff",
          "cool_stuff",
          "cool_stuff",
          "cool_stuff",
          "computers_accessories",
          "computers_accessories",
          "computers_accessories",
          "computers_accessories",
          "computers_accessories",
          "computers_accessories",
          "computers_accessories",
          "computers_accessories",
          "computers_accessories",
          "computers_accessories",
          "computers_accessories",
          "computers_accessories",
          "computers_accessories",
          "computers_accessories",
          "computers_accessories",
          "computers_accessories",
          "computers_accessories",
          "computers_accessories",
          "watches_gifts",
          "watches_gifts",
          "watches_gifts",
          "watches_gifts",
          "watches_gifts",
          "watches_gifts",
          "watches_gifts",
          "watches_gifts",
          "watches_gifts",
          "watches_gifts",
          "watches_gifts",
          "watches_gifts",
          "computers_accessories",
          "computers_accessories",
          "computers_accessories",
          "computers_accessories",
          "computers_accessories",
          "computers_accessories",
          "computers_accessories",
          "computers_accessories",
          "computers_accessories",
          "computers_accessories",
          "health_beauty",
          "health_beauty",
          "health_beauty",
          "health_beauty",
          "health_beauty",
          "health_beauty",
          "health_beauty",
          "health_beauty",
          "health_beauty",
          "health_beauty",
          "health_beauty",
          "watches_gifts",
          "watches_gifts",
          "watches_gifts",
          "watches_gifts",
          "watches_gifts",
          "watches_gifts",
          "watches_gifts",
          "watches_gifts",
          "watches_gifts",
          "watches_gifts",
          "watches_gifts",
          "watches_gifts",
          "watches_gifts",
          "watches_gifts",
          "watches_gifts",
          "watches_gifts",
          "watches_gifts",
          "computers_accessories",
          "computers_accessories",
          "computers_accessories",
          "computers_accessories",
          "computers_accessories",
          "computers_accessories",
          "computers_accessories",
          "computers_accessories",
          "computers_accessories",
          "computers_accessories",
          "bed_bath_table",
          "bed_bath_table",
          "bed_bath_table",
          "bed_bath_table",
          "bed_bath_table",
          "bed_bath_table",
          "bed_bath_table",
          "bed_bath_table",
          "bed_bath_table",
          "bed_bath_table",
          "bed_bath_table",
          "bed_bath_table",
          "bed_bath_table",
          "bed_bath_table",
          "bed_bath_table"
         ],
         "xaxis": "x",
         "y": [
          45.95,
          137.85,
          275.7,
          183.8,
          91.9,
          137.85,
          445.85,
          239.94,
          759.81,
          719.82,
          679.83,
          519.87,
          759.81,
          199.95,
          319.92,
          313.92,
          419.4,
          247.9,
          1956,
          712,
          890,
          683,
          891,
          1386,
          1683,
          1089,
          398,
          202,
          101,
          101,
          258.7,
          477.6,
          179.1,
          603.2,
          686,
          392,
          162.5,
          195,
          245.4,
          108.6,
          72.4,
          36.2,
          59.9,
          59.9,
          239.6,
          359.4,
          299.5,
          658.9,
          1043.6,
          571.8,
          548.9,
          411.2,
          161.7,
          431.2,
          477.1,
          249.5,
          299.4,
          349.3,
          219.89,
          179.91,
          259.87,
          319.84,
          419.79,
          579.71,
          651.72,
          575.76,
          647.73,
          671.72,
          455.81,
          455.81,
          335.86,
          191.92,
          167.93,
          71.97,
          71.97,
          47.98,
          134.99,
          134.99,
          1763.88,
          4248.73,
          4842.71,
          2170.87,
          1415.92,
          1911.89,
          1019.94,
          110.99,
          221.98,
          998.91,
          1514.87,
          2759.77,
          5288.57,
          4058.67,
          3935.68,
          227.96,
          398.93,
          398.93,
          968.83,
          968.83,
          1139.8,
          1367.76,
          569.9,
          227.96,
          706.86,
          99.98,
          399.92,
          199.96,
          199.98,
          1799.82,
          1099.89,
          1399.86,
          799.92,
          599.94,
          899.91,
          199.98,
          299.97,
          599.94,
          899.91,
          489.76,
          338.77,
          539.94,
          539.94,
          809.91,
          1529.83,
          1619.82,
          1889.79,
          2159.76,
          2339.74,
          1709.81,
          1799.8,
          1529.83,
          1339.84,
          1119.86,
          1279.84,
          1039.87,
          799.9,
          579.75,
          778.7,
          1377.7,
          778.7,
          2156.4,
          3711.7,
          2468.6,
          1946.1,
          2411.2,
          1401.4,
          1509.2,
          1319.5,
          748.5,
          149.7,
          299.4,
          167,
          239.8,
          5453.96,
          3465.8,
          528,
          880,
          269.7,
          236.7,
          179.7,
          179.7,
          1138.1,
          1617.3,
          1018.3,
          1856.9,
          4712.19,
          1769.7,
          1447.1,
          1828.4,
          1886.5,
          700.7,
          1559.1,
          299.4,
          698.6,
          499,
          3307.8,
          10343.1,
          7644.9,
          5246.5,
          7794.8,
          4047.3,
          1948.7,
          749.5,
          185.97,
          805.87,
          974.85,
          2469.62,
          1741.74,
          1808.73,
          1875.72,
          239.6,
          59.9,
          838.6,
          2336.1,
          2216.3,
          2336.1,
          4769.7,
          2881.6,
          598.8,
          1970.1,
          1670.9,
          2479.4,
          2982.4,
          598.8,
          299.46,
          299.46,
          994.04,
          2809.65,
          965.91,
          1723.08,
          449.82,
          257.56,
          557.85,
          789.95,
          1016.95,
          849.5,
          1604,
          2391.6,
          3660,
          894,
          1188,
          2043.92,
          1115.7,
          1191.9,
          2598.9,
          139.9,
          694.9,
          414,
          254.97,
          339.96,
          254.97,
          3059.64,
          4249.5,
          1104.87,
          594.93,
          339.96,
          169.98,
          179.99,
          539.97,
          359.98,
          1079.94,
          2339.87,
          2759.85,
          2629.96,
          2148,
          2277,
          1969,
          537,
          1590,
          1112,
          973,
          179.7,
          419.3,
          239.6,
          1138.1,
          1257.9,
          1377.7,
          1138.1,
          4397.7,
          2232.6,
          1247.5,
          2247.6,
          1347.5,
          1078,
          888.3,
          399.2,
          449.1,
          349.3,
          652,
          1777.5,
          2088.7,
          2762.5,
          134.9,
          1995,
          596,
          769.45,
          3640.68,
          8961.49,
          11820.2,
          1071,
          1302,
          112,
          29.5,
          2242,
          910,
          140,
          140,
          130,
          65,
          142.5,
          142.5,
          285,
          944.4,
          1416,
          707.4,
          1296.8,
          470.8,
          943.8,
          2038.3,
          1668.5,
          593.5,
          1987.4,
          1039.92,
          1819.86,
          2339.82,
          2209.83,
          2079.84,
          1870.84,
          1199.9,
          1169.91,
          389.97,
          519.96,
          259.98,
          129.99,
          129.99,
          379.6,
          611.4,
          1099,
          219.8,
          395.6,
          395.6,
          593.4,
          98.9,
          2795.14,
          2537.19,
          1139.8,
          470,
          292,
          1199.48,
          79.9,
          19.9,
          218.9,
          179.1,
          248,
          563.5,
          416.5,
          271.2,
          32.5,
          229.2,
          205.2,
          2799.2,
          1399.6,
          699.8,
          349.9,
          1399.6,
          699.8,
          349.9,
          2449.3,
          2449.3,
          3499,
          3543.5,
          2449.3,
          4198.8,
          5248.5,
          5948.3,
          2449.3,
          3513.1,
          4004,
          4004,
          3276,
          479.8,
          479.8,
          459.8,
          2250.8,
          2680,
          3908.9,
          4355,
          457.9,
          2200,
          1737.4,
          99.9,
          299.7,
          1298.7,
          1298.7,
          1198.8,
          1298.7,
          1298.7,
          999,
          1099.5,
          754.5,
          1839.2,
          2190.6,
          1729.2,
          2395.2,
          6287.2,
          2207.7,
          4319.4,
          3459,
          2657,
          3383,
          64.99,
          324.95,
          584.91,
          584.91,
          1039.84,
          1234.79,
          888.85,
          1297.78,
          1474.75,
          1120.81,
          1415.76,
          530.91,
          353.94,
          825.86,
          589.9,
          648.89,
          235.96,
          353.94,
          117.98,
          176.97,
          792,
          2178,
          693,
          1082,
          1196,
          276,
          815,
          1235.36,
          1188.6,
          764.1,
          84.9,
          99.99,
          1099.89,
          759.92,
          219.98,
          239.98,
          240,
          417,
          1105.92,
          1889.79,
          1259.86,
          1479.98,
          1680,
          680,
          770,
          880,
          969.9,
          499.95,
          199.98,
          179.8,
          1977.8,
          3056.6,
          5214.2,
          4584.9,
          5394,
          3326.3,
          2067.7,
          1258.6,
          3596,
          1594.2,
          1477.3,
          1911.8,
          1477.3,
          510.27,
          2174.89,
          1837.7,
          781.3,
          518,
          38.4,
          230.4,
          307.2,
          1170.35,
          153.6,
          576,
          153.6,
          493.4,
          140,
          140,
          70,
          35,
          1404,
          1404,
          4752,
          3564,
          2214,
          2205,
          3885,
          2940,
          840,
          735,
          78,
          234,
          78,
          390,
          234,
          156,
          468,
          702,
          78,
          78,
          1248,
          390,
          3042,
          3120,
          2179,
          375,
          975,
          375,
          3300,
          3525,
          8538,
          3075.6,
          4543.5,
          5801.7,
          6430.8,
          179.8,
          179.8,
          309.7,
          299.5,
          119.8,
          299.5,
          898.5,
          1138.1,
          2036.6,
          778.7,
          495.5,
          49.9,
          49.9,
          203.6,
          107.8,
          107.8,
          199.6,
          249.5,
          149.7,
          149.7,
          38.4,
          307.2,
          460.8,
          960,
          1026.51,
          76.8,
          345.6,
          601.8,
          595,
          385,
          455,
          350,
          560,
          1950,
          3575,
          650,
          3900,
          1950,
          3250,
          7475,
          9125,
          6930,
          6270,
          5280,
          4290,
          9240,
          99.99,
          499.95,
          439.96,
          659.94,
          120,
          240,
          735,
          1619.93,
          2519.72,
          2429.73,
          1405,
          840,
          660,
          550,
          220,
          539.94,
          699.93,
          589.94,
          599.93,
          1399.86,
          1699.83,
          2199.78,
          1399.86,
          1099.89,
          1399.86,
          299.97,
          199.98,
          399.96,
          299.97,
          299.97,
          99.99,
          199.98,
          269.59,
          479.97,
          479.97,
          699.95,
          479.97,
          839.94,
          1019.93,
          1679.89,
          2629.83,
          2699.82,
          3449.77,
          6746.9,
          4619,
          5986,
          6764,
          2975,
          3086.76,
          1079.91,
          1199.9,
          678,
          339,
          3461.58,
          3111.36,
          3836.8,
          339.9,
          1735,
          1847,
          1684,
          5956.3,
          983.6,
          7651.27,
          2715.7,
          2247.72,
          584.77,
          1884.45,
          1656.87,
          2206.4,
          2482.2,
          269.8,
          665,
          398.91,
          29.9,
          179.4,
          179.4,
          448.5,
          478.4,
          328.9,
          657.8,
          657.8,
          209.3,
          538.2,
          388.7,
          1205.03,
          766.83,
          925,
          1973.83,
          2698.5,
          3291.4,
          929.96,
          3139.8,
          929.8,
          398,
          1092,
          4860.11,
          1351.2,
          4241,
          2073.3,
          310,
          1601.06,
          109.9,
          1318.8,
          2831.55,
          5581.8,
          2187.3,
          1042.9,
          876.9,
          789,
          545.3,
          155.8,
          1331.1,
          1421.67,
          550.8,
          872.1,
          734.4,
          383.2,
          335.3,
          95.8,
          191.6,
          95.8,
          215,
          2090,
          12095,
          10375,
          5222.36
         ],
         "yaxis": "y"
        }
       ],
       "layout": {
        "barmode": "relative",
        "legend": {
         "tracegroupgap": 0
        },
        "template": {
         "data": {
          "bar": [
           {
            "error_x": {
             "color": "#2a3f5f"
            },
            "error_y": {
             "color": "#2a3f5f"
            },
            "marker": {
             "line": {
              "color": "white",
              "width": 0.5
             },
             "pattern": {
              "fillmode": "overlay",
              "size": 10,
              "solidity": 0.2
             }
            },
            "type": "bar"
           }
          ],
          "barpolar": [
           {
            "marker": {
             "line": {
              "color": "white",
              "width": 0.5
             },
             "pattern": {
              "fillmode": "overlay",
              "size": 10,
              "solidity": 0.2
             }
            },
            "type": "barpolar"
           }
          ],
          "carpet": [
           {
            "aaxis": {
             "endlinecolor": "#2a3f5f",
             "gridcolor": "#C8D4E3",
             "linecolor": "#C8D4E3",
             "minorgridcolor": "#C8D4E3",
             "startlinecolor": "#2a3f5f"
            },
            "baxis": {
             "endlinecolor": "#2a3f5f",
             "gridcolor": "#C8D4E3",
             "linecolor": "#C8D4E3",
             "minorgridcolor": "#C8D4E3",
             "startlinecolor": "#2a3f5f"
            },
            "type": "carpet"
           }
          ],
          "choropleth": [
           {
            "colorbar": {
             "outlinewidth": 0,
             "ticks": ""
            },
            "type": "choropleth"
           }
          ],
          "contour": [
           {
            "colorbar": {
             "outlinewidth": 0,
             "ticks": ""
            },
            "colorscale": [
             [
              0,
              "#0d0887"
             ],
             [
              0.1111111111111111,
              "#46039f"
             ],
             [
              0.2222222222222222,
              "#7201a8"
             ],
             [
              0.3333333333333333,
              "#9c179e"
             ],
             [
              0.4444444444444444,
              "#bd3786"
             ],
             [
              0.5555555555555556,
              "#d8576b"
             ],
             [
              0.6666666666666666,
              "#ed7953"
             ],
             [
              0.7777777777777778,
              "#fb9f3a"
             ],
             [
              0.8888888888888888,
              "#fdca26"
             ],
             [
              1,
              "#f0f921"
             ]
            ],
            "type": "contour"
           }
          ],
          "contourcarpet": [
           {
            "colorbar": {
             "outlinewidth": 0,
             "ticks": ""
            },
            "type": "contourcarpet"
           }
          ],
          "heatmap": [
           {
            "colorbar": {
             "outlinewidth": 0,
             "ticks": ""
            },
            "colorscale": [
             [
              0,
              "#0d0887"
             ],
             [
              0.1111111111111111,
              "#46039f"
             ],
             [
              0.2222222222222222,
              "#7201a8"
             ],
             [
              0.3333333333333333,
              "#9c179e"
             ],
             [
              0.4444444444444444,
              "#bd3786"
             ],
             [
              0.5555555555555556,
              "#d8576b"
             ],
             [
              0.6666666666666666,
              "#ed7953"
             ],
             [
              0.7777777777777778,
              "#fb9f3a"
             ],
             [
              0.8888888888888888,
              "#fdca26"
             ],
             [
              1,
              "#f0f921"
             ]
            ],
            "type": "heatmap"
           }
          ],
          "heatmapgl": [
           {
            "colorbar": {
             "outlinewidth": 0,
             "ticks": ""
            },
            "colorscale": [
             [
              0,
              "#0d0887"
             ],
             [
              0.1111111111111111,
              "#46039f"
             ],
             [
              0.2222222222222222,
              "#7201a8"
             ],
             [
              0.3333333333333333,
              "#9c179e"
             ],
             [
              0.4444444444444444,
              "#bd3786"
             ],
             [
              0.5555555555555556,
              "#d8576b"
             ],
             [
              0.6666666666666666,
              "#ed7953"
             ],
             [
              0.7777777777777778,
              "#fb9f3a"
             ],
             [
              0.8888888888888888,
              "#fdca26"
             ],
             [
              1,
              "#f0f921"
             ]
            ],
            "type": "heatmapgl"
           }
          ],
          "histogram": [
           {
            "marker": {
             "pattern": {
              "fillmode": "overlay",
              "size": 10,
              "solidity": 0.2
             }
            },
            "type": "histogram"
           }
          ],
          "histogram2d": [
           {
            "colorbar": {
             "outlinewidth": 0,
             "ticks": ""
            },
            "colorscale": [
             [
              0,
              "#0d0887"
             ],
             [
              0.1111111111111111,
              "#46039f"
             ],
             [
              0.2222222222222222,
              "#7201a8"
             ],
             [
              0.3333333333333333,
              "#9c179e"
             ],
             [
              0.4444444444444444,
              "#bd3786"
             ],
             [
              0.5555555555555556,
              "#d8576b"
             ],
             [
              0.6666666666666666,
              "#ed7953"
             ],
             [
              0.7777777777777778,
              "#fb9f3a"
             ],
             [
              0.8888888888888888,
              "#fdca26"
             ],
             [
              1,
              "#f0f921"
             ]
            ],
            "type": "histogram2d"
           }
          ],
          "histogram2dcontour": [
           {
            "colorbar": {
             "outlinewidth": 0,
             "ticks": ""
            },
            "colorscale": [
             [
              0,
              "#0d0887"
             ],
             [
              0.1111111111111111,
              "#46039f"
             ],
             [
              0.2222222222222222,
              "#7201a8"
             ],
             [
              0.3333333333333333,
              "#9c179e"
             ],
             [
              0.4444444444444444,
              "#bd3786"
             ],
             [
              0.5555555555555556,
              "#d8576b"
             ],
             [
              0.6666666666666666,
              "#ed7953"
             ],
             [
              0.7777777777777778,
              "#fb9f3a"
             ],
             [
              0.8888888888888888,
              "#fdca26"
             ],
             [
              1,
              "#f0f921"
             ]
            ],
            "type": "histogram2dcontour"
           }
          ],
          "mesh3d": [
           {
            "colorbar": {
             "outlinewidth": 0,
             "ticks": ""
            },
            "type": "mesh3d"
           }
          ],
          "parcoords": [
           {
            "line": {
             "colorbar": {
              "outlinewidth": 0,
              "ticks": ""
             }
            },
            "type": "parcoords"
           }
          ],
          "pie": [
           {
            "automargin": true,
            "type": "pie"
           }
          ],
          "scatter": [
           {
            "fillpattern": {
             "fillmode": "overlay",
             "size": 10,
             "solidity": 0.2
            },
            "type": "scatter"
           }
          ],
          "scatter3d": [
           {
            "line": {
             "colorbar": {
              "outlinewidth": 0,
              "ticks": ""
             }
            },
            "marker": {
             "colorbar": {
              "outlinewidth": 0,
              "ticks": ""
             }
            },
            "type": "scatter3d"
           }
          ],
          "scattercarpet": [
           {
            "marker": {
             "colorbar": {
              "outlinewidth": 0,
              "ticks": ""
             }
            },
            "type": "scattercarpet"
           }
          ],
          "scattergeo": [
           {
            "marker": {
             "colorbar": {
              "outlinewidth": 0,
              "ticks": ""
             }
            },
            "type": "scattergeo"
           }
          ],
          "scattergl": [
           {
            "marker": {
             "colorbar": {
              "outlinewidth": 0,
              "ticks": ""
             }
            },
            "type": "scattergl"
           }
          ],
          "scattermapbox": [
           {
            "marker": {
             "colorbar": {
              "outlinewidth": 0,
              "ticks": ""
             }
            },
            "type": "scattermapbox"
           }
          ],
          "scatterpolar": [
           {
            "marker": {
             "colorbar": {
              "outlinewidth": 0,
              "ticks": ""
             }
            },
            "type": "scatterpolar"
           }
          ],
          "scatterpolargl": [
           {
            "marker": {
             "colorbar": {
              "outlinewidth": 0,
              "ticks": ""
             }
            },
            "type": "scatterpolargl"
           }
          ],
          "scatterternary": [
           {
            "marker": {
             "colorbar": {
              "outlinewidth": 0,
              "ticks": ""
             }
            },
            "type": "scatterternary"
           }
          ],
          "surface": [
           {
            "colorbar": {
             "outlinewidth": 0,
             "ticks": ""
            },
            "colorscale": [
             [
              0,
              "#0d0887"
             ],
             [
              0.1111111111111111,
              "#46039f"
             ],
             [
              0.2222222222222222,
              "#7201a8"
             ],
             [
              0.3333333333333333,
              "#9c179e"
             ],
             [
              0.4444444444444444,
              "#bd3786"
             ],
             [
              0.5555555555555556,
              "#d8576b"
             ],
             [
              0.6666666666666666,
              "#ed7953"
             ],
             [
              0.7777777777777778,
              "#fb9f3a"
             ],
             [
              0.8888888888888888,
              "#fdca26"
             ],
             [
              1,
              "#f0f921"
             ]
            ],
            "type": "surface"
           }
          ],
          "table": [
           {
            "cells": {
             "fill": {
              "color": "#EBF0F8"
             },
             "line": {
              "color": "white"
             }
            },
            "header": {
             "fill": {
              "color": "#C8D4E3"
             },
             "line": {
              "color": "white"
             }
            },
            "type": "table"
           }
          ]
         },
         "layout": {
          "annotationdefaults": {
           "arrowcolor": "#2a3f5f",
           "arrowhead": 0,
           "arrowwidth": 1
          },
          "autotypenumbers": "strict",
          "coloraxis": {
           "colorbar": {
            "outlinewidth": 0,
            "ticks": ""
           }
          },
          "colorscale": {
           "diverging": [
            [
             0,
             "#8e0152"
            ],
            [
             0.1,
             "#c51b7d"
            ],
            [
             0.2,
             "#de77ae"
            ],
            [
             0.3,
             "#f1b6da"
            ],
            [
             0.4,
             "#fde0ef"
            ],
            [
             0.5,
             "#f7f7f7"
            ],
            [
             0.6,
             "#e6f5d0"
            ],
            [
             0.7,
             "#b8e186"
            ],
            [
             0.8,
             "#7fbc41"
            ],
            [
             0.9,
             "#4d9221"
            ],
            [
             1,
             "#276419"
            ]
           ],
           "sequential": [
            [
             0,
             "#0d0887"
            ],
            [
             0.1111111111111111,
             "#46039f"
            ],
            [
             0.2222222222222222,
             "#7201a8"
            ],
            [
             0.3333333333333333,
             "#9c179e"
            ],
            [
             0.4444444444444444,
             "#bd3786"
            ],
            [
             0.5555555555555556,
             "#d8576b"
            ],
            [
             0.6666666666666666,
             "#ed7953"
            ],
            [
             0.7777777777777778,
             "#fb9f3a"
            ],
            [
             0.8888888888888888,
             "#fdca26"
            ],
            [
             1,
             "#f0f921"
            ]
           ],
           "sequentialminus": [
            [
             0,
             "#0d0887"
            ],
            [
             0.1111111111111111,
             "#46039f"
            ],
            [
             0.2222222222222222,
             "#7201a8"
            ],
            [
             0.3333333333333333,
             "#9c179e"
            ],
            [
             0.4444444444444444,
             "#bd3786"
            ],
            [
             0.5555555555555556,
             "#d8576b"
            ],
            [
             0.6666666666666666,
             "#ed7953"
            ],
            [
             0.7777777777777778,
             "#fb9f3a"
            ],
            [
             0.8888888888888888,
             "#fdca26"
            ],
            [
             1,
             "#f0f921"
            ]
           ]
          },
          "colorway": [
           "#636efa",
           "#EF553B",
           "#00cc96",
           "#ab63fa",
           "#FFA15A",
           "#19d3f3",
           "#FF6692",
           "#B6E880",
           "#FF97FF",
           "#FECB52"
          ],
          "font": {
           "color": "#2a3f5f"
          },
          "geo": {
           "bgcolor": "white",
           "lakecolor": "white",
           "landcolor": "white",
           "showlakes": true,
           "showland": true,
           "subunitcolor": "#C8D4E3"
          },
          "hoverlabel": {
           "align": "left"
          },
          "hovermode": "closest",
          "mapbox": {
           "style": "light"
          },
          "paper_bgcolor": "white",
          "plot_bgcolor": "white",
          "polar": {
           "angularaxis": {
            "gridcolor": "#EBF0F8",
            "linecolor": "#EBF0F8",
            "ticks": ""
           },
           "bgcolor": "white",
           "radialaxis": {
            "gridcolor": "#EBF0F8",
            "linecolor": "#EBF0F8",
            "ticks": ""
           }
          },
          "scene": {
           "xaxis": {
            "backgroundcolor": "white",
            "gridcolor": "#DFE8F3",
            "gridwidth": 2,
            "linecolor": "#EBF0F8",
            "showbackground": true,
            "ticks": "",
            "zerolinecolor": "#EBF0F8"
           },
           "yaxis": {
            "backgroundcolor": "white",
            "gridcolor": "#DFE8F3",
            "gridwidth": 2,
            "linecolor": "#EBF0F8",
            "showbackground": true,
            "ticks": "",
            "zerolinecolor": "#EBF0F8"
           },
           "zaxis": {
            "backgroundcolor": "white",
            "gridcolor": "#DFE8F3",
            "gridwidth": 2,
            "linecolor": "#EBF0F8",
            "showbackground": true,
            "ticks": "",
            "zerolinecolor": "#EBF0F8"
           }
          },
          "shapedefaults": {
           "line": {
            "color": "#2a3f5f"
           }
          },
          "ternary": {
           "aaxis": {
            "gridcolor": "#DFE8F3",
            "linecolor": "#A2B1C6",
            "ticks": ""
           },
           "baxis": {
            "gridcolor": "#DFE8F3",
            "linecolor": "#A2B1C6",
            "ticks": ""
           },
           "bgcolor": "white",
           "caxis": {
            "gridcolor": "#DFE8F3",
            "linecolor": "#A2B1C6",
            "ticks": ""
           }
          },
          "title": {
           "x": 0.05
          },
          "xaxis": {
           "automargin": true,
           "gridcolor": "#EBF0F8",
           "linecolor": "#EBF0F8",
           "ticks": "",
           "title": {
            "standoff": 15
           },
           "zerolinecolor": "#EBF0F8",
           "zerolinewidth": 2
          },
          "yaxis": {
           "automargin": true,
           "gridcolor": "#EBF0F8",
           "linecolor": "#EBF0F8",
           "ticks": "",
           "title": {
            "standoff": 15
           },
           "zerolinecolor": "#EBF0F8",
           "zerolinewidth": 2
          }
         }
        },
        "title": {
         "text": "Average total price by product category"
        },
        "xaxis": {
         "anchor": "y",
         "domain": [
          0,
          1
         ],
         "title": {
          "text": "product_category_name"
         }
        },
        "yaxis": {
         "anchor": "x",
         "domain": [
          0,
          1
         ],
         "title": {
          "text": "total_price"
         }
        }
       }
      }
     },
     "metadata": {},
     "output_type": "display_data"
    }
   ],
   "source": [
    "# Now let’s have a look at the average total prices by product categories:\n",
    "fig = px.bar(data,x=\"product_category_name\",y='total_price',title=\"Average total price by product category\")\n",
    "fig.show()"
   ]
  },
  {
   "cell_type": "code",
   "execution_count": 19,
   "metadata": {},
   "outputs": [
    {
     "data": {
      "application/vnd.plotly.v1+json": {
       "config": {
        "plotlyServerURL": "https://plot.ly"
       },
       "data": [
        {
         "alignmentgroup": "True",
         "hovertemplate": "weekday=%{x}<br>total_price=%{y}<extra></extra>",
         "legendgroup": "",
         "marker": {
          "color": "#636efa"
         },
         "name": "",
         "notched": false,
         "offsetgroup": "",
         "orientation": "v",
         "showlegend": false,
         "type": "box",
         "x": [
          23,
          22,
          21,
          23,
          21,
          22,
          22,
          21,
          23,
          20,
          22,
          21,
          23,
          21,
          22,
          23,
          23,
          20,
          23,
          22,
          21,
          23,
          21,
          22,
          22,
          21,
          23,
          20,
          22,
          21,
          21,
          23,
          21,
          22,
          22,
          21,
          20,
          22,
          21,
          23,
          21,
          22,
          20,
          23,
          21,
          23,
          21,
          22,
          22,
          21,
          23,
          20,
          22,
          21,
          23,
          21,
          22,
          23,
          20,
          23,
          20,
          23,
          22,
          21,
          23,
          21,
          22,
          22,
          21,
          23,
          20,
          22,
          23,
          21,
          22,
          23,
          21,
          23,
          22,
          22,
          21,
          23,
          20,
          22,
          21,
          23,
          20,
          22,
          21,
          23,
          21,
          22,
          23,
          22,
          21,
          23,
          21,
          22,
          22,
          21,
          23,
          20,
          22,
          21,
          22,
          23,
          20,
          23,
          22,
          21,
          23,
          21,
          22,
          22,
          21,
          23,
          20,
          22,
          21,
          23,
          23,
          22,
          21,
          23,
          21,
          22,
          22,
          21,
          23,
          20,
          22,
          21,
          23,
          21,
          22,
          23,
          21,
          23,
          21,
          22,
          22,
          21,
          23,
          20,
          22,
          21,
          23,
          21,
          22,
          23,
          22,
          21,
          23,
          20,
          22,
          21,
          21,
          22,
          23,
          22,
          21,
          23,
          21,
          22,
          22,
          21,
          23,
          20,
          22,
          21,
          23,
          21,
          22,
          23,
          23,
          20,
          22,
          21,
          23,
          21,
          22,
          23,
          23,
          22,
          21,
          23,
          21,
          22,
          23,
          23,
          22,
          21,
          23,
          21,
          22,
          22,
          21,
          23,
          20,
          22,
          21,
          23,
          21,
          22,
          23,
          20,
          22,
          21,
          23,
          21,
          22,
          23,
          22,
          21,
          23,
          21,
          22,
          22,
          21,
          23,
          20,
          22,
          21,
          23,
          21,
          22,
          23,
          23,
          21,
          22,
          22,
          21,
          23,
          20,
          22,
          21,
          20,
          20,
          21,
          22,
          22,
          21,
          23,
          20,
          22,
          21,
          23,
          21,
          22,
          23,
          20,
          23,
          22,
          21,
          23,
          21,
          22,
          22,
          21,
          23,
          20,
          22,
          21,
          23,
          21,
          22,
          23,
          22,
          21,
          23,
          21,
          22,
          22,
          21,
          20,
          22,
          21,
          23,
          21,
          22,
          23,
          21,
          23,
          22,
          21,
          23,
          21,
          23,
          23,
          21,
          22,
          22,
          21,
          23,
          20,
          22,
          21,
          23,
          21,
          22,
          23,
          23,
          20,
          23,
          22,
          21,
          23,
          22,
          22,
          21,
          23,
          20,
          22,
          21,
          23,
          22,
          21,
          23,
          21,
          22,
          22,
          21,
          23,
          20,
          22,
          21,
          21,
          22,
          23,
          21,
          23,
          21,
          22,
          22,
          21,
          23,
          20,
          22,
          21,
          22,
          20,
          23,
          20,
          23,
          22,
          21,
          23,
          21,
          22,
          22,
          21,
          23,
          20,
          22,
          21,
          23,
          21,
          22,
          23,
          21,
          22,
          23,
          20,
          22,
          21,
          23,
          21,
          22,
          23,
          22,
          21,
          23,
          20,
          22,
          21,
          23,
          21,
          22,
          23,
          23,
          21,
          22,
          22,
          21,
          23,
          20,
          22,
          21,
          23,
          22,
          20,
          23,
          20,
          23,
          22,
          21,
          23,
          21,
          22,
          22,
          21,
          23,
          20,
          22,
          21,
          23,
          21,
          22,
          23,
          22,
          22,
          21,
          23,
          20,
          22,
          21,
          23,
          21,
          22,
          23,
          20,
          23,
          20,
          23,
          22,
          21,
          21,
          22,
          22,
          21,
          23,
          20,
          22,
          21,
          23,
          21,
          22,
          23,
          20,
          23,
          20,
          23,
          22,
          21,
          23,
          21,
          22,
          22,
          21,
          23,
          20,
          22,
          21,
          23,
          21,
          22,
          23,
          23,
          21,
          22,
          22,
          21,
          23,
          20,
          22,
          21,
          23,
          21,
          23,
          22,
          21,
          23,
          20,
          22,
          21,
          23,
          21,
          22,
          23,
          23,
          22,
          21,
          23,
          22,
          22,
          21,
          23,
          20,
          22,
          21,
          23,
          21,
          22,
          23,
          21,
          23,
          22,
          22,
          21,
          23,
          20,
          22,
          21,
          23,
          21,
          22,
          23,
          20,
          23,
          22,
          21,
          23,
          21,
          22,
          22,
          21,
          23,
          20,
          22,
          21,
          23,
          21,
          22,
          23,
          21,
          23,
          21,
          22,
          22,
          23,
          20,
          22,
          21,
          23,
          21,
          22,
          23,
          23,
          21,
          22,
          22,
          21,
          23,
          20,
          22,
          21,
          23,
          21,
          22,
          23,
          20,
          23,
          23,
          22,
          21,
          23,
          21,
          22,
          22,
          21,
          23,
          20,
          22,
          21,
          23,
          21,
          22,
          23,
          20,
          23,
          20,
          23,
          22,
          21,
          23,
          21,
          22,
          22,
          21,
          23,
          20,
          22,
          21,
          20,
          23,
          20,
          22,
          21,
          23,
          21,
          22,
          22,
          21,
          23,
          20,
          22,
          21,
          23,
          21,
          22,
          23,
          23,
          21,
          22,
          22,
          21,
          23,
          20,
          22,
          21,
          23,
          21,
          22,
          23,
          22,
          21,
          23,
          21,
          22,
          22,
          21,
          23,
          20,
          22,
          22,
          21,
          23,
          20,
          22,
          21,
          23,
          21,
          22,
          23,
          23,
          20,
          22,
          21,
          23,
          21,
          22,
          22,
          21,
          23,
          20,
          22,
          21,
          23,
          21,
          22,
          23,
          22,
          21,
          23,
          20,
          22,
          21,
          23,
          21,
          22,
          23,
          22,
          22,
          21,
          23,
          20,
          22,
          21,
          23,
          21,
          22,
          23,
          22,
          21,
          23,
          21
         ],
         "x0": " ",
         "xaxis": "x",
         "y": [
          45.95,
          137.85,
          275.7,
          183.8,
          91.9,
          137.85,
          445.85,
          239.94,
          759.81,
          719.82,
          679.83,
          519.87,
          759.81,
          199.95,
          319.92,
          313.92,
          419.4,
          247.9,
          1956,
          712,
          890,
          683,
          891,
          1386,
          1683,
          1089,
          398,
          202,
          101,
          101,
          258.7,
          477.6,
          179.1,
          603.2,
          686,
          392,
          162.5,
          195,
          245.4,
          108.6,
          72.4,
          36.2,
          59.9,
          59.9,
          239.6,
          359.4,
          299.5,
          658.9,
          1043.6,
          571.8,
          548.9,
          411.2,
          161.7,
          431.2,
          477.1,
          249.5,
          299.4,
          349.3,
          219.89,
          179.91,
          259.87,
          319.84,
          419.79,
          579.71,
          651.72,
          575.76,
          647.73,
          671.72,
          455.81,
          455.81,
          335.86,
          191.92,
          167.93,
          71.97,
          71.97,
          47.98,
          134.99,
          134.99,
          1763.88,
          4248.73,
          4842.71,
          2170.87,
          1415.92,
          1911.89,
          1019.94,
          110.99,
          221.98,
          998.91,
          1514.87,
          2759.77,
          5288.57,
          4058.67,
          3935.68,
          227.96,
          398.93,
          398.93,
          968.83,
          968.83,
          1139.8,
          1367.76,
          569.9,
          227.96,
          706.86,
          99.98,
          399.92,
          199.96,
          199.98,
          1799.82,
          1099.89,
          1399.86,
          799.92,
          599.94,
          899.91,
          199.98,
          299.97,
          599.94,
          899.91,
          489.76,
          338.77,
          539.94,
          539.94,
          809.91,
          1529.83,
          1619.82,
          1889.79,
          2159.76,
          2339.74,
          1709.81,
          1799.8,
          1529.83,
          1339.84,
          1119.86,
          1279.84,
          1039.87,
          799.9,
          579.75,
          778.7,
          1377.7,
          778.7,
          2156.4,
          3711.7,
          2468.6,
          1946.1,
          2411.2,
          1401.4,
          1509.2,
          1319.5,
          748.5,
          149.7,
          299.4,
          167,
          239.8,
          5453.96,
          3465.8,
          528,
          880,
          269.7,
          236.7,
          179.7,
          179.7,
          1138.1,
          1617.3,
          1018.3,
          1856.9,
          4712.19,
          1769.7,
          1447.1,
          1828.4,
          1886.5,
          700.7,
          1559.1,
          299.4,
          698.6,
          499,
          3307.8,
          10343.1,
          7644.9,
          5246.5,
          7794.8,
          4047.3,
          1948.7,
          749.5,
          185.97,
          805.87,
          974.85,
          2469.62,
          1741.74,
          1808.73,
          1875.72,
          239.6,
          59.9,
          838.6,
          2336.1,
          2216.3,
          2336.1,
          4769.7,
          2881.6,
          598.8,
          1970.1,
          1670.9,
          2479.4,
          2982.4,
          598.8,
          299.46,
          299.46,
          994.04,
          2809.65,
          965.91,
          1723.08,
          449.82,
          257.56,
          557.85,
          789.95,
          1016.95,
          849.5,
          1604,
          2391.6,
          3660,
          894,
          1188,
          2043.92,
          1115.7,
          1191.9,
          2598.9,
          139.9,
          694.9,
          414,
          254.97,
          339.96,
          254.97,
          3059.64,
          4249.5,
          1104.87,
          594.93,
          339.96,
          169.98,
          179.99,
          539.97,
          359.98,
          1079.94,
          2339.87,
          2759.85,
          2629.96,
          2148,
          2277,
          1969,
          537,
          1590,
          1112,
          973,
          179.7,
          419.3,
          239.6,
          1138.1,
          1257.9,
          1377.7,
          1138.1,
          4397.7,
          2232.6,
          1247.5,
          2247.6,
          1347.5,
          1078,
          888.3,
          399.2,
          449.1,
          349.3,
          652,
          1777.5,
          2088.7,
          2762.5,
          134.9,
          1995,
          596,
          769.45,
          3640.68,
          8961.49,
          11820.2,
          1071,
          1302,
          112,
          29.5,
          2242,
          910,
          140,
          140,
          130,
          65,
          142.5,
          142.5,
          285,
          944.4,
          1416,
          707.4,
          1296.8,
          470.8,
          943.8,
          2038.3,
          1668.5,
          593.5,
          1987.4,
          1039.92,
          1819.86,
          2339.82,
          2209.83,
          2079.84,
          1870.84,
          1199.9,
          1169.91,
          389.97,
          519.96,
          259.98,
          129.99,
          129.99,
          379.6,
          611.4,
          1099,
          219.8,
          395.6,
          395.6,
          593.4,
          98.9,
          2795.14,
          2537.19,
          1139.8,
          470,
          292,
          1199.48,
          79.9,
          19.9,
          218.9,
          179.1,
          248,
          563.5,
          416.5,
          271.2,
          32.5,
          229.2,
          205.2,
          2799.2,
          1399.6,
          699.8,
          349.9,
          1399.6,
          699.8,
          349.9,
          2449.3,
          2449.3,
          3499,
          3543.5,
          2449.3,
          4198.8,
          5248.5,
          5948.3,
          2449.3,
          3513.1,
          4004,
          4004,
          3276,
          479.8,
          479.8,
          459.8,
          2250.8,
          2680,
          3908.9,
          4355,
          457.9,
          2200,
          1737.4,
          99.9,
          299.7,
          1298.7,
          1298.7,
          1198.8,
          1298.7,
          1298.7,
          999,
          1099.5,
          754.5,
          1839.2,
          2190.6,
          1729.2,
          2395.2,
          6287.2,
          2207.7,
          4319.4,
          3459,
          2657,
          3383,
          64.99,
          324.95,
          584.91,
          584.91,
          1039.84,
          1234.79,
          888.85,
          1297.78,
          1474.75,
          1120.81,
          1415.76,
          530.91,
          353.94,
          825.86,
          589.9,
          648.89,
          235.96,
          353.94,
          117.98,
          176.97,
          792,
          2178,
          693,
          1082,
          1196,
          276,
          815,
          1235.36,
          1188.6,
          764.1,
          84.9,
          99.99,
          1099.89,
          759.92,
          219.98,
          239.98,
          240,
          417,
          1105.92,
          1889.79,
          1259.86,
          1479.98,
          1680,
          680,
          770,
          880,
          969.9,
          499.95,
          199.98,
          179.8,
          1977.8,
          3056.6,
          5214.2,
          4584.9,
          5394,
          3326.3,
          2067.7,
          1258.6,
          3596,
          1594.2,
          1477.3,
          1911.8,
          1477.3,
          510.27,
          2174.89,
          1837.7,
          781.3,
          518,
          38.4,
          230.4,
          307.2,
          1170.35,
          153.6,
          576,
          153.6,
          493.4,
          140,
          140,
          70,
          35,
          1404,
          1404,
          4752,
          3564,
          2214,
          2205,
          3885,
          2940,
          840,
          735,
          78,
          234,
          78,
          390,
          234,
          156,
          468,
          702,
          78,
          78,
          1248,
          390,
          3042,
          3120,
          2179,
          375,
          975,
          375,
          3300,
          3525,
          8538,
          3075.6,
          4543.5,
          5801.7,
          6430.8,
          179.8,
          179.8,
          309.7,
          299.5,
          119.8,
          299.5,
          898.5,
          1138.1,
          2036.6,
          778.7,
          495.5,
          49.9,
          49.9,
          203.6,
          107.8,
          107.8,
          199.6,
          249.5,
          149.7,
          149.7,
          38.4,
          307.2,
          460.8,
          960,
          1026.51,
          76.8,
          345.6,
          601.8,
          595,
          385,
          455,
          350,
          560,
          1950,
          3575,
          650,
          3900,
          1950,
          3250,
          7475,
          9125,
          6930,
          6270,
          5280,
          4290,
          9240,
          99.99,
          499.95,
          439.96,
          659.94,
          120,
          240,
          735,
          1619.93,
          2519.72,
          2429.73,
          1405,
          840,
          660,
          550,
          220,
          539.94,
          699.93,
          589.94,
          599.93,
          1399.86,
          1699.83,
          2199.78,
          1399.86,
          1099.89,
          1399.86,
          299.97,
          199.98,
          399.96,
          299.97,
          299.97,
          99.99,
          199.98,
          269.59,
          479.97,
          479.97,
          699.95,
          479.97,
          839.94,
          1019.93,
          1679.89,
          2629.83,
          2699.82,
          3449.77,
          6746.9,
          4619,
          5986,
          6764,
          2975,
          3086.76,
          1079.91,
          1199.9,
          678,
          339,
          3461.58,
          3111.36,
          3836.8,
          339.9,
          1735,
          1847,
          1684,
          5956.3,
          983.6,
          7651.27,
          2715.7,
          2247.72,
          584.77,
          1884.45,
          1656.87,
          2206.4,
          2482.2,
          269.8,
          665,
          398.91,
          29.9,
          179.4,
          179.4,
          448.5,
          478.4,
          328.9,
          657.8,
          657.8,
          209.3,
          538.2,
          388.7,
          1205.03,
          766.83,
          925,
          1973.83,
          2698.5,
          3291.4,
          929.96,
          3139.8,
          929.8,
          398,
          1092,
          4860.11,
          1351.2,
          4241,
          2073.3,
          310,
          1601.06,
          109.9,
          1318.8,
          2831.55,
          5581.8,
          2187.3,
          1042.9,
          876.9,
          789,
          545.3,
          155.8,
          1331.1,
          1421.67,
          550.8,
          872.1,
          734.4,
          383.2,
          335.3,
          95.8,
          191.6,
          95.8,
          215,
          2090,
          12095,
          10375,
          5222.36
         ],
         "y0": " ",
         "yaxis": "y"
        }
       ],
       "layout": {
        "boxmode": "group",
        "legend": {
         "tracegroupgap": 0
        },
        "template": {
         "data": {
          "bar": [
           {
            "error_x": {
             "color": "#2a3f5f"
            },
            "error_y": {
             "color": "#2a3f5f"
            },
            "marker": {
             "line": {
              "color": "white",
              "width": 0.5
             },
             "pattern": {
              "fillmode": "overlay",
              "size": 10,
              "solidity": 0.2
             }
            },
            "type": "bar"
           }
          ],
          "barpolar": [
           {
            "marker": {
             "line": {
              "color": "white",
              "width": 0.5
             },
             "pattern": {
              "fillmode": "overlay",
              "size": 10,
              "solidity": 0.2
             }
            },
            "type": "barpolar"
           }
          ],
          "carpet": [
           {
            "aaxis": {
             "endlinecolor": "#2a3f5f",
             "gridcolor": "#C8D4E3",
             "linecolor": "#C8D4E3",
             "minorgridcolor": "#C8D4E3",
             "startlinecolor": "#2a3f5f"
            },
            "baxis": {
             "endlinecolor": "#2a3f5f",
             "gridcolor": "#C8D4E3",
             "linecolor": "#C8D4E3",
             "minorgridcolor": "#C8D4E3",
             "startlinecolor": "#2a3f5f"
            },
            "type": "carpet"
           }
          ],
          "choropleth": [
           {
            "colorbar": {
             "outlinewidth": 0,
             "ticks": ""
            },
            "type": "choropleth"
           }
          ],
          "contour": [
           {
            "colorbar": {
             "outlinewidth": 0,
             "ticks": ""
            },
            "colorscale": [
             [
              0,
              "#0d0887"
             ],
             [
              0.1111111111111111,
              "#46039f"
             ],
             [
              0.2222222222222222,
              "#7201a8"
             ],
             [
              0.3333333333333333,
              "#9c179e"
             ],
             [
              0.4444444444444444,
              "#bd3786"
             ],
             [
              0.5555555555555556,
              "#d8576b"
             ],
             [
              0.6666666666666666,
              "#ed7953"
             ],
             [
              0.7777777777777778,
              "#fb9f3a"
             ],
             [
              0.8888888888888888,
              "#fdca26"
             ],
             [
              1,
              "#f0f921"
             ]
            ],
            "type": "contour"
           }
          ],
          "contourcarpet": [
           {
            "colorbar": {
             "outlinewidth": 0,
             "ticks": ""
            },
            "type": "contourcarpet"
           }
          ],
          "heatmap": [
           {
            "colorbar": {
             "outlinewidth": 0,
             "ticks": ""
            },
            "colorscale": [
             [
              0,
              "#0d0887"
             ],
             [
              0.1111111111111111,
              "#46039f"
             ],
             [
              0.2222222222222222,
              "#7201a8"
             ],
             [
              0.3333333333333333,
              "#9c179e"
             ],
             [
              0.4444444444444444,
              "#bd3786"
             ],
             [
              0.5555555555555556,
              "#d8576b"
             ],
             [
              0.6666666666666666,
              "#ed7953"
             ],
             [
              0.7777777777777778,
              "#fb9f3a"
             ],
             [
              0.8888888888888888,
              "#fdca26"
             ],
             [
              1,
              "#f0f921"
             ]
            ],
            "type": "heatmap"
           }
          ],
          "heatmapgl": [
           {
            "colorbar": {
             "outlinewidth": 0,
             "ticks": ""
            },
            "colorscale": [
             [
              0,
              "#0d0887"
             ],
             [
              0.1111111111111111,
              "#46039f"
             ],
             [
              0.2222222222222222,
              "#7201a8"
             ],
             [
              0.3333333333333333,
              "#9c179e"
             ],
             [
              0.4444444444444444,
              "#bd3786"
             ],
             [
              0.5555555555555556,
              "#d8576b"
             ],
             [
              0.6666666666666666,
              "#ed7953"
             ],
             [
              0.7777777777777778,
              "#fb9f3a"
             ],
             [
              0.8888888888888888,
              "#fdca26"
             ],
             [
              1,
              "#f0f921"
             ]
            ],
            "type": "heatmapgl"
           }
          ],
          "histogram": [
           {
            "marker": {
             "pattern": {
              "fillmode": "overlay",
              "size": 10,
              "solidity": 0.2
             }
            },
            "type": "histogram"
           }
          ],
          "histogram2d": [
           {
            "colorbar": {
             "outlinewidth": 0,
             "ticks": ""
            },
            "colorscale": [
             [
              0,
              "#0d0887"
             ],
             [
              0.1111111111111111,
              "#46039f"
             ],
             [
              0.2222222222222222,
              "#7201a8"
             ],
             [
              0.3333333333333333,
              "#9c179e"
             ],
             [
              0.4444444444444444,
              "#bd3786"
             ],
             [
              0.5555555555555556,
              "#d8576b"
             ],
             [
              0.6666666666666666,
              "#ed7953"
             ],
             [
              0.7777777777777778,
              "#fb9f3a"
             ],
             [
              0.8888888888888888,
              "#fdca26"
             ],
             [
              1,
              "#f0f921"
             ]
            ],
            "type": "histogram2d"
           }
          ],
          "histogram2dcontour": [
           {
            "colorbar": {
             "outlinewidth": 0,
             "ticks": ""
            },
            "colorscale": [
             [
              0,
              "#0d0887"
             ],
             [
              0.1111111111111111,
              "#46039f"
             ],
             [
              0.2222222222222222,
              "#7201a8"
             ],
             [
              0.3333333333333333,
              "#9c179e"
             ],
             [
              0.4444444444444444,
              "#bd3786"
             ],
             [
              0.5555555555555556,
              "#d8576b"
             ],
             [
              0.6666666666666666,
              "#ed7953"
             ],
             [
              0.7777777777777778,
              "#fb9f3a"
             ],
             [
              0.8888888888888888,
              "#fdca26"
             ],
             [
              1,
              "#f0f921"
             ]
            ],
            "type": "histogram2dcontour"
           }
          ],
          "mesh3d": [
           {
            "colorbar": {
             "outlinewidth": 0,
             "ticks": ""
            },
            "type": "mesh3d"
           }
          ],
          "parcoords": [
           {
            "line": {
             "colorbar": {
              "outlinewidth": 0,
              "ticks": ""
             }
            },
            "type": "parcoords"
           }
          ],
          "pie": [
           {
            "automargin": true,
            "type": "pie"
           }
          ],
          "scatter": [
           {
            "fillpattern": {
             "fillmode": "overlay",
             "size": 10,
             "solidity": 0.2
            },
            "type": "scatter"
           }
          ],
          "scatter3d": [
           {
            "line": {
             "colorbar": {
              "outlinewidth": 0,
              "ticks": ""
             }
            },
            "marker": {
             "colorbar": {
              "outlinewidth": 0,
              "ticks": ""
             }
            },
            "type": "scatter3d"
           }
          ],
          "scattercarpet": [
           {
            "marker": {
             "colorbar": {
              "outlinewidth": 0,
              "ticks": ""
             }
            },
            "type": "scattercarpet"
           }
          ],
          "scattergeo": [
           {
            "marker": {
             "colorbar": {
              "outlinewidth": 0,
              "ticks": ""
             }
            },
            "type": "scattergeo"
           }
          ],
          "scattergl": [
           {
            "marker": {
             "colorbar": {
              "outlinewidth": 0,
              "ticks": ""
             }
            },
            "type": "scattergl"
           }
          ],
          "scattermapbox": [
           {
            "marker": {
             "colorbar": {
              "outlinewidth": 0,
              "ticks": ""
             }
            },
            "type": "scattermapbox"
           }
          ],
          "scatterpolar": [
           {
            "marker": {
             "colorbar": {
              "outlinewidth": 0,
              "ticks": ""
             }
            },
            "type": "scatterpolar"
           }
          ],
          "scatterpolargl": [
           {
            "marker": {
             "colorbar": {
              "outlinewidth": 0,
              "ticks": ""
             }
            },
            "type": "scatterpolargl"
           }
          ],
          "scatterternary": [
           {
            "marker": {
             "colorbar": {
              "outlinewidth": 0,
              "ticks": ""
             }
            },
            "type": "scatterternary"
           }
          ],
          "surface": [
           {
            "colorbar": {
             "outlinewidth": 0,
             "ticks": ""
            },
            "colorscale": [
             [
              0,
              "#0d0887"
             ],
             [
              0.1111111111111111,
              "#46039f"
             ],
             [
              0.2222222222222222,
              "#7201a8"
             ],
             [
              0.3333333333333333,
              "#9c179e"
             ],
             [
              0.4444444444444444,
              "#bd3786"
             ],
             [
              0.5555555555555556,
              "#d8576b"
             ],
             [
              0.6666666666666666,
              "#ed7953"
             ],
             [
              0.7777777777777778,
              "#fb9f3a"
             ],
             [
              0.8888888888888888,
              "#fdca26"
             ],
             [
              1,
              "#f0f921"
             ]
            ],
            "type": "surface"
           }
          ],
          "table": [
           {
            "cells": {
             "fill": {
              "color": "#EBF0F8"
             },
             "line": {
              "color": "white"
             }
            },
            "header": {
             "fill": {
              "color": "#C8D4E3"
             },
             "line": {
              "color": "white"
             }
            },
            "type": "table"
           }
          ]
         },
         "layout": {
          "annotationdefaults": {
           "arrowcolor": "#2a3f5f",
           "arrowhead": 0,
           "arrowwidth": 1
          },
          "autotypenumbers": "strict",
          "coloraxis": {
           "colorbar": {
            "outlinewidth": 0,
            "ticks": ""
           }
          },
          "colorscale": {
           "diverging": [
            [
             0,
             "#8e0152"
            ],
            [
             0.1,
             "#c51b7d"
            ],
            [
             0.2,
             "#de77ae"
            ],
            [
             0.3,
             "#f1b6da"
            ],
            [
             0.4,
             "#fde0ef"
            ],
            [
             0.5,
             "#f7f7f7"
            ],
            [
             0.6,
             "#e6f5d0"
            ],
            [
             0.7,
             "#b8e186"
            ],
            [
             0.8,
             "#7fbc41"
            ],
            [
             0.9,
             "#4d9221"
            ],
            [
             1,
             "#276419"
            ]
           ],
           "sequential": [
            [
             0,
             "#0d0887"
            ],
            [
             0.1111111111111111,
             "#46039f"
            ],
            [
             0.2222222222222222,
             "#7201a8"
            ],
            [
             0.3333333333333333,
             "#9c179e"
            ],
            [
             0.4444444444444444,
             "#bd3786"
            ],
            [
             0.5555555555555556,
             "#d8576b"
            ],
            [
             0.6666666666666666,
             "#ed7953"
            ],
            [
             0.7777777777777778,
             "#fb9f3a"
            ],
            [
             0.8888888888888888,
             "#fdca26"
            ],
            [
             1,
             "#f0f921"
            ]
           ],
           "sequentialminus": [
            [
             0,
             "#0d0887"
            ],
            [
             0.1111111111111111,
             "#46039f"
            ],
            [
             0.2222222222222222,
             "#7201a8"
            ],
            [
             0.3333333333333333,
             "#9c179e"
            ],
            [
             0.4444444444444444,
             "#bd3786"
            ],
            [
             0.5555555555555556,
             "#d8576b"
            ],
            [
             0.6666666666666666,
             "#ed7953"
            ],
            [
             0.7777777777777778,
             "#fb9f3a"
            ],
            [
             0.8888888888888888,
             "#fdca26"
            ],
            [
             1,
             "#f0f921"
            ]
           ]
          },
          "colorway": [
           "#636efa",
           "#EF553B",
           "#00cc96",
           "#ab63fa",
           "#FFA15A",
           "#19d3f3",
           "#FF6692",
           "#B6E880",
           "#FF97FF",
           "#FECB52"
          ],
          "font": {
           "color": "#2a3f5f"
          },
          "geo": {
           "bgcolor": "white",
           "lakecolor": "white",
           "landcolor": "white",
           "showlakes": true,
           "showland": true,
           "subunitcolor": "#C8D4E3"
          },
          "hoverlabel": {
           "align": "left"
          },
          "hovermode": "closest",
          "mapbox": {
           "style": "light"
          },
          "paper_bgcolor": "white",
          "plot_bgcolor": "white",
          "polar": {
           "angularaxis": {
            "gridcolor": "#EBF0F8",
            "linecolor": "#EBF0F8",
            "ticks": ""
           },
           "bgcolor": "white",
           "radialaxis": {
            "gridcolor": "#EBF0F8",
            "linecolor": "#EBF0F8",
            "ticks": ""
           }
          },
          "scene": {
           "xaxis": {
            "backgroundcolor": "white",
            "gridcolor": "#DFE8F3",
            "gridwidth": 2,
            "linecolor": "#EBF0F8",
            "showbackground": true,
            "ticks": "",
            "zerolinecolor": "#EBF0F8"
           },
           "yaxis": {
            "backgroundcolor": "white",
            "gridcolor": "#DFE8F3",
            "gridwidth": 2,
            "linecolor": "#EBF0F8",
            "showbackground": true,
            "ticks": "",
            "zerolinecolor": "#EBF0F8"
           },
           "zaxis": {
            "backgroundcolor": "white",
            "gridcolor": "#DFE8F3",
            "gridwidth": 2,
            "linecolor": "#EBF0F8",
            "showbackground": true,
            "ticks": "",
            "zerolinecolor": "#EBF0F8"
           }
          },
          "shapedefaults": {
           "line": {
            "color": "#2a3f5f"
           }
          },
          "ternary": {
           "aaxis": {
            "gridcolor": "#DFE8F3",
            "linecolor": "#A2B1C6",
            "ticks": ""
           },
           "baxis": {
            "gridcolor": "#DFE8F3",
            "linecolor": "#A2B1C6",
            "ticks": ""
           },
           "bgcolor": "white",
           "caxis": {
            "gridcolor": "#DFE8F3",
            "linecolor": "#A2B1C6",
            "ticks": ""
           }
          },
          "title": {
           "x": 0.05
          },
          "xaxis": {
           "automargin": true,
           "gridcolor": "#EBF0F8",
           "linecolor": "#EBF0F8",
           "ticks": "",
           "title": {
            "standoff": 15
           },
           "zerolinecolor": "#EBF0F8",
           "zerolinewidth": 2
          },
          "yaxis": {
           "automargin": true,
           "gridcolor": "#EBF0F8",
           "linecolor": "#EBF0F8",
           "ticks": "",
           "title": {
            "standoff": 15
           },
           "zerolinecolor": "#EBF0F8",
           "zerolinewidth": 2
          }
         }
        },
        "title": {
         "text": "Box plot of total price by weekday"
        },
        "xaxis": {
         "anchor": "y",
         "domain": [
          0,
          1
         ],
         "title": {
          "text": "weekday"
         }
        },
        "yaxis": {
         "anchor": "x",
         "domain": [
          0,
          1
         ],
         "title": {
          "text": "total_price"
         }
        }
       }
      }
     },
     "metadata": {},
     "output_type": "display_data"
    }
   ],
   "source": [
    "# Now let’s have a look at the distribution of total prices by weekday using a box plot:\n",
    "fig = px.box(data,x=\"weekday\",y=\"total_price\",title=\"Box plot of total price by weekday\")\n",
    "fig.show()\n"
   ]
  },
  {
   "cell_type": "code",
   "execution_count": 20,
   "metadata": {},
   "outputs": [
    {
     "data": {
      "application/vnd.plotly.v1+json": {
       "config": {
        "plotlyServerURL": "https://plot.ly"
       },
       "data": [
        {
         "alignmentgroup": "True",
         "hovertemplate": "holiday=%{x}<br>total_price=%{y}<extra></extra>",
         "legendgroup": "",
         "marker": {
          "color": "#636efa"
         },
         "name": "",
         "notched": false,
         "offsetgroup": "",
         "orientation": "v",
         "showlegend": false,
         "type": "box",
         "x": [
          1,
          1,
          1,
          1,
          1,
          2,
          4,
          1,
          2,
          2,
          1,
          1,
          3,
          0,
          1,
          1,
          1,
          2,
          1,
          1,
          1,
          1,
          1,
          2,
          4,
          1,
          2,
          2,
          1,
          1,
          1,
          1,
          1,
          2,
          4,
          1,
          2,
          1,
          1,
          3,
          0,
          1,
          2,
          1,
          1,
          1,
          1,
          2,
          4,
          1,
          2,
          2,
          1,
          1,
          3,
          0,
          1,
          1,
          2,
          1,
          2,
          1,
          1,
          1,
          1,
          1,
          2,
          4,
          1,
          2,
          2,
          1,
          3,
          0,
          1,
          1,
          1,
          1,
          2,
          4,
          1,
          2,
          2,
          1,
          1,
          2,
          2,
          1,
          1,
          3,
          0,
          1,
          1,
          1,
          1,
          1,
          1,
          2,
          4,
          1,
          2,
          2,
          1,
          1,
          1,
          1,
          2,
          1,
          1,
          1,
          1,
          1,
          2,
          4,
          1,
          2,
          2,
          1,
          1,
          1,
          1,
          1,
          1,
          1,
          1,
          2,
          4,
          1,
          2,
          2,
          1,
          1,
          3,
          0,
          1,
          1,
          1,
          1,
          1,
          2,
          4,
          1,
          2,
          2,
          1,
          1,
          3,
          0,
          1,
          1,
          2,
          1,
          2,
          2,
          1,
          1,
          0,
          1,
          1,
          1,
          1,
          1,
          1,
          2,
          4,
          1,
          2,
          2,
          1,
          1,
          3,
          0,
          1,
          1,
          2,
          2,
          1,
          1,
          3,
          0,
          1,
          1,
          2,
          1,
          1,
          3,
          0,
          1,
          1,
          1,
          1,
          1,
          1,
          1,
          2,
          4,
          1,
          2,
          2,
          1,
          1,
          3,
          0,
          1,
          1,
          2,
          1,
          1,
          3,
          0,
          1,
          1,
          1,
          1,
          1,
          1,
          2,
          4,
          1,
          2,
          2,
          1,
          1,
          3,
          0,
          1,
          1,
          1,
          1,
          2,
          4,
          1,
          2,
          2,
          1,
          0,
          2,
          2,
          1,
          2,
          4,
          1,
          2,
          2,
          1,
          1,
          3,
          0,
          1,
          1,
          2,
          1,
          1,
          1,
          1,
          1,
          2,
          4,
          1,
          2,
          2,
          1,
          1,
          3,
          0,
          1,
          1,
          1,
          1,
          1,
          1,
          2,
          4,
          1,
          2,
          1,
          1,
          3,
          0,
          1,
          1,
          1,
          2,
          1,
          1,
          3,
          0,
          1,
          1,
          1,
          2,
          4,
          1,
          2,
          2,
          1,
          1,
          3,
          0,
          1,
          1,
          1,
          2,
          1,
          1,
          1,
          1,
          2,
          4,
          1,
          2,
          2,
          1,
          1,
          1,
          1,
          1,
          1,
          1,
          2,
          4,
          1,
          2,
          2,
          1,
          1,
          0,
          1,
          1,
          1,
          1,
          1,
          2,
          4,
          1,
          2,
          2,
          1,
          1,
          1,
          2,
          1,
          2,
          1,
          1,
          1,
          1,
          1,
          2,
          4,
          1,
          2,
          2,
          1,
          1,
          3,
          0,
          1,
          1,
          1,
          2,
          2,
          2,
          1,
          1,
          3,
          0,
          1,
          1,
          4,
          1,
          2,
          2,
          1,
          1,
          3,
          0,
          1,
          1,
          1,
          1,
          2,
          4,
          1,
          2,
          2,
          1,
          1,
          3,
          1,
          2,
          1,
          2,
          1,
          1,
          1,
          1,
          1,
          2,
          4,
          1,
          2,
          2,
          1,
          1,
          3,
          0,
          1,
          1,
          2,
          4,
          1,
          2,
          2,
          1,
          1,
          3,
          0,
          1,
          1,
          2,
          1,
          2,
          1,
          1,
          1,
          1,
          2,
          4,
          1,
          2,
          2,
          1,
          1,
          3,
          0,
          1,
          1,
          2,
          1,
          2,
          1,
          1,
          1,
          1,
          1,
          2,
          4,
          1,
          2,
          2,
          1,
          1,
          3,
          0,
          1,
          1,
          1,
          1,
          2,
          4,
          1,
          2,
          2,
          1,
          1,
          3,
          0,
          1,
          4,
          1,
          2,
          2,
          1,
          1,
          3,
          0,
          1,
          1,
          1,
          1,
          1,
          1,
          2,
          4,
          1,
          2,
          2,
          1,
          1,
          3,
          0,
          1,
          1,
          1,
          1,
          2,
          4,
          1,
          2,
          2,
          1,
          1,
          3,
          0,
          1,
          1,
          2,
          1,
          1,
          1,
          1,
          1,
          2,
          4,
          1,
          2,
          2,
          1,
          1,
          3,
          0,
          1,
          1,
          1,
          1,
          1,
          2,
          4,
          2,
          2,
          1,
          1,
          3,
          0,
          1,
          1,
          1,
          1,
          2,
          4,
          1,
          2,
          2,
          1,
          1,
          3,
          0,
          1,
          1,
          2,
          1,
          1,
          1,
          1,
          1,
          1,
          2,
          4,
          1,
          2,
          2,
          1,
          1,
          3,
          0,
          1,
          1,
          2,
          1,
          2,
          1,
          1,
          1,
          1,
          1,
          2,
          4,
          1,
          2,
          2,
          1,
          1,
          2,
          1,
          2,
          1,
          1,
          1,
          1,
          2,
          4,
          1,
          2,
          2,
          1,
          1,
          3,
          0,
          1,
          1,
          1,
          1,
          2,
          4,
          1,
          2,
          2,
          1,
          1,
          3,
          0,
          1,
          1,
          1,
          1,
          1,
          1,
          2,
          4,
          1,
          2,
          2,
          2,
          4,
          1,
          2,
          2,
          1,
          1,
          3,
          0,
          1,
          1,
          1,
          2,
          1,
          1,
          1,
          1,
          2,
          4,
          1,
          2,
          2,
          1,
          1,
          3,
          0,
          1,
          1,
          4,
          1,
          2,
          2,
          1,
          1,
          3,
          0,
          1,
          1,
          2,
          4,
          1,
          2,
          2,
          1,
          1,
          3,
          0,
          1,
          1,
          1,
          1,
          1,
          1
         ],
         "x0": " ",
         "xaxis": "x",
         "y": [
          45.95,
          137.85,
          275.7,
          183.8,
          91.9,
          137.85,
          445.85,
          239.94,
          759.81,
          719.82,
          679.83,
          519.87,
          759.81,
          199.95,
          319.92,
          313.92,
          419.4,
          247.9,
          1956,
          712,
          890,
          683,
          891,
          1386,
          1683,
          1089,
          398,
          202,
          101,
          101,
          258.7,
          477.6,
          179.1,
          603.2,
          686,
          392,
          162.5,
          195,
          245.4,
          108.6,
          72.4,
          36.2,
          59.9,
          59.9,
          239.6,
          359.4,
          299.5,
          658.9,
          1043.6,
          571.8,
          548.9,
          411.2,
          161.7,
          431.2,
          477.1,
          249.5,
          299.4,
          349.3,
          219.89,
          179.91,
          259.87,
          319.84,
          419.79,
          579.71,
          651.72,
          575.76,
          647.73,
          671.72,
          455.81,
          455.81,
          335.86,
          191.92,
          167.93,
          71.97,
          71.97,
          47.98,
          134.99,
          134.99,
          1763.88,
          4248.73,
          4842.71,
          2170.87,
          1415.92,
          1911.89,
          1019.94,
          110.99,
          221.98,
          998.91,
          1514.87,
          2759.77,
          5288.57,
          4058.67,
          3935.68,
          227.96,
          398.93,
          398.93,
          968.83,
          968.83,
          1139.8,
          1367.76,
          569.9,
          227.96,
          706.86,
          99.98,
          399.92,
          199.96,
          199.98,
          1799.82,
          1099.89,
          1399.86,
          799.92,
          599.94,
          899.91,
          199.98,
          299.97,
          599.94,
          899.91,
          489.76,
          338.77,
          539.94,
          539.94,
          809.91,
          1529.83,
          1619.82,
          1889.79,
          2159.76,
          2339.74,
          1709.81,
          1799.8,
          1529.83,
          1339.84,
          1119.86,
          1279.84,
          1039.87,
          799.9,
          579.75,
          778.7,
          1377.7,
          778.7,
          2156.4,
          3711.7,
          2468.6,
          1946.1,
          2411.2,
          1401.4,
          1509.2,
          1319.5,
          748.5,
          149.7,
          299.4,
          167,
          239.8,
          5453.96,
          3465.8,
          528,
          880,
          269.7,
          236.7,
          179.7,
          179.7,
          1138.1,
          1617.3,
          1018.3,
          1856.9,
          4712.19,
          1769.7,
          1447.1,
          1828.4,
          1886.5,
          700.7,
          1559.1,
          299.4,
          698.6,
          499,
          3307.8,
          10343.1,
          7644.9,
          5246.5,
          7794.8,
          4047.3,
          1948.7,
          749.5,
          185.97,
          805.87,
          974.85,
          2469.62,
          1741.74,
          1808.73,
          1875.72,
          239.6,
          59.9,
          838.6,
          2336.1,
          2216.3,
          2336.1,
          4769.7,
          2881.6,
          598.8,
          1970.1,
          1670.9,
          2479.4,
          2982.4,
          598.8,
          299.46,
          299.46,
          994.04,
          2809.65,
          965.91,
          1723.08,
          449.82,
          257.56,
          557.85,
          789.95,
          1016.95,
          849.5,
          1604,
          2391.6,
          3660,
          894,
          1188,
          2043.92,
          1115.7,
          1191.9,
          2598.9,
          139.9,
          694.9,
          414,
          254.97,
          339.96,
          254.97,
          3059.64,
          4249.5,
          1104.87,
          594.93,
          339.96,
          169.98,
          179.99,
          539.97,
          359.98,
          1079.94,
          2339.87,
          2759.85,
          2629.96,
          2148,
          2277,
          1969,
          537,
          1590,
          1112,
          973,
          179.7,
          419.3,
          239.6,
          1138.1,
          1257.9,
          1377.7,
          1138.1,
          4397.7,
          2232.6,
          1247.5,
          2247.6,
          1347.5,
          1078,
          888.3,
          399.2,
          449.1,
          349.3,
          652,
          1777.5,
          2088.7,
          2762.5,
          134.9,
          1995,
          596,
          769.45,
          3640.68,
          8961.49,
          11820.2,
          1071,
          1302,
          112,
          29.5,
          2242,
          910,
          140,
          140,
          130,
          65,
          142.5,
          142.5,
          285,
          944.4,
          1416,
          707.4,
          1296.8,
          470.8,
          943.8,
          2038.3,
          1668.5,
          593.5,
          1987.4,
          1039.92,
          1819.86,
          2339.82,
          2209.83,
          2079.84,
          1870.84,
          1199.9,
          1169.91,
          389.97,
          519.96,
          259.98,
          129.99,
          129.99,
          379.6,
          611.4,
          1099,
          219.8,
          395.6,
          395.6,
          593.4,
          98.9,
          2795.14,
          2537.19,
          1139.8,
          470,
          292,
          1199.48,
          79.9,
          19.9,
          218.9,
          179.1,
          248,
          563.5,
          416.5,
          271.2,
          32.5,
          229.2,
          205.2,
          2799.2,
          1399.6,
          699.8,
          349.9,
          1399.6,
          699.8,
          349.9,
          2449.3,
          2449.3,
          3499,
          3543.5,
          2449.3,
          4198.8,
          5248.5,
          5948.3,
          2449.3,
          3513.1,
          4004,
          4004,
          3276,
          479.8,
          479.8,
          459.8,
          2250.8,
          2680,
          3908.9,
          4355,
          457.9,
          2200,
          1737.4,
          99.9,
          299.7,
          1298.7,
          1298.7,
          1198.8,
          1298.7,
          1298.7,
          999,
          1099.5,
          754.5,
          1839.2,
          2190.6,
          1729.2,
          2395.2,
          6287.2,
          2207.7,
          4319.4,
          3459,
          2657,
          3383,
          64.99,
          324.95,
          584.91,
          584.91,
          1039.84,
          1234.79,
          888.85,
          1297.78,
          1474.75,
          1120.81,
          1415.76,
          530.91,
          353.94,
          825.86,
          589.9,
          648.89,
          235.96,
          353.94,
          117.98,
          176.97,
          792,
          2178,
          693,
          1082,
          1196,
          276,
          815,
          1235.36,
          1188.6,
          764.1,
          84.9,
          99.99,
          1099.89,
          759.92,
          219.98,
          239.98,
          240,
          417,
          1105.92,
          1889.79,
          1259.86,
          1479.98,
          1680,
          680,
          770,
          880,
          969.9,
          499.95,
          199.98,
          179.8,
          1977.8,
          3056.6,
          5214.2,
          4584.9,
          5394,
          3326.3,
          2067.7,
          1258.6,
          3596,
          1594.2,
          1477.3,
          1911.8,
          1477.3,
          510.27,
          2174.89,
          1837.7,
          781.3,
          518,
          38.4,
          230.4,
          307.2,
          1170.35,
          153.6,
          576,
          153.6,
          493.4,
          140,
          140,
          70,
          35,
          1404,
          1404,
          4752,
          3564,
          2214,
          2205,
          3885,
          2940,
          840,
          735,
          78,
          234,
          78,
          390,
          234,
          156,
          468,
          702,
          78,
          78,
          1248,
          390,
          3042,
          3120,
          2179,
          375,
          975,
          375,
          3300,
          3525,
          8538,
          3075.6,
          4543.5,
          5801.7,
          6430.8,
          179.8,
          179.8,
          309.7,
          299.5,
          119.8,
          299.5,
          898.5,
          1138.1,
          2036.6,
          778.7,
          495.5,
          49.9,
          49.9,
          203.6,
          107.8,
          107.8,
          199.6,
          249.5,
          149.7,
          149.7,
          38.4,
          307.2,
          460.8,
          960,
          1026.51,
          76.8,
          345.6,
          601.8,
          595,
          385,
          455,
          350,
          560,
          1950,
          3575,
          650,
          3900,
          1950,
          3250,
          7475,
          9125,
          6930,
          6270,
          5280,
          4290,
          9240,
          99.99,
          499.95,
          439.96,
          659.94,
          120,
          240,
          735,
          1619.93,
          2519.72,
          2429.73,
          1405,
          840,
          660,
          550,
          220,
          539.94,
          699.93,
          589.94,
          599.93,
          1399.86,
          1699.83,
          2199.78,
          1399.86,
          1099.89,
          1399.86,
          299.97,
          199.98,
          399.96,
          299.97,
          299.97,
          99.99,
          199.98,
          269.59,
          479.97,
          479.97,
          699.95,
          479.97,
          839.94,
          1019.93,
          1679.89,
          2629.83,
          2699.82,
          3449.77,
          6746.9,
          4619,
          5986,
          6764,
          2975,
          3086.76,
          1079.91,
          1199.9,
          678,
          339,
          3461.58,
          3111.36,
          3836.8,
          339.9,
          1735,
          1847,
          1684,
          5956.3,
          983.6,
          7651.27,
          2715.7,
          2247.72,
          584.77,
          1884.45,
          1656.87,
          2206.4,
          2482.2,
          269.8,
          665,
          398.91,
          29.9,
          179.4,
          179.4,
          448.5,
          478.4,
          328.9,
          657.8,
          657.8,
          209.3,
          538.2,
          388.7,
          1205.03,
          766.83,
          925,
          1973.83,
          2698.5,
          3291.4,
          929.96,
          3139.8,
          929.8,
          398,
          1092,
          4860.11,
          1351.2,
          4241,
          2073.3,
          310,
          1601.06,
          109.9,
          1318.8,
          2831.55,
          5581.8,
          2187.3,
          1042.9,
          876.9,
          789,
          545.3,
          155.8,
          1331.1,
          1421.67,
          550.8,
          872.1,
          734.4,
          383.2,
          335.3,
          95.8,
          191.6,
          95.8,
          215,
          2090,
          12095,
          10375,
          5222.36
         ],
         "y0": " ",
         "yaxis": "y"
        }
       ],
       "layout": {
        "boxmode": "group",
        "legend": {
         "tracegroupgap": 0
        },
        "template": {
         "data": {
          "bar": [
           {
            "error_x": {
             "color": "#2a3f5f"
            },
            "error_y": {
             "color": "#2a3f5f"
            },
            "marker": {
             "line": {
              "color": "white",
              "width": 0.5
             },
             "pattern": {
              "fillmode": "overlay",
              "size": 10,
              "solidity": 0.2
             }
            },
            "type": "bar"
           }
          ],
          "barpolar": [
           {
            "marker": {
             "line": {
              "color": "white",
              "width": 0.5
             },
             "pattern": {
              "fillmode": "overlay",
              "size": 10,
              "solidity": 0.2
             }
            },
            "type": "barpolar"
           }
          ],
          "carpet": [
           {
            "aaxis": {
             "endlinecolor": "#2a3f5f",
             "gridcolor": "#C8D4E3",
             "linecolor": "#C8D4E3",
             "minorgridcolor": "#C8D4E3",
             "startlinecolor": "#2a3f5f"
            },
            "baxis": {
             "endlinecolor": "#2a3f5f",
             "gridcolor": "#C8D4E3",
             "linecolor": "#C8D4E3",
             "minorgridcolor": "#C8D4E3",
             "startlinecolor": "#2a3f5f"
            },
            "type": "carpet"
           }
          ],
          "choropleth": [
           {
            "colorbar": {
             "outlinewidth": 0,
             "ticks": ""
            },
            "type": "choropleth"
           }
          ],
          "contour": [
           {
            "colorbar": {
             "outlinewidth": 0,
             "ticks": ""
            },
            "colorscale": [
             [
              0,
              "#0d0887"
             ],
             [
              0.1111111111111111,
              "#46039f"
             ],
             [
              0.2222222222222222,
              "#7201a8"
             ],
             [
              0.3333333333333333,
              "#9c179e"
             ],
             [
              0.4444444444444444,
              "#bd3786"
             ],
             [
              0.5555555555555556,
              "#d8576b"
             ],
             [
              0.6666666666666666,
              "#ed7953"
             ],
             [
              0.7777777777777778,
              "#fb9f3a"
             ],
             [
              0.8888888888888888,
              "#fdca26"
             ],
             [
              1,
              "#f0f921"
             ]
            ],
            "type": "contour"
           }
          ],
          "contourcarpet": [
           {
            "colorbar": {
             "outlinewidth": 0,
             "ticks": ""
            },
            "type": "contourcarpet"
           }
          ],
          "heatmap": [
           {
            "colorbar": {
             "outlinewidth": 0,
             "ticks": ""
            },
            "colorscale": [
             [
              0,
              "#0d0887"
             ],
             [
              0.1111111111111111,
              "#46039f"
             ],
             [
              0.2222222222222222,
              "#7201a8"
             ],
             [
              0.3333333333333333,
              "#9c179e"
             ],
             [
              0.4444444444444444,
              "#bd3786"
             ],
             [
              0.5555555555555556,
              "#d8576b"
             ],
             [
              0.6666666666666666,
              "#ed7953"
             ],
             [
              0.7777777777777778,
              "#fb9f3a"
             ],
             [
              0.8888888888888888,
              "#fdca26"
             ],
             [
              1,
              "#f0f921"
             ]
            ],
            "type": "heatmap"
           }
          ],
          "heatmapgl": [
           {
            "colorbar": {
             "outlinewidth": 0,
             "ticks": ""
            },
            "colorscale": [
             [
              0,
              "#0d0887"
             ],
             [
              0.1111111111111111,
              "#46039f"
             ],
             [
              0.2222222222222222,
              "#7201a8"
             ],
             [
              0.3333333333333333,
              "#9c179e"
             ],
             [
              0.4444444444444444,
              "#bd3786"
             ],
             [
              0.5555555555555556,
              "#d8576b"
             ],
             [
              0.6666666666666666,
              "#ed7953"
             ],
             [
              0.7777777777777778,
              "#fb9f3a"
             ],
             [
              0.8888888888888888,
              "#fdca26"
             ],
             [
              1,
              "#f0f921"
             ]
            ],
            "type": "heatmapgl"
           }
          ],
          "histogram": [
           {
            "marker": {
             "pattern": {
              "fillmode": "overlay",
              "size": 10,
              "solidity": 0.2
             }
            },
            "type": "histogram"
           }
          ],
          "histogram2d": [
           {
            "colorbar": {
             "outlinewidth": 0,
             "ticks": ""
            },
            "colorscale": [
             [
              0,
              "#0d0887"
             ],
             [
              0.1111111111111111,
              "#46039f"
             ],
             [
              0.2222222222222222,
              "#7201a8"
             ],
             [
              0.3333333333333333,
              "#9c179e"
             ],
             [
              0.4444444444444444,
              "#bd3786"
             ],
             [
              0.5555555555555556,
              "#d8576b"
             ],
             [
              0.6666666666666666,
              "#ed7953"
             ],
             [
              0.7777777777777778,
              "#fb9f3a"
             ],
             [
              0.8888888888888888,
              "#fdca26"
             ],
             [
              1,
              "#f0f921"
             ]
            ],
            "type": "histogram2d"
           }
          ],
          "histogram2dcontour": [
           {
            "colorbar": {
             "outlinewidth": 0,
             "ticks": ""
            },
            "colorscale": [
             [
              0,
              "#0d0887"
             ],
             [
              0.1111111111111111,
              "#46039f"
             ],
             [
              0.2222222222222222,
              "#7201a8"
             ],
             [
              0.3333333333333333,
              "#9c179e"
             ],
             [
              0.4444444444444444,
              "#bd3786"
             ],
             [
              0.5555555555555556,
              "#d8576b"
             ],
             [
              0.6666666666666666,
              "#ed7953"
             ],
             [
              0.7777777777777778,
              "#fb9f3a"
             ],
             [
              0.8888888888888888,
              "#fdca26"
             ],
             [
              1,
              "#f0f921"
             ]
            ],
            "type": "histogram2dcontour"
           }
          ],
          "mesh3d": [
           {
            "colorbar": {
             "outlinewidth": 0,
             "ticks": ""
            },
            "type": "mesh3d"
           }
          ],
          "parcoords": [
           {
            "line": {
             "colorbar": {
              "outlinewidth": 0,
              "ticks": ""
             }
            },
            "type": "parcoords"
           }
          ],
          "pie": [
           {
            "automargin": true,
            "type": "pie"
           }
          ],
          "scatter": [
           {
            "fillpattern": {
             "fillmode": "overlay",
             "size": 10,
             "solidity": 0.2
            },
            "type": "scatter"
           }
          ],
          "scatter3d": [
           {
            "line": {
             "colorbar": {
              "outlinewidth": 0,
              "ticks": ""
             }
            },
            "marker": {
             "colorbar": {
              "outlinewidth": 0,
              "ticks": ""
             }
            },
            "type": "scatter3d"
           }
          ],
          "scattercarpet": [
           {
            "marker": {
             "colorbar": {
              "outlinewidth": 0,
              "ticks": ""
             }
            },
            "type": "scattercarpet"
           }
          ],
          "scattergeo": [
           {
            "marker": {
             "colorbar": {
              "outlinewidth": 0,
              "ticks": ""
             }
            },
            "type": "scattergeo"
           }
          ],
          "scattergl": [
           {
            "marker": {
             "colorbar": {
              "outlinewidth": 0,
              "ticks": ""
             }
            },
            "type": "scattergl"
           }
          ],
          "scattermapbox": [
           {
            "marker": {
             "colorbar": {
              "outlinewidth": 0,
              "ticks": ""
             }
            },
            "type": "scattermapbox"
           }
          ],
          "scatterpolar": [
           {
            "marker": {
             "colorbar": {
              "outlinewidth": 0,
              "ticks": ""
             }
            },
            "type": "scatterpolar"
           }
          ],
          "scatterpolargl": [
           {
            "marker": {
             "colorbar": {
              "outlinewidth": 0,
              "ticks": ""
             }
            },
            "type": "scatterpolargl"
           }
          ],
          "scatterternary": [
           {
            "marker": {
             "colorbar": {
              "outlinewidth": 0,
              "ticks": ""
             }
            },
            "type": "scatterternary"
           }
          ],
          "surface": [
           {
            "colorbar": {
             "outlinewidth": 0,
             "ticks": ""
            },
            "colorscale": [
             [
              0,
              "#0d0887"
             ],
             [
              0.1111111111111111,
              "#46039f"
             ],
             [
              0.2222222222222222,
              "#7201a8"
             ],
             [
              0.3333333333333333,
              "#9c179e"
             ],
             [
              0.4444444444444444,
              "#bd3786"
             ],
             [
              0.5555555555555556,
              "#d8576b"
             ],
             [
              0.6666666666666666,
              "#ed7953"
             ],
             [
              0.7777777777777778,
              "#fb9f3a"
             ],
             [
              0.8888888888888888,
              "#fdca26"
             ],
             [
              1,
              "#f0f921"
             ]
            ],
            "type": "surface"
           }
          ],
          "table": [
           {
            "cells": {
             "fill": {
              "color": "#EBF0F8"
             },
             "line": {
              "color": "white"
             }
            },
            "header": {
             "fill": {
              "color": "#C8D4E3"
             },
             "line": {
              "color": "white"
             }
            },
            "type": "table"
           }
          ]
         },
         "layout": {
          "annotationdefaults": {
           "arrowcolor": "#2a3f5f",
           "arrowhead": 0,
           "arrowwidth": 1
          },
          "autotypenumbers": "strict",
          "coloraxis": {
           "colorbar": {
            "outlinewidth": 0,
            "ticks": ""
           }
          },
          "colorscale": {
           "diverging": [
            [
             0,
             "#8e0152"
            ],
            [
             0.1,
             "#c51b7d"
            ],
            [
             0.2,
             "#de77ae"
            ],
            [
             0.3,
             "#f1b6da"
            ],
            [
             0.4,
             "#fde0ef"
            ],
            [
             0.5,
             "#f7f7f7"
            ],
            [
             0.6,
             "#e6f5d0"
            ],
            [
             0.7,
             "#b8e186"
            ],
            [
             0.8,
             "#7fbc41"
            ],
            [
             0.9,
             "#4d9221"
            ],
            [
             1,
             "#276419"
            ]
           ],
           "sequential": [
            [
             0,
             "#0d0887"
            ],
            [
             0.1111111111111111,
             "#46039f"
            ],
            [
             0.2222222222222222,
             "#7201a8"
            ],
            [
             0.3333333333333333,
             "#9c179e"
            ],
            [
             0.4444444444444444,
             "#bd3786"
            ],
            [
             0.5555555555555556,
             "#d8576b"
            ],
            [
             0.6666666666666666,
             "#ed7953"
            ],
            [
             0.7777777777777778,
             "#fb9f3a"
            ],
            [
             0.8888888888888888,
             "#fdca26"
            ],
            [
             1,
             "#f0f921"
            ]
           ],
           "sequentialminus": [
            [
             0,
             "#0d0887"
            ],
            [
             0.1111111111111111,
             "#46039f"
            ],
            [
             0.2222222222222222,
             "#7201a8"
            ],
            [
             0.3333333333333333,
             "#9c179e"
            ],
            [
             0.4444444444444444,
             "#bd3786"
            ],
            [
             0.5555555555555556,
             "#d8576b"
            ],
            [
             0.6666666666666666,
             "#ed7953"
            ],
            [
             0.7777777777777778,
             "#fb9f3a"
            ],
            [
             0.8888888888888888,
             "#fdca26"
            ],
            [
             1,
             "#f0f921"
            ]
           ]
          },
          "colorway": [
           "#636efa",
           "#EF553B",
           "#00cc96",
           "#ab63fa",
           "#FFA15A",
           "#19d3f3",
           "#FF6692",
           "#B6E880",
           "#FF97FF",
           "#FECB52"
          ],
          "font": {
           "color": "#2a3f5f"
          },
          "geo": {
           "bgcolor": "white",
           "lakecolor": "white",
           "landcolor": "white",
           "showlakes": true,
           "showland": true,
           "subunitcolor": "#C8D4E3"
          },
          "hoverlabel": {
           "align": "left"
          },
          "hovermode": "closest",
          "mapbox": {
           "style": "light"
          },
          "paper_bgcolor": "white",
          "plot_bgcolor": "white",
          "polar": {
           "angularaxis": {
            "gridcolor": "#EBF0F8",
            "linecolor": "#EBF0F8",
            "ticks": ""
           },
           "bgcolor": "white",
           "radialaxis": {
            "gridcolor": "#EBF0F8",
            "linecolor": "#EBF0F8",
            "ticks": ""
           }
          },
          "scene": {
           "xaxis": {
            "backgroundcolor": "white",
            "gridcolor": "#DFE8F3",
            "gridwidth": 2,
            "linecolor": "#EBF0F8",
            "showbackground": true,
            "ticks": "",
            "zerolinecolor": "#EBF0F8"
           },
           "yaxis": {
            "backgroundcolor": "white",
            "gridcolor": "#DFE8F3",
            "gridwidth": 2,
            "linecolor": "#EBF0F8",
            "showbackground": true,
            "ticks": "",
            "zerolinecolor": "#EBF0F8"
           },
           "zaxis": {
            "backgroundcolor": "white",
            "gridcolor": "#DFE8F3",
            "gridwidth": 2,
            "linecolor": "#EBF0F8",
            "showbackground": true,
            "ticks": "",
            "zerolinecolor": "#EBF0F8"
           }
          },
          "shapedefaults": {
           "line": {
            "color": "#2a3f5f"
           }
          },
          "ternary": {
           "aaxis": {
            "gridcolor": "#DFE8F3",
            "linecolor": "#A2B1C6",
            "ticks": ""
           },
           "baxis": {
            "gridcolor": "#DFE8F3",
            "linecolor": "#A2B1C6",
            "ticks": ""
           },
           "bgcolor": "white",
           "caxis": {
            "gridcolor": "#DFE8F3",
            "linecolor": "#A2B1C6",
            "ticks": ""
           }
          },
          "title": {
           "x": 0.05
          },
          "xaxis": {
           "automargin": true,
           "gridcolor": "#EBF0F8",
           "linecolor": "#EBF0F8",
           "ticks": "",
           "title": {
            "standoff": 15
           },
           "zerolinecolor": "#EBF0F8",
           "zerolinewidth": 2
          },
          "yaxis": {
           "automargin": true,
           "gridcolor": "#EBF0F8",
           "linecolor": "#EBF0F8",
           "ticks": "",
           "title": {
            "standoff": 15
           },
           "zerolinecolor": "#EBF0F8",
           "zerolinewidth": 2
          }
         }
        },
        "title": {
         "text": "Box plot of total price by holiday"
        },
        "xaxis": {
         "anchor": "y",
         "domain": [
          0,
          1
         ],
         "title": {
          "text": "holiday"
         }
        },
        "yaxis": {
         "anchor": "x",
         "domain": [
          0,
          1
         ],
         "title": {
          "text": "total_price"
         }
        }
       }
      }
     },
     "metadata": {},
     "output_type": "display_data"
    }
   ],
   "source": [
    "# Now let’s have a look at the distribution of total prices by holiday using a box plot:\n",
    "fig = px.box(data,x=\"holiday\",y=\"total_price\",title=\"Box plot of total price by holiday\")\n",
    "fig.show()"
   ]
  },
  {
   "cell_type": "code",
   "execution_count": null,
   "metadata": {},
   "outputs": [],
   "source": [
    "# Now let’s have a look at the correlation between the numerical features with each other:\n",
    "correlation_matrix = data.corr()\n",
    "fig = go.Figure(go.Heatmap(x=correlation_matrix.columns,y=correlation_matrix.columns,z=correlation_matrix.values))\n",
    "fig.update_layout(title='Correlation Heatmap of Numerical Features')\n",
    "fig.show()\n",
    "\n",
    "# ValueError: could not convert string to float: 'bed1' : chưa biết cách giải quyết bed1 là giá trị của cột product_id"
   ]
  },
  {
   "cell_type": "code",
   "execution_count": 24,
   "metadata": {},
   "outputs": [
    {
     "data": {
      "application/vnd.plotly.v1+json": {
       "config": {
        "plotlyServerURL": "https://plot.ly"
       },
       "data": [
        {
         "alignmentgroup": "True",
         "hovertemplate": "product_category_name=%{x}<br>comp_price_diff=%{y}<extra></extra>",
         "legendgroup": "",
         "marker": {
          "color": "#636efa",
          "pattern": {
           "shape": ""
          }
         },
         "name": "",
         "offsetgroup": "",
         "orientation": "v",
         "showlegend": false,
         "textposition": "auto",
         "type": "bar",
         "x": [
          "bed_bath_table",
          "computers_accessories",
          "consoles_games",
          "cool_stuff",
          "furniture_decor",
          "garden_tools",
          "health_beauty",
          "perfumery",
          "watches_gifts"
         ],
         "xaxis": "x",
         "y": [
          -7.637356980000002,
          -19.972852136956522,
          -0.06774891772727253,
          11.374337173333338,
          -15.729375892083334,
          22.036152741625,
          99.33960328915384,
          29.662713676923076,
          29.351977032718445
         ],
         "yaxis": "y"
        }
       ],
       "layout": {
        "barmode": "relative",
        "legend": {
         "tracegroupgap": 0
        },
        "template": {
         "data": {
          "bar": [
           {
            "error_x": {
             "color": "#2a3f5f"
            },
            "error_y": {
             "color": "#2a3f5f"
            },
            "marker": {
             "line": {
              "color": "white",
              "width": 0.5
             },
             "pattern": {
              "fillmode": "overlay",
              "size": 10,
              "solidity": 0.2
             }
            },
            "type": "bar"
           }
          ],
          "barpolar": [
           {
            "marker": {
             "line": {
              "color": "white",
              "width": 0.5
             },
             "pattern": {
              "fillmode": "overlay",
              "size": 10,
              "solidity": 0.2
             }
            },
            "type": "barpolar"
           }
          ],
          "carpet": [
           {
            "aaxis": {
             "endlinecolor": "#2a3f5f",
             "gridcolor": "#C8D4E3",
             "linecolor": "#C8D4E3",
             "minorgridcolor": "#C8D4E3",
             "startlinecolor": "#2a3f5f"
            },
            "baxis": {
             "endlinecolor": "#2a3f5f",
             "gridcolor": "#C8D4E3",
             "linecolor": "#C8D4E3",
             "minorgridcolor": "#C8D4E3",
             "startlinecolor": "#2a3f5f"
            },
            "type": "carpet"
           }
          ],
          "choropleth": [
           {
            "colorbar": {
             "outlinewidth": 0,
             "ticks": ""
            },
            "type": "choropleth"
           }
          ],
          "contour": [
           {
            "colorbar": {
             "outlinewidth": 0,
             "ticks": ""
            },
            "colorscale": [
             [
              0,
              "#0d0887"
             ],
             [
              0.1111111111111111,
              "#46039f"
             ],
             [
              0.2222222222222222,
              "#7201a8"
             ],
             [
              0.3333333333333333,
              "#9c179e"
             ],
             [
              0.4444444444444444,
              "#bd3786"
             ],
             [
              0.5555555555555556,
              "#d8576b"
             ],
             [
              0.6666666666666666,
              "#ed7953"
             ],
             [
              0.7777777777777778,
              "#fb9f3a"
             ],
             [
              0.8888888888888888,
              "#fdca26"
             ],
             [
              1,
              "#f0f921"
             ]
            ],
            "type": "contour"
           }
          ],
          "contourcarpet": [
           {
            "colorbar": {
             "outlinewidth": 0,
             "ticks": ""
            },
            "type": "contourcarpet"
           }
          ],
          "heatmap": [
           {
            "colorbar": {
             "outlinewidth": 0,
             "ticks": ""
            },
            "colorscale": [
             [
              0,
              "#0d0887"
             ],
             [
              0.1111111111111111,
              "#46039f"
             ],
             [
              0.2222222222222222,
              "#7201a8"
             ],
             [
              0.3333333333333333,
              "#9c179e"
             ],
             [
              0.4444444444444444,
              "#bd3786"
             ],
             [
              0.5555555555555556,
              "#d8576b"
             ],
             [
              0.6666666666666666,
              "#ed7953"
             ],
             [
              0.7777777777777778,
              "#fb9f3a"
             ],
             [
              0.8888888888888888,
              "#fdca26"
             ],
             [
              1,
              "#f0f921"
             ]
            ],
            "type": "heatmap"
           }
          ],
          "heatmapgl": [
           {
            "colorbar": {
             "outlinewidth": 0,
             "ticks": ""
            },
            "colorscale": [
             [
              0,
              "#0d0887"
             ],
             [
              0.1111111111111111,
              "#46039f"
             ],
             [
              0.2222222222222222,
              "#7201a8"
             ],
             [
              0.3333333333333333,
              "#9c179e"
             ],
             [
              0.4444444444444444,
              "#bd3786"
             ],
             [
              0.5555555555555556,
              "#d8576b"
             ],
             [
              0.6666666666666666,
              "#ed7953"
             ],
             [
              0.7777777777777778,
              "#fb9f3a"
             ],
             [
              0.8888888888888888,
              "#fdca26"
             ],
             [
              1,
              "#f0f921"
             ]
            ],
            "type": "heatmapgl"
           }
          ],
          "histogram": [
           {
            "marker": {
             "pattern": {
              "fillmode": "overlay",
              "size": 10,
              "solidity": 0.2
             }
            },
            "type": "histogram"
           }
          ],
          "histogram2d": [
           {
            "colorbar": {
             "outlinewidth": 0,
             "ticks": ""
            },
            "colorscale": [
             [
              0,
              "#0d0887"
             ],
             [
              0.1111111111111111,
              "#46039f"
             ],
             [
              0.2222222222222222,
              "#7201a8"
             ],
             [
              0.3333333333333333,
              "#9c179e"
             ],
             [
              0.4444444444444444,
              "#bd3786"
             ],
             [
              0.5555555555555556,
              "#d8576b"
             ],
             [
              0.6666666666666666,
              "#ed7953"
             ],
             [
              0.7777777777777778,
              "#fb9f3a"
             ],
             [
              0.8888888888888888,
              "#fdca26"
             ],
             [
              1,
              "#f0f921"
             ]
            ],
            "type": "histogram2d"
           }
          ],
          "histogram2dcontour": [
           {
            "colorbar": {
             "outlinewidth": 0,
             "ticks": ""
            },
            "colorscale": [
             [
              0,
              "#0d0887"
             ],
             [
              0.1111111111111111,
              "#46039f"
             ],
             [
              0.2222222222222222,
              "#7201a8"
             ],
             [
              0.3333333333333333,
              "#9c179e"
             ],
             [
              0.4444444444444444,
              "#bd3786"
             ],
             [
              0.5555555555555556,
              "#d8576b"
             ],
             [
              0.6666666666666666,
              "#ed7953"
             ],
             [
              0.7777777777777778,
              "#fb9f3a"
             ],
             [
              0.8888888888888888,
              "#fdca26"
             ],
             [
              1,
              "#f0f921"
             ]
            ],
            "type": "histogram2dcontour"
           }
          ],
          "mesh3d": [
           {
            "colorbar": {
             "outlinewidth": 0,
             "ticks": ""
            },
            "type": "mesh3d"
           }
          ],
          "parcoords": [
           {
            "line": {
             "colorbar": {
              "outlinewidth": 0,
              "ticks": ""
             }
            },
            "type": "parcoords"
           }
          ],
          "pie": [
           {
            "automargin": true,
            "type": "pie"
           }
          ],
          "scatter": [
           {
            "fillpattern": {
             "fillmode": "overlay",
             "size": 10,
             "solidity": 0.2
            },
            "type": "scatter"
           }
          ],
          "scatter3d": [
           {
            "line": {
             "colorbar": {
              "outlinewidth": 0,
              "ticks": ""
             }
            },
            "marker": {
             "colorbar": {
              "outlinewidth": 0,
              "ticks": ""
             }
            },
            "type": "scatter3d"
           }
          ],
          "scattercarpet": [
           {
            "marker": {
             "colorbar": {
              "outlinewidth": 0,
              "ticks": ""
             }
            },
            "type": "scattercarpet"
           }
          ],
          "scattergeo": [
           {
            "marker": {
             "colorbar": {
              "outlinewidth": 0,
              "ticks": ""
             }
            },
            "type": "scattergeo"
           }
          ],
          "scattergl": [
           {
            "marker": {
             "colorbar": {
              "outlinewidth": 0,
              "ticks": ""
             }
            },
            "type": "scattergl"
           }
          ],
          "scattermapbox": [
           {
            "marker": {
             "colorbar": {
              "outlinewidth": 0,
              "ticks": ""
             }
            },
            "type": "scattermapbox"
           }
          ],
          "scatterpolar": [
           {
            "marker": {
             "colorbar": {
              "outlinewidth": 0,
              "ticks": ""
             }
            },
            "type": "scatterpolar"
           }
          ],
          "scatterpolargl": [
           {
            "marker": {
             "colorbar": {
              "outlinewidth": 0,
              "ticks": ""
             }
            },
            "type": "scatterpolargl"
           }
          ],
          "scatterternary": [
           {
            "marker": {
             "colorbar": {
              "outlinewidth": 0,
              "ticks": ""
             }
            },
            "type": "scatterternary"
           }
          ],
          "surface": [
           {
            "colorbar": {
             "outlinewidth": 0,
             "ticks": ""
            },
            "colorscale": [
             [
              0,
              "#0d0887"
             ],
             [
              0.1111111111111111,
              "#46039f"
             ],
             [
              0.2222222222222222,
              "#7201a8"
             ],
             [
              0.3333333333333333,
              "#9c179e"
             ],
             [
              0.4444444444444444,
              "#bd3786"
             ],
             [
              0.5555555555555556,
              "#d8576b"
             ],
             [
              0.6666666666666666,
              "#ed7953"
             ],
             [
              0.7777777777777778,
              "#fb9f3a"
             ],
             [
              0.8888888888888888,
              "#fdca26"
             ],
             [
              1,
              "#f0f921"
             ]
            ],
            "type": "surface"
           }
          ],
          "table": [
           {
            "cells": {
             "fill": {
              "color": "#EBF0F8"
             },
             "line": {
              "color": "white"
             }
            },
            "header": {
             "fill": {
              "color": "#C8D4E3"
             },
             "line": {
              "color": "white"
             }
            },
            "type": "table"
           }
          ]
         },
         "layout": {
          "annotationdefaults": {
           "arrowcolor": "#2a3f5f",
           "arrowhead": 0,
           "arrowwidth": 1
          },
          "autotypenumbers": "strict",
          "coloraxis": {
           "colorbar": {
            "outlinewidth": 0,
            "ticks": ""
           }
          },
          "colorscale": {
           "diverging": [
            [
             0,
             "#8e0152"
            ],
            [
             0.1,
             "#c51b7d"
            ],
            [
             0.2,
             "#de77ae"
            ],
            [
             0.3,
             "#f1b6da"
            ],
            [
             0.4,
             "#fde0ef"
            ],
            [
             0.5,
             "#f7f7f7"
            ],
            [
             0.6,
             "#e6f5d0"
            ],
            [
             0.7,
             "#b8e186"
            ],
            [
             0.8,
             "#7fbc41"
            ],
            [
             0.9,
             "#4d9221"
            ],
            [
             1,
             "#276419"
            ]
           ],
           "sequential": [
            [
             0,
             "#0d0887"
            ],
            [
             0.1111111111111111,
             "#46039f"
            ],
            [
             0.2222222222222222,
             "#7201a8"
            ],
            [
             0.3333333333333333,
             "#9c179e"
            ],
            [
             0.4444444444444444,
             "#bd3786"
            ],
            [
             0.5555555555555556,
             "#d8576b"
            ],
            [
             0.6666666666666666,
             "#ed7953"
            ],
            [
             0.7777777777777778,
             "#fb9f3a"
            ],
            [
             0.8888888888888888,
             "#fdca26"
            ],
            [
             1,
             "#f0f921"
            ]
           ],
           "sequentialminus": [
            [
             0,
             "#0d0887"
            ],
            [
             0.1111111111111111,
             "#46039f"
            ],
            [
             0.2222222222222222,
             "#7201a8"
            ],
            [
             0.3333333333333333,
             "#9c179e"
            ],
            [
             0.4444444444444444,
             "#bd3786"
            ],
            [
             0.5555555555555556,
             "#d8576b"
            ],
            [
             0.6666666666666666,
             "#ed7953"
            ],
            [
             0.7777777777777778,
             "#fb9f3a"
            ],
            [
             0.8888888888888888,
             "#fdca26"
            ],
            [
             1,
             "#f0f921"
            ]
           ]
          },
          "colorway": [
           "#636efa",
           "#EF553B",
           "#00cc96",
           "#ab63fa",
           "#FFA15A",
           "#19d3f3",
           "#FF6692",
           "#B6E880",
           "#FF97FF",
           "#FECB52"
          ],
          "font": {
           "color": "#2a3f5f"
          },
          "geo": {
           "bgcolor": "white",
           "lakecolor": "white",
           "landcolor": "white",
           "showlakes": true,
           "showland": true,
           "subunitcolor": "#C8D4E3"
          },
          "hoverlabel": {
           "align": "left"
          },
          "hovermode": "closest",
          "mapbox": {
           "style": "light"
          },
          "paper_bgcolor": "white",
          "plot_bgcolor": "white",
          "polar": {
           "angularaxis": {
            "gridcolor": "#EBF0F8",
            "linecolor": "#EBF0F8",
            "ticks": ""
           },
           "bgcolor": "white",
           "radialaxis": {
            "gridcolor": "#EBF0F8",
            "linecolor": "#EBF0F8",
            "ticks": ""
           }
          },
          "scene": {
           "xaxis": {
            "backgroundcolor": "white",
            "gridcolor": "#DFE8F3",
            "gridwidth": 2,
            "linecolor": "#EBF0F8",
            "showbackground": true,
            "ticks": "",
            "zerolinecolor": "#EBF0F8"
           },
           "yaxis": {
            "backgroundcolor": "white",
            "gridcolor": "#DFE8F3",
            "gridwidth": 2,
            "linecolor": "#EBF0F8",
            "showbackground": true,
            "ticks": "",
            "zerolinecolor": "#EBF0F8"
           },
           "zaxis": {
            "backgroundcolor": "white",
            "gridcolor": "#DFE8F3",
            "gridwidth": 2,
            "linecolor": "#EBF0F8",
            "showbackground": true,
            "ticks": "",
            "zerolinecolor": "#EBF0F8"
           }
          },
          "shapedefaults": {
           "line": {
            "color": "#2a3f5f"
           }
          },
          "ternary": {
           "aaxis": {
            "gridcolor": "#DFE8F3",
            "linecolor": "#A2B1C6",
            "ticks": ""
           },
           "baxis": {
            "gridcolor": "#DFE8F3",
            "linecolor": "#A2B1C6",
            "ticks": ""
           },
           "bgcolor": "white",
           "caxis": {
            "gridcolor": "#DFE8F3",
            "linecolor": "#A2B1C6",
            "ticks": ""
           }
          },
          "title": {
           "x": 0.05
          },
          "xaxis": {
           "automargin": true,
           "gridcolor": "#EBF0F8",
           "linecolor": "#EBF0F8",
           "ticks": "",
           "title": {
            "standoff": 15
           },
           "zerolinecolor": "#EBF0F8",
           "zerolinewidth": 2
          },
          "yaxis": {
           "automargin": true,
           "gridcolor": "#EBF0F8",
           "linecolor": "#EBF0F8",
           "ticks": "",
           "title": {
            "standoff": 15
           },
           "zerolinecolor": "#EBF0F8",
           "zerolinewidth": 2
          }
         }
        },
        "title": {
         "text": "Average competitor price difference by product category"
        },
        "xaxis": {
         "anchor": "y",
         "domain": [
          0,
          1
         ],
         "title": {
          "text": "Product category"
         }
        },
        "yaxis": {
         "anchor": "x",
         "domain": [
          0,
          1
         ],
         "title": {
          "text": "Average competitor price difference"
         }
        }
       }
      }
     },
     "metadata": {},
     "output_type": "display_data"
    }
   ],
   "source": [
    "# Analyzing competitors’ pricing strategies is essential in optimizing retail prices. \n",
    "# Monitoring and benchmarking against competitors’ prices can help identify opportunities \n",
    "# to price competitively, either by pricing below or above the competition, \n",
    "# depending on the retailer’s positioning and strategy. \n",
    "# Now let’s calculate the average competitor price difference by product category:\n",
    "\n",
    "data['comp_price_diff'] = data['unit_price'] - data['comp_1']\n",
    "avg_price_diff_by_category = data.groupby('product_category_name')['comp_price_diff'].mean().reset_index()\n",
    "\n",
    "fig = px.bar(avg_price_diff_by_category,\n",
    "             x='product_category_name',\n",
    "             y='comp_price_diff',\n",
    "             title=\"Average competitor price difference by product category\")\n",
    "fig.update_layout(\n",
    "    xaxis_title = 'Product category',\n",
    "    yaxis_title = 'Average competitor price difference'\n",
    ")\n",
    "fig.show()"
   ]
  },
  {
   "cell_type": "markdown",
   "metadata": {},
   "source": [
    "Retail Price Optimization Model with Machine Learning"
   ]
  },
  {
   "cell_type": "code",
   "execution_count": 26,
   "metadata": {},
   "outputs": [
    {
     "data": {
      "text/html": [
       "<style>#sk-container-id-1 {color: black;}#sk-container-id-1 pre{padding: 0;}#sk-container-id-1 div.sk-toggleable {background-color: white;}#sk-container-id-1 label.sk-toggleable__label {cursor: pointer;display: block;width: 100%;margin-bottom: 0;padding: 0.3em;box-sizing: border-box;text-align: center;}#sk-container-id-1 label.sk-toggleable__label-arrow:before {content: \"▸\";float: left;margin-right: 0.25em;color: #696969;}#sk-container-id-1 label.sk-toggleable__label-arrow:hover:before {color: black;}#sk-container-id-1 div.sk-estimator:hover label.sk-toggleable__label-arrow:before {color: black;}#sk-container-id-1 div.sk-toggleable__content {max-height: 0;max-width: 0;overflow: hidden;text-align: left;background-color: #f0f8ff;}#sk-container-id-1 div.sk-toggleable__content pre {margin: 0.2em;color: black;border-radius: 0.25em;background-color: #f0f8ff;}#sk-container-id-1 input.sk-toggleable__control:checked~div.sk-toggleable__content {max-height: 200px;max-width: 100%;overflow: auto;}#sk-container-id-1 input.sk-toggleable__control:checked~label.sk-toggleable__label-arrow:before {content: \"▾\";}#sk-container-id-1 div.sk-estimator input.sk-toggleable__control:checked~label.sk-toggleable__label {background-color: #d4ebff;}#sk-container-id-1 div.sk-label input.sk-toggleable__control:checked~label.sk-toggleable__label {background-color: #d4ebff;}#sk-container-id-1 input.sk-hidden--visually {border: 0;clip: rect(1px 1px 1px 1px);clip: rect(1px, 1px, 1px, 1px);height: 1px;margin: -1px;overflow: hidden;padding: 0;position: absolute;width: 1px;}#sk-container-id-1 div.sk-estimator {font-family: monospace;background-color: #f0f8ff;border: 1px dotted black;border-radius: 0.25em;box-sizing: border-box;margin-bottom: 0.5em;}#sk-container-id-1 div.sk-estimator:hover {background-color: #d4ebff;}#sk-container-id-1 div.sk-parallel-item::after {content: \"\";width: 100%;border-bottom: 1px solid gray;flex-grow: 1;}#sk-container-id-1 div.sk-label:hover label.sk-toggleable__label {background-color: #d4ebff;}#sk-container-id-1 div.sk-serial::before {content: \"\";position: absolute;border-left: 1px solid gray;box-sizing: border-box;top: 0;bottom: 0;left: 50%;z-index: 0;}#sk-container-id-1 div.sk-serial {display: flex;flex-direction: column;align-items: center;background-color: white;padding-right: 0.2em;padding-left: 0.2em;position: relative;}#sk-container-id-1 div.sk-item {position: relative;z-index: 1;}#sk-container-id-1 div.sk-parallel {display: flex;align-items: stretch;justify-content: center;background-color: white;position: relative;}#sk-container-id-1 div.sk-item::before, #sk-container-id-1 div.sk-parallel-item::before {content: \"\";position: absolute;border-left: 1px solid gray;box-sizing: border-box;top: 0;bottom: 0;left: 50%;z-index: -1;}#sk-container-id-1 div.sk-parallel-item {display: flex;flex-direction: column;z-index: 1;position: relative;background-color: white;}#sk-container-id-1 div.sk-parallel-item:first-child::after {align-self: flex-end;width: 50%;}#sk-container-id-1 div.sk-parallel-item:last-child::after {align-self: flex-start;width: 50%;}#sk-container-id-1 div.sk-parallel-item:only-child::after {width: 0;}#sk-container-id-1 div.sk-dashed-wrapped {border: 1px dashed gray;margin: 0 0.4em 0.5em 0.4em;box-sizing: border-box;padding-bottom: 0.4em;background-color: white;}#sk-container-id-1 div.sk-label label {font-family: monospace;font-weight: bold;display: inline-block;line-height: 1.2em;}#sk-container-id-1 div.sk-label-container {text-align: center;}#sk-container-id-1 div.sk-container {/* jupyter's `normalize.less` sets `[hidden] { display: none; }` but bootstrap.min.css set `[hidden] { display: none !important; }` so we also need the `!important` here to be able to override the default hidden behavior on the sphinx rendered scikit-learn.org. See: https://github.com/scikit-learn/scikit-learn/issues/21755 */display: inline-block !important;position: relative;}#sk-container-id-1 div.sk-text-repr-fallback {display: none;}</style><div id=\"sk-container-id-1\" class=\"sk-top-container\"><div class=\"sk-text-repr-fallback\"><pre>DecisionTreeRegressor()</pre><b>In a Jupyter environment, please rerun this cell to show the HTML representation or trust the notebook. <br />On GitHub, the HTML representation is unable to render, please try loading this page with nbviewer.org.</b></div><div class=\"sk-container\" hidden><div class=\"sk-item\"><div class=\"sk-estimator sk-toggleable\"><input class=\"sk-toggleable__control sk-hidden--visually\" id=\"sk-estimator-id-1\" type=\"checkbox\" checked><label for=\"sk-estimator-id-1\" class=\"sk-toggleable__label sk-toggleable__label-arrow\">DecisionTreeRegressor</label><div class=\"sk-toggleable__content\"><pre>DecisionTreeRegressor()</pre></div></div></div></div></div>"
      ],
      "text/plain": [
       "DecisionTreeRegressor()"
      ]
     },
     "execution_count": 26,
     "metadata": {},
     "output_type": "execute_result"
    }
   ],
   "source": [
    "from sklearn.model_selection import train_test_split\n",
    "from sklearn.tree import DecisionTreeRegressor\n",
    "from sklearn.metrics import mean_squared_error\n",
    "\n",
    "X = data[['qty', 'unit_price', 'comp_1', \n",
    "          'product_score', 'comp_price_diff']]\n",
    "y = data['total_price']\n",
    "\n",
    "X_train, X_test, y_train, y_test = train_test_split(X, y, \n",
    "                                                    test_size=0.2,\n",
    "                                                    random_state=42)\n",
    "\n",
    "# Train a linear regression model\n",
    "model = DecisionTreeRegressor()\n",
    "model.fit(X_train, y_train)"
   ]
  },
  {
   "cell_type": "code",
   "execution_count": 27,
   "metadata": {},
   "outputs": [
    {
     "data": {
      "application/vnd.plotly.v1+json": {
       "config": {
        "plotlyServerURL": "https://plot.ly"
       },
       "data": [
        {
         "marker": {
          "color": "blue"
         },
         "mode": "markers",
         "name": "Predicted vs. Actual Retail Price",
         "type": "scatter",
         "x": [
          3139.8,
          1819.86,
          99.9,
          2179,
          299.97,
          477.1,
          4860.11,
          4397.7,
          550.8,
          735,
          249.5,
          3291.4,
          78,
          134.99,
          169.98,
          11820.2,
          2209.83,
          657.8,
          5288.57,
          38.4,
          2336.1,
          2043.92,
          324.95,
          1509.2,
          4712.19,
          338.77,
          215,
          107.8,
          769.45,
          1679.89,
          328.9,
          2170.87,
          179.1,
          2429.73,
          1399.86,
          140,
          579.71,
          227.96,
          2090,
          134.99,
          479.97,
          679.83,
          299.5,
          2247.6,
          699.8,
          1247.5,
          477.6,
          78,
          390,
          2449.3,
          449.1,
          460.8,
          3326.3,
          479.8,
          593.5,
          234,
          275.7,
          557.85,
          1279.84,
          199.98,
          167.93,
          749.5,
          1039.87,
          1415.76,
          19.9,
          1297.78,
          1763.88,
          339.96,
          4241,
          539.94,
          1670.9,
          944.4,
          259.87,
          5248.5,
          258.7,
          455.81,
          880,
          449.82,
          239.6,
          335.86,
          390,
          1112,
          3250,
          759.92,
          5986,
          601.8,
          185.97,
          130,
          575.76,
          307.2,
          571.8,
          179.7,
          1870.84,
          108.6,
          149.7,
          78,
          445.85,
          4249.5,
          398,
          1016.95,
          1205.03,
          579.75,
          32.5,
          1856.9,
          519.96,
          221.98,
          7644.9,
          880,
          2975,
          657.8,
          1019.93,
          1769.7,
          36.2,
          702,
          1099.89,
          792,
          299.4,
          1723.08,
          1619.93,
          1039.84,
          778.7,
          254.97,
          299.97,
          1119.86,
          1683,
          3543.5,
          493.4,
          257.56,
          3836.8,
          799.92,
          1415.92,
          411.2,
          299.46,
          9125,
          1889.79,
          1590
         ],
         "y": [
          2680,
          1656.87,
          101,
          2537.19,
          299.97,
          499,
          4047.3,
          3711.7,
          658.9,
          840,
          299.4,
          2698.5,
          78,
          134.9,
          155.8,
          8538,
          2079.84,
          1170.35,
          5246.5,
          35,
          2336.1,
          2200,
          299.5,
          1331.1,
          4769.7,
          439.96,
          167,
          107.8,
          694.9,
          1604,
          271.2,
          2088.7,
          179.1,
          2339.74,
          1399.86,
          140,
          603.2,
          227.96,
          2250.8,
          134.9,
          479.97,
          719.82,
          299.5,
          2479.4,
          699.8,
          994.04,
          603.2,
          78,
          470,
          2799.2,
          530.91,
          385,
          3596,
          479.8,
          680,
          234,
          375,
          548.9,
          1339.84,
          199.98,
          191.92,
          1019.94,
          975,
          1474.75,
          35,
          1234.79,
          1737.4,
          339.96,
          4047.3,
          539.94,
          1331.1,
          943.8,
          319.84,
          5280,
          319.84,
          455.81,
          890,
          548.9,
          239.6,
          388.7,
          470,
          1039.92,
          3499,
          712,
          4752,
          595,
          176.97,
          119.8,
          647.73,
          307.2,
          569.9,
          179.7,
          1987.4,
          140,
          149.7,
          78,
          648.89,
          4584.9,
          310,
          849.5,
          894,
          599.93,
          35,
          2036.6,
          439.96,
          220,
          7794.8,
          770,
          3640.68,
          1170.35,
          1188,
          1559.1,
          29.5,
          781.3,
          1099.89,
          712,
          299.4,
          1559.1,
          1799.82,
          888.85,
          778.7,
          254.97,
          299.97,
          1248,
          1529.83,
          3575,
          455,
          299.46,
          4290,
          712,
          1729.2,
          399.2,
          299.46,
          7475,
          1889.79,
          1737.4
         ]
        },
        {
         "marker": {
          "color": "red"
         },
         "mode": "lines",
         "name": "Ideal Prediction",
         "type": "scatter",
         "x": [
          19.9,
          11820.2
         ],
         "y": [
          19.9,
          11820.2
         ]
        }
       ],
       "layout": {
        "template": {
         "data": {
          "bar": [
           {
            "error_x": {
             "color": "#2a3f5f"
            },
            "error_y": {
             "color": "#2a3f5f"
            },
            "marker": {
             "line": {
              "color": "white",
              "width": 0.5
             },
             "pattern": {
              "fillmode": "overlay",
              "size": 10,
              "solidity": 0.2
             }
            },
            "type": "bar"
           }
          ],
          "barpolar": [
           {
            "marker": {
             "line": {
              "color": "white",
              "width": 0.5
             },
             "pattern": {
              "fillmode": "overlay",
              "size": 10,
              "solidity": 0.2
             }
            },
            "type": "barpolar"
           }
          ],
          "carpet": [
           {
            "aaxis": {
             "endlinecolor": "#2a3f5f",
             "gridcolor": "#C8D4E3",
             "linecolor": "#C8D4E3",
             "minorgridcolor": "#C8D4E3",
             "startlinecolor": "#2a3f5f"
            },
            "baxis": {
             "endlinecolor": "#2a3f5f",
             "gridcolor": "#C8D4E3",
             "linecolor": "#C8D4E3",
             "minorgridcolor": "#C8D4E3",
             "startlinecolor": "#2a3f5f"
            },
            "type": "carpet"
           }
          ],
          "choropleth": [
           {
            "colorbar": {
             "outlinewidth": 0,
             "ticks": ""
            },
            "type": "choropleth"
           }
          ],
          "contour": [
           {
            "colorbar": {
             "outlinewidth": 0,
             "ticks": ""
            },
            "colorscale": [
             [
              0,
              "#0d0887"
             ],
             [
              0.1111111111111111,
              "#46039f"
             ],
             [
              0.2222222222222222,
              "#7201a8"
             ],
             [
              0.3333333333333333,
              "#9c179e"
             ],
             [
              0.4444444444444444,
              "#bd3786"
             ],
             [
              0.5555555555555556,
              "#d8576b"
             ],
             [
              0.6666666666666666,
              "#ed7953"
             ],
             [
              0.7777777777777778,
              "#fb9f3a"
             ],
             [
              0.8888888888888888,
              "#fdca26"
             ],
             [
              1,
              "#f0f921"
             ]
            ],
            "type": "contour"
           }
          ],
          "contourcarpet": [
           {
            "colorbar": {
             "outlinewidth": 0,
             "ticks": ""
            },
            "type": "contourcarpet"
           }
          ],
          "heatmap": [
           {
            "colorbar": {
             "outlinewidth": 0,
             "ticks": ""
            },
            "colorscale": [
             [
              0,
              "#0d0887"
             ],
             [
              0.1111111111111111,
              "#46039f"
             ],
             [
              0.2222222222222222,
              "#7201a8"
             ],
             [
              0.3333333333333333,
              "#9c179e"
             ],
             [
              0.4444444444444444,
              "#bd3786"
             ],
             [
              0.5555555555555556,
              "#d8576b"
             ],
             [
              0.6666666666666666,
              "#ed7953"
             ],
             [
              0.7777777777777778,
              "#fb9f3a"
             ],
             [
              0.8888888888888888,
              "#fdca26"
             ],
             [
              1,
              "#f0f921"
             ]
            ],
            "type": "heatmap"
           }
          ],
          "heatmapgl": [
           {
            "colorbar": {
             "outlinewidth": 0,
             "ticks": ""
            },
            "colorscale": [
             [
              0,
              "#0d0887"
             ],
             [
              0.1111111111111111,
              "#46039f"
             ],
             [
              0.2222222222222222,
              "#7201a8"
             ],
             [
              0.3333333333333333,
              "#9c179e"
             ],
             [
              0.4444444444444444,
              "#bd3786"
             ],
             [
              0.5555555555555556,
              "#d8576b"
             ],
             [
              0.6666666666666666,
              "#ed7953"
             ],
             [
              0.7777777777777778,
              "#fb9f3a"
             ],
             [
              0.8888888888888888,
              "#fdca26"
             ],
             [
              1,
              "#f0f921"
             ]
            ],
            "type": "heatmapgl"
           }
          ],
          "histogram": [
           {
            "marker": {
             "pattern": {
              "fillmode": "overlay",
              "size": 10,
              "solidity": 0.2
             }
            },
            "type": "histogram"
           }
          ],
          "histogram2d": [
           {
            "colorbar": {
             "outlinewidth": 0,
             "ticks": ""
            },
            "colorscale": [
             [
              0,
              "#0d0887"
             ],
             [
              0.1111111111111111,
              "#46039f"
             ],
             [
              0.2222222222222222,
              "#7201a8"
             ],
             [
              0.3333333333333333,
              "#9c179e"
             ],
             [
              0.4444444444444444,
              "#bd3786"
             ],
             [
              0.5555555555555556,
              "#d8576b"
             ],
             [
              0.6666666666666666,
              "#ed7953"
             ],
             [
              0.7777777777777778,
              "#fb9f3a"
             ],
             [
              0.8888888888888888,
              "#fdca26"
             ],
             [
              1,
              "#f0f921"
             ]
            ],
            "type": "histogram2d"
           }
          ],
          "histogram2dcontour": [
           {
            "colorbar": {
             "outlinewidth": 0,
             "ticks": ""
            },
            "colorscale": [
             [
              0,
              "#0d0887"
             ],
             [
              0.1111111111111111,
              "#46039f"
             ],
             [
              0.2222222222222222,
              "#7201a8"
             ],
             [
              0.3333333333333333,
              "#9c179e"
             ],
             [
              0.4444444444444444,
              "#bd3786"
             ],
             [
              0.5555555555555556,
              "#d8576b"
             ],
             [
              0.6666666666666666,
              "#ed7953"
             ],
             [
              0.7777777777777778,
              "#fb9f3a"
             ],
             [
              0.8888888888888888,
              "#fdca26"
             ],
             [
              1,
              "#f0f921"
             ]
            ],
            "type": "histogram2dcontour"
           }
          ],
          "mesh3d": [
           {
            "colorbar": {
             "outlinewidth": 0,
             "ticks": ""
            },
            "type": "mesh3d"
           }
          ],
          "parcoords": [
           {
            "line": {
             "colorbar": {
              "outlinewidth": 0,
              "ticks": ""
             }
            },
            "type": "parcoords"
           }
          ],
          "pie": [
           {
            "automargin": true,
            "type": "pie"
           }
          ],
          "scatter": [
           {
            "fillpattern": {
             "fillmode": "overlay",
             "size": 10,
             "solidity": 0.2
            },
            "type": "scatter"
           }
          ],
          "scatter3d": [
           {
            "line": {
             "colorbar": {
              "outlinewidth": 0,
              "ticks": ""
             }
            },
            "marker": {
             "colorbar": {
              "outlinewidth": 0,
              "ticks": ""
             }
            },
            "type": "scatter3d"
           }
          ],
          "scattercarpet": [
           {
            "marker": {
             "colorbar": {
              "outlinewidth": 0,
              "ticks": ""
             }
            },
            "type": "scattercarpet"
           }
          ],
          "scattergeo": [
           {
            "marker": {
             "colorbar": {
              "outlinewidth": 0,
              "ticks": ""
             }
            },
            "type": "scattergeo"
           }
          ],
          "scattergl": [
           {
            "marker": {
             "colorbar": {
              "outlinewidth": 0,
              "ticks": ""
             }
            },
            "type": "scattergl"
           }
          ],
          "scattermapbox": [
           {
            "marker": {
             "colorbar": {
              "outlinewidth": 0,
              "ticks": ""
             }
            },
            "type": "scattermapbox"
           }
          ],
          "scatterpolar": [
           {
            "marker": {
             "colorbar": {
              "outlinewidth": 0,
              "ticks": ""
             }
            },
            "type": "scatterpolar"
           }
          ],
          "scatterpolargl": [
           {
            "marker": {
             "colorbar": {
              "outlinewidth": 0,
              "ticks": ""
             }
            },
            "type": "scatterpolargl"
           }
          ],
          "scatterternary": [
           {
            "marker": {
             "colorbar": {
              "outlinewidth": 0,
              "ticks": ""
             }
            },
            "type": "scatterternary"
           }
          ],
          "surface": [
           {
            "colorbar": {
             "outlinewidth": 0,
             "ticks": ""
            },
            "colorscale": [
             [
              0,
              "#0d0887"
             ],
             [
              0.1111111111111111,
              "#46039f"
             ],
             [
              0.2222222222222222,
              "#7201a8"
             ],
             [
              0.3333333333333333,
              "#9c179e"
             ],
             [
              0.4444444444444444,
              "#bd3786"
             ],
             [
              0.5555555555555556,
              "#d8576b"
             ],
             [
              0.6666666666666666,
              "#ed7953"
             ],
             [
              0.7777777777777778,
              "#fb9f3a"
             ],
             [
              0.8888888888888888,
              "#fdca26"
             ],
             [
              1,
              "#f0f921"
             ]
            ],
            "type": "surface"
           }
          ],
          "table": [
           {
            "cells": {
             "fill": {
              "color": "#EBF0F8"
             },
             "line": {
              "color": "white"
             }
            },
            "header": {
             "fill": {
              "color": "#C8D4E3"
             },
             "line": {
              "color": "white"
             }
            },
            "type": "table"
           }
          ]
         },
         "layout": {
          "annotationdefaults": {
           "arrowcolor": "#2a3f5f",
           "arrowhead": 0,
           "arrowwidth": 1
          },
          "autotypenumbers": "strict",
          "coloraxis": {
           "colorbar": {
            "outlinewidth": 0,
            "ticks": ""
           }
          },
          "colorscale": {
           "diverging": [
            [
             0,
             "#8e0152"
            ],
            [
             0.1,
             "#c51b7d"
            ],
            [
             0.2,
             "#de77ae"
            ],
            [
             0.3,
             "#f1b6da"
            ],
            [
             0.4,
             "#fde0ef"
            ],
            [
             0.5,
             "#f7f7f7"
            ],
            [
             0.6,
             "#e6f5d0"
            ],
            [
             0.7,
             "#b8e186"
            ],
            [
             0.8,
             "#7fbc41"
            ],
            [
             0.9,
             "#4d9221"
            ],
            [
             1,
             "#276419"
            ]
           ],
           "sequential": [
            [
             0,
             "#0d0887"
            ],
            [
             0.1111111111111111,
             "#46039f"
            ],
            [
             0.2222222222222222,
             "#7201a8"
            ],
            [
             0.3333333333333333,
             "#9c179e"
            ],
            [
             0.4444444444444444,
             "#bd3786"
            ],
            [
             0.5555555555555556,
             "#d8576b"
            ],
            [
             0.6666666666666666,
             "#ed7953"
            ],
            [
             0.7777777777777778,
             "#fb9f3a"
            ],
            [
             0.8888888888888888,
             "#fdca26"
            ],
            [
             1,
             "#f0f921"
            ]
           ],
           "sequentialminus": [
            [
             0,
             "#0d0887"
            ],
            [
             0.1111111111111111,
             "#46039f"
            ],
            [
             0.2222222222222222,
             "#7201a8"
            ],
            [
             0.3333333333333333,
             "#9c179e"
            ],
            [
             0.4444444444444444,
             "#bd3786"
            ],
            [
             0.5555555555555556,
             "#d8576b"
            ],
            [
             0.6666666666666666,
             "#ed7953"
            ],
            [
             0.7777777777777778,
             "#fb9f3a"
            ],
            [
             0.8888888888888888,
             "#fdca26"
            ],
            [
             1,
             "#f0f921"
            ]
           ]
          },
          "colorway": [
           "#636efa",
           "#EF553B",
           "#00cc96",
           "#ab63fa",
           "#FFA15A",
           "#19d3f3",
           "#FF6692",
           "#B6E880",
           "#FF97FF",
           "#FECB52"
          ],
          "font": {
           "color": "#2a3f5f"
          },
          "geo": {
           "bgcolor": "white",
           "lakecolor": "white",
           "landcolor": "white",
           "showlakes": true,
           "showland": true,
           "subunitcolor": "#C8D4E3"
          },
          "hoverlabel": {
           "align": "left"
          },
          "hovermode": "closest",
          "mapbox": {
           "style": "light"
          },
          "paper_bgcolor": "white",
          "plot_bgcolor": "white",
          "polar": {
           "angularaxis": {
            "gridcolor": "#EBF0F8",
            "linecolor": "#EBF0F8",
            "ticks": ""
           },
           "bgcolor": "white",
           "radialaxis": {
            "gridcolor": "#EBF0F8",
            "linecolor": "#EBF0F8",
            "ticks": ""
           }
          },
          "scene": {
           "xaxis": {
            "backgroundcolor": "white",
            "gridcolor": "#DFE8F3",
            "gridwidth": 2,
            "linecolor": "#EBF0F8",
            "showbackground": true,
            "ticks": "",
            "zerolinecolor": "#EBF0F8"
           },
           "yaxis": {
            "backgroundcolor": "white",
            "gridcolor": "#DFE8F3",
            "gridwidth": 2,
            "linecolor": "#EBF0F8",
            "showbackground": true,
            "ticks": "",
            "zerolinecolor": "#EBF0F8"
           },
           "zaxis": {
            "backgroundcolor": "white",
            "gridcolor": "#DFE8F3",
            "gridwidth": 2,
            "linecolor": "#EBF0F8",
            "showbackground": true,
            "ticks": "",
            "zerolinecolor": "#EBF0F8"
           }
          },
          "shapedefaults": {
           "line": {
            "color": "#2a3f5f"
           }
          },
          "ternary": {
           "aaxis": {
            "gridcolor": "#DFE8F3",
            "linecolor": "#A2B1C6",
            "ticks": ""
           },
           "baxis": {
            "gridcolor": "#DFE8F3",
            "linecolor": "#A2B1C6",
            "ticks": ""
           },
           "bgcolor": "white",
           "caxis": {
            "gridcolor": "#DFE8F3",
            "linecolor": "#A2B1C6",
            "ticks": ""
           }
          },
          "title": {
           "x": 0.05
          },
          "xaxis": {
           "automargin": true,
           "gridcolor": "#EBF0F8",
           "linecolor": "#EBF0F8",
           "ticks": "",
           "title": {
            "standoff": 15
           },
           "zerolinecolor": "#EBF0F8",
           "zerolinewidth": 2
          },
          "yaxis": {
           "automargin": true,
           "gridcolor": "#EBF0F8",
           "linecolor": "#EBF0F8",
           "ticks": "",
           "title": {
            "standoff": 15
           },
           "zerolinecolor": "#EBF0F8",
           "zerolinewidth": 2
          }
         }
        },
        "title": {
         "text": "Predicted vs. Actual Retail Price"
        },
        "xaxis": {
         "title": {
          "text": "Actual Retail Price"
         }
        },
        "yaxis": {
         "title": {
          "text": "Predicted Retail Price"
         }
        }
       }
      }
     },
     "metadata": {},
     "output_type": "display_data"
    }
   ],
   "source": [
    "# Now let’s make predictions and have a look at the predicted retail prices and the actual retail prices:\n",
    "\n",
    "y_pred = model.predict(X_test)\n",
    "\n",
    "fig = go.Figure()\n",
    "fig.add_trace(go.Scatter(x=y_test, y=y_pred, mode='markers', \n",
    "                         marker=dict(color='blue'), \n",
    "                         name='Predicted vs. Actual Retail Price'))\n",
    "fig.add_trace(go.Scatter(x=[min(y_test), max(y_test)], y=[min(y_test), max(y_test)], \n",
    "                         mode='lines', \n",
    "                         marker=dict(color='red'), \n",
    "                         name='Ideal Prediction'))\n",
    "fig.update_layout(\n",
    "    title='Predicted vs. Actual Retail Price',\n",
    "    xaxis_title='Actual Retail Price',\n",
    "    yaxis_title='Predicted Retail Price'\n",
    ")\n",
    "fig.show()"
   ]
  },
  {
   "cell_type": "markdown",
   "metadata": {},
   "source": [
    "So this is how you can optimize retail prices with Machine Learning using Python.\n",
    "\n",
    "Summary\n",
    "The ultimate aim of optimizing retail prices is to charge a price that helps you make the most money and attracts enough customers to buy your products. It involves using data and pricing strategies to find the right price that maximizes your sales and profits while keeping customers happy. I hope you liked this article on optimizing retail prices with Machine Learning using Python. Feel free to ask valuable questions in the comments section below.\n",
    "\n",
    "AUTHOR: Aman Kharwal\n",
    "I'm a writer and data scientist on a mission to educate others about the incredible power of data"
   ]
  }
 ],
 "metadata": {
  "kernelspec": {
   "display_name": ".venv",
   "language": "python",
   "name": "python3"
  },
  "language_info": {
   "codemirror_mode": {
    "name": "ipython",
    "version": 3
   },
   "file_extension": ".py",
   "mimetype": "text/x-python",
   "name": "python",
   "nbconvert_exporter": "python",
   "pygments_lexer": "ipython3",
   "version": "3.11.3"
  },
  "orig_nbformat": 4
 },
 "nbformat": 4,
 "nbformat_minor": 2
}
