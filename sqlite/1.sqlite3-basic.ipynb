{
 "cells": [
  {
   "cell_type": "markdown",
   "metadata": {},
   "source": [
    "__https://docs.python.org/3/library/sqlite3.html#sqlite3-tutorial__"
   ]
  },
  {
   "cell_type": "code",
   "execution_count": 1,
   "metadata": {},
   "outputs": [],
   "source": [
    "import sqlite3\n",
    "con = sqlite3.connect(\"tutorial.db\")"
   ]
  },
  {
   "cell_type": "code",
   "execution_count": 2,
   "metadata": {},
   "outputs": [],
   "source": [
    "# In order to execute SQL statements and fetch results from SQL queries, \n",
    "# we will need to use a database cursor.\n",
    "cur = con.cursor()"
   ]
  },
  {
   "cell_type": "code",
   "execution_count": 3,
   "metadata": {},
   "outputs": [
    {
     "data": {
      "text/plain": [
       "<sqlite3.Cursor at 0x1d01eb598c0>"
      ]
     },
     "execution_count": 3,
     "metadata": {},
     "output_type": "execute_result"
    }
   ],
   "source": [
    "cur.execute(\"CREATE TABLE movie(title, year, score)\")"
   ]
  },
  {
   "cell_type": "code",
   "execution_count": 4,
   "metadata": {},
   "outputs": [
    {
     "data": {
      "text/plain": [
       "('movie',)"
      ]
     },
     "execution_count": 4,
     "metadata": {},
     "output_type": "execute_result"
    }
   ],
   "source": [
    "# We can verify that the new table has been created by querying the sqlite_master table \n",
    "# built-in to SQLite, which should now contain an entry for the movie table definition \n",
    "res = cur.execute(\"SELECT name FROM sqlite_master\")\n",
    "res.fetchone()"
   ]
  },
  {
   "cell_type": "code",
   "execution_count": 5,
   "metadata": {},
   "outputs": [
    {
     "data": {
      "text/plain": [
       "True"
      ]
     },
     "execution_count": 5,
     "metadata": {},
     "output_type": "execute_result"
    }
   ],
   "source": [
    "# We can see that the table has been created, as the query returns a tuple \n",
    "# containing the table’s name. If we query sqlite_master for a non-existent \n",
    "# table spam, res.fetchone() will return None:\n",
    "res = cur.execute(\"select name from sqlite_master where name = 'spam'\")\n",
    "res.fetchone() is None"
   ]
  },
  {
   "cell_type": "code",
   "execution_count": 8,
   "metadata": {},
   "outputs": [
    {
     "data": {
      "text/plain": [
       "<sqlite3.Cursor at 0x1d01eb598c0>"
      ]
     },
     "execution_count": 8,
     "metadata": {},
     "output_type": "execute_result"
    }
   ],
   "source": [
    "cur.execute(\"\"\"insert into movie values\n",
    "            ('Monty python and the Holy Grail',1975,8.2),\n",
    "            ('And now for something completely different',1971,7.5)\n",
    "\"\"\")\n"
   ]
  },
  {
   "cell_type": "code",
   "execution_count": 9,
   "metadata": {},
   "outputs": [],
   "source": [
    "# The INSERT statement implicitly opens a transaction, \n",
    "# which needs to be committed before changes are saved in the database\n",
    "con.commit()"
   ]
  },
  {
   "cell_type": "code",
   "execution_count": 10,
   "metadata": {},
   "outputs": [
    {
     "data": {
      "text/plain": [
       "[(8.2,), (7.5,)]"
      ]
     },
     "execution_count": 10,
     "metadata": {},
     "output_type": "execute_result"
    }
   ],
   "source": [
    "# We can verify that the data was inserted correctly by executing a SELECT query.\n",
    "# call res.fetchall() to return all resulting rows\n",
    "res = cur.execute(\"select score from movie\")\n",
    "res.fetchall()\n",
    "\n",
    "# The result is a list of two tuples, one per row, each containing that row’s score value."
   ]
  },
  {
   "cell_type": "code",
   "execution_count": 11,
   "metadata": {},
   "outputs": [],
   "source": [
    "# Now, insert three more rows by calling cur.executemany(...):\n",
    "\n",
    "data = [\n",
    "    (\"Monty Python Live at the Hollywood Bowl\", 1982, 7.9),\n",
    "    (\"Monty Python's The Meaning of Life\", 1983, 7.5),\n",
    "    (\"Monty Python's Life of Brian\", 1979, 8.0),\n",
    "]\n",
    "cur.executemany(\"INSERT INTO movie VALUES(?, ?, ?)\", data)\n",
    "con.commit()  # Remember to commit the transaction after executing INSERT.\n",
    "\n",
    "# Notice that ? placeholders are used to bind data to the query. \n",
    "# Always use placeholders instead of string formatting to bind Python values \n",
    "# to SQL statements, to avoid SQL injection attacks"
   ]
  },
  {
   "cell_type": "code",
   "execution_count": 12,
   "metadata": {},
   "outputs": [
    {
     "name": "stdout",
     "output_type": "stream",
     "text": [
      "(1971, 'And now for something completely different')\n",
      "(1975, 'Monty python and the Holy Grail')\n",
      "(1979, \"Monty Python's Life of Brian\")\n",
      "(1982, 'Monty Python Live at the Hollywood Bowl')\n",
      "(1983, \"Monty Python's The Meaning of Life\")\n"
     ]
    }
   ],
   "source": [
    "# We can verify that the new rows were inserted by executing a SELECT query, \n",
    "# this time iterating over the results of the query:\n",
    "for row in cur.execute(\"select year, title from movie order by year\"):\n",
    "    print(row)\n"
   ]
  },
  {
   "cell_type": "code",
   "execution_count": 18,
   "metadata": {},
   "outputs": [
    {
     "name": "stdout",
     "output_type": "stream",
     "text": [
      "The highest scoring monty python movie is 'Monty python and the Holy Grail', released in 1975\n"
     ]
    }
   ],
   "source": [
    "# Finally, verify that the database has been written to disk by calling con.close() \n",
    "# to close the existing connection, opening a new one, creating a new cursor, \n",
    "# then querying the database:\n",
    "con.close()\n",
    "new_con = sqlite3.Connection(\"tutorial.db\")\n",
    "new_cur = new_con.cursor()\n",
    "res = new_cur.execute(\"select title, year from movie order by score desc\")\n",
    "title, year = res.fetchone()\n",
    "print(f'The highest scoring monty python movie is {title!r}, released in {year}')\n"
   ]
  }
 ],
 "metadata": {
  "kernelspec": {
   "display_name": ".venv",
   "language": "python",
   "name": "python3"
  },
  "language_info": {
   "codemirror_mode": {
    "name": "ipython",
    "version": 3
   },
   "file_extension": ".py",
   "mimetype": "text/x-python",
   "name": "python",
   "nbconvert_exporter": "python",
   "pygments_lexer": "ipython3",
   "version": "3.11.3"
  },
  "orig_nbformat": 4
 },
 "nbformat": 4,
 "nbformat_minor": 2
}
