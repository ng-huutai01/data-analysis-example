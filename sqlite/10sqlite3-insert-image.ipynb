{
 "cells": [
  {
   "cell_type": "code",
   "execution_count": 10,
   "metadata": {},
   "outputs": [
    {
     "name": "stdout",
     "output_type": "stream",
     "text": [
      "Connected to SQLite\n",
      "create table successfully\n",
      "Image and file inserted successfully as a BLOB into a table\n",
      "the sqlite connection is closed\n",
      "Connected to SQLite\n",
      "create table successfully\n",
      "Image and file inserted successfully as a BLOB into a table\n",
      "the sqlite connection is closed\n"
     ]
    }
   ],
   "source": [
    "import sqlite3  \n",
    "  \n",
    "# Function for Convert Binary Data \n",
    "# to Human Readable Format\n",
    "def convertToBinaryData(filename):\n",
    "      \n",
    "    # Convert binary format to images \n",
    "    # or files data\n",
    "    with open(filename, 'rb') as file:\n",
    "        blobData = file.read()\n",
    "    return blobData\n",
    "  \n",
    "  \n",
    "def insertBLOB(name, photo):\n",
    "    try:\n",
    "          \n",
    "        # Using connect method for establishing\n",
    "        # a connection\n",
    "        sqliteConnection = sqlite3.connect('10sqlite3-insert-image.db')\n",
    "        cursor = sqliteConnection.cursor()\n",
    "        print(\"Connected to SQLite\")\n",
    "\n",
    "        cursor.execute('''CREATE TABLE if not exists Student(\n",
    "                       Name VARCHAR(100), image )''')\n",
    "        print(\"create table successfully\")\n",
    "\n",
    "        # insert query\n",
    "        sqlite_insert_blob_query = \"\"\" INSERT INTO Student\n",
    "                                  (name, image) VALUES (?, ?)\"\"\"\n",
    "          \n",
    "        # Converting human readable file into \n",
    "        # binary data\n",
    "        empPhoto = convertToBinaryData(photo)\n",
    "          \n",
    "        # Convert data into tuple format\n",
    "        data_tuple = (name, empPhoto)\n",
    "          \n",
    "        # using cursor object executing our query\n",
    "        cursor.execute(sqlite_insert_blob_query, data_tuple)\n",
    "        sqliteConnection.commit()\n",
    "        print(\"Image and file inserted successfully as a BLOB into a table\")\n",
    "        sqliteConnection.close()\n",
    "  \n",
    "    except sqlite3.Error as error:\n",
    "        print(\"Failed to insert blob data into sqlite table\", error)\n",
    "      \n",
    "    finally:\n",
    "        if sqliteConnection:\n",
    "            sqliteConnection.close()\n",
    "            print(\"the sqlite connection is closed\")\n",
    "  \n",
    "insertBLOB(\"vegeta\", \"dragonball1.jpg\")\n",
    "insertBLOB(\"songoku\", \"dragonball2.jpg\")"
   ]
  }
 ],
 "metadata": {
  "kernelspec": {
   "display_name": ".venv",
   "language": "python",
   "name": "python3"
  },
  "language_info": {
   "codemirror_mode": {
    "name": "ipython",
    "version": 3
   },
   "file_extension": ".py",
   "mimetype": "text/x-python",
   "name": "python",
   "nbconvert_exporter": "python",
   "pygments_lexer": "ipython3",
   "version": "3.11.3"
  },
  "orig_nbformat": 4
 },
 "nbformat": 4,
 "nbformat_minor": 2
}
