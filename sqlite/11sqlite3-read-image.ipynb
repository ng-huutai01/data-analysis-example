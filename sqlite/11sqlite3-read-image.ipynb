{
 "cells": [
  {
   "cell_type": "code",
   "execution_count": 1,
   "metadata": {},
   "outputs": [
    {
     "name": "stdout",
     "output_type": "stream",
     "text": [
      "Connected Successfully\n",
      "Student Name =  vegeta\n",
      "<PIL.JpegImagePlugin.JpegImageFile image mode=RGB size=1600x1057 at 0x2B4B6CC7310>\n",
      "Yeah!! We have successfully retrieved values from database\n",
      "Student Name =  songoku\n",
      "<PIL.JpegImagePlugin.JpegImageFile image mode=RGB size=736x736 at 0x2B4B6CC7350>\n",
      "Yeah!! We have successfully retrieved values from database\n",
      "SQLite connection is closed\n"
     ]
    }
   ],
   "source": [
    "import sqlite3\n",
    "from PIL import Image\n",
    " \n",
    "# Function for Convert Binary Data to Human Readable Format\n",
    "def convert_data(data, file_name):\n",
    "    with open(file_name, 'wb') as file:\n",
    "        file.write(data)\n",
    "    img = Image.open(file_name)\n",
    "    print(img)\n",
    " \n",
    "try:\n",
    "    con = sqlite3.connect('10sqlite3-insert-image.db')\n",
    "    cursor = con.cursor()\n",
    "    print(\"Connected Successfully\") \n",
    "    query = \"SELECT * FROM Student\" \n",
    "    cursor.execute(query)     \n",
    "    records = cursor.fetchall()\n",
    "\n",
    "    for row in records:           \n",
    "        # storing row[0] in name variable\n",
    "        name = row[0]         \n",
    "        print(\"Student Name = \", name)\n",
    "         \n",
    "        # storing image (currently in binary format)\n",
    "        image = row[1]\n",
    "         \n",
    "        # calling above convert_data() for converting\n",
    "        # binary data to human readable\n",
    "        convert_data(image, name + \".png\")\n",
    "        print(\"Yeah!! We have successfully retrieved values from database\")\n",
    " \n",
    "    # If we don't have any records in our database,\n",
    "    # then print this\n",
    "    if len(records) == 0:\n",
    "        print(\"Sorry! Please Insert some data before reading from the database.\")\n",
    " \n",
    "# print exception if found any during program\n",
    "# is running\n",
    "except sqlite3.Error as error:\n",
    "    print(format(error))\n",
    " \n",
    "# using finally, closing the connection\n",
    "# (con) object\n",
    "finally:\n",
    "    if con:\n",
    "        con.close()\n",
    "        print(\"SQLite connection is closed\")"
   ]
  }
 ],
 "metadata": {
  "kernelspec": {
   "display_name": ".venv",
   "language": "python",
   "name": "python3"
  },
  "language_info": {
   "codemirror_mode": {
    "name": "ipython",
    "version": 3
   },
   "file_extension": ".py",
   "mimetype": "text/x-python",
   "name": "python",
   "nbconvert_exporter": "python",
   "pygments_lexer": "ipython3",
   "version": "3.11.3"
  },
  "orig_nbformat": 4
 },
 "nbformat": 4,
 "nbformat_minor": 2
}
