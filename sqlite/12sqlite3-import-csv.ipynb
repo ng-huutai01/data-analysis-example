{
 "cells": [
  {
   "cell_type": "code",
   "execution_count": 4,
   "metadata": {},
   "outputs": [
    {
     "name": "stdout",
     "output_type": "stream",
     "text": [
      "(1, 'Yogesh Vaishnav', 21)\n",
      "(2, 'Ajit Yadav', 22)\n",
      "(3, 'Vishal Vishwakarma', 22)\n",
      "(4, 'Ashish Yadav', 21)\n",
      "(5, 'Tanvi Thakur', 20)\n"
     ]
    }
   ],
   "source": [
    "import csv\n",
    "import sqlite3\n",
    "\n",
    "connection = sqlite3.connect('12sqlite3-import-csv.db')\n",
    "cursor = connection.cursor()\n",
    "create_table = '''CREATE TABLE if not exists person(\n",
    "                id INTEGER PRIMARY KEY AUTOINCREMENT,\n",
    "                name TEXT NOT NULL,\n",
    "                age INTEGER NOT NULL);\n",
    "                '''\n",
    " \n",
    "cursor.execute(create_table)\n",
    " \n",
    "file = open('person-records.csv')\n",
    "contents = csv.reader(file)\n",
    "\n",
    "insert_records = \"INSERT INTO person (name, age) VALUES(?, ?)\"\n",
    "cursor.executemany(insert_records, contents)\n",
    " \n",
    "# SQL query to retrieve all data from\n",
    "# the person table To verify that the\n",
    "# data of the csv file has been successfully\n",
    "# inserted into the table\n",
    "select_all = \"SELECT * FROM person\"\n",
    "rows = cursor.execute(select_all).fetchall()\n",
    "for r in rows:\n",
    "    print(r) \n",
    "\n",
    "connection.commit() \n",
    "connection.close()"
   ]
  }
 ],
 "metadata": {
  "kernelspec": {
   "display_name": ".venv",
   "language": "python",
   "name": "python3"
  },
  "language_info": {
   "codemirror_mode": {
    "name": "ipython",
    "version": 3
   },
   "file_extension": ".py",
   "mimetype": "text/x-python",
   "name": "python",
   "nbconvert_exporter": "python",
   "pygments_lexer": "ipython3",
   "version": "3.11.3"
  },
  "orig_nbformat": 4
 },
 "nbformat": 4,
 "nbformat_minor": 2
}
