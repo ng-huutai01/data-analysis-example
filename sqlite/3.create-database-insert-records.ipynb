{
 "cells": [
  {
   "cell_type": "code",
   "execution_count": 24,
   "metadata": {},
   "outputs": [],
   "source": [
    "import sqlite3 \n",
    "# create connection by using object \n",
    "# to connect with hotel_data database\n",
    "connection = sqlite3.connect('hotel_data.db')"
   ]
  },
  {
   "cell_type": "code",
   "execution_count": 12,
   "metadata": {},
   "outputs": [
    {
     "ename": "OperationalError",
     "evalue": "table hotel already exists",
     "output_type": "error",
     "traceback": [
      "\u001b[1;31m---------------------------------------------------------------------------\u001b[0m",
      "\u001b[1;31mOperationalError\u001b[0m                          Traceback (most recent call last)",
      "Cell \u001b[1;32mIn[12], line 2\u001b[0m\n\u001b[0;32m      1\u001b[0m \u001b[39m# query to create a table named FOOD1\u001b[39;00m\n\u001b[1;32m----> 2\u001b[0m connection\u001b[39m.\u001b[39;49mexecute(\u001b[39m'''\u001b[39;49m\u001b[39m CREATE TABLE hotel\u001b[39;49m\n\u001b[0;32m      3\u001b[0m \u001b[39m         (FIND INT PRIMARY KEY     NOT NULL,\u001b[39;49m\n\u001b[0;32m      4\u001b[0m \u001b[39m         FNAME           TEXT    NOT NULL,\u001b[39;49m\n\u001b[0;32m      5\u001b[0m \u001b[39m         COST            INT     NOT NULL,\u001b[39;49m\n\u001b[0;32m      6\u001b[0m \u001b[39m         WEIGHT        INT);\u001b[39;49m\n\u001b[0;32m      7\u001b[0m \u001b[39m         \u001b[39;49m\u001b[39m'''\u001b[39;49m)\n",
      "\u001b[1;31mOperationalError\u001b[0m: table hotel already exists"
     ]
    }
   ],
   "source": [
    "# query to create a table named FOOD1\n",
    "connection.execute(''' CREATE TABLE hotel\n",
    "         (FIND INT PRIMARY KEY     NOT NULL,\n",
    "         FNAME           TEXT    NOT NULL,\n",
    "         COST            INT     NOT NULL,\n",
    "         WEIGHT        INT);\n",
    "         ''')"
   ]
  },
  {
   "cell_type": "code",
   "execution_count": 20,
   "metadata": {},
   "outputs": [
    {
     "data": {
      "text/plain": [
       "<sqlite3.Cursor at 0x202d4a42a40>"
      ]
     },
     "execution_count": 20,
     "metadata": {},
     "output_type": "execute_result"
    }
   ],
   "source": [
    "# insert query to insert food  details in\n",
    "# the above table\n",
    "connection.execute(\"INSERT INTO hotel VALUES (1, 'cakes',800,10 )\")\n",
    "connection.execute(\"INSERT INTO hotel VALUES (2, 'biscuits',100,20 )\")\n",
    "connection.execute(\"INSERT INTO hotel VALUES (3, 'chocos',1000,30 )\")"
   ]
  },
  {
   "cell_type": "code",
   "execution_count": 25,
   "metadata": {},
   "outputs": [
    {
     "name": "stdout",
     "output_type": "stream",
     "text": [
      "All data in food table\n",
      "\n",
      "(1, 'cakes', 800, 10)\n",
      "(2, 'biscuits', 100, 20)\n",
      "(3, 'chocos', 1000, 30)\n"
     ]
    }
   ],
   "source": [
    "print(\"All data in food table\\n\")\n",
    " \n",
    "# create a cousor object for select query\n",
    "cursor = connection.execute(\"SELECT * from hotel \")\n",
    " \n",
    "# display all data from hotel table\n",
    "for row in cursor:\n",
    "    print(row)"
   ]
  },
  {
   "cell_type": "code",
   "execution_count": 26,
   "metadata": {},
   "outputs": [
    {
     "name": "stdout",
     "output_type": "stream",
     "text": [
      "Food id and Food Name\n",
      "\n",
      "(1, 'cakes')\n",
      "(2, 'biscuits')\n",
      "(3, 'chocos')\n"
     ]
    }
   ],
   "source": [
    "print(\"Food id and Food Name\\n\")\n",
    " \n",
    "# create a cousor object for select query\n",
    "cursor = connection.execute(\"SELECT FIND,FNAME from hotel \")\n",
    " \n",
    "# display all data from FOOD1 table\n",
    "for row in cursor:\n",
    "     print(row)"
   ]
  },
  {
   "cell_type": "code",
   "execution_count": 23,
   "metadata": {},
   "outputs": [],
   "source": [
    "connection.commit()\n",
    "connection.close()"
   ]
  }
 ],
 "metadata": {
  "kernelspec": {
   "display_name": ".venv",
   "language": "python",
   "name": "python3"
  },
  "language_info": {
   "codemirror_mode": {
    "name": "ipython",
    "version": 3
   },
   "file_extension": ".py",
   "mimetype": "text/x-python",
   "name": "python",
   "nbconvert_exporter": "python",
   "pygments_lexer": "ipython3",
   "version": "3.11.3"
  },
  "orig_nbformat": 4
 },
 "nbformat": 4,
 "nbformat_minor": 2
}
