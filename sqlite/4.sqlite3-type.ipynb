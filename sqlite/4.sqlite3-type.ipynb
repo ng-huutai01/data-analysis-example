{
 "cells": [
  {
   "cell_type": "code",
   "execution_count": null,
   "metadata": {},
   "outputs": [],
   "source": [
    "import sqlite3    \n",
    "cnt = sqlite3.connect('gfg.db')  \n",
    "  \n",
    "cnt.execute('''CREATE TABLE exam_hall(\n",
    "NAME TEXT,\n",
    "PIN INTEGER,\n",
    "OCCUPANCY REAL,\n",
    "LOGO BLOB);''')\n",
    "  \n",
    "# Open the logo file in read, binary mode\n",
    "# read the image as binary data into a variable\n",
    "fileh = open('/content/JSBinCollaborativeJavaScriptDebugging6-300x160.png', 'rb')\n",
    "img = fileh.read()\n",
    "  \n",
    "# Insert tuples for the relation\n",
    "cnt.execute('''INSERT INTO exam_hall VALUES(\n",
    "'centre-a',1125,98.6,?)''', (img,))\n",
    "cnt.execute('''INSERT INTO exam_hall VALUES(\n",
    "NULL,1158,80.5,?)''', (img,))\n",
    "  \n",
    "# Query the data, print the data and its type\n",
    "# note: Printing the image binary data is impractical due to its huge size\n",
    "# instead number of bytes are being printed using len()\n",
    "cursor = cnt.execute('''SELECT * FROM exam_hall;''')\n",
    "for i in cursor:\n",
    "    print(str(i[0])+\" \"+str(i[1])+\" \"+str(i[2])+\" \"+str(len(i[3])))\n",
    "    print(str(type(i[0]))+\" \"+str(type(i[1]))+\" \" +\n",
    "          str(type(i[2]))+\" \"+str(type(i[3]))+\"\\n\")"
   ]
  }
 ],
 "metadata": {
  "language_info": {
   "name": "python"
  },
  "orig_nbformat": 4
 },
 "nbformat": 4,
 "nbformat_minor": 2
}
