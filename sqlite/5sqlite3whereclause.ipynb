{
 "cells": [
  {
   "cell_type": "code",
   "execution_count": 1,
   "metadata": {},
   "outputs": [
    {
     "name": "stdout",
     "output_type": "stream",
     "text": [
      "Database Created Successfully !\n"
     ]
    }
   ],
   "source": [
    "import sqlite3\n",
    "  \n",
    "connection = sqlite3.connect('5sqlite3whereclause.db')\n",
    "cursor = connection.cursor()\n",
    "  \n",
    "# create table\n",
    "cursor.execute(\"DROP TABLE IF EXISTS STUDENT\")\n",
    "createTable = '''CREATE TABLE STUDENT(\n",
    "   Student_ID int, First_Name VARCHAR(100),\n",
    "   Last_Name VARCHAR(100), Age int,\n",
    "   Department VARCHAR(100)\n",
    ")'''\n",
    "cursor.execute(createTable)\n",
    "  \n",
    "# check the database creation data\n",
    "if cursor:\n",
    "    print(\"Database Created Successfully !\")\n",
    "else:\n",
    "    print(\"Database Creation Failed !\")\n",
    "  \n",
    "connection.commit()\n",
    "connection.close()"
   ]
  },
  {
   "cell_type": "markdown",
   "metadata": {},
   "source": [
    "### Now we will insert data into STUDENT table."
   ]
  },
  {
   "cell_type": "code",
   "execution_count": 3,
   "metadata": {},
   "outputs": [
    {
     "name": "stdout",
     "output_type": "stream",
     "text": [
      "Data Inserted !\n"
     ]
    }
   ],
   "source": [
    "connection = sqlite3.connect('5sqlite3whereclause.db')\n",
    "cursor = connection.cursor()\n",
    "# Insert data into the table\n",
    "cursor.execute(\"INSERT INTO STUDENT VALUES (1,'Rohit', 'Pathak', 21, 'IT')\")\n",
    "cursor.execute(\"INSERT INTO STUDENT VALUES (2,'Nitin', 'Biradar', 21, 'IT')\")\n",
    "cursor.execute(\"INSERT INTO STUDENT VALUES (3,'Virat', 'Kohli', 30, 'CIVIL')\")\n",
    "cursor.execute(\"INSERT INTO STUDENT VALUES (4,'Rohit', 'Sharma', 32, 'COMP')\")\n",
    "  \n",
    "# printing the cursor data\n",
    "if cursor:\n",
    "    print(\"Data Inserted !\")\n",
    "else:\n",
    "    print(\"Data Insertion Failed !\")\n",
    "  \n",
    "# Commit the changes in database and Close the connection\n",
    "connection.commit()\n",
    "connection.close()"
   ]
  },
  {
   "cell_type": "markdown",
   "metadata": {},
   "source": [
    "### the use of Where Clause"
   ]
  },
  {
   "cell_type": "markdown",
   "metadata": {},
   "source": [
    "__To retrieve the data of the students whose Department is IT__"
   ]
  },
  {
   "cell_type": "code",
   "execution_count": 4,
   "metadata": {},
   "outputs": [
    {
     "name": "stdout",
     "output_type": "stream",
     "text": [
      "[(1, 'Rohit', 'Pathak', 21, 'IT'), (2, 'Nitin', 'Biradar', 21, 'IT')]\n"
     ]
    }
   ],
   "source": [
    "connection = sqlite3.connect('5sqlite3whereclause.db')\n",
    "cursor = connection.cursor()\n",
    "  \n",
    "# WHERE CLAUSE TO RETRIEVE DATA\n",
    "cursor.execute(\"SELECT * FROM STUDENT WHERE Department = 'IT'\")\n",
    "  \n",
    "# printing the cursor data\n",
    "print(cursor.fetchall())\n",
    "  \n",
    "connection.commit()\n",
    "connection.close()"
   ]
  },
  {
   "cell_type": "markdown",
   "metadata": {},
   "source": [
    "__To retrieve the data of the students whose First Name starts with ‘R__"
   ]
  },
  {
   "cell_type": "code",
   "execution_count": 5,
   "metadata": {},
   "outputs": [
    {
     "name": "stdout",
     "output_type": "stream",
     "text": [
      "[(1, 'Rohit', 'Pathak', 21, 'IT'), (4, 'Rohit', 'Sharma', 32, 'COMP')]\n"
     ]
    }
   ],
   "source": [
    "connection = sqlite3.connect('5sqlite3whereclause.db')\n",
    "cursor = connection.cursor()\n",
    "  \n",
    "# WHERE CLAUSE TO RETRIEVE DATA\n",
    "cursor.execute(\"SELECT * from STUDENT WHERE First_name Like'R%'\")\n",
    "  \n",
    "# printing the cursor data\n",
    "print(cursor.fetchall())\n",
    "  \n",
    "connection.commit()\n",
    "connection.close()"
   ]
  },
  {
   "cell_type": "markdown",
   "metadata": {},
   "source": [
    "__To update the data of student whose Student ID is 4__"
   ]
  },
  {
   "cell_type": "code",
   "execution_count": 6,
   "metadata": {},
   "outputs": [
    {
     "name": "stdout",
     "output_type": "stream",
     "text": [
      "[(1, 'Rohit', 'Pathak', 21, 'IT'), (2, 'Nitin', 'Biradar', 21, 'E&TC'), (3, 'Virat', 'Kohli', 30, 'CIVIL'), (4, 'Rohit', 'Sharma', 32, 'COMP')]\n"
     ]
    }
   ],
   "source": [
    "connection = sqlite3.connect('5sqlite3whereclause.db')\n",
    "cursor = connection.cursor()\n",
    "  \n",
    "# WHERE CLAUSE TO UPDATE DATA\n",
    "cursor.execute(\"UPDATE STUDENT SET Department ='E&TC' WHERE Student_ID = 2\")\n",
    "  \n",
    "# printing the cursor data\n",
    "cursor.execute(\"SELECT * from STUDENT\")\n",
    "print(cursor.fetchall())\n",
    "  \n",
    "connection.commit()\n",
    "connection.close()"
   ]
  },
  {
   "cell_type": "markdown",
   "metadata": {},
   "source": [
    "__To Delete the data of student whose Age ID is 30__"
   ]
  },
  {
   "cell_type": "code",
   "execution_count": 7,
   "metadata": {},
   "outputs": [
    {
     "name": "stdout",
     "output_type": "stream",
     "text": [
      "[(1, 'Rohit', 'Pathak', 21, 'IT'), (2, 'Nitin', 'Biradar', 21, 'E&TC'), (3, 'Virat', 'Kohli', 30, 'CIVIL')]\n"
     ]
    }
   ],
   "source": [
    "connection = sqlite3.connect('5sqlite3whereclause.db')\n",
    "cursor = connection.cursor()\n",
    "  \n",
    "# WHERE CLAUSE TO DELETE DATA\n",
    "cursor.execute(\"DELETE from STUDENT WHERE Age = 32\")\n",
    "  \n",
    "#printing the cursor data\n",
    "cursor.execute(\"SELECT * from STUDENT\")\n",
    "print(cursor.fetchall())\n",
    "  \n",
    "connection.commit()\n",
    "connection.close()"
   ]
  }
 ],
 "metadata": {
  "kernelspec": {
   "display_name": ".venv",
   "language": "python",
   "name": "python3"
  },
  "language_info": {
   "codemirror_mode": {
    "name": "ipython",
    "version": 3
   },
   "file_extension": ".py",
   "mimetype": "text/x-python",
   "name": "python",
   "nbconvert_exporter": "python",
   "pygments_lexer": "ipython3",
   "version": "3.11.3"
  },
  "orig_nbformat": 4
 },
 "nbformat": 4,
 "nbformat_minor": 2
}
