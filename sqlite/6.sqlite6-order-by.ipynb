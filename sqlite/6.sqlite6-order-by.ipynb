{
 "cells": [
  {
   "cell_type": "code",
   "execution_count": 1,
   "metadata": {},
   "outputs": [],
   "source": [
    "import sqlite3\n",
    "connection = sqlite3.connect('6sqlite6-order-by.db')\n",
    "connection.execute('''CREATE TABLE customer_address\n",
    "         (ID INT PRIMARY KEY     NOT NULL,\n",
    "         NAME           TEXT    NOT NULL,\n",
    "         AGE            INT     NOT NULL,\n",
    "         ADDRESS        CHAR(50)); ''')\n",
    "  \n",
    "connection.close()"
   ]
  },
  {
   "cell_type": "markdown",
   "metadata": {},
   "source": [
    "### Now, Insert 5 records into the customer_address table."
   ]
  },
  {
   "cell_type": "code",
   "execution_count": 3,
   "metadata": {},
   "outputs": [],
   "source": [
    "connection = sqlite3.connect('6sqlite6-order-by.db')\n",
    "  \n",
    "connection.execute(\n",
    "    \"INSERT INTO customer_address VALUES (1, 'nikhil teja', 22, 'hyderabad' )\")\n",
    "connection.execute(\n",
    "    \"INSERT INTO customer_address VALUES (2, 'karthik', 25, 'khammam')\")\n",
    "connection.execute(\n",
    "    \"INSERT INTO customer_address VALUES (3, 'sravan', 22, 'ponnur' )\")\n",
    "connection.execute(\n",
    "    \"INSERT INTO customer_address VALUES (4, 'deepika', 25, 'chebrolu' )\")\n",
    "connection.execute(\n",
    "    \"INSERT INTO customer_address VALUES (5, 'jyothika', 22, 'noida')\")\n",
    "\n",
    "connection.commit()  \n",
    "connection.close()"
   ]
  },
  {
   "cell_type": "markdown",
   "metadata": {},
   "source": [
    "### the use of order by clause"
   ]
  },
  {
   "cell_type": "markdown",
   "metadata": {},
   "source": [
    "__Display all details from the table in ascending order(default) based on address.__"
   ]
  },
  {
   "cell_type": "code",
   "execution_count": 6,
   "metadata": {},
   "outputs": [
    {
     "name": "stdout",
     "output_type": "stream",
     "text": [
      "(3, 'sravan', 22, 'ponnur')\n",
      "(5, 'jyothika', 22, 'noida')\n",
      "(2, 'karthik', 25, 'khammam')\n",
      "(1, 'nikhil teja', 22, 'hyderabad')\n",
      "(4, 'deepika', 25, 'chebrolu')\n"
     ]
    }
   ],
   "source": [
    "connection = sqlite3.connect('6sqlite6-order-by.db')\n",
    "cursor = connection.execute(\n",
    "    \"SELECT * from customer_address ORDER BY address DESC\")\n",
    "  \n",
    "for i in cursor:\n",
    "    print(i)\n",
    "  \n",
    "connection.close()"
   ]
  },
  {
   "cell_type": "markdown",
   "metadata": {},
   "source": [
    "__Display address and id based on the address in descending order.__"
   ]
  },
  {
   "cell_type": "code",
   "execution_count": 5,
   "metadata": {},
   "outputs": [
    {
     "name": "stdout",
     "output_type": "stream",
     "text": [
      "('ponnur', 3)\n",
      "('noida', 5)\n",
      "('khammam', 2)\n",
      "('hyderabad', 1)\n",
      "('chebrolu', 4)\n"
     ]
    }
   ],
   "source": [
    "\n",
    "connection = sqlite3.connect('6sqlite6-order-by.db')\n",
    "cursor = connection.execute(\"SELECT ADDRESS,ID from customer_address ORDER BY address DESC\")\n",
    "  \n",
    "for i in cursor:\n",
    "    print(i)\n",
    "  \n",
    "connection.close()"
   ]
  },
  {
   "cell_type": "markdown",
   "metadata": {},
   "source": [
    "__Display name and id based on name in descending order__"
   ]
  },
  {
   "cell_type": "code",
   "execution_count": 7,
   "metadata": {},
   "outputs": [
    {
     "name": "stdout",
     "output_type": "stream",
     "text": [
      "('sravan', 3)\n",
      "('nikhil teja', 1)\n",
      "('karthik', 2)\n",
      "('jyothika', 5)\n",
      "('deepika', 4)\n"
     ]
    }
   ],
   "source": [
    "connection = sqlite3.connect('6sqlite6-order-by.db')\n",
    "cursor = connection.execute(\n",
    "    \"SELECT NAME,ID from customer_address ORDER BY NAME DESC\")\n",
    "  \n",
    "for i in cursor:\n",
    "    print(i)\n",
    "  \n",
    "connection.close()"
   ]
  }
 ],
 "metadata": {
  "kernelspec": {
   "display_name": ".venv",
   "language": "python",
   "name": "python3"
  },
  "language_info": {
   "codemirror_mode": {
    "name": "ipython",
    "version": 3
   },
   "file_extension": ".py",
   "mimetype": "text/x-python",
   "name": "python",
   "nbconvert_exporter": "python",
   "pygments_lexer": "ipython3",
   "version": "3.11.3"
  },
  "orig_nbformat": 4
 },
 "nbformat": 4,
 "nbformat_minor": 2
}
