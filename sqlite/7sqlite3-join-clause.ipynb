{
 "cells": [
  {
   "cell_type": "code",
   "execution_count": 1,
   "metadata": {},
   "outputs": [],
   "source": [
    "import sqlite3\n",
    "conn = sqlite3.connect(r'7sqlite3-join-clause.db')\n",
    "cursor = conn.cursor()\n",
    "  \n",
    "# Create and populate tables\n",
    "cursor.executescript('''\n",
    "CREATE TABLE Advisor(\n",
    "AdvisorID INTEGER NOT NULL,\n",
    "AdvisorName TEXT NOT NULL,\n",
    "PRIMARY KEY(AdvisorID)\n",
    ");\n",
    "  \n",
    "CREATE TABLE Student(\n",
    "StudentID NUMERIC NOT NULL,\n",
    "StudentName NUMERIC NOT NULL,\n",
    "AdvisorID INTEGER,\n",
    "FOREIGN KEY(AdvisorID) REFERENCES Advisor(AdvisorID),\n",
    "PRIMARY KEY(StudentID)\n",
    ");\n",
    "  \n",
    "INSERT INTO Advisor(AdvisorID, AdvisorName) VALUES\n",
    "(1,\"John Paul\"), \n",
    "(2,\"Anthony Roy\"), \n",
    "(3,\"Raj Shetty\"),\n",
    "(4,\"Sam Reeds\"),\n",
    "(5,\"Arthur Clintwood\");\n",
    "  \n",
    "INSERT INTO Student(StudentID, StudentName, AdvisorID) VALUES\n",
    "(501,\"Geek1\",1),\n",
    "(502,\"Geek2\",1),\n",
    "(503,\"Geek3\",3),\n",
    "(504,\"Geek4\",2),\n",
    "(505,\"Geek5\",4),\n",
    "(506,\"Geek6\",2),\n",
    "(507,\"Geek7\",2),\n",
    "(508,\"Geek8\",3),\n",
    "(509,\"Geek9\",NULL),\n",
    "(510,\"Geek10\",1);\n",
    "  \n",
    "''')\n",
    "  \n",
    "conn.commit()  \n",
    "conn.close()"
   ]
  },
  {
   "cell_type": "markdown",
   "metadata": {},
   "source": [
    "### INNER JOIN "
   ]
  },
  {
   "cell_type": "code",
   "execution_count": 2,
   "metadata": {},
   "outputs": [
    {
     "name": "stdout",
     "output_type": "stream",
     "text": [
      "(501, 'Geek1', 'John Paul')\n",
      "(502, 'Geek2', 'John Paul')\n",
      "(503, 'Geek3', 'Raj Shetty')\n",
      "(504, 'Geek4', 'Anthony Roy')\n",
      "(505, 'Geek5', 'Sam Reeds')\n",
      "(506, 'Geek6', 'Anthony Roy')\n",
      "(507, 'Geek7', 'Anthony Roy')\n",
      "(508, 'Geek8', 'Raj Shetty')\n",
      "(510, 'Geek10', 'John Paul')\n"
     ]
    }
   ],
   "source": [
    "conn = sqlite3.connect(r'7sqlite3-join-clause.db')\n",
    "cursor = conn.cursor()\n",
    "  \n",
    "sql = '''SELECT StudentID, StudentName, AdvisorName \n",
    "FROM Student \n",
    "INNER JOIN Advisor\n",
    "ON Student.AdvisorID = Advisor.AdvisorID;'''\n",
    "  \n",
    "cursor.execute(sql)  \n",
    "result = cursor.fetchall()\n",
    "for row in result:\n",
    "    print(row)\n",
    "  \n",
    "conn.close()"
   ]
  },
  {
   "cell_type": "markdown",
   "metadata": {},
   "source": [
    "### LEFT JOIN "
   ]
  },
  {
   "cell_type": "code",
   "execution_count": 3,
   "metadata": {},
   "outputs": [
    {
     "name": "stdout",
     "output_type": "stream",
     "text": [
      "(501, 'Geek1', 'John Paul')\n",
      "(502, 'Geek2', 'John Paul')\n",
      "(503, 'Geek3', 'Raj Shetty')\n",
      "(504, 'Geek4', 'Anthony Roy')\n",
      "(505, 'Geek5', 'Sam Reeds')\n",
      "(506, 'Geek6', 'Anthony Roy')\n",
      "(507, 'Geek7', 'Anthony Roy')\n",
      "(508, 'Geek8', 'Raj Shetty')\n",
      "(509, 'Geek9', None)\n",
      "(510, 'Geek10', 'John Paul')\n"
     ]
    }
   ],
   "source": [
    "conn = sqlite3.connect(r'7sqlite3-join-clause.db')\n",
    "cursor = conn.cursor()\n",
    "  \n",
    "sql = '''SELECT StudentID, StudentName, AdvisorName \n",
    "FROM Student \n",
    "LEFT JOIN Advisor\n",
    "USING(AdvisorID) ;'''\n",
    "  \n",
    "cursor.execute(sql)  \n",
    "result = cursor.fetchall()\n",
    "for row in result:\n",
    "    print(row)\n",
    "  \n",
    "conn.close()"
   ]
  },
  {
   "cell_type": "markdown",
   "metadata": {},
   "source": [
    "### RIGHT JOIN"
   ]
  },
  {
   "cell_type": "code",
   "execution_count": 5,
   "metadata": {},
   "outputs": [
    {
     "name": "stdout",
     "output_type": "stream",
     "text": [
      "(501, 'Geek1', 'John Paul')\n",
      "(502, 'Geek2', 'John Paul')\n",
      "(503, 'Geek3', 'Raj Shetty')\n",
      "(504, 'Geek4', 'Anthony Roy')\n",
      "(505, 'Geek5', 'Sam Reeds')\n",
      "(506, 'Geek6', 'Anthony Roy')\n",
      "(507, 'Geek7', 'Anthony Roy')\n",
      "(508, 'Geek8', 'Raj Shetty')\n",
      "(510, 'Geek10', 'John Paul')\n",
      "(None, None, 'Arthur Clintwood')\n"
     ]
    }
   ],
   "source": [
    "conn = sqlite3.connect(r'7sqlite3-join-clause.db')\n",
    "cursor = conn.cursor()\n",
    "  \n",
    "sql = '''SELECT StudentID, StudentName, AdvisorName \n",
    "FROM Student\n",
    "RIGHT JOIN Advisor \n",
    "USING(AdvisorID);'''\n",
    "  \n",
    "cursor.execute(sql)  \n",
    "result = cursor.fetchall()\n",
    "for row in result:\n",
    "    print(row)\n",
    "  \n",
    "conn.close()"
   ]
  },
  {
   "cell_type": "markdown",
   "metadata": {},
   "source": [
    "### FULL OUTER JOIN"
   ]
  },
  {
   "cell_type": "code",
   "execution_count": 6,
   "metadata": {},
   "outputs": [
    {
     "name": "stdout",
     "output_type": "stream",
     "text": [
      "(501, 'Geek1', 'John Paul')\n",
      "(502, 'Geek2', 'John Paul')\n",
      "(503, 'Geek3', 'Raj Shetty')\n",
      "(504, 'Geek4', 'Anthony Roy')\n",
      "(505, 'Geek5', 'Sam Reeds')\n",
      "(506, 'Geek6', 'Anthony Roy')\n",
      "(507, 'Geek7', 'Anthony Roy')\n",
      "(508, 'Geek8', 'Raj Shetty')\n",
      "(509, 'Geek9', None)\n",
      "(510, 'Geek10', 'John Paul')\n",
      "(None, None, 'Arthur Clintwood')\n"
     ]
    }
   ],
   "source": [
    "conn = sqlite3.connect(r'7sqlite3-join-clause.db')\n",
    "cursor = conn.cursor()\n",
    "  \n",
    "sql = '''SELECT StudentID, StudentName, AdvisorName \n",
    "FROM Student \n",
    "LEFT JOIN Advisor\n",
    "USING(AdvisorID)\n",
    "UNION ALL\n",
    "SELECT StudentID, StudentName, AdvisorName \n",
    "FROM Advisor \n",
    "LEFT JOIN Student\n",
    "USING(AdvisorID)\n",
    "WHERE Student.AdvisorID IS NULL;'''\n",
    "  \n",
    "cursor.execute(sql)  \n",
    "result = cursor.fetchall()\n",
    "for row in result:\n",
    "    print(row)\n",
    "  \n",
    "conn.close()"
   ]
  },
  {
   "cell_type": "markdown",
   "metadata": {},
   "source": [
    "### CROSS JOIN "
   ]
  },
  {
   "cell_type": "code",
   "execution_count": 7,
   "metadata": {},
   "outputs": [
    {
     "name": "stdout",
     "output_type": "stream",
     "text": [
      "(501, 'Geek1', 'John Paul')\n",
      "(501, 'Geek1', 'Anthony Roy')\n",
      "(501, 'Geek1', 'Raj Shetty')\n",
      "(501, 'Geek1', 'Sam Reeds')\n",
      "(501, 'Geek1', 'Arthur Clintwood')\n",
      "(502, 'Geek2', 'John Paul')\n",
      "(502, 'Geek2', 'Anthony Roy')\n",
      "(502, 'Geek2', 'Raj Shetty')\n",
      "(502, 'Geek2', 'Sam Reeds')\n",
      "(502, 'Geek2', 'Arthur Clintwood')\n",
      "(503, 'Geek3', 'John Paul')\n",
      "(503, 'Geek3', 'Anthony Roy')\n",
      "(503, 'Geek3', 'Raj Shetty')\n",
      "(503, 'Geek3', 'Sam Reeds')\n",
      "(503, 'Geek3', 'Arthur Clintwood')\n",
      "(504, 'Geek4', 'John Paul')\n",
      "(504, 'Geek4', 'Anthony Roy')\n",
      "(504, 'Geek4', 'Raj Shetty')\n",
      "(504, 'Geek4', 'Sam Reeds')\n",
      "(504, 'Geek4', 'Arthur Clintwood')\n",
      "(505, 'Geek5', 'John Paul')\n",
      "(505, 'Geek5', 'Anthony Roy')\n",
      "(505, 'Geek5', 'Raj Shetty')\n",
      "(505, 'Geek5', 'Sam Reeds')\n",
      "(505, 'Geek5', 'Arthur Clintwood')\n",
      "(506, 'Geek6', 'John Paul')\n",
      "(506, 'Geek6', 'Anthony Roy')\n",
      "(506, 'Geek6', 'Raj Shetty')\n",
      "(506, 'Geek6', 'Sam Reeds')\n",
      "(506, 'Geek6', 'Arthur Clintwood')\n",
      "(507, 'Geek7', 'John Paul')\n",
      "(507, 'Geek7', 'Anthony Roy')\n",
      "(507, 'Geek7', 'Raj Shetty')\n",
      "(507, 'Geek7', 'Sam Reeds')\n",
      "(507, 'Geek7', 'Arthur Clintwood')\n",
      "(508, 'Geek8', 'John Paul')\n",
      "(508, 'Geek8', 'Anthony Roy')\n",
      "(508, 'Geek8', 'Raj Shetty')\n",
      "(508, 'Geek8', 'Sam Reeds')\n",
      "(508, 'Geek8', 'Arthur Clintwood')\n",
      "(509, 'Geek9', 'John Paul')\n",
      "(509, 'Geek9', 'Anthony Roy')\n",
      "(509, 'Geek9', 'Raj Shetty')\n",
      "(509, 'Geek9', 'Sam Reeds')\n",
      "(509, 'Geek9', 'Arthur Clintwood')\n",
      "(510, 'Geek10', 'John Paul')\n",
      "(510, 'Geek10', 'Anthony Roy')\n",
      "(510, 'Geek10', 'Raj Shetty')\n",
      "(510, 'Geek10', 'Sam Reeds')\n",
      "(510, 'Geek10', 'Arthur Clintwood')\n"
     ]
    }
   ],
   "source": [
    "conn = sqlite3.connect(r'7sqlite3-join-clause.db')\n",
    "cursor = conn.cursor()\n",
    "  \n",
    "sql = '''SELECT StudentID, StudentName, AdvisorName \n",
    "FROM Student \n",
    "CROSS JOIN Advisor;'''\n",
    "  \n",
    "cursor.execute(sql)  \n",
    "result = cursor.fetchall()\n",
    "for row in result:\n",
    "    print(row)\n",
    "  \n",
    "conn.close()"
   ]
  }
 ],
 "metadata": {
  "kernelspec": {
   "display_name": ".venv",
   "language": "python",
   "name": "python3"
  },
  "language_info": {
   "codemirror_mode": {
    "name": "ipython",
    "version": 3
   },
   "file_extension": ".py",
   "mimetype": "text/x-python",
   "name": "python",
   "nbconvert_exporter": "python",
   "pygments_lexer": "ipython3",
   "version": "3.11.3"
  },
  "orig_nbformat": 4
 },
 "nbformat": 4,
 "nbformat_minor": 2
}
