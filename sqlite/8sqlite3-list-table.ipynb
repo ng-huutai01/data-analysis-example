{
 "cells": [
  {
   "cell_type": "code",
   "execution_count": 1,
   "metadata": {},
   "outputs": [
    {
     "name": "stdout",
     "output_type": "stream",
     "text": [
      "Connected to SQLite\n",
      "List of tables\n",
      "\n",
      "[]\n",
      "the sqlite connection is closed\n"
     ]
    }
   ],
   "source": [
    "import sqlite3\n",
    " \n",
    "try:\n",
    "    sqliteConnection = sqlite3.connect('8sqlite3-list-table.db')\n",
    "    print(\"Connected to SQLite\")\n",
    "\n",
    "    sql_query = \"\"\"SELECT name FROM sqlite_master WHERE type='table';\"\"\" \n",
    "    cursor = sqliteConnection.cursor()     \n",
    "    cursor.execute(sql_query)\n",
    "    print(\"List of tables\\n\")     \n",
    "    print(cursor.fetchall())\n",
    " \n",
    "except sqlite3.Error as error:\n",
    "    print(\"Failed to execute the above query\", error)\n",
    "     \n",
    "finally:\n",
    "    if sqliteConnection:\n",
    "        sqliteConnection.close()\n",
    "        print(\"the sqlite connection is closed\")"
   ]
  }
 ],
 "metadata": {
  "kernelspec": {
   "display_name": ".venv",
   "language": "python",
   "name": "python3"
  },
  "language_info": {
   "codemirror_mode": {
    "name": "ipython",
    "version": 3
   },
   "file_extension": ".py",
   "mimetype": "text/x-python",
   "name": "python",
   "nbconvert_exporter": "python",
   "pygments_lexer": "ipython3",
   "version": "3.11.3"
  },
  "orig_nbformat": 4
 },
 "nbformat": 4,
 "nbformat_minor": 2
}
