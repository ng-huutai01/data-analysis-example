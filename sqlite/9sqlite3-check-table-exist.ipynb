{
 "cells": [
  {
   "cell_type": "code",
   "execution_count": 6,
   "metadata": {},
   "outputs": [
    {
     "name": "stdout",
     "output_type": "stream",
     "text": [
      "EMPLOYEE table created\n",
      "STUDENT table created\n",
      "STAFF table created\n",
      "\n"
     ]
    }
   ],
   "source": [
    "import sqlite3 \n",
    "con = sqlite3.connect('9sqlite3-check-table-exist.db')\n",
    "cur = con.cursor()\n",
    " \n",
    "cur.execute(\n",
    "  \"\"\"CREATE TABLE if not exists EMPLOYEE(FIRST_NAME VARCHAR(255),\n",
    "  LAST_NAME VARCHAR(255),AGE int, SEX CHAR(1), INCOME int);\"\"\")\n",
    "print('EMPLOYEE table created')\n",
    " \n",
    "cur.execute(\n",
    "  \"\"\"CREATE TABLE if not exists STUDENT(NAME VARCHAR(255),AGE int, SEX CHAR(1));\"\"\")\n",
    "print('STUDENT table created')\n",
    " \n",
    "cur.execute(\n",
    "  \"\"\"CREATE TABLE if not exists STAFF(NAME VARCHAR(255), INCOME int);\"\"\")\n",
    "print('STAFF table created')\n",
    "print()\n",
    "con.commit() \n",
    "con.close()\n"
   ]
  },
  {
   "cell_type": "code",
   "execution_count": 7,
   "metadata": {},
   "outputs": [
    {
     "name": "stdout",
     "output_type": "stream",
     "text": [
      "Check if STUDENT table exists in the database:\n",
      "Table found!\n",
      "Check if TEACHER table exists in the database:\n",
      "Table not found!\n"
     ]
    }
   ],
   "source": [
    "con = sqlite3.connect('9sqlite3-check-table-exist.db')\n",
    "cur = con.cursor()\n",
    "\n",
    "# check if table exists\n",
    "print('Check if STUDENT table exists in the database:')\n",
    "listOfTables = cur.execute(\n",
    "  \"\"\"SELECT Name FROM sqlite_master WHERE type='table'\n",
    "  AND Name='STUDENT'; \"\"\").fetchall()\n",
    " \n",
    "if listOfTables == []:\n",
    "    print('Table not found!')\n",
    "else:\n",
    "    print('Table found!')\n",
    " \n",
    "# check if table exists\n",
    "print('Check if TEACHER table exists in the database:')\n",
    "listOfTables = cur.execute(\n",
    "  \"\"\"SELECT name FROM sqlite_master WHERE type='table'\n",
    "  AND name='TEACHER'; \"\"\").fetchall()\n",
    " \n",
    "if listOfTables == []:\n",
    "    print('Table not found!')\n",
    "else:\n",
    "    print('Table found!')\n",
    " \n",
    "con.commit() \n",
    "con.close()"
   ]
  }
 ],
 "metadata": {
  "kernelspec": {
   "display_name": ".venv",
   "language": "python",
   "name": "python3"
  },
  "language_info": {
   "codemirror_mode": {
    "name": "ipython",
    "version": 3
   },
   "file_extension": ".py",
   "mimetype": "text/x-python",
   "name": "python",
   "nbconvert_exporter": "python",
   "pygments_lexer": "ipython3",
   "version": "3.11.3"
  },
  "orig_nbformat": 4
 },
 "nbformat": 4,
 "nbformat_minor": 2
}
