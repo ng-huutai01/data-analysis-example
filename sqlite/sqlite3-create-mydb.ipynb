{
 "cells": [
  {
   "cell_type": "code",
   "execution_count": 4,
   "metadata": {},
   "outputs": [
    {
     "name": "stdout",
     "output_type": "stream",
     "text": [
      "Student Table created successfully..\n",
      "An error occurred: UNIQUE constraint failed: student.id\n"
     ]
    }
   ],
   "source": [
    "import sqlite3\n",
    "my_path=\"my_db.db\" #Change the path \n",
    "my_conn = sqlite3.connect(my_path) \n",
    "try:\n",
    "    #my_conn.execute('DROP TABLE student') # remove table if required\n",
    "    my_conn.execute('''\n",
    "        CREATE TABLE IF NOT EXISTS student(id integer primary key, \n",
    "                      name text, \n",
    "                      class text, \n",
    "                      mark integer, \n",
    "                      gender text \n",
    "                      );''')  \n",
    "except sqlite3.Error as e:\n",
    "    print(\"An error occurred:\", e.args[0])\n",
    "else:\n",
    "  print(\"Student Table created successfully..\")\n",
    "try:\n",
    "  r_set=my_conn.execute('''INSERT INTO `student` \n",
    "  (`id`, `name`, `class`, `mark`, `gender`) VALUES\n",
    "  (1, 'John Deo', 'Four', 75, 'female'),\n",
    "  (2, 'Max Ruin', 'Three', 85, 'male'),\n",
    "  (3, 'Arnold', 'Three', 55, 'male'),\n",
    "  (4, 'Krish Star', 'Four', 60, 'female'),\n",
    "  (5, 'John Mike', 'Four', 60, 'female'),\n",
    "  (6, 'Alex John', 'Four', 55, 'male'),\n",
    "  (7, 'My John Rob', 'Five', 78, 'male'),\n",
    "  (8, 'Asruid', 'Five', 85, 'male'),\n",
    "  (9, 'Tes Qry', 'Six', 78, 'male'),\n",
    "  (10, 'Big John', 'Four', 55, 'female'),\n",
    "  (11, 'Ronald', 'Six', 89, 'female'),\n",
    "  (12, 'Recky', 'Six', 94, 'female'),\n",
    "  (13, 'Kty', 'Seven', 88, 'female'),\n",
    "  (14, 'Bigy', 'Seven', 88, 'female'),\n",
    "  (15, 'Tade Row', 'Four', 88, 'male'),\n",
    "  (16, 'Gimmy', 'Four', 88, 'male'),\n",
    "  (17, 'Tumyu', 'Six', 54, 'male'),\n",
    "  (18, 'Honny', 'Five', 75, 'male'),\n",
    "  (19, 'Tinny', 'Nine', 18, 'male'),\n",
    "  (20, 'Jackly', 'Nine', 65, 'female'),\n",
    "  (21, 'Babby John', 'Four', 69, 'female'),\n",
    "  (22, 'Reggid', 'Seven', 55, 'female'),\n",
    "  (23, 'Herod', 'Eight', 79, 'male'),\n",
    "  (24, 'Tiddy Now', 'Seven', 78, 'male'),\n",
    "  (25, 'Giff Tow', 'Seven', 88, 'male'),\n",
    "  (26, 'Crelea', 'Seven', 79, 'male'),\n",
    "  (27, 'Big Nose', 'Three', 81, 'female'),\n",
    "  (28, 'Rojj Base', 'Seven', 86, 'female'),\n",
    "  (29, 'Tess Played', 'Seven', 55, 'male'),\n",
    "  (30, 'Reppy Red', 'Six', 79, 'female'),\n",
    "  (31, 'Marry Toeey', 'Four', 88, 'male'),\n",
    "  (32, 'Binn Rott', 'Seven', 90, 'female'),\n",
    "  (33, 'Kenn Rein', 'Six', 96, 'female'),\n",
    "  (34, 'Gain Toe', 'Seven', 69, 'male'),\n",
    "  (35, 'Rows Noump', 'Six', 88, 'female');''')\n",
    "except sqlite3.Error as e:\n",
    "    print(\"An error occurred:\", e.args[0])\n",
    "else:\n",
    "  print(\"No of Records added : \",r_set.rowcount)\n"
   ]
  },
  {
   "cell_type": "code",
   "execution_count": null,
   "metadata": {},
   "outputs": [],
   "source": [
    "\n",
    "r_set=my_conn.execute('''SELECT * from student''');\n",
    "for row in r_set:\n",
    "    print(row)"
   ]
  },
  {
   "cell_type": "code",
   "execution_count": 3,
   "metadata": {},
   "outputs": [],
   "source": [
    "my_conn.commit()\n",
    "my_conn.close()"
   ]
  },
  {
   "cell_type": "markdown",
   "metadata": {},
   "source": [
    "https://www.plus2net.com/python/sqlite-connection.php#data_student\n",
    "\n",
    "https://pythonhosted.org/PyDrive/quickstart.html#authentication\n",
    "\n",
    "https://colab.research.google.com/notebooks/io.ipynb#scrollTo=7taylj9wpsA2\n",
    "\n",
    "https://www.plus2net.com/python/tkinter-sqlite.php\n",
    "\n",
    "https://pythonprogramming.altervista.org/sqlite3-tkinter-part-ii/?doing_wp_cron=1691722639.2519090175628662109375\n",
    "\n",
    "https://pythonprogramming.altervista.org/python-and-sqlite-with-tkinter-part-1/\n",
    "\n",
    "https://pythonprogramming.altervista.org/all-tkinter-posts/\n",
    "\n"
   ]
  }
 ],
 "metadata": {
  "kernelspec": {
   "display_name": ".venv",
   "language": "python",
   "name": "python3"
  },
  "language_info": {
   "codemirror_mode": {
    "name": "ipython",
    "version": 3
   },
   "file_extension": ".py",
   "mimetype": "text/x-python",
   "name": "python",
   "nbconvert_exporter": "python",
   "pygments_lexer": "ipython3",
   "version": "3.11.3"
  },
  "orig_nbformat": 4
 },
 "nbformat": 4,
 "nbformat_minor": 2
}
